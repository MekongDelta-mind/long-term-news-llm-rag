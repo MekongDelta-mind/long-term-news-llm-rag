{
 "cells": [
  {
   "cell_type": "markdown",
   "id": "8151c4fc-0747-46dd-8d94-f980206cd77d",
   "metadata": {},
   "source": [
    "# This is the notebook version of the `get_data` script"
   ]
  },
  {
   "cell_type": "markdown",
   "id": "48280853-8974-4a06-979b-dee69683d1e8",
   "metadata": {},
   "source": [
    "# Imports"
   ]
  },
  {
   "cell_type": "code",
   "execution_count": 17,
   "id": "d2ec012f-b333-4892-94e9-b2ff4f48d7a3",
   "metadata": {},
   "outputs": [],
   "source": [
    "import feedparser\n",
    "import json\n",
    "import os\n",
    "import xml.etree.ElementTree as ET"
   ]
  },
  {
   "cell_type": "code",
   "execution_count": 18,
   "id": "ecfcc887-3859-43df-b265-7f9c3989f10c",
   "metadata": {},
   "outputs": [],
   "source": [
    "feed_url = 'https://pythoninvest.com/rss-feed-612566707351.xml'\n",
    "output_file_path = 'data/input_news_feed.json'"
   ]
  },
  {
   "cell_type": "code",
   "execution_count": 19,
   "id": "1ea2b81b-443c-4758-91c5-0b78dc174a30",
   "metadata": {},
   "outputs": [],
   "source": [
    "feed = feedparser.parse(feed_url)"
   ]
  },
  {
   "cell_type": "code",
   "execution_count": 20,
   "id": "a01ff006-23d7-49c8-a5cf-6d14e635d4d8",
   "metadata": {
    "scrolled": true
   },
   "outputs": [],
   "source": [
    "#type(feed), feed # feed a dictionary"
   ]
  },
  {
   "cell_type": "markdown",
   "id": "cd91c6b7-d6ac-450a-a7c0-8e487fae16f7",
   "metadata": {},
   "source": [
    "`feed_dict_pretty.txt` is the prettified version of the above file for reference."
   ]
  },
  {
   "cell_type": "code",
   "execution_count": 21,
   "id": "b189ef7f-1470-454a-9e45-c287bdad8f26",
   "metadata": {
    "scrolled": true
   },
   "outputs": [],
   "source": [
    "#feed['entries'][0]"
   ]
  },
  {
   "cell_type": "code",
   "execution_count": 22,
   "id": "f94a35a5-77b9-4356-85f4-ff453169d224",
   "metadata": {
    "scrolled": true
   },
   "outputs": [],
   "source": [
    "#feed['entries'][0]['turbo_content']"
   ]
  },
  {
   "cell_type": "code",
   "execution_count": 23,
   "id": "642da14b-7904-437a-bf16-9d53309637f0",
   "metadata": {},
   "outputs": [],
   "source": [
    "#feed['entries'][0]['enclosures']"
   ]
  },
  {
   "cell_type": "code",
   "execution_count": 24,
   "id": "fada7bf3-2249-4f5b-a200-78cdf79c51cd",
   "metadata": {},
   "outputs": [],
   "source": [
    "#feed['entries'][0].keys()"
   ]
  },
  {
   "cell_type": "markdown",
   "id": "5c5f86a6-8cfb-4786-b236-6a828321b9f6",
   "metadata": {},
   "source": [
    "enclosures not presneet in the dict still it is accessible from `feed['entries'][0]['enclosures']` ?"
   ]
  },
  {
   "cell_type": "code",
   "execution_count": 25,
   "id": "362ce2cb-6174-44b4-b8a9-26ac48b2dff7",
   "metadata": {},
   "outputs": [],
   "source": [
    "# json file which would be input\n",
    "rss_feed = {\n",
    "        \"meta\": {\n",
    "            \"title\": feed.feed.title,\n",
    "            \"link\": feed.feed.link,\n",
    "            \"description\": feed.feed.description,\n",
    "            \"language\": feed.feed.language\n",
    "        },\n",
    "        \"items\": []\n",
    "    }"
   ]
  },
  {
   "cell_type": "code",
   "execution_count": 26,
   "id": "30b13e5c-e43d-419e-81d5-4fba76f25399",
   "metadata": {},
   "outputs": [
    {
     "data": {
      "text/plain": [
       "(dict,\n",
       " {'meta': {'title': 'FinNews',\n",
       "   'link': 'https://pythoninvest.com',\n",
       "   'description': 'Weekly News Digest with the help of ChatGPT',\n",
       "   'language': 'en'},\n",
       "  'items': []})"
      ]
     },
     "execution_count": 26,
     "metadata": {},
     "output_type": "execute_result"
    }
   ],
   "source": [
    "type(rss_feed), rss_feed"
   ]
  },
  {
   "cell_type": "code",
   "execution_count": 27,
   "id": "d730ebbe-3bef-414e-91f6-21c84919b234",
   "metadata": {},
   "outputs": [],
   "source": [
    "entry_element = feed['entries'][0]"
   ]
  },
  {
   "cell_type": "code",
   "execution_count": 28,
   "id": "b7f2436b-44d3-4a3d-b735-3ba1256e1ee5",
   "metadata": {
    "scrolled": true
   },
   "outputs": [],
   "source": [
    "# entry_element['turbo_content']"
   ]
  },
  {
   "cell_type": "code",
   "execution_count": 29,
   "id": "1e97f8b7-0fc0-4fc8-aaac-ca7379854e08",
   "metadata": {},
   "outputs": [],
   "source": [
    "# If the RSS feed format would be same , then the input to the method would be an element of the python dict `feed`. \n",
    "# So input to this method would be an element which is of the type `dict`.\n",
    "def extract_turbo_content(entry_element):\n",
    "    \"\"\"\n",
    "    Extracts turbo:content from the raw XML\n",
    "    \"\"\"\n",
    "    try:\n",
    "        if entry_element:  \n",
    "            content = entry_element.get('turbo_content')  \n",
    "        return content if content else None\n",
    "\n",
    "    except (AttributeError, KeyError, TypeError) as e:\n",
    "        # AttributeError: If entry_element doesn't support dictionary operations\n",
    "        # KeyError: If 'turbo_content' doesn't exist\n",
    "        # TypeError: If entry_element is not of the expected type\n",
    "        print(f\"Error extracting turbo content: {str(e)}\")"
   ]
  },
  {
   "cell_type": "code",
   "execution_count": 30,
   "id": "4da603d0-85f9-4113-a75d-b2ea477b6e2c",
   "metadata": {},
   "outputs": [
    {
     "data": {
      "text/plain": [
       "'<header><h1>Week 17-24 July 2023</h1></header><figure><img src=\"https://static.tildacdn.com/tild6131'"
      ]
     },
     "execution_count": 30,
     "metadata": {},
     "output_type": "execute_result"
    }
   ],
   "source": [
    "turbo_content = extract_turbo_content(entry_element) \n",
    "turbo_content[:100]"
   ]
  },
  {
   "cell_type": "code",
   "execution_count": 31,
   "id": "a0ebe534-1eb0-4d0b-b3b0-297cfbbf06b2",
   "metadata": {},
   "outputs": [],
   "source": [
    "for entry in feed.entries:\n",
    "    # Extract turbo content if available\n",
    "    turbo_content = extract_turbo_content(entry)\n",
    "\n",
    "    item = {\n",
    "        \"title\": entry.title,\n",
    "        \"link\": entry.link,\n",
    "        \"pubDate\": entry.published,\n",
    "        \"author\": entry.author if \"author\" in entry else None,\n",
    "        \"category\": entry.get(\"category\", None),\n",
    "        \"description\": entry.description,\n",
    "        \"content\": turbo_content,  # Here we add the content field from turbo:content\n",
    "        \"enclosure\": {\n",
    "            \"url\": entry.enclosures[0].href,\n",
    "            \"type\": entry.enclosures[0].type\n",
    "        } if entry.enclosures else None\n",
    "    }\n",
    "    rss_feed[\"items\"].append(item)\n",
    "    break"
   ]
  },
  {
   "cell_type": "code",
   "execution_count": 32,
   "id": "0947b70e-f5fa-4c36-827f-907743134803",
   "metadata": {
    "scrolled": true
   },
   "outputs": [
    {
     "data": {
      "text/plain": [
       "{'meta': {'title': 'FinNews',\n",
       "  'link': 'https://pythoninvest.com',\n",
       "  'description': 'Weekly News Digest with the help of ChatGPT',\n",
       "  'language': 'en'},\n",
       " 'items': [{'title': 'Week 17-24 July 2023',\n",
       "   'link': 'https://pythoninvest.com/tpost/yk09rupzv1-week-17-24-july-2023',\n",
       "   'pubDate': 'Mon, 24 Jul 2023 20:00:00 +0300',\n",
       "   'author': 'Ivan Brigida',\n",
       "   'category': 'FinNews',\n",
       "   'description': 'Market summary for the week 17-24 July',\n",
       "   'content': '<header><h1>Week 17-24 July 2023</h1></header><figure><img src=\"https://static.tildacdn.com/tild6131-3163-4135-a565-356661323733/the-broad-industry-o.svg\"/></figure><div class=\"t-redactor__embedcode\"><script async src=\"https://pagead2.googlesyndication.com/pagead/js/adsbygoogle.js?client=ca-pub-5845276189467216\"\\n     crossorigin=\"anonymous\"></script></div><div class=\"t-redactor__text\"><strong>DISCLAIMER</strong><br />The content provided below was generated by AI (OpenAI\\'s ChatGPT) using titles and descriptions from a selection of 5000 published financial news articles. The information presented should be used for informational purposes only and does not constitute financial advice or investment recommendations. We advise readers to conduct their own research and consult with a qualified financial advisor before making any investment decisions. The AI-generated content may not reflect the most current market conditions or developments and should be considered as a general summary of the selected news articles.<br /><br />***************************************************************<br /><strong>INDIVIDUAL NEWS SUMMARY</strong><br /><strong>Start date for the articles: 2023-07-17; End date for the articles: \\' \\'2023-07-24 \\'</strong><br />***************************************************************<br /><strong><em>TL;DR :</em></strong><em> Tesla (TSLA) had a mixed week, with billionaire investor Chamath Palihapitiya believing the company is on the verge of a major breakthrough, while investor David Trainer argues that Tesla is overvalued. Tesla\\'s second-quarter earnings report showed a rise in sales but highlighted concerns about profitability, causing a drop in the stock price. Microsoft (MSFT) partnered with Birlasoft to establish a Generative AI Centre of Excellence, with Morgan Stanley maintaining an Overweight rating on Microsoft. Warren Buffett\\'s investment in Apple (AAPL) has resulted in Berkshire Hathaway\\'s stake in the company ballooning to nearly $180 billion, but concerns remain around weak demand and a potential delay in the next iPhone launch. Amazon (AMZN) is planning to provide high-speed internet worldwide through Project Kuiper, and its stock may be positively impacted. Netflix (NFLX) reported mixed quarterly results, with a beat in subscriber estimates but missed revenue expectations. Verizon (VZ) partnered with the VA Palo Alto Health Care System to create the first full spectrum 5G hospital. Carvana (CVNA) announced positive quarterly results, a favorable debt deal, and a debt restructuring deal with bondholders, resulting in a stock surge. The overall stock market rally is expected to continue as long as there is no sign of a recession, but there are concerns about the US economy\\'s state and a possible recession by February. Various headlines also covered topics such as cryptocurrency, technology, politics, and the world economy.</em><br /><br /><strong><em>NEWS SUMMARY for (\\'TSLA\\', 42), which changed on 2.43% last trading day: </em></strong><br />Billionaire investor Chamath Palihapitiya believes that Tesla is experiencing its \"iPhone moment\" and is on the verge of a major breakthrough. Meanwhile, investor David Trainer argues that Tesla is overvalued by over 1,000% due to its \"disconnected\" fundamentals. Tesla\\'s second-quarter earnings report showed a rise in sales but also highlighted concerns about profitability and margins. Tesla\\'s stock price dropped around 9% in response to the report. Despite mixed opinions, some analysts remain bullish on Tesla\\'s future growth potential.<br /><br /><br /><strong><em>NEWS SUMMARY for (\\'MSFT\\', 11), which changed on 0.06% last trading day:</em></strong> <br />Indian company Birlasoft has partnered with Microsoft to establish a Generative AI Centre of Excellence. The aim is to accelerate value creation and foster innovation in the adoption of Generative AI, providing enterprise solutions across industries. The center will bring together Birlasoft\\'s industry expertise and Microsoft Azure OpenAI Service to facilitate research, training, and collaboration. Morgan Stanley analyst Keith Weiss maintains an Overweight rating on Microsoft and believes the company has strong potential in the Generative AI space. <br /><br /><strong><em>NEWS SUMMARY for (\\'AAPL\\', 11), which changed on 0.51% last trading day:</em> </strong><br />Warren Buffett\\'s investment in Apple has resulted in Berkshire Hathaway\\'s stake in the company ballooning to nearly $180 billion, with the stock price surging nearly 50%. The rise in Apple\\'s stock price is partly attributed to excitement around artificial intelligence. However, there are concerns of weak demand and a potential delay in the launch of the next iPhone, which could result in lower iPhone sales. Despite this, Morgan Stanley is bullish on India\\'s growth potential for Apple and expects strong revenue and user growth in the country. <br /><br /><strong><em>NEWS SUMMARY for (\\'AMZN\\', 11), which changed on -0.94% last trading day: </em></strong><br />Amazon is planning to provide high-speed internet worldwide through its Project Kuiper. This initiative may have a positive impact on the company\\'s stock. Users on Zacks.com have been closely following Amazon, indicating strong interest in the stock. Amazon Prime Video and Freevee will have new content available in August 2023, including \"The Lost Flowers of Alice Hart\" and \"Cocaine Bear.\" A Truist analyst predicts robust revenue for Amazon, driven by strong e-commerce demand and cost optimization. However, Amazon is facing challenges regarding warehouse safety as hearings on OSHA violations begin. <br /><br /><strong><em>NEWS SUMMARY for (\\'NFLX\\', 19), which changed on -0.23% last trading day: </em></strong><br />Netflix\\'s stock has been fluctuating after the company reported mixed quarterly results. While it beat subscriber estimates with 5.9 million paid net adds, its Q2 revenue of $8.19 billion missed expectations. However, some analysts remain optimistic about Netflix\\'s future growth and expect it to rebound. The company is also rolling out paid sharing to more countries and has dropped its cheapest streaming plan without ads in the US and UK to push users towards its ad-supported service. Despite these developments, some caution that the stock may be overvalued. <br /><br /><strong><em>NEWS SUMMARY for (\\'VZ\\', 13), which changed on 1.39% last trading day: </em></strong><br />Verizon Business and the VA Palo Alto Health Care System have partnered to deploy a full spectrum private 5G network, creating the first full spectrum 5G hospital. This network will enable unprecedented care for veterans and improve healthcare services. Verizon Communications will report second-quarter 2023 earnings on July 25. Verizon is also continuing to upgrade its network in various locations, including Kentucky, Cleveland, and Daytona. Despite a recent plunge in stock value, Verizon\\'s high dividend yield and potential for capital appreciation make it an attractive investment. <br /><br /><strong><em>NEWS SUMMARY for (\\'CVNA\\', 21), which changed on -2.46% last trading day: </em></strong><br />Carvana, an online used car dealer, announced major updates that could have significant implications for investors. The company reported solid quarterly results, a favorable debt deal, and newly enabled access to equity capital, reducing liquidity risks. Despite a recent downgrade from RBC Capital due to concerns over margins and unit economics, other analysts have maintained positive outlooks for the stock. Carvana\\'s stock soared nearly 50% after its second-quarter earnings report beat expectations. The company also announced a debt restructuring deal with bondholders, expected to improve liquidity. <br /><br /><strong><em>NEWS SUMMARY for (\\'DJIA\\', 8), which changed on -0.58% last trading day: </em></strong><br />The stock market rally is expected to continue as long as there is no sign of a recession, according to Steve Eisman of Neuberger Berman. However, experts caution that transportation stocks should not be overestimated as an indicator of the overall economy. US bank lending has fallen slightly, while housing starts and retail sales have also shown weakness. Overall, the US economy is in a precarious state with concerns of a possible recession by February. <br /><br /><strong><em>NEWS SUMMARY for (\\'SPY\\', 7), which changed on 0.44% last trading day: </em></strong><br />The news includes various headlines related to the stock market, cryptocurrency, technology, politics, and the world economy. Some notable points include Cathie Wood\\'s flagship ETF exiting Alibaba and other stocks, Elon Musk\\'s Tesla reportedly removing Bitcoin as a payment option, and a prediction by Tom Lee that the S&amp;P 500 could hit 5,000 in 5 months. Other headlines discuss investor sentiment improving, regulatory actions in the cryptocurrency sector, and political developments in the US and world politics.<br /><br /></div><div class=\"t-redactor__text\">***************************************************************<br /><strong>MARKET NEWS SUMMARY (\\'multiple_tickers\\', 261)</strong><br /><strong> for the last 24 hours from 24/07/2023 17:12 UTC time:</strong> ***************************************************************<br />- JPMorgan\\'s strong earnings report is expected to set a positive tone for the upcoming earnings season. <br />- Steelmaker Posco\\'s stock surged 17% after announcing plans to enter the battery industry. <br />- Several stocks priced under $100 are considered good buys in the current market. <br />- Analysts are expecting artificial intelligence (AI) to be a strong industry during the semiconductor earnings season. <br />- Nuclear power is gaining bullish sentiment as a tool to fight climate change. <br />- Movie theater stocks had a strong weekend with box office returns. <br />- Analysts believe Moderna\\'s stock is fairly valued considering its COVID-19 vaccine success and expansion into other therapies. <br />- Amazon and Walmart are both strong contenders for investment as two of the largest retailers in the world. <br />- The stock market is closing in on record territory, which could impact the Federal Reserve\\'s decision to end rate hikes. <br />- Thrift store operator Savers Value Village received positive ratings from analysts after its IPO. <br />- Major companies such as Tesla, AMD, and Microsoft have made significant AI updates. <br />- Apple has big plans for artificial intelligence and won\\'t be left behind in the industry. <br />- Colgate\\'s second-quarter sales are expected to benefit from strong demand and a focus on premiumization, but rising costs may impact margins. <br />- PulteGroup\\'s home sales are expected to grow sequentially in the second quarter, but rising rates pose risks. <br />- Nikola and Workhorse are both working to increase deliveries of electric vehicles. <br />- AstraZeneca\\'s higher sales of key medicines are expected to have driven sales in the second quarter. - OpenAI\\'s ChatGPT hasn\\'t posed a threat to Alphabet or search advertising as previously feared. <br />- Snap is offering immersive augmented reality features to celebrate the Women\\'s World Cup. <br />- Columbia Sportswear is focusing on the growth of its direct-to-consumer business. <br />- The audition process for actors is up for discussion as the actors\\' strike continues. <br />- American Water Works\\' Missouri arm has acquired Wood Heights\\' water and wastewater systems. <br />- Horizon\\'s daxdilimab fails to meet the primary endpoint in a lupus study. <br />- Several tech giants, including Microsoft, Alphabet, and Meta, are set to release earnings reports. <br />- AMC Entertainment has been handed a setback by a Delaware court as it looks to raise capital. <br />- Clorox and Coca-Cola are both strong dividend stocks to consider. <br />- Fiserv\\'s second-quarter earnings are expected to increase year over year. <br />- Three tech titans, Microsoft, Alphabet, and Meta, are set to report earnings. <br />- Warner Bros. Discovery\\'s premiere performance of Barbie Dreamhouse Challenge is off to a strong start. <br />- Factors will likely decide Newell\\'s fate in the second quarter earnings report. <br />- Pentair\\'s performance in the second quarter is expected to be affected by inflated costs and supply chain issues. - Robert Half\\'s second-quarter earnings and revenues are expected to decline sequentially. <br />- VeriSign\\'s second-quarter performance is expected to benefit from continued growth in domain name registrations. - The court ruling on AMC\\'s preferred equity shares could take the company back to the drawing board. <br />- Cloros Mortgage Trust has been upgraded from underweight to neutral by JP Morgan. <br />- Galmed Pharmaceuticals has been upgraded from hold to buy by Maxim Group. <br />- Wells Fargo has upgraded Nutrien from equal weight to overweight. <br />- Raymond James has upgraded D.R. Horton from market perform to outperform. <br />- Stifel has upgraded Lam Research from hold to buy. <br />- BTIG has upgraded AppLovin Corp from neutral to buy. <br />- JP Morgan has upgraded Claros Mortgage Trust from underweight to neutral. <br />- Baird has upgraded Netflix from neutral to outperform. <br />- According to MoffettNathanson, Shopify has been upgraded from market perform to outperform. <br />- Goldman Sachs has upgraded Amylyx Pharmaceuticals from neutral to buy. <br />- RBC Capital has downgraded ZoomInfo Technologies from outperform to sector perform. <br />- JP Morgan has downgraded Arbor Realty from overweight to neutral. <br />- Credit Suisse has downgraded CommScope Holding from outperform to neutral.</div><div class=\"t-redactor__text\">***************************************************************<br /><strong>MARKET NEWS SUMMARY (\\'multiple_tickers\\', 2108) </strong><br /><strong>for the period 2023-07-17 to 2023-07-24 </strong>***************************************************************<br />- BankUnited, Inc. (BKU) is expected to beat earnings estimates in its upcoming report. <br />- First Busey (BUSE) is expected to report earnings growth in its upcoming report. <br />- Atlantic Union (AUB) is not expected to beat earnings estimates in its upcoming report. <br />- Lockheed (LMT) reported better-than-expected Q2 earnings and increased its sales outlook for 2023. <br />- Cathie Wood of Ark Invest has added three stocks to her portfolio: Twilio (TWLO), SoFi (SOFI), and Meta Platforms (META). <br />- ONON, ING, and ITRI are among the best momentum stocks to buy on July 18. <br />- Schlumberger\\'s (SLB) earnings in Q2 may be impacted by declining income before taxes in its Digital and Integration division. <br />- Schrödinger and Recursion Pharmaceuticals are two AI biotech stocks that could benefit from the AI revolution. <br />- Applied Digital (APLD) is expected to show top-line growth in its Q4 earnings report. <br />- BridgeBio (BBIO) shares surged after positive data from a late-stage study for its heart drug. <br />- Bank of America Corp (BAC) reported better-than-expected Q2 results, with net income growth of 19%. <br />- The Singing Machine Company (MICS) shares shot up 40% after launching a new product line at Walmart. <br />- Camtek Ltd. (CAMT) received an upgrade from Neutral to Buy by B of A Securities. <br />- Retail sales in June grew less than expected, with a 0.2% increase compared to a forecasted 0.5% rise. <br />- The Nasdaq-100 index has become too concentrated, with the top 7 stocks accounting for 56% of the index. <br />- Manufacturing activity expanded for the second straight month in July, but the outlook for the next 6 months deteriorated. <br />- Goldman Sachs has reduced its odds of a US recession within the next 12 months to 20%. <br />- The White House has imposed restrictions on the sale of chips and related US tech to China, leading to industry warnings. <br />- Moody\\'s is expected to beat earnings estimates in Q2. <br />- Home-builder sentiment rose for the seventh straight month in July. <br />- Vistra is recommended as a good investment due to growth prospects and strong returns. <br />- Ligand is offering cash to acquire all assets of Novan Inc. <br />- Thermo Fisher\\'s Q2 results are expected to show growth. <br />- Jacobs has won an NNL contract for nuclear research. <br />- Earnings reports for Morgan Stanley, Capital City Bank, Chubb, and 3M are expected.</div>',\n",
       "   'enclosure': {'url': 'https://static.tildacdn.com/tild6131-3163-4135-a565-356661323733/the-broad-industry-o.svg',\n",
       "    'type': 'image/svg+xml'}}]}"
      ]
     },
     "execution_count": 32,
     "metadata": {},
     "output_type": "execute_result"
    }
   ],
   "source": [
    "rss_feed # contains the 1st entry"
   ]
  },
  {
   "cell_type": "markdown",
   "id": "57ead45f-f02d-4e5e-a6d1-82a73ac46995",
   "metadata": {},
   "source": [
    "Tentative table format:\n",
    "``` python\n",
    "page_published, ..., page_details, start_date, end_date, type, model, ticker, count_news, growth, text\n",
    "      ...               ..            2024-09-24 , 2024-09-30, 'individual', --, NVDA, 51, +0.03, <summary>\n",
    "       ..              ..             2024-09-29 , 2024-09-30, 'market_1day', gpt3.5, -- , 100, --- , <summary>\n",
    "       ..              ..             2024-09-29 , 2024-09-30, 'market_1day', gpt4, -- , 100, --- , <summary>\n",
    "\n",
    "              ..              ..       2024-09-09 , 2024-09-30, 'market_1week', gpt4-- , 1000, --- , <summary>\n",
    "```"
   ]
  },
  {
   "cell_type": "code",
   "execution_count": 51,
   "id": "01d6098f-691f-478b-b48f-a18f09beb82a",
   "metadata": {},
   "outputs": [],
   "source": [
    "from bs4 import BeautifulSoup\n",
    "import re"
   ]
  },
  {
   "cell_type": "code",
   "execution_count": 52,
   "id": "f27e706a-2763-4b39-bb00-e34044cdd035",
   "metadata": {
    "scrolled": true
   },
   "outputs": [
    {
     "data": {
      "text/plain": [
       "{'title': 'Week 17-24 July 2023',\n",
       " 'link': 'https://pythoninvest.com/tpost/yk09rupzv1-week-17-24-july-2023',\n",
       " 'pubDate': 'Mon, 24 Jul 2023 20:00:00 +0300',\n",
       " 'author': 'Ivan Brigida',\n",
       " 'category': 'FinNews',\n",
       " 'description': 'Market summary for the week 17-24 July',\n",
       " 'content': '<header><h1>Week 17-24 July 2023</h1></header><figure><img src=\"https://static.tildacdn.com/tild6131-3163-4135-a565-356661323733/the-broad-industry-o.svg\"/></figure><div class=\"t-redactor__embedcode\"><script async src=\"https://pagead2.googlesyndication.com/pagead/js/adsbygoogle.js?client=ca-pub-5845276189467216\"\\n     crossorigin=\"anonymous\"></script></div><div class=\"t-redactor__text\"><strong>DISCLAIMER</strong><br />The content provided below was generated by AI (OpenAI\\'s ChatGPT) using titles and descriptions from a selection of 5000 published financial news articles. The information presented should be used for informational purposes only and does not constitute financial advice or investment recommendations. We advise readers to conduct their own research and consult with a qualified financial advisor before making any investment decisions. The AI-generated content may not reflect the most current market conditions or developments and should be considered as a general summary of the selected news articles.<br /><br />***************************************************************<br /><strong>INDIVIDUAL NEWS SUMMARY</strong><br /><strong>Start date for the articles: 2023-07-17; End date for the articles: \\' \\'2023-07-24 \\'</strong><br />***************************************************************<br /><strong><em>TL;DR :</em></strong><em> Tesla (TSLA) had a mixed week, with billionaire investor Chamath Palihapitiya believing the company is on the verge of a major breakthrough, while investor David Trainer argues that Tesla is overvalued. Tesla\\'s second-quarter earnings report showed a rise in sales but highlighted concerns about profitability, causing a drop in the stock price. Microsoft (MSFT) partnered with Birlasoft to establish a Generative AI Centre of Excellence, with Morgan Stanley maintaining an Overweight rating on Microsoft. Warren Buffett\\'s investment in Apple (AAPL) has resulted in Berkshire Hathaway\\'s stake in the company ballooning to nearly $180 billion, but concerns remain around weak demand and a potential delay in the next iPhone launch. Amazon (AMZN) is planning to provide high-speed internet worldwide through Project Kuiper, and its stock may be positively impacted. Netflix (NFLX) reported mixed quarterly results, with a beat in subscriber estimates but missed revenue expectations. Verizon (VZ) partnered with the VA Palo Alto Health Care System to create the first full spectrum 5G hospital. Carvana (CVNA) announced positive quarterly results, a favorable debt deal, and a debt restructuring deal with bondholders, resulting in a stock surge. The overall stock market rally is expected to continue as long as there is no sign of a recession, but there are concerns about the US economy\\'s state and a possible recession by February. Various headlines also covered topics such as cryptocurrency, technology, politics, and the world economy.</em><br /><br /><strong><em>NEWS SUMMARY for (\\'TSLA\\', 42), which changed on 2.43% last trading day: </em></strong><br />Billionaire investor Chamath Palihapitiya believes that Tesla is experiencing its \"iPhone moment\" and is on the verge of a major breakthrough. Meanwhile, investor David Trainer argues that Tesla is overvalued by over 1,000% due to its \"disconnected\" fundamentals. Tesla\\'s second-quarter earnings report showed a rise in sales but also highlighted concerns about profitability and margins. Tesla\\'s stock price dropped around 9% in response to the report. Despite mixed opinions, some analysts remain bullish on Tesla\\'s future growth potential.<br /><br /><br /><strong><em>NEWS SUMMARY for (\\'MSFT\\', 11), which changed on 0.06% last trading day:</em></strong> <br />Indian company Birlasoft has partnered with Microsoft to establish a Generative AI Centre of Excellence. The aim is to accelerate value creation and foster innovation in the adoption of Generative AI, providing enterprise solutions across industries. The center will bring together Birlasoft\\'s industry expertise and Microsoft Azure OpenAI Service to facilitate research, training, and collaboration. Morgan Stanley analyst Keith Weiss maintains an Overweight rating on Microsoft and believes the company has strong potential in the Generative AI space. <br /><br /><strong><em>NEWS SUMMARY for (\\'AAPL\\', 11), which changed on 0.51% last trading day:</em> </strong><br />Warren Buffett\\'s investment in Apple has resulted in Berkshire Hathaway\\'s stake in the company ballooning to nearly $180 billion, with the stock price surging nearly 50%. The rise in Apple\\'s stock price is partly attributed to excitement around artificial intelligence. However, there are concerns of weak demand and a potential delay in the launch of the next iPhone, which could result in lower iPhone sales. Despite this, Morgan Stanley is bullish on India\\'s growth potential for Apple and expects strong revenue and user growth in the country. <br /><br /><strong><em>NEWS SUMMARY for (\\'AMZN\\', 11), which changed on -0.94% last trading day: </em></strong><br />Amazon is planning to provide high-speed internet worldwide through its Project Kuiper. This initiative may have a positive impact on the company\\'s stock. Users on Zacks.com have been closely following Amazon, indicating strong interest in the stock. Amazon Prime Video and Freevee will have new content available in August 2023, including \"The Lost Flowers of Alice Hart\" and \"Cocaine Bear.\" A Truist analyst predicts robust revenue for Amazon, driven by strong e-commerce demand and cost optimization. However, Amazon is facing challenges regarding warehouse safety as hearings on OSHA violations begin. <br /><br /><strong><em>NEWS SUMMARY for (\\'NFLX\\', 19), which changed on -0.23% last trading day: </em></strong><br />Netflix\\'s stock has been fluctuating after the company reported mixed quarterly results. While it beat subscriber estimates with 5.9 million paid net adds, its Q2 revenue of $8.19 billion missed expectations. However, some analysts remain optimistic about Netflix\\'s future growth and expect it to rebound. The company is also rolling out paid sharing to more countries and has dropped its cheapest streaming plan without ads in the US and UK to push users towards its ad-supported service. Despite these developments, some caution that the stock may be overvalued. <br /><br /><strong><em>NEWS SUMMARY for (\\'VZ\\', 13), which changed on 1.39% last trading day: </em></strong><br />Verizon Business and the VA Palo Alto Health Care System have partnered to deploy a full spectrum private 5G network, creating the first full spectrum 5G hospital. This network will enable unprecedented care for veterans and improve healthcare services. Verizon Communications will report second-quarter 2023 earnings on July 25. Verizon is also continuing to upgrade its network in various locations, including Kentucky, Cleveland, and Daytona. Despite a recent plunge in stock value, Verizon\\'s high dividend yield and potential for capital appreciation make it an attractive investment. <br /><br /><strong><em>NEWS SUMMARY for (\\'CVNA\\', 21), which changed on -2.46% last trading day: </em></strong><br />Carvana, an online used car dealer, announced major updates that could have significant implications for investors. The company reported solid quarterly results, a favorable debt deal, and newly enabled access to equity capital, reducing liquidity risks. Despite a recent downgrade from RBC Capital due to concerns over margins and unit economics, other analysts have maintained positive outlooks for the stock. Carvana\\'s stock soared nearly 50% after its second-quarter earnings report beat expectations. The company also announced a debt restructuring deal with bondholders, expected to improve liquidity. <br /><br /><strong><em>NEWS SUMMARY for (\\'DJIA\\', 8), which changed on -0.58% last trading day: </em></strong><br />The stock market rally is expected to continue as long as there is no sign of a recession, according to Steve Eisman of Neuberger Berman. However, experts caution that transportation stocks should not be overestimated as an indicator of the overall economy. US bank lending has fallen slightly, while housing starts and retail sales have also shown weakness. Overall, the US economy is in a precarious state with concerns of a possible recession by February. <br /><br /><strong><em>NEWS SUMMARY for (\\'SPY\\', 7), which changed on 0.44% last trading day: </em></strong><br />The news includes various headlines related to the stock market, cryptocurrency, technology, politics, and the world economy. Some notable points include Cathie Wood\\'s flagship ETF exiting Alibaba and other stocks, Elon Musk\\'s Tesla reportedly removing Bitcoin as a payment option, and a prediction by Tom Lee that the S&amp;P 500 could hit 5,000 in 5 months. Other headlines discuss investor sentiment improving, regulatory actions in the cryptocurrency sector, and political developments in the US and world politics.<br /><br /></div><div class=\"t-redactor__text\">***************************************************************<br /><strong>MARKET NEWS SUMMARY (\\'multiple_tickers\\', 261)</strong><br /><strong> for the last 24 hours from 24/07/2023 17:12 UTC time:</strong> ***************************************************************<br />- JPMorgan\\'s strong earnings report is expected to set a positive tone for the upcoming earnings season. <br />- Steelmaker Posco\\'s stock surged 17% after announcing plans to enter the battery industry. <br />- Several stocks priced under $100 are considered good buys in the current market. <br />- Analysts are expecting artificial intelligence (AI) to be a strong industry during the semiconductor earnings season. <br />- Nuclear power is gaining bullish sentiment as a tool to fight climate change. <br />- Movie theater stocks had a strong weekend with box office returns. <br />- Analysts believe Moderna\\'s stock is fairly valued considering its COVID-19 vaccine success and expansion into other therapies. <br />- Amazon and Walmart are both strong contenders for investment as two of the largest retailers in the world. <br />- The stock market is closing in on record territory, which could impact the Federal Reserve\\'s decision to end rate hikes. <br />- Thrift store operator Savers Value Village received positive ratings from analysts after its IPO. <br />- Major companies such as Tesla, AMD, and Microsoft have made significant AI updates. <br />- Apple has big plans for artificial intelligence and won\\'t be left behind in the industry. <br />- Colgate\\'s second-quarter sales are expected to benefit from strong demand and a focus on premiumization, but rising costs may impact margins. <br />- PulteGroup\\'s home sales are expected to grow sequentially in the second quarter, but rising rates pose risks. <br />- Nikola and Workhorse are both working to increase deliveries of electric vehicles. <br />- AstraZeneca\\'s higher sales of key medicines are expected to have driven sales in the second quarter. - OpenAI\\'s ChatGPT hasn\\'t posed a threat to Alphabet or search advertising as previously feared. <br />- Snap is offering immersive augmented reality features to celebrate the Women\\'s World Cup. <br />- Columbia Sportswear is focusing on the growth of its direct-to-consumer business. <br />- The audition process for actors is up for discussion as the actors\\' strike continues. <br />- American Water Works\\' Missouri arm has acquired Wood Heights\\' water and wastewater systems. <br />- Horizon\\'s daxdilimab fails to meet the primary endpoint in a lupus study. <br />- Several tech giants, including Microsoft, Alphabet, and Meta, are set to release earnings reports. <br />- AMC Entertainment has been handed a setback by a Delaware court as it looks to raise capital. <br />- Clorox and Coca-Cola are both strong dividend stocks to consider. <br />- Fiserv\\'s second-quarter earnings are expected to increase year over year. <br />- Three tech titans, Microsoft, Alphabet, and Meta, are set to report earnings. <br />- Warner Bros. Discovery\\'s premiere performance of Barbie Dreamhouse Challenge is off to a strong start. <br />- Factors will likely decide Newell\\'s fate in the second quarter earnings report. <br />- Pentair\\'s performance in the second quarter is expected to be affected by inflated costs and supply chain issues. - Robert Half\\'s second-quarter earnings and revenues are expected to decline sequentially. <br />- VeriSign\\'s second-quarter performance is expected to benefit from continued growth in domain name registrations. - The court ruling on AMC\\'s preferred equity shares could take the company back to the drawing board. <br />- Cloros Mortgage Trust has been upgraded from underweight to neutral by JP Morgan. <br />- Galmed Pharmaceuticals has been upgraded from hold to buy by Maxim Group. <br />- Wells Fargo has upgraded Nutrien from equal weight to overweight. <br />- Raymond James has upgraded D.R. Horton from market perform to outperform. <br />- Stifel has upgraded Lam Research from hold to buy. <br />- BTIG has upgraded AppLovin Corp from neutral to buy. <br />- JP Morgan has upgraded Claros Mortgage Trust from underweight to neutral. <br />- Baird has upgraded Netflix from neutral to outperform. <br />- According to MoffettNathanson, Shopify has been upgraded from market perform to outperform. <br />- Goldman Sachs has upgraded Amylyx Pharmaceuticals from neutral to buy. <br />- RBC Capital has downgraded ZoomInfo Technologies from outperform to sector perform. <br />- JP Morgan has downgraded Arbor Realty from overweight to neutral. <br />- Credit Suisse has downgraded CommScope Holding from outperform to neutral.</div><div class=\"t-redactor__text\">***************************************************************<br /><strong>MARKET NEWS SUMMARY (\\'multiple_tickers\\', 2108) </strong><br /><strong>for the period 2023-07-17 to 2023-07-24 </strong>***************************************************************<br />- BankUnited, Inc. (BKU) is expected to beat earnings estimates in its upcoming report. <br />- First Busey (BUSE) is expected to report earnings growth in its upcoming report. <br />- Atlantic Union (AUB) is not expected to beat earnings estimates in its upcoming report. <br />- Lockheed (LMT) reported better-than-expected Q2 earnings and increased its sales outlook for 2023. <br />- Cathie Wood of Ark Invest has added three stocks to her portfolio: Twilio (TWLO), SoFi (SOFI), and Meta Platforms (META). <br />- ONON, ING, and ITRI are among the best momentum stocks to buy on July 18. <br />- Schlumberger\\'s (SLB) earnings in Q2 may be impacted by declining income before taxes in its Digital and Integration division. <br />- Schrödinger and Recursion Pharmaceuticals are two AI biotech stocks that could benefit from the AI revolution. <br />- Applied Digital (APLD) is expected to show top-line growth in its Q4 earnings report. <br />- BridgeBio (BBIO) shares surged after positive data from a late-stage study for its heart drug. <br />- Bank of America Corp (BAC) reported better-than-expected Q2 results, with net income growth of 19%. <br />- The Singing Machine Company (MICS) shares shot up 40% after launching a new product line at Walmart. <br />- Camtek Ltd. (CAMT) received an upgrade from Neutral to Buy by B of A Securities. <br />- Retail sales in June grew less than expected, with a 0.2% increase compared to a forecasted 0.5% rise. <br />- The Nasdaq-100 index has become too concentrated, with the top 7 stocks accounting for 56% of the index. <br />- Manufacturing activity expanded for the second straight month in July, but the outlook for the next 6 months deteriorated. <br />- Goldman Sachs has reduced its odds of a US recession within the next 12 months to 20%. <br />- The White House has imposed restrictions on the sale of chips and related US tech to China, leading to industry warnings. <br />- Moody\\'s is expected to beat earnings estimates in Q2. <br />- Home-builder sentiment rose for the seventh straight month in July. <br />- Vistra is recommended as a good investment due to growth prospects and strong returns. <br />- Ligand is offering cash to acquire all assets of Novan Inc. <br />- Thermo Fisher\\'s Q2 results are expected to show growth. <br />- Jacobs has won an NNL contract for nuclear research. <br />- Earnings reports for Morgan Stanley, Capital City Bank, Chubb, and 3M are expected.</div>',\n",
       " 'enclosure': {'url': 'https://static.tildacdn.com/tild6131-3163-4135-a565-356661323733/the-broad-industry-o.svg',\n",
       "  'type': 'image/svg+xml'}}"
      ]
     },
     "execution_count": 52,
     "metadata": {},
     "output_type": "execute_result"
    }
   ],
   "source": [
    "rss_item = rss_feed['items'][0] # selecting the 1st element\n",
    "rss_item"
   ]
  },
  {
   "cell_type": "code",
   "execution_count": 53,
   "id": "53367a90-a001-480e-b897-0c9f1da8abc9",
   "metadata": {
    "scrolled": true
   },
   "outputs": [
    {
     "data": {
      "text/plain": [
       "'<header><h1>Week 17-24 July 2023</h1></header><figure><img src=\"https://static.tildacdn.com/tild6131-3163-4135-a565-356661323733/the-broad-industry-o.svg\"/></figure><div class=\"t-redactor__embedcode\"><script async src=\"https://pagead2.googlesyndicati'"
      ]
     },
     "execution_count": 53,
     "metadata": {},
     "output_type": "execute_result"
    }
   ],
   "source": [
    "html_content_str = rss_item['content']\n",
    "html_content_str[:250]"
   ]
  },
  {
   "cell_type": "code",
   "execution_count": 54,
   "id": "86ed461f-5d9a-474a-a35c-b8659efe7a14",
   "metadata": {},
   "outputs": [],
   "source": [
    "soup = BeautifulSoup(html_content_str, 'html.parser')"
   ]
  },
  {
   "cell_type": "code",
   "execution_count": 21,
   "id": "5c0e1b1e-396c-4b39-a007-b25e3850a929",
   "metadata": {},
   "outputs": [
    {
     "data": {
      "text/plain": [
       "<strong>DISCLAIMER</strong>"
      ]
     },
     "execution_count": 21,
     "metadata": {},
     "output_type": "execute_result"
    }
   ],
   "source": [
    "soup.find('strong', )"
   ]
  },
  {
   "cell_type": "code",
   "execution_count": 22,
   "id": "d7c29f69-b4be-4f74-aa70-ab98e213b508",
   "metadata": {},
   "outputs": [
    {
     "data": {
      "text/plain": [
       "'INDIVIDUAL'"
      ]
     },
     "execution_count": 22,
     "metadata": {},
     "output_type": "execute_result"
    }
   ],
   "source": [
    "soup.find('strong', string=re.compile(r'.*NEWS SUMMARY')).text.split()[0]"
   ]
  },
  {
   "cell_type": "code",
   "execution_count": 23,
   "id": "d68edcd5-ecdc-4c0e-85d0-fc6552314636",
   "metadata": {},
   "outputs": [
    {
     "data": {
      "text/plain": [
       "'INDIVIDUAL'"
      ]
     },
     "execution_count": 23,
     "metadata": {},
     "output_type": "execute_result"
    }
   ],
   "source": [
    "# type\n",
    "summary_type = soup.find('strong', string=re.compile(r'.*NEWS SUMMARY')).text.split()[0]\n",
    "summary_type"
   ]
  },
  {
   "cell_type": "code",
   "execution_count": 24,
   "id": "7090efd1-a9b7-40f7-bcf3-6573e926f5c8",
   "metadata": {},
   "outputs": [],
   "source": [
    "test_summary_type = 'MARKET'"
   ]
  },
  {
   "cell_type": "code",
   "execution_count": 25,
   "id": "76e839f3-2520-48e2-86a8-e1f9a83ded0f",
   "metadata": {},
   "outputs": [
    {
     "data": {
      "text/plain": [
       "<strong>INDIVIDUAL NEWS SUMMARY</strong>"
      ]
     },
     "execution_count": 25,
     "metadata": {},
     "output_type": "execute_result"
    }
   ],
   "source": [
    "soup.find('strong', string=re.compile(r'.*NEWS SUMMARY'))"
   ]
  },
  {
   "cell_type": "code",
   "execution_count": 26,
   "id": "805951e5-dda4-4bed-b260-34f0a04312f7",
   "metadata": {},
   "outputs": [
    {
     "data": {
      "text/plain": [
       "<strong>Start date for the articles: 2023-07-17; End date for the articles: ' '2023-07-24 '</strong>"
      ]
     },
     "execution_count": 26,
     "metadata": {},
     "output_type": "execute_result"
    }
   ],
   "source": [
    "soup.find('strong', string=re.compile(r'Start date.*End date'))"
   ]
  },
  {
   "cell_type": "code",
   "execution_count": 27,
   "id": "223bf57f-85c0-409b-a8b3-eda63f59f749",
   "metadata": {},
   "outputs": [
    {
     "data": {
      "text/plain": [
       "('2023-07-17', '2023-07-24')"
      ]
     },
     "execution_count": 27,
     "metadata": {},
     "output_type": "execute_result"
    }
   ],
   "source": [
    "date_text = soup.find('strong', string=re.compile(r'Start date.*End date')).text\n",
    "start_date, end_date = re.findall(r'\\d{4}-\\d{2}-\\d{2}', date_text)\n",
    "start_date, end_date"
   ]
  },
  {
   "cell_type": "code",
   "execution_count": 28,
   "id": "8f18c02b-5f2e-4f02-8014-1e87c68d1a34",
   "metadata": {},
   "outputs": [
    {
     "name": "stdout",
     "output_type": "stream",
     "text": [
      "beautifulsoup4            4.12.3\n"
     ]
    }
   ],
   "source": [
    "!pip list | grep beautiful"
   ]
  },
  {
   "cell_type": "code",
   "execution_count": 29,
   "id": "60d89b30-50a3-482a-96ca-74d454b1ed43",
   "metadata": {},
   "outputs": [
    {
     "data": {
      "text/plain": [
       "<strong><em>NEWS SUMMARY for ('TSLA', 42), which changed on 2.43% last trading day: </em></strong>"
      ]
     },
     "execution_count": 29,
     "metadata": {},
     "output_type": "execute_result"
    }
   ],
   "source": [
    "\"\"\"\n",
    "ticker heading\n",
    "\"\"\"\n",
    "soup.find('strong', string=re.compile(r'NEWS SUMMARY for.*'))"
   ]
  },
  {
   "cell_type": "code",
   "execution_count": 30,
   "id": "e76a04cc-8e0a-48a9-9f75-2fb6eda9355f",
   "metadata": {},
   "outputs": [],
   "source": [
    "ticker_heading_strong_tag = soup.find('strong', string=re.compile(r'NEWS SUMMARY for.*'))\n",
    "text_content = ticker_heading_strong_tag.text"
   ]
  },
  {
   "cell_type": "code",
   "execution_count": 31,
   "id": "1da55ae1-88de-4c41-af60-a75fb789ef97",
   "metadata": {},
   "outputs": [],
   "source": [
    "pattern = r\"NEWS SUMMARY for \\('(\\w+)', (\\d+)\\), which changed on ([-\\d.]+)% last trading day:\"\n",
    "match = re.search(pattern, text_content)"
   ]
  },
  {
   "cell_type": "code",
   "execution_count": 32,
   "id": "5354ea88-4443-4bb8-9c7a-ceeef1a04d4f",
   "metadata": {},
   "outputs": [
    {
     "data": {
      "text/plain": [
       "<re.Match object; span=(0, 71), match=\"NEWS SUMMARY for ('TSLA', 42), which changed on 2>"
      ]
     },
     "execution_count": 32,
     "metadata": {},
     "output_type": "execute_result"
    }
   ],
   "source": [
    "match"
   ]
  },
  {
   "cell_type": "code",
   "execution_count": 33,
   "id": "fee5e0b6-64f2-40e8-abca-b7a2a31f6fec",
   "metadata": {},
   "outputs": [
    {
     "ename": "NameError",
     "evalue": "name 'count' is not defined",
     "output_type": "error",
     "traceback": [
      "\u001b[0;31m---------------------------------------------------------------------------\u001b[0m",
      "\u001b[0;31mNameError\u001b[0m                                 Traceback (most recent call last)",
      "Cell \u001b[0;32mIn[33], line 8\u001b[0m\n\u001b[1;32m      3\u001b[0m news_count \u001b[38;5;241m=\u001b[39m \u001b[38;5;28mint\u001b[39m(match\u001b[38;5;241m.\u001b[39mgroup(\u001b[38;5;241m2\u001b[39m))\n\u001b[1;32m      4\u001b[0m growth \u001b[38;5;241m=\u001b[39m \u001b[38;5;28mfloat\u001b[39m(match\u001b[38;5;241m.\u001b[39mgroup(\u001b[38;5;241m3\u001b[39m))\n\u001b[1;32m      6\u001b[0m \u001b[38;5;28mprint\u001b[39m({\n\u001b[1;32m      7\u001b[0m     \u001b[38;5;124m'\u001b[39m\u001b[38;5;124mticker\u001b[39m\u001b[38;5;124m'\u001b[39m: ticker,\n\u001b[0;32m----> 8\u001b[0m     \u001b[38;5;124m'\u001b[39m\u001b[38;5;124mnews_count\u001b[39m\u001b[38;5;124m'\u001b[39m: \u001b[43mcount\u001b[49m,\n\u001b[1;32m      9\u001b[0m     \u001b[38;5;124m'\u001b[39m\u001b[38;5;124mgrowth\u001b[39m\u001b[38;5;124m'\u001b[39m: percentage\n\u001b[1;32m     10\u001b[0m })\n",
      "\u001b[0;31mNameError\u001b[0m: name 'count' is not defined"
     ]
    }
   ],
   "source": [
    "if match:\n",
    "    ticker = match.group(1)\n",
    "    news_count = int(match.group(2))\n",
    "    growth = float(match.group(3))\n",
    "        \n",
    "    print({\n",
    "        'ticker': ticker,\n",
    "        'news_count': count,\n",
    "        'growth': percentage\n",
    "    })"
   ]
  },
  {
   "cell_type": "code",
   "execution_count": null,
   "id": "e3f3c24f-39f3-4f01-bc82-ff1736882ba0",
   "metadata": {},
   "outputs": [],
   "source": [
    "start_date, end_date, summary_type,ticker, news_count, growth,"
   ]
  },
  {
   "cell_type": "code",
   "execution_count": null,
   "id": "236acc32-e756-48ef-96eb-ec9aa2c1de1d",
   "metadata": {},
   "outputs": [],
   "source": [
    "model # only present when the type is MARKET.\n",
    "text # how to get the text for the news? it doesn't have any common structure to work with."
   ]
  },
  {
   "cell_type": "code",
   "execution_count": null,
   "id": "dcd6facd-ed05-4472-b2e8-a9d9eea3b9f4",
   "metadata": {},
   "outputs": [],
   "source": []
  },
  {
   "cell_type": "code",
   "execution_count": 55,
   "id": "f71ca625-6a01-4512-9874-154a16d667ca",
   "metadata": {},
   "outputs": [
    {
     "data": {
      "text/plain": [
       "'<header><h1>Week 17-24 July 2023</h1></header><figure><img src=\"https://static.tildacdn.com/tild6131-3163-4135-a565-356661323733/the-broad-industry-o.svg\"/></figure><div class=\"t-redactor__embedcode\"><script async src=\"https://pagead2.googlesyndication.com/pagead/js/adsbygoogle.js?client=ca-pub-5845'"
      ]
     },
     "execution_count": 55,
     "metadata": {},
     "output_type": "execute_result"
    }
   ],
   "source": [
    "html_content_str[:300]"
   ]
  },
  {
   "cell_type": "code",
   "execution_count": 56,
   "id": "b14ced1d-6ee3-4b49-8c20-9b013d3049eb",
   "metadata": {},
   "outputs": [],
   "source": [
    "soup = BeautifulSoup(html_content_str, 'html.parser')\n",
    "data_list = []"
   ]
  },
  {
   "cell_type": "markdown",
   "id": "daa1a706-9b2f-44f6-9242-74fb9f986f12",
   "metadata": {},
   "source": [
    "1. Check the prettified bversion of the html data\n",
    "2. get the individual components one by one\n",
    "3. use the `find_all_next()` and `find_next()`\n",
    "4. then match the regex if needed to get the info as required\n",
    "    1. re-use the code below to understnad what needs to be done."
   ]
  },
  {
   "cell_type": "code",
   "execution_count": 57,
   "id": "381d08cc-2875-437e-9bf3-6a3bcf106201",
   "metadata": {
    "scrolled": true
   },
   "outputs": [
    {
     "name": "stdout",
     "output_type": "stream",
     "text": [
      "<header>\n",
      " <h1>\n",
      "  Week 17-24 July 2023\n",
      " </h1>\n",
      "</header>\n",
      "<figure>\n",
      " <img src=\"https://static.tildacdn.com/tild6131-3163-4135-a565-356661323733/the-broad-industry-o.svg\"/>\n",
      "</figure>\n",
      "<div class=\"t-redactor__embedcode\">\n",
      " <script async=\"\" crossorigin=\"anonymous\" src=\"https://pagead2.googlesyndication.com/pagead/js/adsbygoogle.js?client=ca-pub-5845276189467216\">\n",
      " </script>\n",
      "</div>\n",
      "<div class=\"t-redactor__text\">\n",
      " <strong>\n",
      "  DISCLAIMER\n",
      " </strong>\n",
      " <br/>\n",
      " The content provided below was generated by AI (OpenAI's ChatGPT) using titles and descriptions from a selection of 5000 published financial news articles. The information presented should be used for informational purposes only and does not constitute financial advice or investment recommendations. We advise readers to conduct their own research and consult with a qualified financial advisor before making any investment decisions. The AI-generated content may not reflect the most current market conditions or developments and should be considered as a general summary of the selected news articles.\n",
      " <br/>\n",
      " <br/>\n",
      " ***************************************************************\n",
      " <br/>\n",
      " <strong>\n",
      "  INDIVIDUAL NEWS SUMMARY\n",
      " </strong>\n",
      " <br/>\n",
      " <strong>\n",
      "  Start date for the articles: 2023-07-17; End date for the articles: ' '2023-07-24 '\n",
      " </strong>\n",
      " <br/>\n",
      " ***************************************************************\n",
      " <br/>\n",
      " <strong>\n",
      "  <em>\n",
      "   TL;DR :\n",
      "  </em>\n",
      " </strong>\n",
      " <em>\n",
      "  Tesla (TSLA) had a mixed week, with billionaire investor Chamath Palihapitiya believing the company is on the verge of a major breakthrough, while investor David Trainer argues that Tesla is overvalued. Tesla's second-quarter earnings report showed a rise in sales but highlighted concerns about profitability, causing a drop in the stock price. Microsoft (MSFT) partnered with Birlasoft to establish a Generative AI Centre of Excellence, with Morgan Stanley maintaining an Overweight rating on Microsoft. Warren Buffett's investment in Apple (AAPL) has resulted in Berkshire Hathaway's stake in the company ballooning to nearly $180 billion, but concerns remain around weak demand and a potential delay in the next iPhone launch. Amazon (AMZN) is planning to provide high-speed internet worldwide through Project Kuiper, and its stock may be positively impacted. Netflix (NFLX) reported mixed quarterly results, with a beat in subscriber estimates but missed revenue expectations. Verizon (VZ) partnered with the VA Palo Alto Health Care System to create the first full spectrum 5G hospital. Carvana (CVNA) announced positive quarterly results, a favorable debt deal, and a debt restructuring deal with bondholders, resulting in a stock surge. The overall stock market rally is expected to continue as long as there is no sign of a recession, but there are concerns about the US economy's state and a possible recession by February. Various headlines also covered topics such as cryptocurrency, technology, politics, and the world economy.\n",
      " </em>\n",
      " <br/>\n",
      " <br/>\n",
      " <strong>\n",
      "  <em>\n",
      "   NEWS SUMMARY for ('TSLA', 42), which changed on 2.43% last trading day:\n",
      "  </em>\n",
      " </strong>\n",
      " <br/>\n",
      " Billionaire investor Chamath Palihapitiya believes that Tesla is experiencing its \"iPhone moment\" and is on the verge of a major breakthrough. Meanwhile, investor David Trainer argues that Tesla is overvalued by over 1,000% due to its \"disconnected\" fundamentals. Tesla's second-quarter earnings report showed a rise in sales but also highlighted concerns about profitability and margins. Tesla's stock price dropped around 9% in response to the report. Despite mixed opinions, some analysts remain bullish on Tesla's future growth potential.\n",
      " <br/>\n",
      " <br/>\n",
      " <br/>\n",
      " <strong>\n",
      "  <em>\n",
      "   NEWS SUMMARY for ('MSFT', 11), which changed on 0.06% last trading day:\n",
      "  </em>\n",
      " </strong>\n",
      " <br/>\n",
      " Indian company Birlasoft has partnered with Microsoft to establish a Generative AI Centre of Excellence. The aim is to accelerate value creation and foster innovation in the adoption of Generative AI, providing enterprise solutions across industries. The center will bring together Birlasoft's industry expertise and Microsoft Azure OpenAI Service to facilitate research, training, and collaboration. Morgan Stanley analyst Keith Weiss maintains an Overweight rating on Microsoft and believes the company has strong potential in the Generative AI space.\n",
      " <br/>\n",
      " <br/>\n",
      " <strong>\n",
      "  <em>\n",
      "   NEWS SUMMARY for ('AAPL', 11), which changed on 0.51% last trading day:\n",
      "  </em>\n",
      " </strong>\n",
      " <br/>\n",
      " Warren Buffett's investment in Apple has resulted in Berkshire Hathaway's stake in the company ballooning to nearly $180 billion, with the stock price surging nearly 50%. The rise in Apple's stock price is partly attributed to excitement around artificial intelligence. However, there are concerns of weak demand and a potential delay in the launch of the next iPhone, which could result in lower iPhone sales. Despite this, Morgan Stanley is bullish on India's growth potential for Apple and expects strong revenue and user growth in the country.\n",
      " <br/>\n",
      " <br/>\n",
      " <strong>\n",
      "  <em>\n",
      "   NEWS SUMMARY for ('AMZN', 11), which changed on -0.94% last trading day:\n",
      "  </em>\n",
      " </strong>\n",
      " <br/>\n",
      " Amazon is planning to provide high-speed internet worldwide through its Project Kuiper. This initiative may have a positive impact on the company's stock. Users on Zacks.com have been closely following Amazon, indicating strong interest in the stock. Amazon Prime Video and Freevee will have new content available in August 2023, including \"The Lost Flowers of Alice Hart\" and \"Cocaine Bear.\" A Truist analyst predicts robust revenue for Amazon, driven by strong e-commerce demand and cost optimization. However, Amazon is facing challenges regarding warehouse safety as hearings on OSHA violations begin.\n",
      " <br/>\n",
      " <br/>\n",
      " <strong>\n",
      "  <em>\n",
      "   NEWS SUMMARY for ('NFLX', 19), which changed on -0.23% last trading day:\n",
      "  </em>\n",
      " </strong>\n",
      " <br/>\n",
      " Netflix's stock has been fluctuating after the company reported mixed quarterly results. While it beat subscriber estimates with 5.9 million paid net adds, its Q2 revenue of $8.19 billion missed expectations. However, some analysts remain optimistic about Netflix's future growth and expect it to rebound. The company is also rolling out paid sharing to more countries and has dropped its cheapest streaming plan without ads in the US and UK to push users towards its ad-supported service. Despite these developments, some caution that the stock may be overvalued.\n",
      " <br/>\n",
      " <br/>\n",
      " <strong>\n",
      "  <em>\n",
      "   NEWS SUMMARY for ('VZ', 13), which changed on 1.39% last trading day:\n",
      "  </em>\n",
      " </strong>\n",
      " <br/>\n",
      " Verizon Business and the VA Palo Alto Health Care System have partnered to deploy a full spectrum private 5G network, creating the first full spectrum 5G hospital. This network will enable unprecedented care for veterans and improve healthcare services. Verizon Communications will report second-quarter 2023 earnings on July 25. Verizon is also continuing to upgrade its network in various locations, including Kentucky, Cleveland, and Daytona. Despite a recent plunge in stock value, Verizon's high dividend yield and potential for capital appreciation make it an attractive investment.\n",
      " <br/>\n",
      " <br/>\n",
      " <strong>\n",
      "  <em>\n",
      "   NEWS SUMMARY for ('CVNA', 21), which changed on -2.46% last trading day:\n",
      "  </em>\n",
      " </strong>\n",
      " <br/>\n",
      " Carvana, an online used car dealer, announced major updates that could have significant implications for investors. The company reported solid quarterly results, a favorable debt deal, and newly enabled access to equity capital, reducing liquidity risks. Despite a recent downgrade from RBC Capital due to concerns over margins and unit economics, other analysts have maintained positive outlooks for the stock. Carvana's stock soared nearly 50% after its second-quarter earnings report beat expectations. The company also announced a debt restructuring deal with bondholders, expected to improve liquidity.\n",
      " <br/>\n",
      " <br/>\n",
      " <strong>\n",
      "  <em>\n",
      "   NEWS SUMMARY for ('DJIA', 8), which changed on -0.58% last trading day:\n",
      "  </em>\n",
      " </strong>\n",
      " <br/>\n",
      " The stock market rally is expected to continue as long as there is no sign of a recession, according to Steve Eisman of Neuberger Berman. However, experts caution that transportation stocks should not be overestimated as an indicator of the overall economy. US bank lending has fallen slightly, while housing starts and retail sales have also shown weakness. Overall, the US economy is in a precarious state with concerns of a possible recession by February.\n",
      " <br/>\n",
      " <br/>\n",
      " <strong>\n",
      "  <em>\n",
      "   NEWS SUMMARY for ('SPY', 7), which changed on 0.44% last trading day:\n",
      "  </em>\n",
      " </strong>\n",
      " <br/>\n",
      " The news includes various headlines related to the stock market, cryptocurrency, technology, politics, and the world economy. Some notable points include Cathie Wood's flagship ETF exiting Alibaba and other stocks, Elon Musk's Tesla reportedly removing Bitcoin as a payment option, and a prediction by Tom Lee that the S&amp;P 500 could hit 5,000 in 5 months. Other headlines discuss investor sentiment improving, regulatory actions in the cryptocurrency sector, and political developments in the US and world politics.\n",
      " <br/>\n",
      " <br/>\n",
      "</div>\n",
      "<div class=\"t-redactor__text\">\n",
      " ***************************************************************\n",
      " <br/>\n",
      " <strong>\n",
      "  MARKET NEWS SUMMARY ('multiple_tickers', 261)\n",
      " </strong>\n",
      " <br/>\n",
      " <strong>\n",
      "  for the last 24 hours from 24/07/2023 17:12 UTC time:\n",
      " </strong>\n",
      " ***************************************************************\n",
      " <br/>\n",
      " - JPMorgan's strong earnings report is expected to set a positive tone for the upcoming earnings season.\n",
      " <br/>\n",
      " - Steelmaker Posco's stock surged 17% after announcing plans to enter the battery industry.\n",
      " <br/>\n",
      " - Several stocks priced under $100 are considered good buys in the current market.\n",
      " <br/>\n",
      " - Analysts are expecting artificial intelligence (AI) to be a strong industry during the semiconductor earnings season.\n",
      " <br/>\n",
      " - Nuclear power is gaining bullish sentiment as a tool to fight climate change.\n",
      " <br/>\n",
      " - Movie theater stocks had a strong weekend with box office returns.\n",
      " <br/>\n",
      " - Analysts believe Moderna's stock is fairly valued considering its COVID-19 vaccine success and expansion into other therapies.\n",
      " <br/>\n",
      " - Amazon and Walmart are both strong contenders for investment as two of the largest retailers in the world.\n",
      " <br/>\n",
      " - The stock market is closing in on record territory, which could impact the Federal Reserve's decision to end rate hikes.\n",
      " <br/>\n",
      " - Thrift store operator Savers Value Village received positive ratings from analysts after its IPO.\n",
      " <br/>\n",
      " - Major companies such as Tesla, AMD, and Microsoft have made significant AI updates.\n",
      " <br/>\n",
      " - Apple has big plans for artificial intelligence and won't be left behind in the industry.\n",
      " <br/>\n",
      " - Colgate's second-quarter sales are expected to benefit from strong demand and a focus on premiumization, but rising costs may impact margins.\n",
      " <br/>\n",
      " - PulteGroup's home sales are expected to grow sequentially in the second quarter, but rising rates pose risks.\n",
      " <br/>\n",
      " - Nikola and Workhorse are both working to increase deliveries of electric vehicles.\n",
      " <br/>\n",
      " - AstraZeneca's higher sales of key medicines are expected to have driven sales in the second quarter. - OpenAI's ChatGPT hasn't posed a threat to Alphabet or search advertising as previously feared.\n",
      " <br/>\n",
      " - Snap is offering immersive augmented reality features to celebrate the Women's World Cup.\n",
      " <br/>\n",
      " - Columbia Sportswear is focusing on the growth of its direct-to-consumer business.\n",
      " <br/>\n",
      " - The audition process for actors is up for discussion as the actors' strike continues.\n",
      " <br/>\n",
      " - American Water Works' Missouri arm has acquired Wood Heights' water and wastewater systems.\n",
      " <br/>\n",
      " - Horizon's daxdilimab fails to meet the primary endpoint in a lupus study.\n",
      " <br/>\n",
      " - Several tech giants, including Microsoft, Alphabet, and Meta, are set to release earnings reports.\n",
      " <br/>\n",
      " - AMC Entertainment has been handed a setback by a Delaware court as it looks to raise capital.\n",
      " <br/>\n",
      " - Clorox and Coca-Cola are both strong dividend stocks to consider.\n",
      " <br/>\n",
      " - Fiserv's second-quarter earnings are expected to increase year over year.\n",
      " <br/>\n",
      " - Three tech titans, Microsoft, Alphabet, and Meta, are set to report earnings.\n",
      " <br/>\n",
      " - Warner Bros. Discovery's premiere performance of Barbie Dreamhouse Challenge is off to a strong start.\n",
      " <br/>\n",
      " - Factors will likely decide Newell's fate in the second quarter earnings report.\n",
      " <br/>\n",
      " - Pentair's performance in the second quarter is expected to be affected by inflated costs and supply chain issues. - Robert Half's second-quarter earnings and revenues are expected to decline sequentially.\n",
      " <br/>\n",
      " - VeriSign's second-quarter performance is expected to benefit from continued growth in domain name registrations. - The court ruling on AMC's preferred equity shares could take the company back to the drawing board.\n",
      " <br/>\n",
      " - Cloros Mortgage Trust has been upgraded from underweight to neutral by JP Morgan.\n",
      " <br/>\n",
      " - Galmed Pharmaceuticals has been upgraded from hold to buy by Maxim Group.\n",
      " <br/>\n",
      " - Wells Fargo has upgraded Nutrien from equal weight to overweight.\n",
      " <br/>\n",
      " - Raymond James has upgraded D.R. Horton from market perform to outperform.\n",
      " <br/>\n",
      " - Stifel has upgraded Lam Research from hold to buy.\n",
      " <br/>\n",
      " - BTIG has upgraded AppLovin Corp from neutral to buy.\n",
      " <br/>\n",
      " - JP Morgan has upgraded Claros Mortgage Trust from underweight to neutral.\n",
      " <br/>\n",
      " - Baird has upgraded Netflix from neutral to outperform.\n",
      " <br/>\n",
      " - According to MoffettNathanson, Shopify has been upgraded from market perform to outperform.\n",
      " <br/>\n",
      " - Goldman Sachs has upgraded Amylyx Pharmaceuticals from neutral to buy.\n",
      " <br/>\n",
      " - RBC Capital has downgraded ZoomInfo Technologies from outperform to sector perform.\n",
      " <br/>\n",
      " - JP Morgan has downgraded Arbor Realty from overweight to neutral.\n",
      " <br/>\n",
      " - Credit Suisse has downgraded CommScope Holding from outperform to neutral.\n",
      "</div>\n",
      "<div class=\"t-redactor__text\">\n",
      " ***************************************************************\n",
      " <br/>\n",
      " <strong>\n",
      "  MARKET NEWS SUMMARY ('multiple_tickers', 2108)\n",
      " </strong>\n",
      " <br/>\n",
      " <strong>\n",
      "  for the period 2023-07-17 to 2023-07-24\n",
      " </strong>\n",
      " ***************************************************************\n",
      " <br/>\n",
      " - BankUnited, Inc. (BKU) is expected to beat earnings estimates in its upcoming report.\n",
      " <br/>\n",
      " - First Busey (BUSE) is expected to report earnings growth in its upcoming report.\n",
      " <br/>\n",
      " - Atlantic Union (AUB) is not expected to beat earnings estimates in its upcoming report.\n",
      " <br/>\n",
      " - Lockheed (LMT) reported better-than-expected Q2 earnings and increased its sales outlook for 2023.\n",
      " <br/>\n",
      " - Cathie Wood of Ark Invest has added three stocks to her portfolio: Twilio (TWLO), SoFi (SOFI), and Meta Platforms (META).\n",
      " <br/>\n",
      " - ONON, ING, and ITRI are among the best momentum stocks to buy on July 18.\n",
      " <br/>\n",
      " - Schlumberger's (SLB) earnings in Q2 may be impacted by declining income before taxes in its Digital and Integration division.\n",
      " <br/>\n",
      " - Schrödinger and Recursion Pharmaceuticals are two AI biotech stocks that could benefit from the AI revolution.\n",
      " <br/>\n",
      " - Applied Digital (APLD) is expected to show top-line growth in its Q4 earnings report.\n",
      " <br/>\n",
      " - BridgeBio (BBIO) shares surged after positive data from a late-stage study for its heart drug.\n",
      " <br/>\n",
      " - Bank of America Corp (BAC) reported better-than-expected Q2 results, with net income growth of 19%.\n",
      " <br/>\n",
      " - The Singing Machine Company (MICS) shares shot up 40% after launching a new product line at Walmart.\n",
      " <br/>\n",
      " - Camtek Ltd. (CAMT) received an upgrade from Neutral to Buy by B of A Securities.\n",
      " <br/>\n",
      " - Retail sales in June grew less than expected, with a 0.2% increase compared to a forecasted 0.5% rise.\n",
      " <br/>\n",
      " - The Nasdaq-100 index has become too concentrated, with the top 7 stocks accounting for 56% of the index.\n",
      " <br/>\n",
      " - Manufacturing activity expanded for the second straight month in July, but the outlook for the next 6 months deteriorated.\n",
      " <br/>\n",
      " - Goldman Sachs has reduced its odds of a US recession within the next 12 months to 20%.\n",
      " <br/>\n",
      " - The White House has imposed restrictions on the sale of chips and related US tech to China, leading to industry warnings.\n",
      " <br/>\n",
      " - Moody's is expected to beat earnings estimates in Q2.\n",
      " <br/>\n",
      " - Home-builder sentiment rose for the seventh straight month in July.\n",
      " <br/>\n",
      " - Vistra is recommended as a good investment due to growth prospects and strong returns.\n",
      " <br/>\n",
      " - Ligand is offering cash to acquire all assets of Novan Inc.\n",
      " <br/>\n",
      " - Thermo Fisher's Q2 results are expected to show growth.\n",
      " <br/>\n",
      " - Jacobs has won an NNL contract for nuclear research.\n",
      " <br/>\n",
      " - Earnings reports for Morgan Stanley, Capital City Bank, Chubb, and 3M are expected.\n",
      "</div>\n",
      "\n"
     ]
    }
   ],
   "source": [
    "# IN THE HTML FORMAT\n",
    "print(soup.prettify())"
   ]
  },
  {
   "cell_type": "code",
   "execution_count": 72,
   "id": "9e52539b-6dfb-4c3c-9ae2-64d163ffb28b",
   "metadata": {
    "scrolled": true
   },
   "outputs": [
    {
     "name": "stdout",
     "output_type": "stream",
     "text": [
      "----------START OF <strong>DISCLAIMER</strong>---------------------\n",
      "strong_tag\t\t\t <strong>DISCLAIMER</strong>\n",
      "strong_tag.em\t\t\t None\n",
      "strong_tag.next_sibling\t\t <br/>\n",
      "strong_tag.next_sibling.next_sibling\t\t The content provided below was generated by AI (OpenAI's ChatGPT) using titles and descriptions from a selection of 5000 published financial news articles. The information presented should be used for informational purposes only and does not constitute financial advice or investment recommendations. We advise readers to conduct their own research and consult with a qualified financial advisor before making any investment decisions. The AI-generated content may not reflect the most current market conditions or developments and should be considered as a general summary of the selected news articles.\n",
      "strong_tag.next_sibling.next_sibling.next_sibling\t\t <br/>\n",
      "----------END OF ONE STRONG TAG-------------------------\n",
      "\n",
      "\n",
      "----------START OF <strong>INDIVIDUAL NEWS SUMMARY</strong>---------------------\n",
      "strong_tag\t\t\t <strong>INDIVIDUAL NEWS SUMMARY</strong>\n",
      "strong_tag.em\t\t\t None\n",
      "strong_tag.next_sibling\t\t <br/>\n",
      "strong_tag.next_sibling.next_sibling\t\t <strong>Start date for the articles: 2023-07-17; End date for the articles: ' '2023-07-24 '</strong>\n",
      "strong_tag.next_sibling.next_sibling.next_sibling\t\t <br/>\n",
      "----------END OF ONE STRONG TAG-------------------------\n",
      "\n",
      "\n",
      "----------START OF <strong>Start date for the articles: 2023-07-17; End date for the articles: ' '2023-07-24 '</strong>---------------------\n",
      "strong_tag\t\t\t <strong>Start date for the articles: 2023-07-17; End date for the articles: ' '2023-07-24 '</strong>\n",
      "strong_tag.em\t\t\t None\n",
      "strong_tag.next_sibling\t\t <br/>\n",
      "strong_tag.next_sibling.next_sibling\t\t ***************************************************************\n",
      "strong_tag.next_sibling.next_sibling.next_sibling\t\t <br/>\n",
      "----------END OF ONE STRONG TAG-------------------------\n",
      "\n",
      "\n",
      "----------START OF <strong><em>TL;DR :</em></strong>---------------------\n",
      "strong_tag\t\t\t <strong><em>TL;DR :</em></strong>\n",
      "strong_tag.em\t\t\t <em>TL;DR :</em>\n",
      "strong_tag.next_sibling\t\t <em> Tesla (TSLA) had a mixed week, with billionaire investor Chamath Palihapitiya believing the company is on the verge of a major breakthrough, while investor David Trainer argues that Tesla is overvalued. Tesla's second-quarter earnings report showed a rise in sales but highlighted concerns about profitability, causing a drop in the stock price. Microsoft (MSFT) partnered with Birlasoft to establish a Generative AI Centre of Excellence, with Morgan Stanley maintaining an Overweight rating on Microsoft. Warren Buffett's investment in Apple (AAPL) has resulted in Berkshire Hathaway's stake in the company ballooning to nearly $180 billion, but concerns remain around weak demand and a potential delay in the next iPhone launch. Amazon (AMZN) is planning to provide high-speed internet worldwide through Project Kuiper, and its stock may be positively impacted. Netflix (NFLX) reported mixed quarterly results, with a beat in subscriber estimates but missed revenue expectations. Verizon (VZ) partnered with the VA Palo Alto Health Care System to create the first full spectrum 5G hospital. Carvana (CVNA) announced positive quarterly results, a favorable debt deal, and a debt restructuring deal with bondholders, resulting in a stock surge. The overall stock market rally is expected to continue as long as there is no sign of a recession, but there are concerns about the US economy's state and a possible recession by February. Various headlines also covered topics such as cryptocurrency, technology, politics, and the world economy.</em>\n",
      "strong_tag.next_sibling.next_sibling\t\t <br/>\n",
      "strong_tag.next_sibling.next_sibling.next_sibling\t\t <br/>\n",
      "----------END OF ONE STRONG TAG-------------------------\n",
      "\n",
      "\n",
      "----------START OF <strong><em>NEWS SUMMARY for ('TSLA', 42), which changed on 2.43% last trading day: </em></strong>---------------------\n",
      "strong_tag\t\t\t <strong><em>NEWS SUMMARY for ('TSLA', 42), which changed on 2.43% last trading day: </em></strong>\n",
      "strong_tag.em\t\t\t <em>NEWS SUMMARY for ('TSLA', 42), which changed on 2.43% last trading day: </em>\n",
      "strong_tag.next_sibling\t\t <br/>\n",
      "strong_tag.next_sibling.next_sibling\t\t Billionaire investor Chamath Palihapitiya believes that Tesla is experiencing its \"iPhone moment\" and is on the verge of a major breakthrough. Meanwhile, investor David Trainer argues that Tesla is overvalued by over 1,000% due to its \"disconnected\" fundamentals. Tesla's second-quarter earnings report showed a rise in sales but also highlighted concerns about profitability and margins. Tesla's stock price dropped around 9% in response to the report. Despite mixed opinions, some analysts remain bullish on Tesla's future growth potential.\n",
      "strong_tag.next_sibling.next_sibling.next_sibling\t\t <br/>\n",
      "----------END OF ONE STRONG TAG-------------------------\n",
      "\n",
      "\n",
      "----------START OF <strong><em>NEWS SUMMARY for ('MSFT', 11), which changed on 0.06% last trading day:</em></strong>---------------------\n",
      "strong_tag\t\t\t <strong><em>NEWS SUMMARY for ('MSFT', 11), which changed on 0.06% last trading day:</em></strong>\n",
      "strong_tag.em\t\t\t <em>NEWS SUMMARY for ('MSFT', 11), which changed on 0.06% last trading day:</em>\n",
      "strong_tag.next_sibling\t\t  \n",
      "strong_tag.next_sibling.next_sibling\t\t <br/>\n",
      "strong_tag.next_sibling.next_sibling.next_sibling\t\t Indian company Birlasoft has partnered with Microsoft to establish a Generative AI Centre of Excellence. The aim is to accelerate value creation and foster innovation in the adoption of Generative AI, providing enterprise solutions across industries. The center will bring together Birlasoft's industry expertise and Microsoft Azure OpenAI Service to facilitate research, training, and collaboration. Morgan Stanley analyst Keith Weiss maintains an Overweight rating on Microsoft and believes the company has strong potential in the Generative AI space. \n",
      "----------END OF ONE STRONG TAG-------------------------\n",
      "\n",
      "\n",
      "----------START OF <strong><em>NEWS SUMMARY for ('AAPL', 11), which changed on 0.51% last trading day:</em> </strong>---------------------\n",
      "strong_tag\t\t\t <strong><em>NEWS SUMMARY for ('AAPL', 11), which changed on 0.51% last trading day:</em> </strong>\n",
      "strong_tag.em\t\t\t <em>NEWS SUMMARY for ('AAPL', 11), which changed on 0.51% last trading day:</em>\n",
      "strong_tag.next_sibling\t\t <br/>\n",
      "strong_tag.next_sibling.next_sibling\t\t Warren Buffett's investment in Apple has resulted in Berkshire Hathaway's stake in the company ballooning to nearly $180 billion, with the stock price surging nearly 50%. The rise in Apple's stock price is partly attributed to excitement around artificial intelligence. However, there are concerns of weak demand and a potential delay in the launch of the next iPhone, which could result in lower iPhone sales. Despite this, Morgan Stanley is bullish on India's growth potential for Apple and expects strong revenue and user growth in the country. \n",
      "strong_tag.next_sibling.next_sibling.next_sibling\t\t <br/>\n",
      "----------END OF ONE STRONG TAG-------------------------\n",
      "\n",
      "\n",
      "----------START OF <strong><em>NEWS SUMMARY for ('AMZN', 11), which changed on -0.94% last trading day: </em></strong>---------------------\n",
      "strong_tag\t\t\t <strong><em>NEWS SUMMARY for ('AMZN', 11), which changed on -0.94% last trading day: </em></strong>\n",
      "strong_tag.em\t\t\t <em>NEWS SUMMARY for ('AMZN', 11), which changed on -0.94% last trading day: </em>\n",
      "strong_tag.next_sibling\t\t <br/>\n",
      "strong_tag.next_sibling.next_sibling\t\t Amazon is planning to provide high-speed internet worldwide through its Project Kuiper. This initiative may have a positive impact on the company's stock. Users on Zacks.com have been closely following Amazon, indicating strong interest in the stock. Amazon Prime Video and Freevee will have new content available in August 2023, including \"The Lost Flowers of Alice Hart\" and \"Cocaine Bear.\" A Truist analyst predicts robust revenue for Amazon, driven by strong e-commerce demand and cost optimization. However, Amazon is facing challenges regarding warehouse safety as hearings on OSHA violations begin. \n",
      "strong_tag.next_sibling.next_sibling.next_sibling\t\t <br/>\n",
      "----------END OF ONE STRONG TAG-------------------------\n",
      "\n",
      "\n",
      "----------START OF <strong><em>NEWS SUMMARY for ('NFLX', 19), which changed on -0.23% last trading day: </em></strong>---------------------\n",
      "strong_tag\t\t\t <strong><em>NEWS SUMMARY for ('NFLX', 19), which changed on -0.23% last trading day: </em></strong>\n",
      "strong_tag.em\t\t\t <em>NEWS SUMMARY for ('NFLX', 19), which changed on -0.23% last trading day: </em>\n",
      "strong_tag.next_sibling\t\t <br/>\n",
      "strong_tag.next_sibling.next_sibling\t\t Netflix's stock has been fluctuating after the company reported mixed quarterly results. While it beat subscriber estimates with 5.9 million paid net adds, its Q2 revenue of $8.19 billion missed expectations. However, some analysts remain optimistic about Netflix's future growth and expect it to rebound. The company is also rolling out paid sharing to more countries and has dropped its cheapest streaming plan without ads in the US and UK to push users towards its ad-supported service. Despite these developments, some caution that the stock may be overvalued. \n",
      "strong_tag.next_sibling.next_sibling.next_sibling\t\t <br/>\n",
      "----------END OF ONE STRONG TAG-------------------------\n",
      "\n",
      "\n",
      "----------START OF <strong><em>NEWS SUMMARY for ('VZ', 13), which changed on 1.39% last trading day: </em></strong>---------------------\n",
      "strong_tag\t\t\t <strong><em>NEWS SUMMARY for ('VZ', 13), which changed on 1.39% last trading day: </em></strong>\n",
      "strong_tag.em\t\t\t <em>NEWS SUMMARY for ('VZ', 13), which changed on 1.39% last trading day: </em>\n",
      "strong_tag.next_sibling\t\t <br/>\n",
      "strong_tag.next_sibling.next_sibling\t\t Verizon Business and the VA Palo Alto Health Care System have partnered to deploy a full spectrum private 5G network, creating the first full spectrum 5G hospital. This network will enable unprecedented care for veterans and improve healthcare services. Verizon Communications will report second-quarter 2023 earnings on July 25. Verizon is also continuing to upgrade its network in various locations, including Kentucky, Cleveland, and Daytona. Despite a recent plunge in stock value, Verizon's high dividend yield and potential for capital appreciation make it an attractive investment. \n",
      "strong_tag.next_sibling.next_sibling.next_sibling\t\t <br/>\n",
      "----------END OF ONE STRONG TAG-------------------------\n",
      "\n",
      "\n",
      "----------START OF <strong><em>NEWS SUMMARY for ('CVNA', 21), which changed on -2.46% last trading day: </em></strong>---------------------\n",
      "strong_tag\t\t\t <strong><em>NEWS SUMMARY for ('CVNA', 21), which changed on -2.46% last trading day: </em></strong>\n",
      "strong_tag.em\t\t\t <em>NEWS SUMMARY for ('CVNA', 21), which changed on -2.46% last trading day: </em>\n",
      "strong_tag.next_sibling\t\t <br/>\n",
      "strong_tag.next_sibling.next_sibling\t\t Carvana, an online used car dealer, announced major updates that could have significant implications for investors. The company reported solid quarterly results, a favorable debt deal, and newly enabled access to equity capital, reducing liquidity risks. Despite a recent downgrade from RBC Capital due to concerns over margins and unit economics, other analysts have maintained positive outlooks for the stock. Carvana's stock soared nearly 50% after its second-quarter earnings report beat expectations. The company also announced a debt restructuring deal with bondholders, expected to improve liquidity. \n",
      "strong_tag.next_sibling.next_sibling.next_sibling\t\t <br/>\n",
      "----------END OF ONE STRONG TAG-------------------------\n",
      "\n",
      "\n",
      "----------START OF <strong><em>NEWS SUMMARY for ('DJIA', 8), which changed on -0.58% last trading day: </em></strong>---------------------\n",
      "strong_tag\t\t\t <strong><em>NEWS SUMMARY for ('DJIA', 8), which changed on -0.58% last trading day: </em></strong>\n",
      "strong_tag.em\t\t\t <em>NEWS SUMMARY for ('DJIA', 8), which changed on -0.58% last trading day: </em>\n",
      "strong_tag.next_sibling\t\t <br/>\n",
      "strong_tag.next_sibling.next_sibling\t\t The stock market rally is expected to continue as long as there is no sign of a recession, according to Steve Eisman of Neuberger Berman. However, experts caution that transportation stocks should not be overestimated as an indicator of the overall economy. US bank lending has fallen slightly, while housing starts and retail sales have also shown weakness. Overall, the US economy is in a precarious state with concerns of a possible recession by February. \n",
      "strong_tag.next_sibling.next_sibling.next_sibling\t\t <br/>\n",
      "----------END OF ONE STRONG TAG-------------------------\n",
      "\n",
      "\n",
      "----------START OF <strong><em>NEWS SUMMARY for ('SPY', 7), which changed on 0.44% last trading day: </em></strong>---------------------\n",
      "strong_tag\t\t\t <strong><em>NEWS SUMMARY for ('SPY', 7), which changed on 0.44% last trading day: </em></strong>\n",
      "strong_tag.em\t\t\t <em>NEWS SUMMARY for ('SPY', 7), which changed on 0.44% last trading day: </em>\n",
      "strong_tag.next_sibling\t\t <br/>\n",
      "strong_tag.next_sibling.next_sibling\t\t The news includes various headlines related to the stock market, cryptocurrency, technology, politics, and the world economy. Some notable points include Cathie Wood's flagship ETF exiting Alibaba and other stocks, Elon Musk's Tesla reportedly removing Bitcoin as a payment option, and a prediction by Tom Lee that the S&P 500 could hit 5,000 in 5 months. Other headlines discuss investor sentiment improving, regulatory actions in the cryptocurrency sector, and political developments in the US and world politics.\n",
      "strong_tag.next_sibling.next_sibling.next_sibling\t\t <br/>\n",
      "----------END OF ONE STRONG TAG-------------------------\n",
      "\n",
      "\n",
      "----------START OF <strong>MARKET NEWS SUMMARY ('multiple_tickers', 261)</strong>---------------------\n",
      "strong_tag\t\t\t <strong>MARKET NEWS SUMMARY ('multiple_tickers', 261)</strong>\n",
      "strong_tag.em\t\t\t None\n",
      "strong_tag.next_sibling\t\t <br/>\n",
      "strong_tag.next_sibling.next_sibling\t\t <strong> for the last 24 hours from 24/07/2023 17:12 UTC time:</strong>\n",
      "strong_tag.next_sibling.next_sibling.next_sibling\t\t  ***************************************************************\n",
      "----------END OF ONE STRONG TAG-------------------------\n",
      "\n",
      "\n",
      "----------START OF <strong> for the last 24 hours from 24/07/2023 17:12 UTC time:</strong>---------------------\n",
      "strong_tag\t\t\t <strong> for the last 24 hours from 24/07/2023 17:12 UTC time:</strong>\n",
      "strong_tag.em\t\t\t None\n",
      "strong_tag.next_sibling\t\t  ***************************************************************\n",
      "strong_tag.next_sibling.next_sibling\t\t <br/>\n",
      "strong_tag.next_sibling.next_sibling.next_sibling\t\t - JPMorgan's strong earnings report is expected to set a positive tone for the upcoming earnings season. \n",
      "----------END OF ONE STRONG TAG-------------------------\n",
      "\n",
      "\n",
      "----------START OF <strong>MARKET NEWS SUMMARY ('multiple_tickers', 2108) </strong>---------------------\n",
      "strong_tag\t\t\t <strong>MARKET NEWS SUMMARY ('multiple_tickers', 2108) </strong>\n",
      "strong_tag.em\t\t\t None\n",
      "strong_tag.next_sibling\t\t <br/>\n",
      "strong_tag.next_sibling.next_sibling\t\t <strong>for the period 2023-07-17 to 2023-07-24 </strong>\n",
      "strong_tag.next_sibling.next_sibling.next_sibling\t\t ***************************************************************\n",
      "----------END OF ONE STRONG TAG-------------------------\n",
      "\n",
      "\n",
      "----------START OF <strong>for the period 2023-07-17 to 2023-07-24 </strong>---------------------\n",
      "strong_tag\t\t\t <strong>for the period 2023-07-17 to 2023-07-24 </strong>\n",
      "strong_tag.em\t\t\t None\n",
      "strong_tag.next_sibling\t\t ***************************************************************\n",
      "strong_tag.next_sibling.next_sibling\t\t <br/>\n",
      "strong_tag.next_sibling.next_sibling.next_sibling\t\t - BankUnited, Inc. (BKU) is expected to beat earnings estimates in its upcoming report. \n",
      "----------END OF ONE STRONG TAG-------------------------\n",
      "\n",
      "\n"
     ]
    }
   ],
   "source": [
    "# EXtracting the Individual News\n",
    "for strong_tag in soup.find_all('strong'):\n",
    "    print(f'----------START OF {strong_tag}---------------------')\n",
    "    print(f\"strong_tag\\t\\t\\t {strong_tag}\")\n",
    "    print(f\"strong_tag.em\\t\\t\\t {strong_tag.em}\")\n",
    "    print(f\"strong_tag.next_sibling\\t\\t {strong_tag.next_sibling}\")\n",
    "    print(f\"strong_tag.next_sibling.next_sibling\\t\\t {strong_tag.next_sibling.next_sibling}\") # this gets the summary text for individual news\n",
    "    print(f\"strong_tag.next_sibling.next_sibling.next_sibling\\t\\t {strong_tag.next_sibling.next_sibling.next_sibling}\") # extracts the text for the multiple tickers\n",
    "    # the problem now is that we are not able to extract all the market news under the strong tag.\n",
    "    # the solution would be to use the div class tag for extracting the market news that is required.\n",
    "        # we can use the code ''' for div in soup.find_all('div', class_='t-redactor__text'): ''' and modify the same to get the required results\n",
    "    print('----------END OF ONE STRONG TAG-------------------------\\n\\n')"
   ]
  },
  {
   "cell_type": "code",
   "execution_count": 63,
   "id": "1a365259-6f91-46aa-b264-3d5d2fcf68e3",
   "metadata": {
    "collapsed": true,
    "jupyter": {
     "outputs_hidden": true
    }
   },
   "outputs": [
    {
     "name": "stdout",
     "output_type": "stream",
     "text": [
      "----------START OF FOLLOWING EM TAG---------------------\n",
      "Tesla (TSLA) had a mixed week, with billionaire investor Chamath Palihapitiya believing the company is on the verge of a major breakthrough, while investor David Trainer argues that Tesla is overvalued. Tesla's second-quarter earnings report showed a rise in sales but highlighted concerns about profitability, causing a drop in the stock price. Microsoft (MSFT) partnered with Birlasoft to establish a Generative AI Centre of Excellence, with Morgan Stanley maintaining an Overweight rating on Microsoft. Warren Buffett's investment in Apple (AAPL) has resulted in Berkshire Hathaway's stake in the company ballooning to nearly $180 billion, but concerns remain around weak demand and a potential delay in the next iPhone launch. Amazon (AMZN) is planning to provide high-speed internet worldwide through Project Kuiper, and its stock may be positively impacted. Netflix (NFLX) reported mixed quarterly results, with a beat in subscriber estimates but missed revenue expectations. Verizon (VZ) partnered with the VA Palo Alto Health Care System to create the first full spectrum 5G hospital. Carvana (CVNA) announced positive quarterly results, a favorable debt deal, and a debt restructuring deal with bondholders, resulting in a stock surge. The overall stock market rally is expected to continue as long as there is no sign of a recession, but there are concerns about the US economy's state and a possible recession by February. Various headlines also covered topics such as cryptocurrency, technology, politics, and the world economy.\n",
      "----------END OF FOLLOWING EM TAG-------------------------\n",
      "\n",
      "\n",
      "----------START OF FOLLOWING EM TAG---------------------\n",
      "Tesla (TSLA) had a mixed week, with billionaire investor Chamath Palihapitiya believing the company is on the verge of a major breakthrough, while investor David Trainer argues that Tesla is overvalued. Tesla's second-quarter earnings report showed a rise in sales but highlighted concerns about profitability, causing a drop in the stock price. Microsoft (MSFT) partnered with Birlasoft to establish a Generative AI Centre of Excellence, with Morgan Stanley maintaining an Overweight rating on Microsoft. Warren Buffett's investment in Apple (AAPL) has resulted in Berkshire Hathaway's stake in the company ballooning to nearly $180 billion, but concerns remain around weak demand and a potential delay in the next iPhone launch. Amazon (AMZN) is planning to provide high-speed internet worldwide through Project Kuiper, and its stock may be positively impacted. Netflix (NFLX) reported mixed quarterly results, with a beat in subscriber estimates but missed revenue expectations. Verizon (VZ) partnered with the VA Palo Alto Health Care System to create the first full spectrum 5G hospital. Carvana (CVNA) announced positive quarterly results, a favorable debt deal, and a debt restructuring deal with bondholders, resulting in a stock surge. The overall stock market rally is expected to continue as long as there is no sign of a recession, but there are concerns about the US economy's state and a possible recession by February. Various headlines also covered topics such as cryptocurrency, technology, politics, and the world economy.\n",
      "----------END OF FOLLOWING EM TAG-------------------------\n",
      "\n",
      "\n",
      "----------START OF FOLLOWING EM TAG---------------------\n",
      "Tesla (TSLA) had a mixed week, with billionaire investor Chamath Palihapitiya believing the company is on the verge of a major breakthrough, while investor David Trainer argues that Tesla is overvalued. Tesla's second-quarter earnings report showed a rise in sales but highlighted concerns about profitability, causing a drop in the stock price. Microsoft (MSFT) partnered with Birlasoft to establish a Generative AI Centre of Excellence, with Morgan Stanley maintaining an Overweight rating on Microsoft. Warren Buffett's investment in Apple (AAPL) has resulted in Berkshire Hathaway's stake in the company ballooning to nearly $180 billion, but concerns remain around weak demand and a potential delay in the next iPhone launch. Amazon (AMZN) is planning to provide high-speed internet worldwide through Project Kuiper, and its stock may be positively impacted. Netflix (NFLX) reported mixed quarterly results, with a beat in subscriber estimates but missed revenue expectations. Verizon (VZ) partnered with the VA Palo Alto Health Care System to create the first full spectrum 5G hospital. Carvana (CVNA) announced positive quarterly results, a favorable debt deal, and a debt restructuring deal with bondholders, resulting in a stock surge. The overall stock market rally is expected to continue as long as there is no sign of a recession, but there are concerns about the US economy's state and a possible recession by February. Various headlines also covered topics such as cryptocurrency, technology, politics, and the world economy.\n",
      "----------END OF FOLLOWING EM TAG-------------------------\n",
      "\n",
      "\n",
      "----------START OF ONE STRONG TAG---------------------\n",
      "TL;DR :\n",
      "----------END OF ONE STRONG TAG-------------------------\n",
      "\n",
      "\n",
      "----------START OF FOLLOWING EM TAG---------------------\n",
      "Tesla (TSLA) had a mixed week, with billionaire investor Chamath Palihapitiya believing the company is on the verge of a major breakthrough, while investor David Trainer argues that Tesla is overvalued. Tesla's second-quarter earnings report showed a rise in sales but highlighted concerns about profitability, causing a drop in the stock price. Microsoft (MSFT) partnered with Birlasoft to establish a Generative AI Centre of Excellence, with Morgan Stanley maintaining an Overweight rating on Microsoft. Warren Buffett's investment in Apple (AAPL) has resulted in Berkshire Hathaway's stake in the company ballooning to nearly $180 billion, but concerns remain around weak demand and a potential delay in the next iPhone launch. Amazon (AMZN) is planning to provide high-speed internet worldwide through Project Kuiper, and its stock may be positively impacted. Netflix (NFLX) reported mixed quarterly results, with a beat in subscriber estimates but missed revenue expectations. Verizon (VZ) partnered with the VA Palo Alto Health Care System to create the first full spectrum 5G hospital. Carvana (CVNA) announced positive quarterly results, a favorable debt deal, and a debt restructuring deal with bondholders, resulting in a stock surge. The overall stock market rally is expected to continue as long as there is no sign of a recession, but there are concerns about the US economy's state and a possible recession by February. Various headlines also covered topics such as cryptocurrency, technology, politics, and the world economy.\n",
      "----------END OF FOLLOWING EM TAG-------------------------\n",
      "\n",
      "\n",
      "----------START OF ONE STRONG TAG---------------------\n",
      "NEWS SUMMARY for ('TSLA', 42), which changed on 2.43% last trading day:\n",
      "----------END OF ONE STRONG TAG-------------------------\n",
      "\n",
      "\n",
      "----------START OF ONE STRONG TAG---------------------\n",
      "NEWS SUMMARY for ('MSFT', 11), which changed on 0.06% last trading day:\n",
      "----------END OF ONE STRONG TAG-------------------------\n",
      "\n",
      "\n",
      "----------START OF ONE STRONG TAG---------------------\n",
      "NEWS SUMMARY for ('AAPL', 11), which changed on 0.51% last trading day:\n",
      "----------END OF ONE STRONG TAG-------------------------\n",
      "\n",
      "\n",
      "----------START OF ONE STRONG TAG---------------------\n",
      "NEWS SUMMARY for ('AMZN', 11), which changed on -0.94% last trading day:\n",
      "----------END OF ONE STRONG TAG-------------------------\n",
      "\n",
      "\n",
      "----------START OF ONE STRONG TAG---------------------\n",
      "NEWS SUMMARY for ('NFLX', 19), which changed on -0.23% last trading day:\n",
      "----------END OF ONE STRONG TAG-------------------------\n",
      "\n",
      "\n",
      "----------START OF ONE STRONG TAG---------------------\n",
      "NEWS SUMMARY for ('VZ', 13), which changed on 1.39% last trading day:\n",
      "----------END OF ONE STRONG TAG-------------------------\n",
      "\n",
      "\n",
      "----------START OF ONE STRONG TAG---------------------\n",
      "NEWS SUMMARY for ('CVNA', 21), which changed on -2.46% last trading day:\n",
      "----------END OF ONE STRONG TAG-------------------------\n",
      "\n",
      "\n",
      "----------START OF ONE STRONG TAG---------------------\n",
      "NEWS SUMMARY for ('DJIA', 8), which changed on -0.58% last trading day:\n",
      "----------END OF ONE STRONG TAG-------------------------\n",
      "\n",
      "\n",
      "----------START OF ONE STRONG TAG---------------------\n",
      "NEWS SUMMARY for ('SPY', 7), which changed on 0.44% last trading day:\n",
      "----------END OF ONE STRONG TAG-------------------------\n",
      "\n",
      "\n"
     ]
    }
   ],
   "source": [
    "for strong_tag in soup.find_all('strong'):\n",
    "    em_tag = strong_tag.find('em')\n",
    "    if em_tag:\n",
    "        print('----------START OF ONE STRONG TAG---------------------')\n",
    "        print(em_tag.text.strip())\n",
    "        print('----------END OF ONE STRONG TAG-------------------------\\n\\n')\n",
    "    \n",
    "    # Check for the next sibling that is an <em> tag\n",
    "    next_em = strong_tag.find_next_sibling('em')\n",
    "    if next_em:\n",
    "        print('----------START OF FOLLOWING EM TAG---------------------')\n",
    "        print(next_em.text.strip())\n",
    "        print('----------END OF FOLLOWING EM TAG-------------------------\\n\\n')"
   ]
  },
  {
   "cell_type": "code",
   "execution_count": null,
   "id": "28e5c12b-f6c1-40e0-8c23-37de081857dd",
   "metadata": {},
   "outputs": [],
   "source": []
  },
  {
   "cell_type": "code",
   "execution_count": null,
   "id": "825ec034-9c52-415c-8cf0-953f39f1d2a2",
   "metadata": {},
   "outputs": [],
   "source": []
  },
  {
   "cell_type": "code",
   "execution_count": null,
   "id": "34ed7d2d-5272-4a4f-b41c-87471ba7653a",
   "metadata": {},
   "outputs": [],
   "source": []
  },
  {
   "cell_type": "code",
   "execution_count": null,
   "id": "ba7e69c1-6f36-42a1-bed7-4fbe015387ad",
   "metadata": {},
   "outputs": [],
   "source": []
  },
  {
   "cell_type": "code",
   "execution_count": 52,
   "id": "be62f5a9-8ae5-40c5-861e-484a9176c027",
   "metadata": {
    "editable": true,
    "scrolled": true,
    "slideshow": {
     "slide_type": ""
    },
    "tags": []
   },
   "outputs": [
    {
     "name": "stdout",
     "output_type": "stream",
     "text": [
      "DISCLAIMERThe content provided below was generated by AI (OpenAI's ChatGPT) using titles and descriptions from a selection of 5000 published financial news articles. The information presented should be used for informational purposes only and does not constitute financial advice or investment recommendations. We advise readers to conduct their own research and consult with a qualified financial advisor before making any investment decisions. The AI-generated content may not reflect the most current market conditions or developments and should be considered as a general summary of the selected news articles.***************************************************************INDIVIDUAL NEWS SUMMARYStart date for the articles: 2023-07-17; End date for the articles: ' '2023-07-24 '***************************************************************TL;DR : Tesla (TSLA) had a mixed week, with billionaire investor Chamath Palihapitiya believing the company is on the verge of a major breakthrough, while investor David Trainer argues that Tesla is overvalued. Tesla's second-quarter earnings report showed a rise in sales but highlighted concerns about profitability, causing a drop in the stock price. Microsoft (MSFT) partnered with Birlasoft to establish a Generative AI Centre of Excellence, with Morgan Stanley maintaining an Overweight rating on Microsoft. Warren Buffett's investment in Apple (AAPL) has resulted in Berkshire Hathaway's stake in the company ballooning to nearly $180 billion, but concerns remain around weak demand and a potential delay in the next iPhone launch. Amazon (AMZN) is planning to provide high-speed internet worldwide through Project Kuiper, and its stock may be positively impacted. Netflix (NFLX) reported mixed quarterly results, with a beat in subscriber estimates but missed revenue expectations. Verizon (VZ) partnered with the VA Palo Alto Health Care System to create the first full spectrum 5G hospital. Carvana (CVNA) announced positive quarterly results, a favorable debt deal, and a debt restructuring deal with bondholders, resulting in a stock surge. The overall stock market rally is expected to continue as long as there is no sign of a recession, but there are concerns about the US economy's state and a possible recession by February. Various headlines also covered topics such as cryptocurrency, technology, politics, and the world economy.NEWS SUMMARY for ('TSLA', 42), which changed on 2.43% last trading day: Billionaire investor Chamath Palihapitiya believes that Tesla is experiencing its \"iPhone moment\" and is on the verge of a major breakthrough. Meanwhile, investor David Trainer argues that Tesla is overvalued by over 1,000% due to its \"disconnected\" fundamentals. Tesla's second-quarter earnings report showed a rise in sales but also highlighted concerns about profitability and margins. Tesla's stock price dropped around 9% in response to the report. Despite mixed opinions, some analysts remain bullish on Tesla's future growth potential.NEWS SUMMARY for ('MSFT', 11), which changed on 0.06% last trading day: Indian company Birlasoft has partnered with Microsoft to establish a Generative AI Centre of Excellence. The aim is to accelerate value creation and foster innovation in the adoption of Generative AI, providing enterprise solutions across industries. The center will bring together Birlasoft's industry expertise and Microsoft Azure OpenAI Service to facilitate research, training, and collaboration. Morgan Stanley analyst Keith Weiss maintains an Overweight rating on Microsoft and believes the company has strong potential in the Generative AI space. NEWS SUMMARY for ('AAPL', 11), which changed on 0.51% last trading day: Warren Buffett's investment in Apple has resulted in Berkshire Hathaway's stake in the company ballooning to nearly $180 billion, with the stock price surging nearly 50%. The rise in Apple's stock price is partly attributed to excitement around artificial intelligence. However, there are concerns of weak demand and a potential delay in the launch of the next iPhone, which could result in lower iPhone sales. Despite this, Morgan Stanley is bullish on India's growth potential for Apple and expects strong revenue and user growth in the country. NEWS SUMMARY for ('AMZN', 11), which changed on -0.94% last trading day: Amazon is planning to provide high-speed internet worldwide through its Project Kuiper. This initiative may have a positive impact on the company's stock. Users on Zacks.com have been closely following Amazon, indicating strong interest in the stock. Amazon Prime Video and Freevee will have new content available in August 2023, including \"The Lost Flowers of Alice Hart\" and \"Cocaine Bear.\" A Truist analyst predicts robust revenue for Amazon, driven by strong e-commerce demand and cost optimization. However, Amazon is facing challenges regarding warehouse safety as hearings on OSHA violations begin. NEWS SUMMARY for ('NFLX', 19), which changed on -0.23% last trading day: Netflix's stock has been fluctuating after the company reported mixed quarterly results. While it beat subscriber estimates with 5.9 million paid net adds, its Q2 revenue of $8.19 billion missed expectations. However, some analysts remain optimistic about Netflix's future growth and expect it to rebound. The company is also rolling out paid sharing to more countries and has dropped its cheapest streaming plan without ads in the US and UK to push users towards its ad-supported service. Despite these developments, some caution that the stock may be overvalued. NEWS SUMMARY for ('VZ', 13), which changed on 1.39% last trading day: Verizon Business and the VA Palo Alto Health Care System have partnered to deploy a full spectrum private 5G network, creating the first full spectrum 5G hospital. This network will enable unprecedented care for veterans and improve healthcare services. Verizon Communications will report second-quarter 2023 earnings on July 25. Verizon is also continuing to upgrade its network in various locations, including Kentucky, Cleveland, and Daytona. Despite a recent plunge in stock value, Verizon's high dividend yield and potential for capital appreciation make it an attractive investment. NEWS SUMMARY for ('CVNA', 21), which changed on -2.46% last trading day: Carvana, an online used car dealer, announced major updates that could have significant implications for investors. The company reported solid quarterly results, a favorable debt deal, and newly enabled access to equity capital, reducing liquidity risks. Despite a recent downgrade from RBC Capital due to concerns over margins and unit economics, other analysts have maintained positive outlooks for the stock. Carvana's stock soared nearly 50% after its second-quarter earnings report beat expectations. The company also announced a debt restructuring deal with bondholders, expected to improve liquidity. NEWS SUMMARY for ('DJIA', 8), which changed on -0.58% last trading day: The stock market rally is expected to continue as long as there is no sign of a recession, according to Steve Eisman of Neuberger Berman. However, experts caution that transportation stocks should not be overestimated as an indicator of the overall economy. US bank lending has fallen slightly, while housing starts and retail sales have also shown weakness. Overall, the US economy is in a precarious state with concerns of a possible recession by February. NEWS SUMMARY for ('SPY', 7), which changed on 0.44% last trading day: The news includes various headlines related to the stock market, cryptocurrency, technology, politics, and the world economy. Some notable points include Cathie Wood's flagship ETF exiting Alibaba and other stocks, Elon Musk's Tesla reportedly removing Bitcoin as a payment option, and a prediction by Tom Lee that the S&P 500 could hit 5,000 in 5 months. Other headlines discuss investor sentiment improving, regulatory actions in the cryptocurrency sector, and political developments in the US and world politics.\n"
     ]
    },
    {
     "ename": "TypeError",
     "evalue": "'NoneType' object is not callable",
     "output_type": "error",
     "traceback": [
      "\u001b[0;31m---------------------------------------------------------------------------\u001b[0m",
      "\u001b[0;31mTypeError\u001b[0m                                 Traceback (most recent call last)",
      "Cell \u001b[0;32mIn[52], line 38\u001b[0m\n\u001b[1;32m     36\u001b[0m data[\u001b[38;5;124m'\u001b[39m\u001b[38;5;124mcount_news\u001b[39m\u001b[38;5;124m'\u001b[39m] \u001b[38;5;241m=\u001b[39m news_match\u001b[38;5;241m.\u001b[39mgroup(\u001b[38;5;241m2\u001b[39m)\n\u001b[1;32m     37\u001b[0m data[\u001b[38;5;124m'\u001b[39m\u001b[38;5;124mgrowth\u001b[39m\u001b[38;5;124m'\u001b[39m] \u001b[38;5;241m=\u001b[39m news_match\u001b[38;5;241m.\u001b[39mgroup(\u001b[38;5;241m3\u001b[39m)\n\u001b[0;32m---> 38\u001b[0m data[\u001b[38;5;124m'\u001b[39m\u001b[38;5;124mtext\u001b[39m\u001b[38;5;124m'\u001b[39m] \u001b[38;5;241m=\u001b[39m \u001b[43mstrong_tag\u001b[49m\u001b[38;5;241;43m.\u001b[39;49m\u001b[43mnext_sibling\u001b[49m\u001b[38;5;241;43m.\u001b[39;49m\u001b[43mstrip\u001b[49m\u001b[43m(\u001b[49m\u001b[43m)\u001b[49m\n\u001b[1;32m     39\u001b[0m \u001b[38;5;28mprint\u001b[39m(data)\n\u001b[1;32m     40\u001b[0m data_list\u001b[38;5;241m.\u001b[39mappend(data\u001b[38;5;241m.\u001b[39mcopy())  \u001b[38;5;66;03m# Add a copy of the dictionary to the list\u001b[39;00m\n",
      "\u001b[0;31mTypeError\u001b[0m: 'NoneType' object is not callable"
     ]
    }
   ],
   "source": [
    "for div in soup.find_all('div', class_='t-redactor__text'):\n",
    "    # if 'DISCLAIMER' in div.text: # The DISCLIAMER and individual news are in the same div tag in september version\n",
    "    #         continue\n",
    "    data = {\n",
    "            \"start_date\": \"\",\n",
    "            \"end_date\": \"\",\n",
    "            \"type\": \"\",\n",
    "            \"model\": \"\",\n",
    "            \"ticker\": \"\",\n",
    "            \"count_news\": \"\",\n",
    "            \"growth\": \"\",\n",
    "            \"text\": \"\"\n",
    "        }\n",
    "    # Extract summary type and dates\n",
    "    print(div.text)\n",
    "    summary_match = re.search(r'(INDIVIDUAL NEWS SUMMARY|MARKET NEWS SUMMARY)', div.text) # old XML file format\n",
    "    # summary_match = re.search(r'(INDIVIDUAL TICKERS NEWS SUMMARY|MARKET NEWS SUMMARY)', div.text) # new XML file format\n",
    "    if summary_match:\n",
    "        data['type'] = summary_match.group(1)\n",
    "\n",
    "    date_match = re.search(r'Start date for the articles: (\\d{4}-\\d{2}-\\d{2}); End date for the articles: (\\d{4}-\\d{2}-\\d{2})', div.text)\n",
    "    if date_match:\n",
    "        data['start_date'] = date_match.group(1)\n",
    "        data['end_date'] = date_match.group(2)\n",
    "\n",
    "    # Extract model information\n",
    "    model_match = re.search(r'\\[(GPT3\\.5 model|GPT4 model) (\\d+ (day|week)) summary\\]', div.text)\n",
    "    if model_match:\n",
    "        data['model'] = f\"{model_match.group(1)} {model_match.group(2)}\"\n",
    "\n",
    "    # Extract individual news summaries\n",
    "    for strong_tag in div.find_all('strong'):\n",
    "        news_match = re.search(r\"NEWS SUMMARY for \\('(\\w+)', (\\d+)\\), which changed on ([-\\d.]+)% last trading day:\", strong_tag.text)\n",
    "        if news_match:\n",
    "            data['ticker'] = news_match.group(1)\n",
    "            data['count_news'] = news_match.group(2)\n",
    "            data['growth'] = news_match.group(3)\n",
    "            data['text'] = strong_tag.next_sibling.strip()\n",
    "            print(data)\n",
    "            data_list.append(data.copy())  # Add a copy of the dictionary to the list\n",
    "        elif 'MARKET NEWS SUMMARY' in strong_tag.text:\n",
    "            market_match = re.search(r\"MARKET NEWS SUMMARY \\('multiple_tickers', (\\d+)\\)\", strong_tag.text)\n",
    "            if market_match:\n",
    "                data['ticker'] = 'multiple_tickers'\n",
    "                data['count_news'] = market_match.group(1)\n",
    "                data['text'] = strong_tag.find_next(string=True).strip()\n",
    "                data_list.append(data.copy())  # Add a copy of the dictionary to the list"
   ]
  },
  {
   "cell_type": "code",
   "execution_count": 24,
   "id": "0f3dca67-4081-4b26-af99-bff6d8118a3b",
   "metadata": {},
   "outputs": [
    {
     "data": {
      "text/plain": [
       "[{'start_date': '',\n",
       "  'end_date': '',\n",
       "  'type': 'MARKET NEWS SUMMARY',\n",
       "  'model': '',\n",
       "  'ticker': 'multiple_tickers',\n",
       "  'count_news': '261',\n",
       "  'growth': '',\n",
       "  'text': \"MARKET NEWS SUMMARY ('multiple_tickers', 261)\"},\n",
       " {'start_date': '',\n",
       "  'end_date': '',\n",
       "  'type': 'MARKET NEWS SUMMARY',\n",
       "  'model': '',\n",
       "  'ticker': 'multiple_tickers',\n",
       "  'count_news': '2108',\n",
       "  'growth': '',\n",
       "  'text': \"MARKET NEWS SUMMARY ('multiple_tickers', 2108)\"}]"
      ]
     },
     "execution_count": 24,
     "metadata": {},
     "output_type": "execute_result"
    }
   ],
   "source": [
    "data_list"
   ]
  },
  {
   "cell_type": "markdown",
   "id": "01bbc731-aea7-464f-9bc8-68c93520a15d",
   "metadata": {},
   "source": [
    "# Ollama - overview"
   ]
  },
  {
   "cell_type": "code",
   "execution_count": 33,
   "id": "6a97f369-3fda-4809-a2d2-bf0497a1b5e2",
   "metadata": {},
   "outputs": [],
   "source": [
    "from openai import OpenAI"
   ]
  },
  {
   "cell_type": "code",
   "execution_count": 34,
   "id": "91384bb2-f584-48ec-949b-c9476b218b24",
   "metadata": {},
   "outputs": [],
   "source": [
    "# OpenAI client setup with increased timeout\n",
    "# Read on Ollama - OpenAI compatibility: https://github.com/ollama/ollama/blob/main/docs/openai.md\n",
    "client = OpenAI(\n",
    "    base_url='http://localhost:11434/v1/',\n",
    "    api_key='ollama',\n",
    "    timeout = 5 * 60.0  # Increase timeout to 3*60 seconds\n",
    ")\n",
    "\n",
    "MAX_RETRIES = 3\n",
    "RETRY_DELAY = 5\n",
    "BATCH_SIZE = 1"
   ]
  },
  {
   "cell_type": "code",
   "execution_count": 35,
   "id": "f3041382-e311-429b-9fbb-67c03e8f4db8",
   "metadata": {},
   "outputs": [],
   "source": [
    "def llm(prompt, model, temperature=0.0, ):\n",
    "    for attempt in range(MAX_RETRIES):\n",
    "        try:\n",
    "            response = client.chat.completions.create(\n",
    "                model=model,\n",
    "                temperature=temperature,\n",
    "                messages=[{\"role\": \"user\", \"content\": prompt}]\n",
    "            )\n",
    "            return response\n",
    "        except Exception as e:\n",
    "            if attempt < MAX_RETRIES - 1:\n",
    "                print(f\"Attempt {attempt + 1} failed. Retrying in {RETRY_DELAY} seconds...\")\n",
    "                time.sleep(RETRY_DELAY)\n",
    "            else:\n",
    "                raise e"
   ]
  },
  {
   "cell_type": "code",
   "execution_count": 36,
   "id": "04721592-9d93-4d78-a885-87a0ced89112",
   "metadata": {},
   "outputs": [
    {
     "name": "stdout",
     "output_type": "stream",
     "text": [
      "NAME                                ID              SIZE      MODIFIED   \n",
      "phi3.5:3.8b-mini-instruct-q3_K_M    0d7837063f04    2.0 GB    5 days ago    \n",
      "phi3.5:latest                       61819fb370a3    2.2 GB    7 days ago    \n",
      "qwen2.5:1.5b                        65ec06548149    986 MB    7 days ago    \n",
      "llama3.2:latest                     a80c4f17acd5    2.0 GB    7 days ago    \n"
     ]
    }
   ],
   "source": [
    "!ollama list"
   ]
  },
  {
   "cell_type": "code",
   "execution_count": 37,
   "id": "71973709-ceb0-44d9-a146-390899d2cb82",
   "metadata": {},
   "outputs": [],
   "source": [
    "model = \"llama3.2:latest\"\n",
    "# model = \"qwen2.5:1.5b\"\n",
    "# model = \"phi3.5:latest\"\n",
    "# model = \"phi3.5:3.8b-mini-instruct-q3_K_M\""
   ]
  },
  {
   "cell_type": "code",
   "execution_count": 86,
   "id": "acb9a4ba-5590-407e-9af6-4b6201e0d219",
   "metadata": {},
   "outputs": [],
   "source": [
    "# example calling a local LLM via OpenAI compatibility\n",
    "res = llm(prompt = \"Tell me a joke\",model=model)"
   ]
  },
  {
   "cell_type": "code",
   "execution_count": 87,
   "id": "773beaa5-0378-4962-94c3-f3a8dbe0113d",
   "metadata": {},
   "outputs": [
    {
     "data": {
      "text/plain": [
       "openai.types.chat.chat_completion.ChatCompletion"
      ]
     },
     "execution_count": 87,
     "metadata": {},
     "output_type": "execute_result"
    }
   ],
   "source": [
    "type(res)"
   ]
  },
  {
   "cell_type": "code",
   "execution_count": 88,
   "id": "af73a460-3e0f-4724-b214-2b7166cc0f8d",
   "metadata": {},
   "outputs": [
    {
     "name": "stdout",
     "output_type": "stream",
     "text": [
      "Sure, here'm with one: Why don't secrets work in an orchestra? Because everyone plays their own tune! (This is based on the pun playing off \"conductor\" and \"secret conductors.\")\n",
      "\n",
      "Remember that humor can be subjective; what I find funny might not resonate with someone else. But hopefully, this little jest brings a smile to your face as it does mine when shared among friends!\n"
     ]
    }
   ],
   "source": [
    "print(res.choices[0].message.content)"
   ]
  },
  {
   "cell_type": "markdown",
   "id": "17c057c9-602f-4fcd-8b51-8e9f1b9998ae",
   "metadata": {},
   "source": []
  },
  {
   "cell_type": "code",
   "execution_count": 38,
   "id": "bf4a9c81-7d60-4db8-ad52-9d4eb333dda3",
   "metadata": {},
   "outputs": [],
   "source": [
    "ind_prompt_template = \"\"\"Expert Web Scraper.\n",
    "HTML Content: {html_str}\n",
    "\n",
    "Extract text AS IT IS from given HTML:\n",
    "- Date ranges\n",
    "- mentioned ticker \n",
    "- news count\n",
    "- growth percentage\n",
    "- news for the ticker\n",
    "\n",
    "Format:\n",
    "{{\n",
    "  \"content\": [\n",
    "    {{\n",
    "      \"type\": \"individual\",\n",
    "      \"start_date\": <start date for articles>,\n",
    "      \"end_date\": <end date for articles>,\n",
    "      \"ticker\": <ticker symbol from news>,\n",
    "      \"count\": <articles count from news>,\n",
    "      \"growth\": <growth %>\n",
    "      \"text\": <news for the ticker from html>,\n",
    "    }},\n",
    "    // repeat for all news\n",
    "  ]\n",
    "}}\n",
    "\n",
    "Constraints:\n",
    "Return JSON only. \n",
    "\"\"\""
   ]
  },
  {
   "cell_type": "code",
   "execution_count": 39,
   "id": "2ca1cb79-1ff0-4f15-9898-919a857e60bb",
   "metadata": {},
   "outputs": [],
   "source": [
    "ind_test_html = \"\"\"<header><h1>Week 17-24 July 2023</h1></header><figure><img src=\"https://static.tildacdn.com/tild6131-3163-4135-a565-356661323733/the-broad-industry-o.svg\"/></figure><div class=\"t-redactor__embedcode\"><script async src=\"https://pagead2.googlesyndication.com/pagead/js/adsbygoogle.js?client=ca-pub-5845276189467216\"\\n     crossorigin=\"anonymous\"></script></div><div class=\"t-redactor__text\"><strong>DISCLAIMER</strong><br />The content provided below was generated by AI (OpenAI\\'s ChatGPT) using titles and descriptions from a selection of 5000 published financial news articles. The information presented should be used for informational purposes only and does not constitute financial advice or investment recommendations. We advise readers to conduct their own research and consult with a qualified financial advisor before making any investment decisions. The AI-generated content may not reflect the most current market conditions or developments and should be considered as a general summary of the selected news articles.<br /><br />***************************************************************<br /><strong>INDIVIDUAL NEWS SUMMARY</strong><br /><strong>Start date for the articles: 2023-07-17; End date for the articles: \\' \\'2023-07-24 \\'</strong><br />***************************************************************<br /><strong><em>TL;DR :</em></strong><em> Tesla (TSLA) had a mixed week, with billionaire investor Chamath Palihapitiya believing the company is on the verge of a major breakthrough, while investor David Trainer argues that Tesla is overvalued. Tesla\\'s second-quarter earnings report showed a rise in sales but highlighted concerns about profitability, causing a drop in the stock price. Microsoft (MSFT) partnered with Birlasoft to establish a Generative AI Centre of Excellence, with Morgan Stanley maintaining an Overweight rating on Microsoft. Warren Buffett\\'s investment in Apple (AAPL) has resulted in Berkshire Hathaway\\'s stake in the company ballooning to nearly $180 billion, but concerns remain around weak demand and a potential delay in the next iPhone launch. Amazon (AMZN) is planning to provide high-speed internet worldwide through Project Kuiper, and its stock may be positively impacted. Netflix (NFLX) reported mixed quarterly results, with a beat in subscriber estimates but missed revenue expectations. Verizon (VZ) partnered with the VA Palo Alto Health Care System to create the first full spectrum 5G hospital. Carvana (CVNA) announced positive quarterly results, a favorable debt deal, and a debt restructuring deal with bondholders, resulting in a stock surge. The overall stock market rally is expected to continue as long as there is no sign of a recession, but there are concerns about the US economy\\'s state and a possible recession by February. Various headlines also covered topics such as cryptocurrency, technology, politics, and the world economy.</em><br /><br /><strong><em>NEWS SUMMARY for (\\'TSLA\\', 42), which changed on 2.43% last trading day: </em></strong><br />Billionaire investor Chamath Palihapitiya believes that Tesla is experiencing its \"iPhone moment\" and is on the verge of a major breakthrough. Meanwhile, investor David Trainer argues that Tesla is overvalued by over 1,000% due to its \"disconnected\" fundamentals. Tesla\\'s second-quarter earnings report showed a rise in sales but also highlighted concerns about profitability and margins. Tesla\\'s stock price dropped around 9% in response to the report. Despite mixed opinions, some analysts remain bullish on Tesla\\'s future growth potential.<br /><br /><br /><strong><em>NEWS SUMMARY for (\\'MSFT\\', 11), which changed on 0.06% last trading day:</em></strong> <br />Indian company Birlasoft has partnered with Microsoft to establish a Generative AI Centre of Excellence. The aim is to accelerate value creation and foster innovation in the adoption of Generative AI, providing enterprise solutions across industries. The center will bring together Birlasoft\\'s industry expertise and Microsoft Azure OpenAI Service to facilitate research, training, and collaboration. Morgan Stanley analyst Keith Weiss maintains an Overweight rating on Microsoft and believes the company has strong potential in the Generative AI space. <br /><br /><strong><em>NEWS SUMMARY for (\\'AAPL\\', 11), which changed on 0.51% last trading day:</em> </strong><br />Warren Buffett\\'s investment in Apple has resulted in Berkshire Hathaway\\'s stake in the company ballooning to nearly $180 billion, with the stock price surging nearly 50%. The rise in Apple\\'s stock price is partly attributed to excitement around artificial intelligence. However, there are concerns of weak demand and a potential delay in the launch of the next iPhone, which could result in lower iPhone sales. Despite this, Morgan Stanley is bullish on India\\'s growth potential for Apple and expects strong revenue and user growth in the country. <br /><br /><strong><em>NEWS SUMMARY for (\\'AMZN\\', 11), which changed on -0.94% last trading day: </em></strong><br />Amazon is planning to provide high-speed internet worldwide through its Project Kuiper. This initiative may have a positive impact on the company\\'s stock. Users on Zacks.com have been closely following Amazon, indicating strong interest in the stock. Amazon Prime Video and Freevee will have new content available in August 2023, including \"The Lost Flowers of Alice Hart\" and \"Cocaine Bear.\" A Truist analyst predicts robust revenue for Amazon, driven by strong e-commerce demand and cost optimization. However, Amazon is facing challenges regarding warehouse safety as hearings on OSHA violations begin. <br /><br /><strong><em>NEWS SUMMARY for (\\'NFLX\\', 19), which changed on -0.23% last trading day: </em></strong><br />Netflix\\'s stock has been fluctuating after the company reported mixed quarterly results. While it beat subscriber estimates with 5.9 million paid net adds, its Q2 revenue of $8.19 billion missed expectations. However, some analysts remain optimistic about Netflix\\'s future growth and expect it to rebound. The company is also rolling out paid sharing to more countries and has dropped its cheapest streaming plan without ads in the US and UK to push users towards its ad-supported service. Despite these developments, some caution that the stock may be overvalued. <br /><br /><strong><em>NEWS SUMMARY for (\\'VZ\\', 13), which changed on 1.39% last trading day: </em></strong><br />Verizon Business and the VA Palo Alto Health Care System have partnered to deploy a full spectrum private 5G network, creating the first full spectrum 5G hospital. This network will enable unprecedented care for veterans and improve healthcare services. Verizon Communications will report second-quarter 2023 earnings on July 25. Verizon is also continuing to upgrade its network in various locations, including Kentucky, Cleveland, and Daytona. Despite a recent plunge in stock value, Verizon\\'s high dividend yield and potential for capital appreciation make it an attractive investment. <br /><br /><strong><em>NEWS SUMMARY for (\\'CVNA\\', 21), which changed on -2.46% last trading day: </em></strong><br />Carvana, an online used car dealer, announced major updates that could have significant implications for investors. The company reported solid quarterly results, a favorable debt deal, and newly enabled access to equity capital, reducing liquidity risks. Despite a recent downgrade from RBC Capital due to concerns over margins and unit economics, other analysts have maintained positive outlooks for the stock. Carvana\\'s stock soared nearly 50% after its second-quarter earnings report beat expectations. The company also announced a debt restructuring deal with bondholders, expected to improve liquidity. <br /><br /><strong><em>NEWS SUMMARY for (\\'DJIA\\', 8), which changed on -0.58% last trading day: </em></strong><br />The stock market rally is expected to continue as long as there is no sign of a recession, according to Steve Eisman of Neuberger Berman. However, experts caution that transportation stocks should not be overestimated as an indicator of the overall economy. US bank lending has fallen slightly, while housing starts and retail sales have also shown weakness. Overall, the US economy is in a precarious state with concerns of a possible recession by February. <br /><br /><strong><em>NEWS SUMMARY for (\\'SPY\\', 7), which changed on 0.44% last trading day: </em></strong><br />The news includes various headlines related to the stock market, cryptocurrency, technology, politics, and the world economy. Some notable points include Cathie Wood\\'s flagship ETF exiting Alibaba and other stocks, Elon Musk\\'s Tesla reportedly removing Bitcoin as a payment option, and a prediction by Tom Lee that the S&amp;P 500 could hit 5,000 in 5 months. Other headlines discuss investor sentiment improving, regulatory actions in the cryptocurrency sector, and political developments in the US and world politics.<br /><br /></div>\"\"\""
   ]
  },
  {
   "cell_type": "code",
   "execution_count": 42,
   "id": "e186d0b5-dae6-40d5-b441-607e410dd424",
   "metadata": {
    "scrolled": true
   },
   "outputs": [
    {
     "name": "stdout",
     "output_type": "stream",
     "text": [
      "Expert Web Scraper.\n",
      "HTML Content: <header><h1>Week 17-24 July 2023</h1></header><figure><img src=\"https://static.tildacdn.com/tild6131-3163-4135-a565-356661323733/the-broad-industry-o.svg\"/></figure><div class=\"t-redactor__embedcode\"><script async src=\"https://pagead2.googlesyndication.com/pagead/js/adsbygoogle.js?client=ca-pub-5845276189467216\"\n",
      "     crossorigin=\"anonymous\"></script></div><div class=\"t-redactor__text\"><strong>DISCLAIMER</strong><br />The content provided below was generated by AI (OpenAI's ChatGPT) using titles and descriptions from a selection of 5000 published financial news articles. The information presented should be used for informational purposes only and does not constitute financial advice or investment recommendations. We advise readers to conduct their own research and consult with a qualified financial advisor before making any investment decisions. The AI-generated content may not reflect the most current market conditions or developments and should be considered as a general summary of the selected news articles.<br /><br />***************************************************************<br /><strong>INDIVIDUAL NEWS SUMMARY</strong><br /><strong>Start date for the articles: 2023-07-17; End date for the articles: ' '2023-07-24 '</strong><br />***************************************************************<br /><strong><em>TL;DR :</em></strong><em> Tesla (TSLA) had a mixed week, with billionaire investor Chamath Palihapitiya believing the company is on the verge of a major breakthrough, while investor David Trainer argues that Tesla is overvalued. Tesla's second-quarter earnings report showed a rise in sales but highlighted concerns about profitability, causing a drop in the stock price. Microsoft (MSFT) partnered with Birlasoft to establish a Generative AI Centre of Excellence, with Morgan Stanley maintaining an Overweight rating on Microsoft. Warren Buffett's investment in Apple (AAPL) has resulted in Berkshire Hathaway's stake in the company ballooning to nearly $180 billion, but concerns remain around weak demand and a potential delay in the next iPhone launch. Amazon (AMZN) is planning to provide high-speed internet worldwide through Project Kuiper, and its stock may be positively impacted. Netflix (NFLX) reported mixed quarterly results, with a beat in subscriber estimates but missed revenue expectations. Verizon (VZ) partnered with the VA Palo Alto Health Care System to create the first full spectrum 5G hospital. Carvana (CVNA) announced positive quarterly results, a favorable debt deal, and a debt restructuring deal with bondholders, resulting in a stock surge. The overall stock market rally is expected to continue as long as there is no sign of a recession, but there are concerns about the US economy's state and a possible recession by February. Various headlines also covered topics such as cryptocurrency, technology, politics, and the world economy.</em><br /><br /><strong><em>NEWS SUMMARY for ('TSLA', 42), which changed on 2.43% last trading day: </em></strong><br />Billionaire investor Chamath Palihapitiya believes that Tesla is experiencing its \"iPhone moment\" and is on the verge of a major breakthrough. Meanwhile, investor David Trainer argues that Tesla is overvalued by over 1,000% due to its \"disconnected\" fundamentals. Tesla's second-quarter earnings report showed a rise in sales but also highlighted concerns about profitability and margins. Tesla's stock price dropped around 9% in response to the report. Despite mixed opinions, some analysts remain bullish on Tesla's future growth potential.<br /><br /><br /><strong><em>NEWS SUMMARY for ('MSFT', 11), which changed on 0.06% last trading day:</em></strong> <br />Indian company Birlasoft has partnered with Microsoft to establish a Generative AI Centre of Excellence. The aim is to accelerate value creation and foster innovation in the adoption of Generative AI, providing enterprise solutions across industries. The center will bring together Birlasoft's industry expertise and Microsoft Azure OpenAI Service to facilitate research, training, and collaboration. Morgan Stanley analyst Keith Weiss maintains an Overweight rating on Microsoft and believes the company has strong potential in the Generative AI space. <br /><br /><strong><em>NEWS SUMMARY for ('AAPL', 11), which changed on 0.51% last trading day:</em> </strong><br />Warren Buffett's investment in Apple has resulted in Berkshire Hathaway's stake in the company ballooning to nearly $180 billion, with the stock price surging nearly 50%. The rise in Apple's stock price is partly attributed to excitement around artificial intelligence. However, there are concerns of weak demand and a potential delay in the launch of the next iPhone, which could result in lower iPhone sales. Despite this, Morgan Stanley is bullish on India's growth potential for Apple and expects strong revenue and user growth in the country. <br /><br /><strong><em>NEWS SUMMARY for ('AMZN', 11), which changed on -0.94% last trading day: </em></strong><br />Amazon is planning to provide high-speed internet worldwide through its Project Kuiper. This initiative may have a positive impact on the company's stock. Users on Zacks.com have been closely following Amazon, indicating strong interest in the stock. Amazon Prime Video and Freevee will have new content available in August 2023, including \"The Lost Flowers of Alice Hart\" and \"Cocaine Bear.\" A Truist analyst predicts robust revenue for Amazon, driven by strong e-commerce demand and cost optimization. However, Amazon is facing challenges regarding warehouse safety as hearings on OSHA violations begin. <br /><br /><strong><em>NEWS SUMMARY for ('NFLX', 19), which changed on -0.23% last trading day: </em></strong><br />Netflix's stock has been fluctuating after the company reported mixed quarterly results. While it beat subscriber estimates with 5.9 million paid net adds, its Q2 revenue of $8.19 billion missed expectations. However, some analysts remain optimistic about Netflix's future growth and expect it to rebound. The company is also rolling out paid sharing to more countries and has dropped its cheapest streaming plan without ads in the US and UK to push users towards its ad-supported service. Despite these developments, some caution that the stock may be overvalued. <br /><br /><strong><em>NEWS SUMMARY for ('VZ', 13), which changed on 1.39% last trading day: </em></strong><br />Verizon Business and the VA Palo Alto Health Care System have partnered to deploy a full spectrum private 5G network, creating the first full spectrum 5G hospital. This network will enable unprecedented care for veterans and improve healthcare services. Verizon Communications will report second-quarter 2023 earnings on July 25. Verizon is also continuing to upgrade its network in various locations, including Kentucky, Cleveland, and Daytona. Despite a recent plunge in stock value, Verizon's high dividend yield and potential for capital appreciation make it an attractive investment. <br /><br /><strong><em>NEWS SUMMARY for ('CVNA', 21), which changed on -2.46% last trading day: </em></strong><br />Carvana, an online used car dealer, announced major updates that could have significant implications for investors. The company reported solid quarterly results, a favorable debt deal, and newly enabled access to equity capital, reducing liquidity risks. Despite a recent downgrade from RBC Capital due to concerns over margins and unit economics, other analysts have maintained positive outlooks for the stock. Carvana's stock soared nearly 50% after its second-quarter earnings report beat expectations. The company also announced a debt restructuring deal with bondholders, expected to improve liquidity. <br /><br /><strong><em>NEWS SUMMARY for ('DJIA', 8), which changed on -0.58% last trading day: </em></strong><br />The stock market rally is expected to continue as long as there is no sign of a recession, according to Steve Eisman of Neuberger Berman. However, experts caution that transportation stocks should not be overestimated as an indicator of the overall economy. US bank lending has fallen slightly, while housing starts and retail sales have also shown weakness. Overall, the US economy is in a precarious state with concerns of a possible recession by February. <br /><br /><strong><em>NEWS SUMMARY for ('SPY', 7), which changed on 0.44% last trading day: </em></strong><br />The news includes various headlines related to the stock market, cryptocurrency, technology, politics, and the world economy. Some notable points include Cathie Wood's flagship ETF exiting Alibaba and other stocks, Elon Musk's Tesla reportedly removing Bitcoin as a payment option, and a prediction by Tom Lee that the S&amp;P 500 could hit 5,000 in 5 months. Other headlines discuss investor sentiment improving, regulatory actions in the cryptocurrency sector, and political developments in the US and world politics.<br /><br /></div>\n",
      "\n",
      "Extract text AS IT IS from given HTML:\n",
      "- Date ranges\n",
      "- mentioned ticker \n",
      "- news count\n",
      "- growth percentage\n",
      "- news for the ticker\n",
      "\n",
      "Format:\n",
      "{\n",
      "  \"content\": [\n",
      "    {\n",
      "      \"type\": \"individual\",\n",
      "      \"start_date\": <start date for articles>,\n",
      "      \"end_date\": <end date for articles>,\n",
      "      \"ticker\": <ticker symbol from news>,\n",
      "      \"count\": <articles count from news>,\n",
      "      \"growth\": <growth %>\n",
      "      \"text\": <news for the ticker from html>,\n",
      "    },\n",
      "    // repeat for all news\n",
      "  ]\n",
      "}\n",
      "\n",
      "Constraints:\n",
      "Return JSON only. \n",
      "\n"
     ]
    }
   ],
   "source": [
    "prompt = ind_prompt_template.format(html_str=ind_test_html) # format(name_in_strin = variable_name)\n",
    "\n",
    "# print(prompt)"
   ]
  },
  {
   "cell_type": "code",
   "execution_count": 43,
   "id": "6e6bc13f-8623-47e7-82cb-58c86dbaa4bb",
   "metadata": {},
   "outputs": [
    {
     "data": {
      "text/plain": [
       "9514"
      ]
     },
     "execution_count": 43,
     "metadata": {},
     "output_type": "execute_result"
    }
   ],
   "source": [
    "len(prompt)"
   ]
  },
  {
   "cell_type": "code",
   "execution_count": 26,
   "id": "97c7a89e-661c-4249-bd00-c65de75e7a7f",
   "metadata": {},
   "outputs": [
    {
     "name": "stdout",
     "output_type": "stream",
     "text": [
      "CPU times: user 31.7 ms, sys: 12.2 ms, total: 43.9 ms\n",
      "Wall time: 3min 9s\n"
     ]
    }
   ],
   "source": [
    "%%time\n",
    "#Let's try it locally\n",
    "scraped_data = llm(prompt = prompt, model=model)"
   ]
  },
  {
   "cell_type": "code",
   "execution_count": 27,
   "id": "e1572564-8687-41ab-9144-2e924b953724",
   "metadata": {},
   "outputs": [
    {
     "data": {
      "text/plain": [
       "openai.types.chat.chat_completion.ChatCompletion"
      ]
     },
     "execution_count": 27,
     "metadata": {},
     "output_type": "execute_result"
    }
   ],
   "source": [
    "type(scraped_data)"
   ]
  },
  {
   "cell_type": "code",
   "execution_count": 36,
   "id": "064ee7ef-1258-4fd5-8db5-4a0867ad9ee6",
   "metadata": {
    "scrolled": true
   },
   "outputs": [
    {
     "data": {
      "text/plain": [
       "'{\\n  \"content\": [\\n    {\\n      \"type\": \"individual\",\\n      \"start_date\": null,\\n      \"end_date\": null,\\n      \"ticker\": \"AMZN\",\\n      \"count\": 11,\\n      \"growth\": \"-0.94%\",\\n      \"text\": \"Amazon is planning to provide high-speed internet worldwide through its Project Kuiper. This initiative may have a positive impact on the company\\'s stock. Users on Zacks.com have been closely following Amazon, indicating strong interest in the stock. Amazon Prime Video and Freevee will have new content available in August 2023, including \\\\\"The Lost Flowers of Alice Hart\\\\\" and \\\\\"Cocaine Bear.\\\\\" A Truist analyst predicts robust revenue for Amazon, driven by strong e-commerce demand and cost optimization. However, Amazon is facing challenges regarding warehouse safety as hearings on OSHA violations begin.\"\\n    },\\n    {\\n      \"type\": \"individual\",\\n      \"start_date\": null,\\n      \"end_date\": null,\\n      \"ticker\": \"NFLX\",\\n      \"count\": 19,\\n      \"growth\": \"-0.23%\",\\n      \"text\": \"Netflix\\'s stock has been fluctuating after the company reported mixed quarterly results. While it beat subscriber estimates with 5.9 million paid net adds, its Q2 revenue of $8.19 billion missed expectations. However, some analysts remain optimistic about Netflix\\'s future growth and expect it to rebound. The company is also rolling out paid sharing to more countries and has dropped its cheapest streaming plan without ads in the US and UK to push users towards its ad-supported service. Despite these developments, some caution that the stock may be overvalued.\"\\n    },\\n    {\\n      \"type\": \"individual\",\\n      \"start_date\": null,\\n      \"end_date\": null,\\n      \"ticker\": \"VZ\",\\n      \"count\": 13,\\n      \"growth\": \"1.39%\",\\n      \"text\": \"Verizon Business and the VA Palo Alto Health Care System have partnered to deploy a full spectrum private 5G network, creating the first full spectrum 5G hospital. This network will enable unprecedented care for veterans and improve healthcare services. Verizon Communications will report second-quarter 2023 earnings on July 25. Verizon is also continuing to upgrade its network in various locations, including Kentucky, Cleveland, and Daytona. Despite a recent plunge in stock value, Verizon\\'s high dividend yield and potential for capital appreciation make it an attractive investment.\"\\n    },\\n    {\\n      \"type\": \"individual\",\\n      \"start_date\": null,\\n      \"end_date\": null,\\n      \"ticker\": \"CVNA\",\\n      \"count\": 21,\\n      \"growth\": \"-2.46%\",\\n      \"text\": \"Carvana, an online used car dealer, announced major updates that could have significant implications for investors. The company reported solid quarterly results, a favorable debt deal, and newly enabled access to equity capital, reducing liquidity risks. Despite a recent downgrade from RBC Capital due to concerns over margins and unit economics, other analysts have maintained positive outlooks for the stock. Carvana\\'s stock soared nearly 50% after its second-quarter earnings report beat expectations. The company also announced a debt restructuring deal with bondholders, expected to improve liquidity.\"\\n    },\\n    {\\n      \"type\": \"individual\",\\n      \"start_date\": null,\\n      \"end_date\": null,\\n      \"ticker\": \"DJIA\",\\n      \"count\": 8,\\n      \"growth\": \"-0.58%\",\\n      \"text\": \"The stock market rally is expected to continue as long as there is no sign of a recession, according to Steve Eisman of Neuberger Berman. However, experts caution that transportation stocks should not be overestimated as an indicator of the overall economy. US bank lending has fallen slightly, while housing starts and retail sales have also shown weakness. Overall, the US economy is in a precarious state with concerns of a possible recession by February.\"\\n    },\\n    {\\n      \"type\": \"individual\",\\n      \"start_date\": null,\\n      \"end_date\": null,\\n      \"ticker\": \"SPY\",\\n      \"count\": 7,\\n      \"growth\": \"0.44%\",\\n      \"text\": \"The news includes various headlines related to the stock market, cryptocurrency, technology, politics, and the world economy. Some notable points include Cathie Wood\\'s flagship ETF exiting Alibaba and other stocks, Elon Musk\\'s Tesla reportedly removing Bitcoin as a payment option, and a prediction by Tom Lee that the S&amp;P 500 could hit 5,000 in 5 months. Other headlines discuss investor sentiment improving, regulatory actions in the cryptocurrency sector, and political developments in the US and world politics.\"\\n    }\\n  ]\\n}'"
      ]
     },
     "execution_count": 36,
     "metadata": {},
     "output_type": "execute_result"
    }
   ],
   "source": [
    "# Result: \n",
    "scraped_data.choices[0].message.content"
   ]
  },
  {
   "cell_type": "code",
   "execution_count": 29,
   "id": "965c8fad-f91f-42fa-af0f-b4214cc18c6e",
   "metadata": {
    "scrolled": true
   },
   "outputs": [
    {
     "name": "stdout",
     "output_type": "stream",
     "text": [
      "{\n",
      "  \"content\": [\n",
      "    {\n",
      "      \"type\": \"individual\",\n",
      "      \"start_date\": null,\n",
      "      \"end_date\": null,\n",
      "      \"ticker\": \"AMZN\",\n",
      "      \"count\": 11,\n",
      "      \"growth\": \"-0.94%\",\n",
      "      \"text\": \"Amazon is planning to provide high-speed internet worldwide through its Project Kuiper. This initiative may have a positive impact on the company's stock. Users on Zacks.com have been closely following Amazon, indicating strong interest in the stock. Amazon Prime Video and Freevee will have new content available in August 2023, including \\\"The Lost Flowers of Alice Hart\\\" and \\\"Cocaine Bear.\\\" A Truist analyst predicts robust revenue for Amazon, driven by strong e-commerce demand and cost optimization. However, Amazon is facing challenges regarding warehouse safety as hearings on OSHA violations begin.\"\n",
      "    },\n",
      "    {\n",
      "      \"type\": \"individual\",\n",
      "      \"start_date\": null,\n",
      "      \"end_date\": null,\n",
      "      \"ticker\": \"NFLX\",\n",
      "      \"count\": 19,\n",
      "      \"growth\": \"-0.23%\",\n",
      "      \"text\": \"Netflix's stock has been fluctuating after the company reported mixed quarterly results. While it beat subscriber estimates with 5.9 million paid net adds, its Q2 revenue of $8.19 billion missed expectations. However, some analysts remain optimistic about Netflix's future growth and expect it to rebound. The company is also rolling out paid sharing to more countries and has dropped its cheapest streaming plan without ads in the US and UK to push users towards its ad-supported service. Despite these developments, some caution that the stock may be overvalued.\"\n",
      "    },\n",
      "    {\n",
      "      \"type\": \"individual\",\n",
      "      \"start_date\": null,\n",
      "      \"end_date\": null,\n",
      "      \"ticker\": \"VZ\",\n",
      "      \"count\": 13,\n",
      "      \"growth\": \"1.39%\",\n",
      "      \"text\": \"Verizon Business and the VA Palo Alto Health Care System have partnered to deploy a full spectrum private 5G network, creating the first full spectrum 5G hospital. This network will enable unprecedented care for veterans and improve healthcare services. Verizon Communications will report second-quarter 2023 earnings on July 25. Verizon is also continuing to upgrade its network in various locations, including Kentucky, Cleveland, and Daytona. Despite a recent plunge in stock value, Verizon's high dividend yield and potential for capital appreciation make it an attractive investment.\"\n",
      "    },\n",
      "    {\n",
      "      \"type\": \"individual\",\n",
      "      \"start_date\": null,\n",
      "      \"end_date\": null,\n",
      "      \"ticker\": \"CVNA\",\n",
      "      \"count\": 21,\n",
      "      \"growth\": \"-2.46%\",\n",
      "      \"text\": \"Carvana, an online used car dealer, announced major updates that could have significant implications for investors. The company reported solid quarterly results, a favorable debt deal, and newly enabled access to equity capital, reducing liquidity risks. Despite a recent downgrade from RBC Capital due to concerns over margins and unit economics, other analysts have maintained positive outlooks for the stock. Carvana's stock soared nearly 50% after its second-quarter earnings report beat expectations. The company also announced a debt restructuring deal with bondholders, expected to improve liquidity.\"\n",
      "    },\n",
      "    {\n",
      "      \"type\": \"individual\",\n",
      "      \"start_date\": null,\n",
      "      \"end_date\": null,\n",
      "      \"ticker\": \"DJIA\",\n",
      "      \"count\": 8,\n",
      "      \"growth\": \"-0.58%\",\n",
      "      \"text\": \"The stock market rally is expected to continue as long as there is no sign of a recession, according to Steve Eisman of Neuberger Berman. However, experts caution that transportation stocks should not be overestimated as an indicator of the overall economy. US bank lending has fallen slightly, while housing starts and retail sales have also shown weakness. Overall, the US economy is in a precarious state with concerns of a possible recession by February.\"\n",
      "    },\n",
      "    {\n",
      "      \"type\": \"individual\",\n",
      "      \"start_date\": null,\n",
      "      \"end_date\": null,\n",
      "      \"ticker\": \"SPY\",\n",
      "      \"count\": 7,\n",
      "      \"growth\": \"0.44%\",\n",
      "      \"text\": \"The news includes various headlines related to the stock market, cryptocurrency, technology, politics, and the world economy. Some notable points include Cathie Wood's flagship ETF exiting Alibaba and other stocks, Elon Musk's Tesla reportedly removing Bitcoin as a payment option, and a prediction by Tom Lee that the S&amp;P 500 could hit 5,000 in 5 months. Other headlines discuss investor sentiment improving, regulatory actions in the cryptocurrency sector, and political developments in the US and world politics.\"\n",
      "    }\n",
      "  ]\n",
      "}\n"
     ]
    }
   ],
   "source": [
    "print(scraped_data.choices[0].message.content)"
   ]
  },
  {
   "cell_type": "code",
   "execution_count": 47,
   "id": "e2d3d85f-731d-4a74-9991-4f7ae7bb501e",
   "metadata": {},
   "outputs": [],
   "source": [
    "def save_as_json_file(filename, json_string):\n",
    "    json_data = json.loads(json_string)\n",
    "    with open(filename, 'w', encoding='utf-8') as f:\n",
    "        json.dump(json_data, f, indent=4)\n",
    "        print(f\"{filename} save in the current dir\")"
   ]
  },
  {
   "cell_type": "code",
   "execution_count": 48,
   "id": "d5acf82a-accc-40d0-bfde-51f82d156747",
   "metadata": {},
   "outputs": [],
   "source": [
    "filename = 'indi_news_response.json'\n",
    "json_string = scraped_data.choices[0].message.content"
   ]
  },
  {
   "cell_type": "code",
   "execution_count": 49,
   "id": "b8d7e566-bd4e-403a-a5ab-cc8eb999134b",
   "metadata": {},
   "outputs": [
    {
     "name": "stdout",
     "output_type": "stream",
     "text": [
      "indi_news_response.json save in the current dir\n"
     ]
    }
   ],
   "source": [
    "save_as_json_file(filename, json_string)"
   ]
  },
  {
   "cell_type": "markdown",
   "id": "b7cb8dbe-44eb-453e-922f-7b58a53dd460",
   "metadata": {},
   "source": [
    "Observations for individual news extractions:\n",
    "\n",
    "Correctly working:\n",
    "1. the data is extracted in the required format\n",
    "2. the tickers are also extracted properly.\n",
    "3. the sentences for the respective tickers are also extracted\n",
    "\n",
    "NOT WORKING Properly:\n",
    "1. the start and end dates are not extracted\n",
    "2. all the tickers are not extracted like MSFT and AMZN, only some.\n",
    "    1. maybe the prompt needed to be changed.\n",
    "    2. "
   ]
  },
  {
   "cell_type": "markdown",
   "id": "8aa25bd4-4d02-4c26-8d09-17560a7ca69a",
   "metadata": {},
   "source": [
    "## Market_News\n"
   ]
  },
  {
   "cell_type": "code",
   "execution_count": 44,
   "id": "858d4c39-82f5-41b5-874b-e7333a6312f8",
   "metadata": {},
   "outputs": [],
   "source": [
    "market_prompt_template=\"\"\"Act as an Expert Web Scraper.\n",
    "HTML Content: {html_str}\n",
    "HTML Content format:\n",
    "[<model_name> <period> summary] MARKET NEWS SUMMARY ('multiple_tickers', <news_count> ) -- i.e. <news_count> news summary for the last 24 hours before <end_date> UTC time:\n",
    "****************************\n",
    "<news_summary>\n",
    "\n",
    "Extract text AS IT IS from given HTML:\n",
    "- model name\n",
    "- period for summary \n",
    "- news count\n",
    "- market news summary\n",
    "\n",
    "\n",
    "Output JSON format:\n",
    "{{\n",
    "  \"content\": [\n",
    "    {{\n",
    "      \"type\": \"market_\"+<period>,\n",
    "      \"end_date\": <end_date>,\n",
    "      \"start_date\": <24 hours before end_date>,\n",
    "      \"ticker\": \"multiple_tickers\",\n",
    "      \"count\": <news_count>,\n",
    "      \"model\": <model_name>\n",
    "      \"text\": <news_summary>,\n",
    "    }},\n",
    "  ]\n",
    "}}\n",
    "\n",
    "Constraints:\n",
    "Just return the JSON Output only.\n",
    "\"\"\""
   ]
  },
  {
   "cell_type": "code",
   "execution_count": 45,
   "id": "aebfc77a-4bff-4212-913c-3d9f1631d7c7",
   "metadata": {},
   "outputs": [],
   "source": [
    "mark_1day__test_html = \"\"\"<div class=\"t-redactor__text\">***************************************************************<br /><strong>[</strong><strong style=\"color: rgb(120, 110, 11);\">GPT3.5 model 1 day summary</strong><strong>] MARKET NEWS SUMMARY ('multiple_tickers', 84) -- i.e. 84 news summary for the last 24 hours before 07/10/2024 20:35 UTC time:</strong><br />***************************************************************<br /><br />Market expectations:<br />- Vanguard ETFs such as VIG and VYM are seen as providing stability in volatile markets, likely indicating a cautious sentiment among investors.<br />- The rise in Chinese stocks following government stimulus measures might have shaped expectations of potential entry points for investors, but technical indicators signaling overbought conditions suggest a more cautious outlook.<br />- The class action lawsuit against AMMO, Inc. (POWW) might have dampened market sentiment toward the company, impacting expectations for its future performance.<br /><br />Big trends:<br />- The global fertilizers market, commercial lawn mower market, and network attached storage market are projected to grow significantly, indicating a growing demand for these products and services.<br />- The U.S. multiomics market and the global in-vitro diagnostics market are expected to grow, reflecting a trend in the increasing prevalence of chronic and infectious diseases, as well as technological advancements in the healthcare industry.<br />- The growing interest in artificial intelligence (AI) is evident from the expected significant growth in the AI in diagnostics market and the European Generative AI market.<br />- The electric boats market is anticipated to grow rapidly as a result of increasing environmental regulations and technological advancements.<br /><br />Sentiment:<br />- There are varying sentiments towards specific stocks and industries, with some, like Rent the Runway, Rivian, and Exelixis, receiving analyst price targets suggesting significant upside, and others, like Trump Media and AMMO, Inc., facing class action lawsuits leading to increased investor caution.<br />- Concerns about inflationary pressure and potential impacts of Hurricane Milton on insurance stocks suggest a more cautious sentiment towards these sectors.<br />- Analysts are bullish on high-yield dividend stocks such as Chevron, Kraft Heinz, and Truist Financial amid dropping interest rates, indicating a positive sentiment toward these companies.</div>\"\"\""
   ]
  },
  {
   "cell_type": "code",
   "execution_count": 46,
   "id": "c8dbdf0f-e5a3-42d1-8268-76c701b456a5",
   "metadata": {
    "scrolled": true
   },
   "outputs": [],
   "source": [
    "market_prompt = market_prompt_template.format(html_str=mark_1day__test_html) # format(name_in_strin = variable_name)"
   ]
  },
  {
   "cell_type": "code",
   "execution_count": 47,
   "id": "c7c3e2d2-a010-4711-b41b-c3c2e94528d5",
   "metadata": {},
   "outputs": [
    {
     "name": "stdout",
     "output_type": "stream",
     "text": [
      "Act as an Expert Web Scraper.\n",
      "HTML Content: <div class=\"t-redactor__text\">***************************************************************<br /><strong>[</strong><strong style=\"color: rgb(120, 110, 11);\">GPT3.5 model 1 day summary</strong><strong>] MARKET NEWS SUMMARY ('multiple_tickers', 84) -- i.e. 84 news summary for the last 24 hours before 07/10/2024 20:35 UTC time:</strong><br />***************************************************************<br /><br />Market expectations:<br />- Vanguard ETFs such as VIG and VYM are seen as providing stability in volatile markets, likely indicating a cautious sentiment among investors.<br />- The rise in Chinese stocks following government stimulus measures might have shaped expectations of potential entry points for investors, but technical indicators signaling overbought conditions suggest a more cautious outlook.<br />- The class action lawsuit against AMMO, Inc. (POWW) might have dampened market sentiment toward the company, impacting expectations for its future performance.<br /><br />Big trends:<br />- The global fertilizers market, commercial lawn mower market, and network attached storage market are projected to grow significantly, indicating a growing demand for these products and services.<br />- The U.S. multiomics market and the global in-vitro diagnostics market are expected to grow, reflecting a trend in the increasing prevalence of chronic and infectious diseases, as well as technological advancements in the healthcare industry.<br />- The growing interest in artificial intelligence (AI) is evident from the expected significant growth in the AI in diagnostics market and the European Generative AI market.<br />- The electric boats market is anticipated to grow rapidly as a result of increasing environmental regulations and technological advancements.<br /><br />Sentiment:<br />- There are varying sentiments towards specific stocks and industries, with some, like Rent the Runway, Rivian, and Exelixis, receiving analyst price targets suggesting significant upside, and others, like Trump Media and AMMO, Inc., facing class action lawsuits leading to increased investor caution.<br />- Concerns about inflationary pressure and potential impacts of Hurricane Milton on insurance stocks suggest a more cautious sentiment towards these sectors.<br />- Analysts are bullish on high-yield dividend stocks such as Chevron, Kraft Heinz, and Truist Financial amid dropping interest rates, indicating a positive sentiment toward these companies.</div>\n",
      "HTML Content format:\n",
      "[<model_name> <period> summary] MARKET NEWS SUMMARY ('multiple_tickers', <news_count> ) -- i.e. <news_count> news summary for the last 24 hours before <end_date> UTC time:\n",
      "****************************\n",
      "<news_summary>\n",
      "\n",
      "Extract text AS IT IS from given HTML:\n",
      "- model name\n",
      "- period for summary \n",
      "- news count\n",
      "- market news summary\n",
      "\n",
      "\n",
      "Output JSON format:\n",
      "{\n",
      "  \"content\": [\n",
      "    {\n",
      "      \"type\": \"market_\"+<period>,\n",
      "      \"end_date\": <end_date>,\n",
      "      \"start_date\": <24 hours before end_date>,\n",
      "      \"ticker\": \"multiple_tickers\",\n",
      "      \"count\": <news_count>,\n",
      "      \"model\": <model_name>\n",
      "      \"text\": <news_summary>,\n",
      "    },\n",
      "  ]\n",
      "}\n",
      "\n",
      "Constraints:\n",
      "Just return the JSON Output only.\n",
      "\n"
     ]
    }
   ],
   "source": [
    "print(market_prompt)"
   ]
  },
  {
   "cell_type": "code",
   "execution_count": 48,
   "id": "e71e4e9f-ae31-4c59-8d8f-645667d78fdb",
   "metadata": {},
   "outputs": [
    {
     "data": {
      "text/plain": [
       "3216"
      ]
     },
     "execution_count": 48,
     "metadata": {},
     "output_type": "execute_result"
    }
   ],
   "source": [
    "len(market_prompt)"
   ]
  },
  {
   "cell_type": "code",
   "execution_count": 49,
   "id": "69d53416-8de7-44f8-af67-361282388fc6",
   "metadata": {},
   "outputs": [
    {
     "data": {
      "text/plain": [
       "'llama3.2:latest'"
      ]
     },
     "execution_count": 49,
     "metadata": {},
     "output_type": "execute_result"
    }
   ],
   "source": [
    "model"
   ]
  },
  {
   "cell_type": "code",
   "execution_count": 95,
   "id": "0b70c695-46a6-4a90-b96e-2f1e785f7515",
   "metadata": {},
   "outputs": [
    {
     "name": "stdout",
     "output_type": "stream",
     "text": [
      "CPU times: user 17.1 ms, sys: 9.65 ms, total: 26.8 ms\n",
      "Wall time: 1min 57s\n"
     ]
    }
   ],
   "source": [
    "%%time\n",
    "#Let's try it locally\n",
    "market_scraped_data = llm(prompt = market_prompt, model=model)"
   ]
  },
  {
   "cell_type": "code",
   "execution_count": 96,
   "id": "e8b2d4af-ff64-4bee-b42f-4c24a531e1c3",
   "metadata": {},
   "outputs": [
    {
     "data": {
      "text/plain": [
       "'{\\n  \"content\": [\\n    {\\n      \"type\": \"market_1 day\",\\n      \"end_date\": \"07/10/2024 20:35 UTC\",\\n      \"start_date\": \"07/09/2024 16:35 UTC\",\\n      \"ticker\": \"multiple_tickers\",\\n      \"count\": 84,\\n      \"model\": \"GPT3.5 model\",\\n      \"text\": \"***************************************************************<br /><strong>[</strong><strong style=\\\\\"color: rgb(120, 110, 11);\\\\\">GPT3.5 model 1 day summary</strong><strong>] MARKET NEWS SUMMARY (\\'multiple_tickers\\', 84) -- i.e. 84 news summary for the last 24 hours before 07/10/2024 20:35 UTC time:</strong><br />***************************************************************<br /><br />Market expectations:<br />- Vanguard ETFs such as VIG and VYM are seen as providing stability in volatile markets, likely indicating a cautious sentiment among investors.<br />- The rise in Chinese stocks following government stimulus measures might have shaped expectations of potential entry points for investors, but technical indicators signaling overbought conditions suggest a more cautious outlook.<br />- The class action lawsuit against AMMO, Inc. (POWW) might have dampened market sentiment toward the company, impacting expectations for its future performance.<br /><br />Big trends:<br />- The global fertilizers market, commercial lawn mower market, and network attached storage market are projected to grow significantly, indicating a growing demand for these products and services.<br />- The U.S. multiomics market and the global in-vitro diagnostics market are expected to grow, reflecting a trend in the increasing prevalence of chronic and infectious diseases, as well as technological advancements in the healthcare industry.<br />- The growing interest in artificial intelligence (AI) is evident from the expected significant growth in the AI in diagnostics market and the European Generative AI market.<br />- The electric boats market is anticipated to grow rapidly as a result of increasing environmental regulations and technological advancements.<br /><br />Sentiment:<br />- There are varying sentiments towards specific stocks and industries, with some, like Rent the Runway, Rivian, and Exelixis, receiving analyst price targets suggesting significant upside, and others, like Trump Media and AMMO, Inc., facing class action lawsuits leading to increased investor caution.<br />- Concerns about inflationary pressure and potential impacts of Hurricane Milton on insurance stocks suggest a more cautious sentiment towards these sectors.<br />- Analysts are bullish on high-yield dividend stocks such as Chevron, Kraft Heinz, and Truist Financial amid dropping interest rates, indicating a positive sentiment toward these companies.\"\\n    }\\n  ]\\n}'"
      ]
     },
     "execution_count": 96,
     "metadata": {},
     "output_type": "execute_result"
    }
   ],
   "source": [
    "# Result: \n",
    "market_scraped_data.choices[0].message.content"
   ]
  },
  {
   "cell_type": "code",
   "execution_count": 97,
   "id": "d52acf06-781f-4f77-bd5c-a5dd1ddb39ab",
   "metadata": {},
   "outputs": [
    {
     "name": "stdout",
     "output_type": "stream",
     "text": [
      "{\n",
      "  \"content\": [\n",
      "    {\n",
      "      \"type\": \"market_1 day\",\n",
      "      \"end_date\": \"07/10/2024 20:35 UTC\",\n",
      "      \"start_date\": \"07/09/2024 16:35 UTC\",\n",
      "      \"ticker\": \"multiple_tickers\",\n",
      "      \"count\": 84,\n",
      "      \"model\": \"GPT3.5 model\",\n",
      "      \"text\": \"***************************************************************<br /><strong>[</strong><strong style=\\\"color: rgb(120, 110, 11);\\\">GPT3.5 model 1 day summary</strong><strong>] MARKET NEWS SUMMARY ('multiple_tickers', 84) -- i.e. 84 news summary for the last 24 hours before 07/10/2024 20:35 UTC time:</strong><br />***************************************************************<br /><br />Market expectations:<br />- Vanguard ETFs such as VIG and VYM are seen as providing stability in volatile markets, likely indicating a cautious sentiment among investors.<br />- The rise in Chinese stocks following government stimulus measures might have shaped expectations of potential entry points for investors, but technical indicators signaling overbought conditions suggest a more cautious outlook.<br />- The class action lawsuit against AMMO, Inc. (POWW) might have dampened market sentiment toward the company, impacting expectations for its future performance.<br /><br />Big trends:<br />- The global fertilizers market, commercial lawn mower market, and network attached storage market are projected to grow significantly, indicating a growing demand for these products and services.<br />- The U.S. multiomics market and the global in-vitro diagnostics market are expected to grow, reflecting a trend in the increasing prevalence of chronic and infectious diseases, as well as technological advancements in the healthcare industry.<br />- The growing interest in artificial intelligence (AI) is evident from the expected significant growth in the AI in diagnostics market and the European Generative AI market.<br />- The electric boats market is anticipated to grow rapidly as a result of increasing environmental regulations and technological advancements.<br /><br />Sentiment:<br />- There are varying sentiments towards specific stocks and industries, with some, like Rent the Runway, Rivian, and Exelixis, receiving analyst price targets suggesting significant upside, and others, like Trump Media and AMMO, Inc., facing class action lawsuits leading to increased investor caution.<br />- Concerns about inflationary pressure and potential impacts of Hurricane Milton on insurance stocks suggest a more cautious sentiment towards these sectors.<br />- Analysts are bullish on high-yield dividend stocks such as Chevron, Kraft Heinz, and Truist Financial amid dropping interest rates, indicating a positive sentiment toward these companies.\"\n",
      "    }\n",
      "  ]\n",
      "}\n"
     ]
    }
   ],
   "source": [
    "print(market_scraped_data.choices[0].message.content)"
   ]
  },
  {
   "cell_type": "markdown",
   "id": "c3755951-c177-4cf9-b5b4-559d1e3b3397",
   "metadata": {},
   "source": [
    "### Saving File"
   ]
  },
  {
   "cell_type": "code",
   "execution_count": 98,
   "id": "f200753d-515a-4825-91f3-a11f8c1ed190",
   "metadata": {},
   "outputs": [
    {
     "name": "stdout",
     "output_type": "stream",
     "text": [
      "market_1d_3.5_news_response.json save in the current dir\n"
     ]
    }
   ],
   "source": [
    "filename = 'market_1d_3.5_news_response.json'\n",
    "json_string = market_scraped_data.choices[0].message.content\n",
    "\n",
    "save_as_json_file(filename, json_string)"
   ]
  },
  {
   "cell_type": "markdown",
   "id": "9080f686-9047-4e8a-9c28-0a7f33c27e78",
   "metadata": {},
   "source": [
    "## Combining into one content element"
   ]
  },
  {
   "cell_type": "code",
   "execution_count": 53,
   "id": "dd0e998b-d8ff-41f5-87f0-03284ecaec53",
   "metadata": {},
   "outputs": [],
   "source": [
    "ind_news_json_fn = \"indi_news_response.json\"\n",
    "market_news_json_fn = \"market_1d_3.5_news_response.json\""
   ]
  },
  {
   "cell_type": "code",
   "execution_count": 55,
   "id": "9d3baa1d-5ec8-49d2-9a0c-6d7cb4cf9dcb",
   "metadata": {},
   "outputs": [],
   "source": [
    "with open(ind_news_json_fn, 'r') as f1, open(market_news_json_fn, 'r') as f2:\n",
    "    ind_news_json = json.load(f1)\n",
    "    market_news_json = json.load(f2)"
   ]
  },
  {
   "cell_type": "code",
   "execution_count": 59,
   "id": "1c9f796d-15ea-4a0d-856a-83390d3dfe28",
   "metadata": {},
   "outputs": [
    {
     "data": {
      "text/plain": [
       "(dict, dict)"
      ]
     },
     "execution_count": 59,
     "metadata": {},
     "output_type": "execute_result"
    }
   ],
   "source": [
    "type(ind_news_json), type(market_news_json)"
   ]
  },
  {
   "cell_type": "code",
   "execution_count": 63,
   "id": "6f071255-61a2-4a99-90cf-0755cdc64d01",
   "metadata": {},
   "outputs": [
    {
     "data": {
      "text/plain": [
       "({'content': [{'type': 'individual',\n",
       "    'start_date': None,\n",
       "    'end_date': None,\n",
       "    'ticker': 'AMZN',\n",
       "    'count': 11,\n",
       "    'growth': '-0.94%',\n",
       "    'text': 'Amazon is planning to provide high-speed internet worldwide through its Project Kuiper. This initiative may have a positive impact on the company\\'s stock. Users on Zacks.com have been closely following Amazon, indicating strong interest in the stock. Amazon Prime Video and Freevee will have new content available in August 2023, including \"The Lost Flowers of Alice Hart\" and \"Cocaine Bear.\" A Truist analyst predicts robust revenue for Amazon, driven by strong e-commerce demand and cost optimization. However, Amazon is facing challenges regarding warehouse safety as hearings on OSHA violations begin.'},\n",
       "   {'type': 'individual',\n",
       "    'start_date': None,\n",
       "    'end_date': None,\n",
       "    'ticker': 'NFLX',\n",
       "    'count': 19,\n",
       "    'growth': '-0.23%',\n",
       "    'text': \"Netflix's stock has been fluctuating after the company reported mixed quarterly results. While it beat subscriber estimates with 5.9 million paid net adds, its Q2 revenue of $8.19 billion missed expectations. However, some analysts remain optimistic about Netflix's future growth and expect it to rebound. The company is also rolling out paid sharing to more countries and has dropped its cheapest streaming plan without ads in the US and UK to push users towards its ad-supported service. Despite these developments, some caution that the stock may be overvalued.\"},\n",
       "   {'type': 'individual',\n",
       "    'start_date': None,\n",
       "    'end_date': None,\n",
       "    'ticker': 'VZ',\n",
       "    'count': 13,\n",
       "    'growth': '1.39%',\n",
       "    'text': \"Verizon Business and the VA Palo Alto Health Care System have partnered to deploy a full spectrum private 5G network, creating the first full spectrum 5G hospital. This network will enable unprecedented care for veterans and improve healthcare services. Verizon Communications will report second-quarter 2023 earnings on July 25. Verizon is also continuing to upgrade its network in various locations, including Kentucky, Cleveland, and Daytona. Despite a recent plunge in stock value, Verizon's high dividend yield and potential for capital appreciation make it an attractive investment.\"},\n",
       "   {'type': 'individual',\n",
       "    'start_date': None,\n",
       "    'end_date': None,\n",
       "    'ticker': 'CVNA',\n",
       "    'count': 21,\n",
       "    'growth': '-2.46%',\n",
       "    'text': \"Carvana, an online used car dealer, announced major updates that could have significant implications for investors. The company reported solid quarterly results, a favorable debt deal, and newly enabled access to equity capital, reducing liquidity risks. Despite a recent downgrade from RBC Capital due to concerns over margins and unit economics, other analysts have maintained positive outlooks for the stock. Carvana's stock soared nearly 50% after its second-quarter earnings report beat expectations. The company also announced a debt restructuring deal with bondholders, expected to improve liquidity.\"},\n",
       "   {'type': 'individual',\n",
       "    'start_date': None,\n",
       "    'end_date': None,\n",
       "    'ticker': 'DJIA',\n",
       "    'count': 8,\n",
       "    'growth': '-0.58%',\n",
       "    'text': 'The stock market rally is expected to continue as long as there is no sign of a recession, according to Steve Eisman of Neuberger Berman. However, experts caution that transportation stocks should not be overestimated as an indicator of the overall economy. US bank lending has fallen slightly, while housing starts and retail sales have also shown weakness. Overall, the US economy is in a precarious state with concerns of a possible recession by February.'},\n",
       "   {'type': 'individual',\n",
       "    'start_date': None,\n",
       "    'end_date': None,\n",
       "    'ticker': 'SPY',\n",
       "    'count': 7,\n",
       "    'growth': '0.44%',\n",
       "    'text': \"The news includes various headlines related to the stock market, cryptocurrency, technology, politics, and the world economy. Some notable points include Cathie Wood's flagship ETF exiting Alibaba and other stocks, Elon Musk's Tesla reportedly removing Bitcoin as a payment option, and a prediction by Tom Lee that the S&amp;P 500 could hit 5,000 in 5 months. Other headlines discuss investor sentiment improving, regulatory actions in the cryptocurrency sector, and political developments in the US and world politics.\"}]},\n",
       " {'content': [{'type': 'market_1 day',\n",
       "    'end_date': '07/10/2024 20:35 UTC',\n",
       "    'start_date': '07/09/2024 16:35 UTC',\n",
       "    'ticker': 'multiple_tickers',\n",
       "    'count': 84,\n",
       "    'model': 'GPT3.5 model',\n",
       "    'text': '***************************************************************<br /><strong>[</strong><strong style=\"color: rgb(120, 110, 11);\">GPT3.5 model 1 day summary</strong><strong>] MARKET NEWS SUMMARY (\\'multiple_tickers\\', 84) -- i.e. 84 news summary for the last 24 hours before 07/10/2024 20:35 UTC time:</strong><br />***************************************************************<br /><br />Market expectations:<br />- Vanguard ETFs such as VIG and VYM are seen as providing stability in volatile markets, likely indicating a cautious sentiment among investors.<br />- The rise in Chinese stocks following government stimulus measures might have shaped expectations of potential entry points for investors, but technical indicators signaling overbought conditions suggest a more cautious outlook.<br />- The class action lawsuit against AMMO, Inc. (POWW) might have dampened market sentiment toward the company, impacting expectations for its future performance.<br /><br />Big trends:<br />- The global fertilizers market, commercial lawn mower market, and network attached storage market are projected to grow significantly, indicating a growing demand for these products and services.<br />- The U.S. multiomics market and the global in-vitro diagnostics market are expected to grow, reflecting a trend in the increasing prevalence of chronic and infectious diseases, as well as technological advancements in the healthcare industry.<br />- The growing interest in artificial intelligence (AI) is evident from the expected significant growth in the AI in diagnostics market and the European Generative AI market.<br />- The electric boats market is anticipated to grow rapidly as a result of increasing environmental regulations and technological advancements.<br /><br />Sentiment:<br />- There are varying sentiments towards specific stocks and industries, with some, like Rent the Runway, Rivian, and Exelixis, receiving analyst price targets suggesting significant upside, and others, like Trump Media and AMMO, Inc., facing class action lawsuits leading to increased investor caution.<br />- Concerns about inflationary pressure and potential impacts of Hurricane Milton on insurance stocks suggest a more cautious sentiment towards these sectors.<br />- Analysts are bullish on high-yield dividend stocks such as Chevron, Kraft Heinz, and Truist Financial amid dropping interest rates, indicating a positive sentiment toward these companies.'}]})"
      ]
     },
     "execution_count": 63,
     "metadata": {},
     "output_type": "execute_result"
    }
   ],
   "source": [
    "ind_news_json, market_news_json"
   ]
  },
  {
   "cell_type": "code",
   "execution_count": 64,
   "id": "215522d3-fbf0-4487-b506-00b3d627db29",
   "metadata": {},
   "outputs": [],
   "source": [
    "dict_a = {'content':[\n",
    "    {'type': 'individual',\n",
    "   'start_date': None,\n",
    "   'end_date': None,\n",
    "   'ticker': 'SPY',\n",
    "   'count': 7,\n",
    "   'growth': '0.44%',\n",
    "   'text': 'texta'}\n",
    "]}\n",
    "dict_b = {'content':[\n",
    "    {'type': 'market_1 day',\n",
    "    'end_date': '07/10/2024 20:35 UTC',\n",
    "    'start_date': '07/09/2024 16:35 UTC',\n",
    "    'ticker': 'multiple_tickers',\n",
    "    'count': 84,\n",
    "    'model': 'GPT3.5 model',\n",
    "    'text': 'textb'}\n",
    "]}"
   ]
  },
  {
   "cell_type": "code",
   "execution_count": 65,
   "id": "4a4225c1-ec00-4844-afd0-03de34e80376",
   "metadata": {},
   "outputs": [],
   "source": [
    "combined_content = dict_a['content'] + dict_b['content']"
   ]
  },
  {
   "cell_type": "code",
   "execution_count": 66,
   "id": "b3f57107-7904-4fd8-943f-b87343013ef7",
   "metadata": {},
   "outputs": [],
   "source": [
    "combined_dict = {'content': combined_content}"
   ]
  },
  {
   "cell_type": "code",
   "execution_count": 67,
   "id": "61539a8c-1974-4b93-876c-c0af55264199",
   "metadata": {},
   "outputs": [
    {
     "data": {
      "text/plain": [
       "{'content': [{'type': 'individual',\n",
       "   'start_date': None,\n",
       "   'end_date': None,\n",
       "   'ticker': 'SPY',\n",
       "   'count': 7,\n",
       "   'growth': '0.44%',\n",
       "   'text': 'texta'},\n",
       "  {'type': 'market_1 day',\n",
       "   'end_date': '07/10/2024 20:35 UTC',\n",
       "   'start_date': '07/09/2024 16:35 UTC',\n",
       "   'ticker': 'multiple_tickers',\n",
       "   'count': 84,\n",
       "   'model': 'GPT3.5 model',\n",
       "   'text': 'textb'}]}"
      ]
     },
     "execution_count": 67,
     "metadata": {},
     "output_type": "execute_result"
    }
   ],
   "source": [
    "combined_dict"
   ]
  },
  {
   "cell_type": "code",
   "execution_count": 69,
   "id": "af29da14-8f2c-407f-bb6d-a7deeaac8a79",
   "metadata": {},
   "outputs": [
    {
     "data": {
      "text/plain": [
       "{'content': [{'type': 'individual',\n",
       "   'start_date': None,\n",
       "   'end_date': None,\n",
       "   'ticker': 'AMZN',\n",
       "   'count': 11,\n",
       "   'growth': '-0.94%',\n",
       "   'text': 'Amazon is planning to provide high-speed internet worldwide through its Project Kuiper. This initiative may have a positive impact on the company\\'s stock. Users on Zacks.com have been closely following Amazon, indicating strong interest in the stock. Amazon Prime Video and Freevee will have new content available in August 2023, including \"The Lost Flowers of Alice Hart\" and \"Cocaine Bear.\" A Truist analyst predicts robust revenue for Amazon, driven by strong e-commerce demand and cost optimization. However, Amazon is facing challenges regarding warehouse safety as hearings on OSHA violations begin.'},\n",
       "  {'type': 'individual',\n",
       "   'start_date': None,\n",
       "   'end_date': None,\n",
       "   'ticker': 'NFLX',\n",
       "   'count': 19,\n",
       "   'growth': '-0.23%',\n",
       "   'text': \"Netflix's stock has been fluctuating after the company reported mixed quarterly results. While it beat subscriber estimates with 5.9 million paid net adds, its Q2 revenue of $8.19 billion missed expectations. However, some analysts remain optimistic about Netflix's future growth and expect it to rebound. The company is also rolling out paid sharing to more countries and has dropped its cheapest streaming plan without ads in the US and UK to push users towards its ad-supported service. Despite these developments, some caution that the stock may be overvalued.\"},\n",
       "  {'type': 'individual',\n",
       "   'start_date': None,\n",
       "   'end_date': None,\n",
       "   'ticker': 'VZ',\n",
       "   'count': 13,\n",
       "   'growth': '1.39%',\n",
       "   'text': \"Verizon Business and the VA Palo Alto Health Care System have partnered to deploy a full spectrum private 5G network, creating the first full spectrum 5G hospital. This network will enable unprecedented care for veterans and improve healthcare services. Verizon Communications will report second-quarter 2023 earnings on July 25. Verizon is also continuing to upgrade its network in various locations, including Kentucky, Cleveland, and Daytona. Despite a recent plunge in stock value, Verizon's high dividend yield and potential for capital appreciation make it an attractive investment.\"},\n",
       "  {'type': 'individual',\n",
       "   'start_date': None,\n",
       "   'end_date': None,\n",
       "   'ticker': 'CVNA',\n",
       "   'count': 21,\n",
       "   'growth': '-2.46%',\n",
       "   'text': \"Carvana, an online used car dealer, announced major updates that could have significant implications for investors. The company reported solid quarterly results, a favorable debt deal, and newly enabled access to equity capital, reducing liquidity risks. Despite a recent downgrade from RBC Capital due to concerns over margins and unit economics, other analysts have maintained positive outlooks for the stock. Carvana's stock soared nearly 50% after its second-quarter earnings report beat expectations. The company also announced a debt restructuring deal with bondholders, expected to improve liquidity.\"},\n",
       "  {'type': 'individual',\n",
       "   'start_date': None,\n",
       "   'end_date': None,\n",
       "   'ticker': 'DJIA',\n",
       "   'count': 8,\n",
       "   'growth': '-0.58%',\n",
       "   'text': 'The stock market rally is expected to continue as long as there is no sign of a recession, according to Steve Eisman of Neuberger Berman. However, experts caution that transportation stocks should not be overestimated as an indicator of the overall economy. US bank lending has fallen slightly, while housing starts and retail sales have also shown weakness. Overall, the US economy is in a precarious state with concerns of a possible recession by February.'},\n",
       "  {'type': 'individual',\n",
       "   'start_date': None,\n",
       "   'end_date': None,\n",
       "   'ticker': 'SPY',\n",
       "   'count': 7,\n",
       "   'growth': '0.44%',\n",
       "   'text': \"The news includes various headlines related to the stock market, cryptocurrency, technology, politics, and the world economy. Some notable points include Cathie Wood's flagship ETF exiting Alibaba and other stocks, Elon Musk's Tesla reportedly removing Bitcoin as a payment option, and a prediction by Tom Lee that the S&amp;P 500 could hit 5,000 in 5 months. Other headlines discuss investor sentiment improving, regulatory actions in the cryptocurrency sector, and political developments in the US and world politics.\"},\n",
       "  {'type': 'market_1 day',\n",
       "   'end_date': '07/10/2024 20:35 UTC',\n",
       "   'start_date': '07/09/2024 16:35 UTC',\n",
       "   'ticker': 'multiple_tickers',\n",
       "   'count': 84,\n",
       "   'model': 'GPT3.5 model',\n",
       "   'text': '***************************************************************<br /><strong>[</strong><strong style=\"color: rgb(120, 110, 11);\">GPT3.5 model 1 day summary</strong><strong>] MARKET NEWS SUMMARY (\\'multiple_tickers\\', 84) -- i.e. 84 news summary for the last 24 hours before 07/10/2024 20:35 UTC time:</strong><br />***************************************************************<br /><br />Market expectations:<br />- Vanguard ETFs such as VIG and VYM are seen as providing stability in volatile markets, likely indicating a cautious sentiment among investors.<br />- The rise in Chinese stocks following government stimulus measures might have shaped expectations of potential entry points for investors, but technical indicators signaling overbought conditions suggest a more cautious outlook.<br />- The class action lawsuit against AMMO, Inc. (POWW) might have dampened market sentiment toward the company, impacting expectations for its future performance.<br /><br />Big trends:<br />- The global fertilizers market, commercial lawn mower market, and network attached storage market are projected to grow significantly, indicating a growing demand for these products and services.<br />- The U.S. multiomics market and the global in-vitro diagnostics market are expected to grow, reflecting a trend in the increasing prevalence of chronic and infectious diseases, as well as technological advancements in the healthcare industry.<br />- The growing interest in artificial intelligence (AI) is evident from the expected significant growth in the AI in diagnostics market and the European Generative AI market.<br />- The electric boats market is anticipated to grow rapidly as a result of increasing environmental regulations and technological advancements.<br /><br />Sentiment:<br />- There are varying sentiments towards specific stocks and industries, with some, like Rent the Runway, Rivian, and Exelixis, receiving analyst price targets suggesting significant upside, and others, like Trump Media and AMMO, Inc., facing class action lawsuits leading to increased investor caution.<br />- Concerns about inflationary pressure and potential impacts of Hurricane Milton on insurance stocks suggest a more cautious sentiment towards these sectors.<br />- Analysts are bullish on high-yield dividend stocks such as Chevron, Kraft Heinz, and Truist Financial amid dropping interest rates, indicating a positive sentiment toward these companies.'}]}"
      ]
     },
     "execution_count": 69,
     "metadata": {},
     "output_type": "execute_result"
    }
   ],
   "source": [
    "combined_content = {'content':ind_news_json['content'] + market_news_json['content']}\n",
    "combined_content"
   ]
  },
  {
   "cell_type": "code",
   "execution_count": 70,
   "id": "a5a880ca-3539-4ca3-9668-ddbe805a5c46",
   "metadata": {},
   "outputs": [
    {
     "data": {
      "text/plain": [
       "dict"
      ]
     },
     "execution_count": 70,
     "metadata": {},
     "output_type": "execute_result"
    }
   ],
   "source": [
    "type(combined_content)"
   ]
  },
  {
   "cell_type": "code",
   "execution_count": 71,
   "id": "d1bc3ea6-984e-4109-bf36-e9174d8e2fc3",
   "metadata": {},
   "outputs": [
    {
     "data": {
      "text/plain": [
       "dict"
      ]
     },
     "execution_count": 71,
     "metadata": {},
     "output_type": "execute_result"
    }
   ],
   "source": [
    "type(rss_feed)"
   ]
  },
  {
   "cell_type": "code",
   "execution_count": 73,
   "id": "1f85aa7b-07d5-4c96-9a85-ff671cdfa4ef",
   "metadata": {
    "scrolled": true
   },
   "outputs": [],
   "source": [
    "new_rss_feed = rss_feed.copy()"
   ]
  },
  {
   "cell_type": "code",
   "execution_count": 77,
   "id": "bda7a98e-7da3-48e7-b0f6-8038972203fb",
   "metadata": {},
   "outputs": [
    {
     "data": {
      "text/plain": [
       "'<header><h1>Week 17-24 July 2023</h1></header><figure><img src=\"https://static.tildacdn.com/tild6131-3163-4135-a565-356661323733/the-broad-industry-o.svg\"/></figure><div class=\"t-redactor__embedcode\"><script async src=\"https://pagead2.googlesyndication.com/pagead/js/adsbygoogle.js?client=ca-pub-5845276189467216\"\\n     crossorigin=\"anonymous\"></script></div><div class=\"t-redactor__text\"><strong>DISCLAIMER</strong><br />The content provided below was generated by AI (OpenAI\\'s ChatGPT) using titles and descriptions from a selection of 5000 published financial news articles. The information presented should be used for informational purposes only and does not constitute financial advice or investment recommendations. We advise readers to conduct their own research and consult with a qualified financial advisor before making any investment decisions. The AI-generated content may not reflect the most current market conditions or developments and should be considered as a general summary of the selected news articles.<br /><br />***************************************************************<br /><strong>INDIVIDUAL NEWS SUMMARY</strong><br /><strong>Start date for the articles: 2023-07-17; End date for the articles: \\' \\'2023-07-24 \\'</strong><br />***************************************************************<br /><strong><em>TL;DR :</em></strong><em> Tesla (TSLA) had a mixed week, with billionaire investor Chamath Palihapitiya believing the company is on the verge of a major breakthrough, while investor David Trainer argues that Tesla is overvalued. Tesla\\'s second-quarter earnings report showed a rise in sales but highlighted concerns about profitability, causing a drop in the stock price. Microsoft (MSFT) partnered with Birlasoft to establish a Generative AI Centre of Excellence, with Morgan Stanley maintaining an Overweight rating on Microsoft. Warren Buffett\\'s investment in Apple (AAPL) has resulted in Berkshire Hathaway\\'s stake in the company ballooning to nearly $180 billion, but concerns remain around weak demand and a potential delay in the next iPhone launch. Amazon (AMZN) is planning to provide high-speed internet worldwide through Project Kuiper, and its stock may be positively impacted. Netflix (NFLX) reported mixed quarterly results, with a beat in subscriber estimates but missed revenue expectations. Verizon (VZ) partnered with the VA Palo Alto Health Care System to create the first full spectrum 5G hospital. Carvana (CVNA) announced positive quarterly results, a favorable debt deal, and a debt restructuring deal with bondholders, resulting in a stock surge. The overall stock market rally is expected to continue as long as there is no sign of a recession, but there are concerns about the US economy\\'s state and a possible recession by February. Various headlines also covered topics such as cryptocurrency, technology, politics, and the world economy.</em><br /><br /><strong><em>NEWS SUMMARY for (\\'TSLA\\', 42), which changed on 2.43% last trading day: </em></strong><br />Billionaire investor Chamath Palihapitiya believes that Tesla is experiencing its \"iPhone moment\" and is on the verge of a major breakthrough. Meanwhile, investor David Trainer argues that Tesla is overvalued by over 1,000% due to its \"disconnected\" fundamentals. Tesla\\'s second-quarter earnings report showed a rise in sales but also highlighted concerns about profitability and margins. Tesla\\'s stock price dropped around 9% in response to the report. Despite mixed opinions, some analysts remain bullish on Tesla\\'s future growth potential.<br /><br /><br /><strong><em>NEWS SUMMARY for (\\'MSFT\\', 11), which changed on 0.06% last trading day:</em></strong> <br />Indian company Birlasoft has partnered with Microsoft to establish a Generative AI Centre of Excellence. The aim is to accelerate value creation and foster innovation in the adoption of Generative AI, providing enterprise solutions across industries. The center will bring together Birlasoft\\'s industry expertise and Microsoft Azure OpenAI Service to facilitate research, training, and collaboration. Morgan Stanley analyst Keith Weiss maintains an Overweight rating on Microsoft and believes the company has strong potential in the Generative AI space. <br /><br /><strong><em>NEWS SUMMARY for (\\'AAPL\\', 11), which changed on 0.51% last trading day:</em> </strong><br />Warren Buffett\\'s investment in Apple has resulted in Berkshire Hathaway\\'s stake in the company ballooning to nearly $180 billion, with the stock price surging nearly 50%. The rise in Apple\\'s stock price is partly attributed to excitement around artificial intelligence. However, there are concerns of weak demand and a potential delay in the launch of the next iPhone, which could result in lower iPhone sales. Despite this, Morgan Stanley is bullish on India\\'s growth potential for Apple and expects strong revenue and user growth in the country. <br /><br /><strong><em>NEWS SUMMARY for (\\'AMZN\\', 11), which changed on -0.94% last trading day: </em></strong><br />Amazon is planning to provide high-speed internet worldwide through its Project Kuiper. This initiative may have a positive impact on the company\\'s stock. Users on Zacks.com have been closely following Amazon, indicating strong interest in the stock. Amazon Prime Video and Freevee will have new content available in August 2023, including \"The Lost Flowers of Alice Hart\" and \"Cocaine Bear.\" A Truist analyst predicts robust revenue for Amazon, driven by strong e-commerce demand and cost optimization. However, Amazon is facing challenges regarding warehouse safety as hearings on OSHA violations begin. <br /><br /><strong><em>NEWS SUMMARY for (\\'NFLX\\', 19), which changed on -0.23% last trading day: </em></strong><br />Netflix\\'s stock has been fluctuating after the company reported mixed quarterly results. While it beat subscriber estimates with 5.9 million paid net adds, its Q2 revenue of $8.19 billion missed expectations. However, some analysts remain optimistic about Netflix\\'s future growth and expect it to rebound. The company is also rolling out paid sharing to more countries and has dropped its cheapest streaming plan without ads in the US and UK to push users towards its ad-supported service. Despite these developments, some caution that the stock may be overvalued. <br /><br /><strong><em>NEWS SUMMARY for (\\'VZ\\', 13), which changed on 1.39% last trading day: </em></strong><br />Verizon Business and the VA Palo Alto Health Care System have partnered to deploy a full spectrum private 5G network, creating the first full spectrum 5G hospital. This network will enable unprecedented care for veterans and improve healthcare services. Verizon Communications will report second-quarter 2023 earnings on July 25. Verizon is also continuing to upgrade its network in various locations, including Kentucky, Cleveland, and Daytona. Despite a recent plunge in stock value, Verizon\\'s high dividend yield and potential for capital appreciation make it an attractive investment. <br /><br /><strong><em>NEWS SUMMARY for (\\'CVNA\\', 21), which changed on -2.46% last trading day: </em></strong><br />Carvana, an online used car dealer, announced major updates that could have significant implications for investors. The company reported solid quarterly results, a favorable debt deal, and newly enabled access to equity capital, reducing liquidity risks. Despite a recent downgrade from RBC Capital due to concerns over margins and unit economics, other analysts have maintained positive outlooks for the stock. Carvana\\'s stock soared nearly 50% after its second-quarter earnings report beat expectations. The company also announced a debt restructuring deal with bondholders, expected to improve liquidity. <br /><br /><strong><em>NEWS SUMMARY for (\\'DJIA\\', 8), which changed on -0.58% last trading day: </em></strong><br />The stock market rally is expected to continue as long as there is no sign of a recession, according to Steve Eisman of Neuberger Berman. However, experts caution that transportation stocks should not be overestimated as an indicator of the overall economy. US bank lending has fallen slightly, while housing starts and retail sales have also shown weakness. Overall, the US economy is in a precarious state with concerns of a possible recession by February. <br /><br /><strong><em>NEWS SUMMARY for (\\'SPY\\', 7), which changed on 0.44% last trading day: </em></strong><br />The news includes various headlines related to the stock market, cryptocurrency, technology, politics, and the world economy. Some notable points include Cathie Wood\\'s flagship ETF exiting Alibaba and other stocks, Elon Musk\\'s Tesla reportedly removing Bitcoin as a payment option, and a prediction by Tom Lee that the S&amp;P 500 could hit 5,000 in 5 months. Other headlines discuss investor sentiment improving, regulatory actions in the cryptocurrency sector, and political developments in the US and world politics.<br /><br /></div><div class=\"t-redactor__text\">***************************************************************<br /><strong>MARKET NEWS SUMMARY (\\'multiple_tickers\\', 261)</strong><br /><strong> for the last 24 hours from 24/07/2023 17:12 UTC time:</strong> ***************************************************************<br />- JPMorgan\\'s strong earnings report is expected to set a positive tone for the upcoming earnings season. <br />- Steelmaker Posco\\'s stock surged 17% after announcing plans to enter the battery industry. <br />- Several stocks priced under $100 are considered good buys in the current market. <br />- Analysts are expecting artificial intelligence (AI) to be a strong industry during the semiconductor earnings season. <br />- Nuclear power is gaining bullish sentiment as a tool to fight climate change. <br />- Movie theater stocks had a strong weekend with box office returns. <br />- Analysts believe Moderna\\'s stock is fairly valued considering its COVID-19 vaccine success and expansion into other therapies. <br />- Amazon and Walmart are both strong contenders for investment as two of the largest retailers in the world. <br />- The stock market is closing in on record territory, which could impact the Federal Reserve\\'s decision to end rate hikes. <br />- Thrift store operator Savers Value Village received positive ratings from analysts after its IPO. <br />- Major companies such as Tesla, AMD, and Microsoft have made significant AI updates. <br />- Apple has big plans for artificial intelligence and won\\'t be left behind in the industry. <br />- Colgate\\'s second-quarter sales are expected to benefit from strong demand and a focus on premiumization, but rising costs may impact margins. <br />- PulteGroup\\'s home sales are expected to grow sequentially in the second quarter, but rising rates pose risks. <br />- Nikola and Workhorse are both working to increase deliveries of electric vehicles. <br />- AstraZeneca\\'s higher sales of key medicines are expected to have driven sales in the second quarter. - OpenAI\\'s ChatGPT hasn\\'t posed a threat to Alphabet or search advertising as previously feared. <br />- Snap is offering immersive augmented reality features to celebrate the Women\\'s World Cup. <br />- Columbia Sportswear is focusing on the growth of its direct-to-consumer business. <br />- The audition process for actors is up for discussion as the actors\\' strike continues. <br />- American Water Works\\' Missouri arm has acquired Wood Heights\\' water and wastewater systems. <br />- Horizon\\'s daxdilimab fails to meet the primary endpoint in a lupus study. <br />- Several tech giants, including Microsoft, Alphabet, and Meta, are set to release earnings reports. <br />- AMC Entertainment has been handed a setback by a Delaware court as it looks to raise capital. <br />- Clorox and Coca-Cola are both strong dividend stocks to consider. <br />- Fiserv\\'s second-quarter earnings are expected to increase year over year. <br />- Three tech titans, Microsoft, Alphabet, and Meta, are set to report earnings. <br />- Warner Bros. Discovery\\'s premiere performance of Barbie Dreamhouse Challenge is off to a strong start. <br />- Factors will likely decide Newell\\'s fate in the second quarter earnings report. <br />- Pentair\\'s performance in the second quarter is expected to be affected by inflated costs and supply chain issues. - Robert Half\\'s second-quarter earnings and revenues are expected to decline sequentially. <br />- VeriSign\\'s second-quarter performance is expected to benefit from continued growth in domain name registrations. - The court ruling on AMC\\'s preferred equity shares could take the company back to the drawing board. <br />- Cloros Mortgage Trust has been upgraded from underweight to neutral by JP Morgan. <br />- Galmed Pharmaceuticals has been upgraded from hold to buy by Maxim Group. <br />- Wells Fargo has upgraded Nutrien from equal weight to overweight. <br />- Raymond James has upgraded D.R. Horton from market perform to outperform. <br />- Stifel has upgraded Lam Research from hold to buy. <br />- BTIG has upgraded AppLovin Corp from neutral to buy. <br />- JP Morgan has upgraded Claros Mortgage Trust from underweight to neutral. <br />- Baird has upgraded Netflix from neutral to outperform. <br />- According to MoffettNathanson, Shopify has been upgraded from market perform to outperform. <br />- Goldman Sachs has upgraded Amylyx Pharmaceuticals from neutral to buy. <br />- RBC Capital has downgraded ZoomInfo Technologies from outperform to sector perform. <br />- JP Morgan has downgraded Arbor Realty from overweight to neutral. <br />- Credit Suisse has downgraded CommScope Holding from outperform to neutral.</div><div class=\"t-redactor__text\">***************************************************************<br /><strong>MARKET NEWS SUMMARY (\\'multiple_tickers\\', 2108) </strong><br /><strong>for the period 2023-07-17 to 2023-07-24 </strong>***************************************************************<br />- BankUnited, Inc. (BKU) is expected to beat earnings estimates in its upcoming report. <br />- First Busey (BUSE) is expected to report earnings growth in its upcoming report. <br />- Atlantic Union (AUB) is not expected to beat earnings estimates in its upcoming report. <br />- Lockheed (LMT) reported better-than-expected Q2 earnings and increased its sales outlook for 2023. <br />- Cathie Wood of Ark Invest has added three stocks to her portfolio: Twilio (TWLO), SoFi (SOFI), and Meta Platforms (META). <br />- ONON, ING, and ITRI are among the best momentum stocks to buy on July 18. <br />- Schlumberger\\'s (SLB) earnings in Q2 may be impacted by declining income before taxes in its Digital and Integration division. <br />- Schrödinger and Recursion Pharmaceuticals are two AI biotech stocks that could benefit from the AI revolution. <br />- Applied Digital (APLD) is expected to show top-line growth in its Q4 earnings report. <br />- BridgeBio (BBIO) shares surged after positive data from a late-stage study for its heart drug. <br />- Bank of America Corp (BAC) reported better-than-expected Q2 results, with net income growth of 19%. <br />- The Singing Machine Company (MICS) shares shot up 40% after launching a new product line at Walmart. <br />- Camtek Ltd. (CAMT) received an upgrade from Neutral to Buy by B of A Securities. <br />- Retail sales in June grew less than expected, with a 0.2% increase compared to a forecasted 0.5% rise. <br />- The Nasdaq-100 index has become too concentrated, with the top 7 stocks accounting for 56% of the index. <br />- Manufacturing activity expanded for the second straight month in July, but the outlook for the next 6 months deteriorated. <br />- Goldman Sachs has reduced its odds of a US recession within the next 12 months to 20%. <br />- The White House has imposed restrictions on the sale of chips and related US tech to China, leading to industry warnings. <br />- Moody\\'s is expected to beat earnings estimates in Q2. <br />- Home-builder sentiment rose for the seventh straight month in July. <br />- Vistra is recommended as a good investment due to growth prospects and strong returns. <br />- Ligand is offering cash to acquire all assets of Novan Inc. <br />- Thermo Fisher\\'s Q2 results are expected to show growth. <br />- Jacobs has won an NNL contract for nuclear research. <br />- Earnings reports for Morgan Stanley, Capital City Bank, Chubb, and 3M are expected.</div>'"
      ]
     },
     "execution_count": 77,
     "metadata": {},
     "output_type": "execute_result"
    }
   ],
   "source": [
    "new_rss_feed['items'][0]['content'] #0 should be replaced with i for looping through all the data in the items key\n",
    "# the above would be the input to the llm"
   ]
  },
  {
   "cell_type": "code",
   "execution_count": 78,
   "id": "b0e8a0b3-2b6b-4a71-88b1-79b2e7ee74bd",
   "metadata": {},
   "outputs": [
    {
     "data": {
      "text/plain": [
       "{'meta': {'title': 'FinNews',\n",
       "  'link': 'https://pythoninvest.com',\n",
       "  'description': 'Weekly News Digest with the help of ChatGPT',\n",
       "  'language': 'en'},\n",
       " 'items': [{'title': 'Week 17-24 July 2023',\n",
       "   'link': 'https://pythoninvest.com/tpost/yk09rupzv1-week-17-24-july-2023',\n",
       "   'pubDate': 'Mon, 24 Jul 2023 20:00:00 +0300',\n",
       "   'author': 'Ivan Brigida',\n",
       "   'category': 'FinNews',\n",
       "   'description': 'Market summary for the week 17-24 July',\n",
       "   'content': [{'type': 'individual',\n",
       "     'start_date': None,\n",
       "     'end_date': None,\n",
       "     'ticker': 'AMZN',\n",
       "     'count': 11,\n",
       "     'growth': '-0.94%',\n",
       "     'text': 'Amazon is planning to provide high-speed internet worldwide through its Project Kuiper. This initiative may have a positive impact on the company\\'s stock. Users on Zacks.com have been closely following Amazon, indicating strong interest in the stock. Amazon Prime Video and Freevee will have new content available in August 2023, including \"The Lost Flowers of Alice Hart\" and \"Cocaine Bear.\" A Truist analyst predicts robust revenue for Amazon, driven by strong e-commerce demand and cost optimization. However, Amazon is facing challenges regarding warehouse safety as hearings on OSHA violations begin.'},\n",
       "    {'type': 'individual',\n",
       "     'start_date': None,\n",
       "     'end_date': None,\n",
       "     'ticker': 'NFLX',\n",
       "     'count': 19,\n",
       "     'growth': '-0.23%',\n",
       "     'text': \"Netflix's stock has been fluctuating after the company reported mixed quarterly results. While it beat subscriber estimates with 5.9 million paid net adds, its Q2 revenue of $8.19 billion missed expectations. However, some analysts remain optimistic about Netflix's future growth and expect it to rebound. The company is also rolling out paid sharing to more countries and has dropped its cheapest streaming plan without ads in the US and UK to push users towards its ad-supported service. Despite these developments, some caution that the stock may be overvalued.\"},\n",
       "    {'type': 'individual',\n",
       "     'start_date': None,\n",
       "     'end_date': None,\n",
       "     'ticker': 'VZ',\n",
       "     'count': 13,\n",
       "     'growth': '1.39%',\n",
       "     'text': \"Verizon Business and the VA Palo Alto Health Care System have partnered to deploy a full spectrum private 5G network, creating the first full spectrum 5G hospital. This network will enable unprecedented care for veterans and improve healthcare services. Verizon Communications will report second-quarter 2023 earnings on July 25. Verizon is also continuing to upgrade its network in various locations, including Kentucky, Cleveland, and Daytona. Despite a recent plunge in stock value, Verizon's high dividend yield and potential for capital appreciation make it an attractive investment.\"},\n",
       "    {'type': 'individual',\n",
       "     'start_date': None,\n",
       "     'end_date': None,\n",
       "     'ticker': 'CVNA',\n",
       "     'count': 21,\n",
       "     'growth': '-2.46%',\n",
       "     'text': \"Carvana, an online used car dealer, announced major updates that could have significant implications for investors. The company reported solid quarterly results, a favorable debt deal, and newly enabled access to equity capital, reducing liquidity risks. Despite a recent downgrade from RBC Capital due to concerns over margins and unit economics, other analysts have maintained positive outlooks for the stock. Carvana's stock soared nearly 50% after its second-quarter earnings report beat expectations. The company also announced a debt restructuring deal with bondholders, expected to improve liquidity.\"},\n",
       "    {'type': 'individual',\n",
       "     'start_date': None,\n",
       "     'end_date': None,\n",
       "     'ticker': 'DJIA',\n",
       "     'count': 8,\n",
       "     'growth': '-0.58%',\n",
       "     'text': 'The stock market rally is expected to continue as long as there is no sign of a recession, according to Steve Eisman of Neuberger Berman. However, experts caution that transportation stocks should not be overestimated as an indicator of the overall economy. US bank lending has fallen slightly, while housing starts and retail sales have also shown weakness. Overall, the US economy is in a precarious state with concerns of a possible recession by February.'},\n",
       "    {'type': 'individual',\n",
       "     'start_date': None,\n",
       "     'end_date': None,\n",
       "     'ticker': 'SPY',\n",
       "     'count': 7,\n",
       "     'growth': '0.44%',\n",
       "     'text': \"The news includes various headlines related to the stock market, cryptocurrency, technology, politics, and the world economy. Some notable points include Cathie Wood's flagship ETF exiting Alibaba and other stocks, Elon Musk's Tesla reportedly removing Bitcoin as a payment option, and a prediction by Tom Lee that the S&amp;P 500 could hit 5,000 in 5 months. Other headlines discuss investor sentiment improving, regulatory actions in the cryptocurrency sector, and political developments in the US and world politics.\"},\n",
       "    {'type': 'market_1 day',\n",
       "     'end_date': '07/10/2024 20:35 UTC',\n",
       "     'start_date': '07/09/2024 16:35 UTC',\n",
       "     'ticker': 'multiple_tickers',\n",
       "     'count': 84,\n",
       "     'model': 'GPT3.5 model',\n",
       "     'text': '***************************************************************<br /><strong>[</strong><strong style=\"color: rgb(120, 110, 11);\">GPT3.5 model 1 day summary</strong><strong>] MARKET NEWS SUMMARY (\\'multiple_tickers\\', 84) -- i.e. 84 news summary for the last 24 hours before 07/10/2024 20:35 UTC time:</strong><br />***************************************************************<br /><br />Market expectations:<br />- Vanguard ETFs such as VIG and VYM are seen as providing stability in volatile markets, likely indicating a cautious sentiment among investors.<br />- The rise in Chinese stocks following government stimulus measures might have shaped expectations of potential entry points for investors, but technical indicators signaling overbought conditions suggest a more cautious outlook.<br />- The class action lawsuit against AMMO, Inc. (POWW) might have dampened market sentiment toward the company, impacting expectations for its future performance.<br /><br />Big trends:<br />- The global fertilizers market, commercial lawn mower market, and network attached storage market are projected to grow significantly, indicating a growing demand for these products and services.<br />- The U.S. multiomics market and the global in-vitro diagnostics market are expected to grow, reflecting a trend in the increasing prevalence of chronic and infectious diseases, as well as technological advancements in the healthcare industry.<br />- The growing interest in artificial intelligence (AI) is evident from the expected significant growth in the AI in diagnostics market and the European Generative AI market.<br />- The electric boats market is anticipated to grow rapidly as a result of increasing environmental regulations and technological advancements.<br /><br />Sentiment:<br />- There are varying sentiments towards specific stocks and industries, with some, like Rent the Runway, Rivian, and Exelixis, receiving analyst price targets suggesting significant upside, and others, like Trump Media and AMMO, Inc., facing class action lawsuits leading to increased investor caution.<br />- Concerns about inflationary pressure and potential impacts of Hurricane Milton on insurance stocks suggest a more cautious sentiment towards these sectors.<br />- Analysts are bullish on high-yield dividend stocks such as Chevron, Kraft Heinz, and Truist Financial amid dropping interest rates, indicating a positive sentiment toward these companies.'}],\n",
       "   'enclosure': {'url': 'https://static.tildacdn.com/tild6131-3163-4135-a565-356661323733/the-broad-industry-o.svg',\n",
       "    'type': 'image/svg+xml'}}]}"
      ]
     },
     "execution_count": 78,
     "metadata": {},
     "output_type": "execute_result"
    }
   ],
   "source": [
    "new_rss_feed['items'][0]['content'] = combined_content['content']\n",
    "new_rss_feed"
   ]
  },
  {
   "cell_type": "code",
   "execution_count": null,
   "id": "ffb93c60-3d89-4364-90af-2338699bd322",
   "metadata": {},
   "outputs": [],
   "source": []
  },
  {
   "cell_type": "code",
   "execution_count": null,
   "id": "b99a3ba2-e69b-49a8-b2d3-ae5a42ce7e8d",
   "metadata": {},
   "outputs": [],
   "source": []
  },
  {
   "cell_type": "code",
   "execution_count": null,
   "id": "17a2794f-a3ea-4f70-8f69-1197fbc81797",
   "metadata": {},
   "outputs": [],
   "source": []
  },
  {
   "cell_type": "code",
   "execution_count": null,
   "id": "57b7d13d-b70d-499f-9a9b-c6b591d053eb",
   "metadata": {},
   "outputs": [],
   "source": []
  },
  {
   "cell_type": "code",
   "execution_count": null,
   "id": "398c4200-5027-4407-b07e-291bda5f7a74",
   "metadata": {},
   "outputs": [],
   "source": []
  },
  {
   "cell_type": "code",
   "execution_count": null,
   "id": "61428fde-c36b-423b-8a8e-45145304d80c",
   "metadata": {},
   "outputs": [],
   "source": []
  },
  {
   "cell_type": "code",
   "execution_count": null,
   "id": "037ae512-f2b0-48ec-be2d-8218a088753b",
   "metadata": {},
   "outputs": [],
   "source": []
  },
  {
   "cell_type": "code",
   "execution_count": null,
   "id": "53459405-3539-4602-b7bb-f1afb0064fb6",
   "metadata": {},
   "outputs": [],
   "source": []
  },
  {
   "cell_type": "code",
   "execution_count": null,
   "id": "fdfd2978-e6cf-47b6-b3e0-789afea56382",
   "metadata": {},
   "outputs": [],
   "source": []
  },
  {
   "cell_type": "code",
   "execution_count": null,
   "id": "202926a2-d488-47e0-b5ea-a11c872b4753",
   "metadata": {},
   "outputs": [],
   "source": []
  },
  {
   "cell_type": "markdown",
   "id": "9f62d5f8-0588-4a94-8f21-cdadc22aabc2",
   "metadata": {},
   "source": [
    "## Data Frame"
   ]
  },
  {
   "cell_type": "code",
   "execution_count": null,
   "id": "79490305-7209-471a-9c53-326abc6476a8",
   "metadata": {},
   "outputs": [],
   "source": []
  },
  {
   "cell_type": "code",
   "execution_count": null,
   "id": "e3b39e50-42db-40cd-bd2a-31e0a3f59d79",
   "metadata": {},
   "outputs": [],
   "source": []
  },
  {
   "cell_type": "code",
   "execution_count": null,
   "id": "d548f540-f0d5-4b56-8163-7ee922170775",
   "metadata": {},
   "outputs": [],
   "source": []
  },
  {
   "cell_type": "code",
   "execution_count": null,
   "id": "e1dde630-2447-45e7-96c7-2679f4ae6d07",
   "metadata": {},
   "outputs": [],
   "source": []
  },
  {
   "cell_type": "markdown",
   "id": "a92c9ce3-8d72-46c2-b1a0-f04407792f5f",
   "metadata": {},
   "source": [
    "# Modular methods"
   ]
  },
  {
   "cell_type": "code",
   "execution_count": 10,
   "id": "60293432-a881-4c79-9203-99d12d2e1999",
   "metadata": {},
   "outputs": [],
   "source": [
    "import feedparser\n",
    "import json\n",
    "import os\n",
    "import xml.etree.ElementTree as ET"
   ]
  },
  {
   "cell_type": "code",
   "execution_count": 17,
   "id": "aa1d1a73-2a09-4da5-9f0e-529c3d826b9a",
   "metadata": {},
   "outputs": [],
   "source": [
    "# If the RSS feed format would be same , then the input to the method would be an element of the python dict `feed`. \n",
    "# So input to this method would be an element which is of the type `dict`.\n",
    "def extract_turbo_content(entry_element):\n",
    "    \"\"\"\n",
    "    Extracts turbo:content from the raw XML\n",
    "    \"\"\"\n",
    "    try:\n",
    "        if entry_element:  \n",
    "            content = entry_element.get('turbo_content')  \n",
    "        return content if content else None\n",
    "\n",
    "    except (AttributeError, KeyError, TypeError) as e:\n",
    "        # AttributeError: If entry_element doesn't support dictionary operations\n",
    "        # KeyError: If 'turbo_content' doesn't exist\n",
    "        # TypeError: If entry_element is not of the expected type\n",
    "        print(f\"Error extracting turbo content: {str(e)}\")"
   ]
  },
  {
   "cell_type": "code",
   "execution_count": 19,
   "id": "1ad71294-e7c5-4600-a372-b701eaa8058f",
   "metadata": {},
   "outputs": [],
   "source": [
    "def parse_rss_to_json(feed_url, output_file_path):\n",
    "    # Parse the RSS feed\n",
    "    feed = feedparser.parse(feed_url)\n",
    "\n",
    "    # Structure the feed data into JSON format\n",
    "    rss_feed = {\n",
    "        \"meta\": {\n",
    "            \"title\": feed.feed.title,\n",
    "            \"link\": feed.feed.link,\n",
    "            \"description\": feed.feed.description,\n",
    "            \"language\": feed.feed.language\n",
    "        },\n",
    "        \"items\": []\n",
    "    }\n",
    "\n",
    "    # Loop through each item in the feed and add it to the JSON\n",
    "    for entry in feed.entries:\n",
    "        # Extract turbo content if available\n",
    "        turbo_content = extract_turbo_content(entry)\n",
    " \n",
    "        item = {\n",
    "            \"title\": entry.title,\n",
    "            \"link\": entry.link,\n",
    "            \"pubDate\": entry.published,\n",
    "            \"author\": entry.author if \"author\" in entry else None,\n",
    "            \"category\": entry.get(\"category\", None),\n",
    "            \"description\": entry.description,\n",
    "            \"content\": turbo_content,  # Here we add the content field from turbo:content\n",
    "            \"enclosure\": {\n",
    "                \"url\": entry.enclosures[0].href,\n",
    "                \"type\": entry.enclosures[0].type\n",
    "            } if entry.enclosures else None\n",
    "        }\n",
    "        rss_feed[\"items\"].append(item)\n",
    "\n",
    "    # Convert the structured feed data to JSON string\n",
    "    rss_feed_json = json.dumps(rss_feed, indent=4)\n",
    "\n",
    "    # Create the directory if it doesn't exist\n",
    "    os.makedirs(os.path.dirname(output_file_path), exist_ok=True)\n",
    "\n",
    "    # Save the JSON string to a file\n",
    "    with open(output_file_path, 'w') as json_file:\n",
    "        json_file.write(rss_feed_json)\n",
    "\n",
    "    print(f\"RSS feed data saved to {output_file_path}\")"
   ]
  },
  {
   "cell_type": "code",
   "execution_count": 20,
   "id": "b66370ac-51a7-4350-8ebc-bb0921591e97",
   "metadata": {
    "scrolled": true
   },
   "outputs": [
    {
     "name": "stdout",
     "output_type": "stream",
     "text": [
      "RSS feed data saved to ../data/input_news_feed.json\n"
     ]
    }
   ],
   "source": [
    "if __name__ == \"__main__\":\n",
    "    # RSS feed URL and output file path\n",
    "    feed_url = 'https://pythoninvest.com/rss-feed-612566707351.xml'  # Fin news RSS\n",
    "    output_file_path = '../data/input_news_feed.json' # folder relative to the current notebook\n",
    "    \n",
    "    # Parse and save the RSS feed to a JSON file\n",
    "    parse_rss_to_json(feed_url, output_file_path)"
   ]
  },
  {
   "cell_type": "code",
   "execution_count": null,
   "id": "0ef51c81-30cf-4acc-8add-08c803dc4cf1",
   "metadata": {},
   "outputs": [],
   "source": []
  },
  {
   "cell_type": "markdown",
   "id": "963f6c09-d486-4789-83bc-0e1412bddfa3",
   "metadata": {},
   "source": [
    "# Improvments"
   ]
  },
  {
   "cell_type": "markdown",
   "id": "4f01379b-0027-4a77-88ef-cd66833dc9d8",
   "metadata": {},
   "source": [
    "1. Trying to make the HTML content produced in the upstream more uniform in nature. This will help the extracting the values more easier.\n",
    "2. "
   ]
  }
 ],
 "metadata": {
  "kernelspec": {
   "display_name": "long-term-news-llm-rag",
   "language": "python",
   "name": "long-term-news-llm-rag"
  },
  "language_info": {
   "codemirror_mode": {
    "name": "ipython",
    "version": 3
   },
   "file_extension": ".py",
   "mimetype": "text/x-python",
   "name": "python",
   "nbconvert_exporter": "python",
   "pygments_lexer": "ipython3",
   "version": "3.12.3"
  }
 },
 "nbformat": 4,
 "nbformat_minor": 5
}
