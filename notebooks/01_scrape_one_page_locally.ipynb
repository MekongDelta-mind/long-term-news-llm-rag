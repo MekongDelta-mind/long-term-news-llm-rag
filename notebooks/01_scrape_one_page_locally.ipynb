{
 "cells": [
  {
   "cell_type": "code",
   "execution_count": 2,
   "metadata": {},
   "outputs": [],
   "source": [
    "%load_ext autoreload\n",
    "%autoreload 2"
   ]
  },
  {
   "cell_type": "code",
   "execution_count": 3,
   "metadata": {},
   "outputs": [],
   "source": [
    "\n",
    "from openai import OpenAI\n",
    "import feedparser\n",
    "import time\n",
    "import json"
   ]
  },
  {
   "cell_type": "code",
   "execution_count": 4,
   "metadata": {},
   "outputs": [],
   "source": [
    "feed_url = 'https://pythoninvest.com/rss-feed-612566707351.xml'\n",
    "output_file_path = 'data/input_news_feed.json'\n",
    "\n",
    "feed = feedparser.parse(feed_url)"
   ]
  },
  {
   "cell_type": "code",
   "execution_count": 5,
   "metadata": {},
   "outputs": [
    {
     "data": {
      "text/plain": [
       "feedparser.util.FeedParserDict"
      ]
     },
     "execution_count": 5,
     "metadata": {},
     "output_type": "execute_result"
    }
   ],
   "source": [
    "type(feed) # feed a dictionary\n"
   ]
  },
  {
   "cell_type": "code",
   "execution_count": 6,
   "metadata": {},
   "outputs": [
    {
     "data": {
      "text/plain": [
       "dict_keys(['title', 'title_detail', 'links', 'link', 'published', 'published_parsed', 'authors', 'author', 'author_detail', 'tags', 'summary', 'summary_detail', 'turbo_content'])"
      ]
     },
     "execution_count": 6,
     "metadata": {},
     "output_type": "execute_result"
    }
   ],
   "source": [
    "feed['entries'][0].keys()"
   ]
  },
  {
   "cell_type": "code",
   "execution_count": 7,
   "metadata": {},
   "outputs": [
    {
     "data": {
      "text/plain": [
       "'https://pythoninvest.com/tpost/yk09rupzv1-week-17-24-july-2023'"
      ]
     },
     "execution_count": 7,
     "metadata": {},
     "output_type": "execute_result"
    }
   ],
   "source": [
    "feed['entries'][0]['link']\n",
    "\n",
    "# we're mostly interested in turbo_content"
   ]
  },
  {
   "cell_type": "code",
   "execution_count": 8,
   "metadata": {},
   "outputs": [],
   "source": [
    "# OpenAI client setup with increased timeout\n",
    "# Read on Ollama - OpenAI compatibility: https://github.com/ollama/ollama/blob/main/docs/openai.md\n",
    "client = OpenAI(\n",
    "    base_url='http://localhost:11434/v1/',\n",
    "    api_key='ollama',\n",
    "    timeout = 5 * 60.0  # Increase timeout to 3*60 seconds\n",
    ")\n",
    "\n",
    "MAX_RETRIES = 3\n",
    "RETRY_DELAY = 5\n",
    "BATCH_SIZE = 1\n"
   ]
  },
  {
   "cell_type": "code",
   "execution_count": 9,
   "metadata": {},
   "outputs": [],
   "source": [
    "def llm(prompt, model):\n",
    "    for attempt in range(MAX_RETRIES):\n",
    "        try:\n",
    "            response = client.chat.completions.create(\n",
    "                model=model,\n",
    "                temperature=0.0,\n",
    "                messages=[{\"role\": \"user\", \"content\": prompt}]\n",
    "            )\n",
    "            return response\n",
    "        except Exception as e:\n",
    "            if attempt < MAX_RETRIES - 1:\n",
    "                print(f\"Attempt {attempt + 1} failed. Retrying in {RETRY_DELAY} seconds...\")\n",
    "                time.sleep(RETRY_DELAY)\n",
    "            else:\n",
    "                raise e\n"
   ]
  },
  {
   "cell_type": "code",
   "execution_count": 10,
   "metadata": {},
   "outputs": [
    {
     "name": "stdout",
     "output_type": "stream",
     "text": [
      "NAME                        ID              SIZE      MODIFIED     \n",
      "codellama:70b               e59b580dfce7    38 GB     2 days ago      \n",
      "codellama:latest            8fdf8f752f6e    3.8 GB    2 days ago      \n",
      "phi3.5:latest               3b387c8dd9b7    2.2 GB    2 months ago    \n",
      "mixtral:8x22b               e8479ee1cb51    79 GB     2 months ago    \n",
      "phi3:14b                    cf611a26b048    7.9 GB    2 months ago    \n",
      "deepseek-coder-v2:latest    8577f96d693e    8.9 GB    2 months ago    \n",
      "qwen2:72b                   14066dfa503f    41 GB     2 months ago    \n",
      "mistral-large:latest        0ca7dfa0bf06    69 GB     2 months ago    \n",
      "gemma2:27b                  53261bc9c192    15 GB     2 months ago    \n",
      "llama3:70b                  786f3184aec0    39 GB     2 months ago    \n",
      "llama3.1:latest             91ab477bec9d    4.7 GB    2 months ago    \n"
     ]
    }
   ],
   "source": [
    "# LIST OF CURRENT LOCAL MODELS\n",
    "!ollama list"
   ]
  },
  {
   "cell_type": "code",
   "execution_count": 11,
   "metadata": {},
   "outputs": [
    {
     "name": "stdout",
     "output_type": "stream",
     "text": [
      "Here's one:\n",
      "\n",
      "What do you call a fake noodle?\n",
      "\n",
      "An impasta!\n",
      "\n",
      "Hope that made you laugh! Do you want to hear another one?\n"
     ]
    }
   ],
   "source": [
    "# example calling a local LLM - is it working at all?\n",
    "res = llm(prompt = \"Tell me a joke\",model=\"llama3.1:latest\")\n",
    "print(res.choices[0].message.content)"
   ]
  },
  {
   "cell_type": "markdown",
   "metadata": {},
   "source": [
    "* Inspired by this code:\n",
    "https://github.com/alexeygrigorev/fitness-assistant/blob/main/notebooks/evaluation-data-generation.ipynb"
   ]
  },
  {
   "cell_type": "code",
   "execution_count": 12,
   "metadata": {},
   "outputs": [],
   "source": [
    "ind_prompt_template = '''Expert Web Scraper.\n",
    "HTML Content: {content}\n",
    "\n",
    "Extract text AS IT IS from given HTML:\n",
    "- Date ranges\n",
    "- mentioned ticker \n",
    "- news count\n",
    "- growth percentage\n",
    "- news for the ticker\n",
    "\n",
    "Format:\n",
    "{{\n",
    "  \"content\": [\n",
    "    {{\n",
    "      \"type\": \"individual\",\n",
    "      \"start_date\": <start date for articles>,\n",
    "      \"end_date\": <end date for articles>,\n",
    "      \"ticker\": <ticker symbol from news>,\n",
    "      \"count\": <articles count from news>,\n",
    "      \"growth\": <growth %>\n",
    "      \"text\": <news for the ticker from html>,\n",
    "    }},\n",
    "    // repeat for all news\n",
    "  ]\n",
    "}}\n",
    "\n",
    "Constraints:\n",
    "Return JSON only. \n",
    "'''"
   ]
  },
  {
   "cell_type": "code",
   "execution_count": 13,
   "metadata": {},
   "outputs": [],
   "source": [
    "# Extract individual news\n",
    "def extract_ind_news_json(model, ind_prompt_template, ind_html):\n",
    "    print(f'')\n",
    "    ind_news_prompt = ind_prompt_template.format(content=ind_html)\n",
    "    print(f\"----model used {model} \\n ------\\n prompt \\n{ind_news_prompt}------\\n ind_html  {ind_html}------\")\n",
    "    \n",
    "    start = time.time()\n",
    "    ind_scraped_data = llm(prompt = ind_news_prompt, model=model)\n",
    "    print(f\"time taken for llm is {time.time() - start}\")\n",
    "    \n",
    "    ind_news_json = json.loads(ind_scraped_data.choices[0].message.content)\n",
    "    \n",
    "    # print(ind_news_json)\n",
    "    return ind_news_json"
   ]
  },
  {
   "cell_type": "code",
   "execution_count": 15,
   "metadata": {},
   "outputs": [
    {
     "name": "stdout",
     "output_type": "stream",
     "text": [
      "\n",
      "----model used llama3.1:latest \n",
      " ------\n",
      " prompt \n",
      "Expert Web Scraper.\n",
      "HTML Content: <header><h1>Week 17-24 July 2023</h1></header><figure><img src=\"https://static.tildacdn.com/tild6131-3163-4135-a565-356661323733/the-broad-industry-o.svg\"/></figure><div class=\"t-redactor__embedcode\"><script async src=\"https://pagead2.googlesyndication.com/pagead/js/adsbygoogle.js?client=ca-pub-5845276189467216\"\n",
      "     crossorigin=\"anonymous\"></script></div><div class=\"t-redactor__text\"><strong>DISCLAIMER</strong><br />The content provided below was generated by AI (OpenAI's ChatGPT) using titles and descriptions from a selection of 5000 published financial news articles. The information presented should be used for informational purposes only and does not constitute financial advice or investment recommendations. We advise readers to conduct their own research and consult with a qualified financial advisor before making any investment decisions. The AI-generated content may not reflect the most current market conditions or developments and should be considered as a general summary of the selected news articles.<br /><br />***************************************************************<br /><strong>INDIVIDUAL NEWS SUMMARY</strong><br /><strong>Start date for the articles: 2023-07-17; End date for the articles: ' '2023-07-24 '</strong><br />***************************************************************<br /><strong><em>TL;DR :</em></strong><em> Tesla (TSLA) had a mixed week, with billionaire investor Chamath Palihapitiya believing the company is on the verge of a major breakthrough, while investor David Trainer argues that Tesla is overvalued. Tesla's second-quarter earnings report showed a rise in sales but highlighted concerns about profitability, causing a drop in the stock price. Microsoft (MSFT) partnered with Birlasoft to establish a Generative AI Centre of Excellence, with Morgan Stanley maintaining an Overweight rating on Microsoft. Warren Buffett's investment in Apple (AAPL) has resulted in Berkshire Hathaway's stake in the company ballooning to nearly $180 billion, but concerns remain around weak demand and a potential delay in the next iPhone launch. Amazon (AMZN) is planning to provide high-speed internet worldwide through Project Kuiper, and its stock may be positively impacted. Netflix (NFLX) reported mixed quarterly results, with a beat in subscriber estimates but missed revenue expectations. Verizon (VZ) partnered with the VA Palo Alto Health Care System to create the first full spectrum 5G hospital. Carvana (CVNA) announced positive quarterly results, a favorable debt deal, and a debt restructuring deal with bondholders, resulting in a stock surge. The overall stock market rally is expected to continue as long as there is no sign of a recession, but there are concerns about the US economy's state and a possible recession by February. Various headlines also covered topics such as cryptocurrency, technology, politics, and the world economy.</em><br /><br /><strong><em>NEWS SUMMARY for ('TSLA', 42), which changed on 2.43% last trading day: </em></strong><br />Billionaire investor Chamath Palihapitiya believes that Tesla is experiencing its \"iPhone moment\" and is on the verge of a major breakthrough. Meanwhile, investor David Trainer argues that Tesla is overvalued by over 1,000% due to its \"disconnected\" fundamentals. Tesla's second-quarter earnings report showed a rise in sales but also highlighted concerns about profitability and margins. Tesla's stock price dropped around 9% in response to the report. Despite mixed opinions, some analysts remain bullish on Tesla's future growth potential.<br /><br /><br /><strong><em>NEWS SUMMARY for ('MSFT', 11), which changed on 0.06% last trading day:</em></strong> <br />Indian company Birlasoft has partnered with Microsoft to establish a Generative AI Centre of Excellence. The aim is to accelerate value creation and foster innovation in the adoption of Generative AI, providing enterprise solutions across industries. The center will bring together Birlasoft's industry expertise and Microsoft Azure OpenAI Service to facilitate research, training, and collaboration. Morgan Stanley analyst Keith Weiss maintains an Overweight rating on Microsoft and believes the company has strong potential in the Generative AI space. <br /><br /><strong><em>NEWS SUMMARY for ('AAPL', 11), which changed on 0.51% last trading day:</em> </strong><br />Warren Buffett's investment in Apple has resulted in Berkshire Hathaway's stake in the company ballooning to nearly $180 billion, with the stock price surging nearly 50%. The rise in Apple's stock price is partly attributed to excitement around artificial intelligence. However, there are concerns of weak demand and a potential delay in the launch of the next iPhone, which could result in lower iPhone sales. Despite this, Morgan Stanley is bullish on India's growth potential for Apple and expects strong revenue and user growth in the country. <br /><br /><strong><em>NEWS SUMMARY for ('AMZN', 11), which changed on -0.94% last trading day: </em></strong><br />Amazon is planning to provide high-speed internet worldwide through its Project Kuiper. This initiative may have a positive impact on the company's stock. Users on Zacks.com have been closely following Amazon, indicating strong interest in the stock. Amazon Prime Video and Freevee will have new content available in August 2023, including \"The Lost Flowers of Alice Hart\" and \"Cocaine Bear.\" A Truist analyst predicts robust revenue for Amazon, driven by strong e-commerce demand and cost optimization. However, Amazon is facing challenges regarding warehouse safety as hearings on OSHA violations begin. <br /><br /><strong><em>NEWS SUMMARY for ('NFLX', 19), which changed on -0.23% last trading day: </em></strong><br />Netflix's stock has been fluctuating after the company reported mixed quarterly results. While it beat subscriber estimates with 5.9 million paid net adds, its Q2 revenue of $8.19 billion missed expectations. However, some analysts remain optimistic about Netflix's future growth and expect it to rebound. The company is also rolling out paid sharing to more countries and has dropped its cheapest streaming plan without ads in the US and UK to push users towards its ad-supported service. Despite these developments, some caution that the stock may be overvalued. <br /><br /><strong><em>NEWS SUMMARY for ('VZ', 13), which changed on 1.39% last trading day: </em></strong><br />Verizon Business and the VA Palo Alto Health Care System have partnered to deploy a full spectrum private 5G network, creating the first full spectrum 5G hospital. This network will enable unprecedented care for veterans and improve healthcare services. Verizon Communications will report second-quarter 2023 earnings on July 25. Verizon is also continuing to upgrade its network in various locations, including Kentucky, Cleveland, and Daytona. Despite a recent plunge in stock value, Verizon's high dividend yield and potential for capital appreciation make it an attractive investment. <br /><br /><strong><em>NEWS SUMMARY for ('CVNA', 21), which changed on -2.46% last trading day: </em></strong><br />Carvana, an online used car dealer, announced major updates that could have significant implications for investors. The company reported solid quarterly results, a favorable debt deal, and newly enabled access to equity capital, reducing liquidity risks. Despite a recent downgrade from RBC Capital due to concerns over margins and unit economics, other analysts have maintained positive outlooks for the stock. Carvana's stock soared nearly 50% after its second-quarter earnings report beat expectations. The company also announced a debt restructuring deal with bondholders, expected to improve liquidity. <br /><br /><strong><em>NEWS SUMMARY for ('DJIA', 8), which changed on -0.58% last trading day: </em></strong><br />The stock market rally is expected to continue as long as there is no sign of a recession, according to Steve Eisman of Neuberger Berman. However, experts caution that transportation stocks should not be overestimated as an indicator of the overall economy. US bank lending has fallen slightly, while housing starts and retail sales have also shown weakness. Overall, the US economy is in a precarious state with concerns of a possible recession by February. <br /><br /><strong><em>NEWS SUMMARY for ('SPY', 7), which changed on 0.44% last trading day: </em></strong><br />The news includes various headlines related to the stock market, cryptocurrency, technology, politics, and the world economy. Some notable points include Cathie Wood's flagship ETF exiting Alibaba and other stocks, Elon Musk's Tesla reportedly removing Bitcoin as a payment option, and a prediction by Tom Lee that the S&amp;P 500 could hit 5,000 in 5 months. Other headlines discuss investor sentiment improving, regulatory actions in the cryptocurrency sector, and political developments in the US and world politics.<br /><br /></div><div class=\"t-redactor__text\">***************************************************************<br /><strong>MARKET NEWS SUMMARY ('multiple_tickers', 261)</strong><br /><strong> for the last 24 hours from 24/07/2023 17:12 UTC time:</strong> ***************************************************************<br />- JPMorgan's strong earnings report is expected to set a positive tone for the upcoming earnings season. <br />- Steelmaker Posco's stock surged 17% after announcing plans to enter the battery industry. <br />- Several stocks priced under $100 are considered good buys in the current market. <br />- Analysts are expecting artificial intelligence (AI) to be a strong industry during the semiconductor earnings season. <br />- Nuclear power is gaining bullish sentiment as a tool to fight climate change. <br />- Movie theater stocks had a strong weekend with box office returns. <br />- Analysts believe Moderna's stock is fairly valued considering its COVID-19 vaccine success and expansion into other therapies. <br />- Amazon and Walmart are both strong contenders for investment as two of the largest retailers in the world. <br />- The stock market is closing in on record territory, which could impact the Federal Reserve's decision to end rate hikes. <br />- Thrift store operator Savers Value Village received positive ratings from analysts after its IPO. <br />- Major companies such as Tesla, AMD, and Microsoft have made significant AI updates. <br />- Apple has big plans for artificial intelligence and won't be left behind in the industry. <br />- Colgate's second-quarter sales are expected to benefit from strong demand and a focus on premiumization, but rising costs may impact margins. <br />- PulteGroup's home sales are expected to grow sequentially in the second quarter, but rising rates pose risks. <br />- Nikola and Workhorse are both working to increase deliveries of electric vehicles. <br />- AstraZeneca's higher sales of key medicines are expected to have driven sales in the second quarter. - OpenAI's ChatGPT hasn't posed a threat to Alphabet or search advertising as previously feared. <br />- Snap is offering immersive augmented reality features to celebrate the Women's World Cup. <br />- Columbia Sportswear is focusing on the growth of its direct-to-consumer business. <br />- The audition process for actors is up for discussion as the actors' strike continues. <br />- American Water Works' Missouri arm has acquired Wood Heights' water and wastewater systems. <br />- Horizon's daxdilimab fails to meet the primary endpoint in a lupus study. <br />- Several tech giants, including Microsoft, Alphabet, and Meta, are set to release earnings reports. <br />- AMC Entertainment has been handed a setback by a Delaware court as it looks to raise capital. <br />- Clorox and Coca-Cola are both strong dividend stocks to consider. <br />- Fiserv's second-quarter earnings are expected to increase year over year. <br />- Three tech titans, Microsoft, Alphabet, and Meta, are set to report earnings. <br />- Warner Bros. Discovery's premiere performance of Barbie Dreamhouse Challenge is off to a strong start. <br />- Factors will likely decide Newell's fate in the second quarter earnings report. <br />- Pentair's performance in the second quarter is expected to be affected by inflated costs and supply chain issues. - Robert Half's second-quarter earnings and revenues are expected to decline sequentially. <br />- VeriSign's second-quarter performance is expected to benefit from continued growth in domain name registrations. - The court ruling on AMC's preferred equity shares could take the company back to the drawing board. <br />- Cloros Mortgage Trust has been upgraded from underweight to neutral by JP Morgan. <br />- Galmed Pharmaceuticals has been upgraded from hold to buy by Maxim Group. <br />- Wells Fargo has upgraded Nutrien from equal weight to overweight. <br />- Raymond James has upgraded D.R. Horton from market perform to outperform. <br />- Stifel has upgraded Lam Research from hold to buy. <br />- BTIG has upgraded AppLovin Corp from neutral to buy. <br />- JP Morgan has upgraded Claros Mortgage Trust from underweight to neutral. <br />- Baird has upgraded Netflix from neutral to outperform. <br />- According to MoffettNathanson, Shopify has been upgraded from market perform to outperform. <br />- Goldman Sachs has upgraded Amylyx Pharmaceuticals from neutral to buy. <br />- RBC Capital has downgraded ZoomInfo Technologies from outperform to sector perform. <br />- JP Morgan has downgraded Arbor Realty from overweight to neutral. <br />- Credit Suisse has downgraded CommScope Holding from outperform to neutral.</div><div class=\"t-redactor__text\">***************************************************************<br /><strong>MARKET NEWS SUMMARY ('multiple_tickers', 2108) </strong><br /><strong>for the period 2023-07-17 to 2023-07-24 </strong>***************************************************************<br />- BankUnited, Inc. (BKU) is expected to beat earnings estimates in its upcoming report. <br />- First Busey (BUSE) is expected to report earnings growth in its upcoming report. <br />- Atlantic Union (AUB) is not expected to beat earnings estimates in its upcoming report. <br />- Lockheed (LMT) reported better-than-expected Q2 earnings and increased its sales outlook for 2023. <br />- Cathie Wood of Ark Invest has added three stocks to her portfolio: Twilio (TWLO), SoFi (SOFI), and Meta Platforms (META). <br />- ONON, ING, and ITRI are among the best momentum stocks to buy on July 18. <br />- Schlumberger's (SLB) earnings in Q2 may be impacted by declining income before taxes in its Digital and Integration division. <br />- Schrödinger and Recursion Pharmaceuticals are two AI biotech stocks that could benefit from the AI revolution. <br />- Applied Digital (APLD) is expected to show top-line growth in its Q4 earnings report. <br />- BridgeBio (BBIO) shares surged after positive data from a late-stage study for its heart drug. <br />- Bank of America Corp (BAC) reported better-than-expected Q2 results, with net income growth of 19%. <br />- The Singing Machine Company (MICS) shares shot up 40% after launching a new product line at Walmart. <br />- Camtek Ltd. (CAMT) received an upgrade from Neutral to Buy by B of A Securities. <br />- Retail sales in June grew less than expected, with a 0.2% increase compared to a forecasted 0.5% rise. <br />- The Nasdaq-100 index has become too concentrated, with the top 7 stocks accounting for 56% of the index. <br />- Manufacturing activity expanded for the second straight month in July, but the outlook for the next 6 months deteriorated. <br />- Goldman Sachs has reduced its odds of a US recession within the next 12 months to 20%. <br />- The White House has imposed restrictions on the sale of chips and related US tech to China, leading to industry warnings. <br />- Moody's is expected to beat earnings estimates in Q2. <br />- Home-builder sentiment rose for the seventh straight month in July. <br />- Vistra is recommended as a good investment due to growth prospects and strong returns. <br />- Ligand is offering cash to acquire all assets of Novan Inc. <br />- Thermo Fisher's Q2 results are expected to show growth. <br />- Jacobs has won an NNL contract for nuclear research. <br />- Earnings reports for Morgan Stanley, Capital City Bank, Chubb, and 3M are expected.</div>\n",
      "\n",
      "Extract text AS IT IS from given HTML:\n",
      "- Date ranges\n",
      "- mentioned ticker \n",
      "- news count\n",
      "- growth percentage\n",
      "- news for the ticker\n",
      "\n",
      "Format:\n",
      "{\n",
      "  \"content\": [\n",
      "    {\n",
      "      \"type\": \"individual\",\n",
      "      \"start_date\": <start date for articles>,\n",
      "      \"end_date\": <end date for articles>,\n",
      "      \"ticker\": <ticker symbol from news>,\n",
      "      \"count\": <articles count from news>,\n",
      "      \"growth\": <growth %>\n",
      "      \"text\": <news for the ticker from html>,\n",
      "    },\n",
      "    // repeat for all news\n",
      "  ]\n",
      "}\n",
      "\n",
      "Constraints:\n",
      "Return JSON only. \n",
      "------\n",
      " ind_html  <header><h1>Week 17-24 July 2023</h1></header><figure><img src=\"https://static.tildacdn.com/tild6131-3163-4135-a565-356661323733/the-broad-industry-o.svg\"/></figure><div class=\"t-redactor__embedcode\"><script async src=\"https://pagead2.googlesyndication.com/pagead/js/adsbygoogle.js?client=ca-pub-5845276189467216\"\n",
      "     crossorigin=\"anonymous\"></script></div><div class=\"t-redactor__text\"><strong>DISCLAIMER</strong><br />The content provided below was generated by AI (OpenAI's ChatGPT) using titles and descriptions from a selection of 5000 published financial news articles. The information presented should be used for informational purposes only and does not constitute financial advice or investment recommendations. We advise readers to conduct their own research and consult with a qualified financial advisor before making any investment decisions. The AI-generated content may not reflect the most current market conditions or developments and should be considered as a general summary of the selected news articles.<br /><br />***************************************************************<br /><strong>INDIVIDUAL NEWS SUMMARY</strong><br /><strong>Start date for the articles: 2023-07-17; End date for the articles: ' '2023-07-24 '</strong><br />***************************************************************<br /><strong><em>TL;DR :</em></strong><em> Tesla (TSLA) had a mixed week, with billionaire investor Chamath Palihapitiya believing the company is on the verge of a major breakthrough, while investor David Trainer argues that Tesla is overvalued. Tesla's second-quarter earnings report showed a rise in sales but highlighted concerns about profitability, causing a drop in the stock price. Microsoft (MSFT) partnered with Birlasoft to establish a Generative AI Centre of Excellence, with Morgan Stanley maintaining an Overweight rating on Microsoft. Warren Buffett's investment in Apple (AAPL) has resulted in Berkshire Hathaway's stake in the company ballooning to nearly $180 billion, but concerns remain around weak demand and a potential delay in the next iPhone launch. Amazon (AMZN) is planning to provide high-speed internet worldwide through Project Kuiper, and its stock may be positively impacted. Netflix (NFLX) reported mixed quarterly results, with a beat in subscriber estimates but missed revenue expectations. Verizon (VZ) partnered with the VA Palo Alto Health Care System to create the first full spectrum 5G hospital. Carvana (CVNA) announced positive quarterly results, a favorable debt deal, and a debt restructuring deal with bondholders, resulting in a stock surge. The overall stock market rally is expected to continue as long as there is no sign of a recession, but there are concerns about the US economy's state and a possible recession by February. Various headlines also covered topics such as cryptocurrency, technology, politics, and the world economy.</em><br /><br /><strong><em>NEWS SUMMARY for ('TSLA', 42), which changed on 2.43% last trading day: </em></strong><br />Billionaire investor Chamath Palihapitiya believes that Tesla is experiencing its \"iPhone moment\" and is on the verge of a major breakthrough. Meanwhile, investor David Trainer argues that Tesla is overvalued by over 1,000% due to its \"disconnected\" fundamentals. Tesla's second-quarter earnings report showed a rise in sales but also highlighted concerns about profitability and margins. Tesla's stock price dropped around 9% in response to the report. Despite mixed opinions, some analysts remain bullish on Tesla's future growth potential.<br /><br /><br /><strong><em>NEWS SUMMARY for ('MSFT', 11), which changed on 0.06% last trading day:</em></strong> <br />Indian company Birlasoft has partnered with Microsoft to establish a Generative AI Centre of Excellence. The aim is to accelerate value creation and foster innovation in the adoption of Generative AI, providing enterprise solutions across industries. The center will bring together Birlasoft's industry expertise and Microsoft Azure OpenAI Service to facilitate research, training, and collaboration. Morgan Stanley analyst Keith Weiss maintains an Overweight rating on Microsoft and believes the company has strong potential in the Generative AI space. <br /><br /><strong><em>NEWS SUMMARY for ('AAPL', 11), which changed on 0.51% last trading day:</em> </strong><br />Warren Buffett's investment in Apple has resulted in Berkshire Hathaway's stake in the company ballooning to nearly $180 billion, with the stock price surging nearly 50%. The rise in Apple's stock price is partly attributed to excitement around artificial intelligence. However, there are concerns of weak demand and a potential delay in the launch of the next iPhone, which could result in lower iPhone sales. Despite this, Morgan Stanley is bullish on India's growth potential for Apple and expects strong revenue and user growth in the country. <br /><br /><strong><em>NEWS SUMMARY for ('AMZN', 11), which changed on -0.94% last trading day: </em></strong><br />Amazon is planning to provide high-speed internet worldwide through its Project Kuiper. This initiative may have a positive impact on the company's stock. Users on Zacks.com have been closely following Amazon, indicating strong interest in the stock. Amazon Prime Video and Freevee will have new content available in August 2023, including \"The Lost Flowers of Alice Hart\" and \"Cocaine Bear.\" A Truist analyst predicts robust revenue for Amazon, driven by strong e-commerce demand and cost optimization. However, Amazon is facing challenges regarding warehouse safety as hearings on OSHA violations begin. <br /><br /><strong><em>NEWS SUMMARY for ('NFLX', 19), which changed on -0.23% last trading day: </em></strong><br />Netflix's stock has been fluctuating after the company reported mixed quarterly results. While it beat subscriber estimates with 5.9 million paid net adds, its Q2 revenue of $8.19 billion missed expectations. However, some analysts remain optimistic about Netflix's future growth and expect it to rebound. The company is also rolling out paid sharing to more countries and has dropped its cheapest streaming plan without ads in the US and UK to push users towards its ad-supported service. Despite these developments, some caution that the stock may be overvalued. <br /><br /><strong><em>NEWS SUMMARY for ('VZ', 13), which changed on 1.39% last trading day: </em></strong><br />Verizon Business and the VA Palo Alto Health Care System have partnered to deploy a full spectrum private 5G network, creating the first full spectrum 5G hospital. This network will enable unprecedented care for veterans and improve healthcare services. Verizon Communications will report second-quarter 2023 earnings on July 25. Verizon is also continuing to upgrade its network in various locations, including Kentucky, Cleveland, and Daytona. Despite a recent plunge in stock value, Verizon's high dividend yield and potential for capital appreciation make it an attractive investment. <br /><br /><strong><em>NEWS SUMMARY for ('CVNA', 21), which changed on -2.46% last trading day: </em></strong><br />Carvana, an online used car dealer, announced major updates that could have significant implications for investors. The company reported solid quarterly results, a favorable debt deal, and newly enabled access to equity capital, reducing liquidity risks. Despite a recent downgrade from RBC Capital due to concerns over margins and unit economics, other analysts have maintained positive outlooks for the stock. Carvana's stock soared nearly 50% after its second-quarter earnings report beat expectations. The company also announced a debt restructuring deal with bondholders, expected to improve liquidity. <br /><br /><strong><em>NEWS SUMMARY for ('DJIA', 8), which changed on -0.58% last trading day: </em></strong><br />The stock market rally is expected to continue as long as there is no sign of a recession, according to Steve Eisman of Neuberger Berman. However, experts caution that transportation stocks should not be overestimated as an indicator of the overall economy. US bank lending has fallen slightly, while housing starts and retail sales have also shown weakness. Overall, the US economy is in a precarious state with concerns of a possible recession by February. <br /><br /><strong><em>NEWS SUMMARY for ('SPY', 7), which changed on 0.44% last trading day: </em></strong><br />The news includes various headlines related to the stock market, cryptocurrency, technology, politics, and the world economy. Some notable points include Cathie Wood's flagship ETF exiting Alibaba and other stocks, Elon Musk's Tesla reportedly removing Bitcoin as a payment option, and a prediction by Tom Lee that the S&amp;P 500 could hit 5,000 in 5 months. Other headlines discuss investor sentiment improving, regulatory actions in the cryptocurrency sector, and political developments in the US and world politics.<br /><br /></div><div class=\"t-redactor__text\">***************************************************************<br /><strong>MARKET NEWS SUMMARY ('multiple_tickers', 261)</strong><br /><strong> for the last 24 hours from 24/07/2023 17:12 UTC time:</strong> ***************************************************************<br />- JPMorgan's strong earnings report is expected to set a positive tone for the upcoming earnings season. <br />- Steelmaker Posco's stock surged 17% after announcing plans to enter the battery industry. <br />- Several stocks priced under $100 are considered good buys in the current market. <br />- Analysts are expecting artificial intelligence (AI) to be a strong industry during the semiconductor earnings season. <br />- Nuclear power is gaining bullish sentiment as a tool to fight climate change. <br />- Movie theater stocks had a strong weekend with box office returns. <br />- Analysts believe Moderna's stock is fairly valued considering its COVID-19 vaccine success and expansion into other therapies. <br />- Amazon and Walmart are both strong contenders for investment as two of the largest retailers in the world. <br />- The stock market is closing in on record territory, which could impact the Federal Reserve's decision to end rate hikes. <br />- Thrift store operator Savers Value Village received positive ratings from analysts after its IPO. <br />- Major companies such as Tesla, AMD, and Microsoft have made significant AI updates. <br />- Apple has big plans for artificial intelligence and won't be left behind in the industry. <br />- Colgate's second-quarter sales are expected to benefit from strong demand and a focus on premiumization, but rising costs may impact margins. <br />- PulteGroup's home sales are expected to grow sequentially in the second quarter, but rising rates pose risks. <br />- Nikola and Workhorse are both working to increase deliveries of electric vehicles. <br />- AstraZeneca's higher sales of key medicines are expected to have driven sales in the second quarter. - OpenAI's ChatGPT hasn't posed a threat to Alphabet or search advertising as previously feared. <br />- Snap is offering immersive augmented reality features to celebrate the Women's World Cup. <br />- Columbia Sportswear is focusing on the growth of its direct-to-consumer business. <br />- The audition process for actors is up for discussion as the actors' strike continues. <br />- American Water Works' Missouri arm has acquired Wood Heights' water and wastewater systems. <br />- Horizon's daxdilimab fails to meet the primary endpoint in a lupus study. <br />- Several tech giants, including Microsoft, Alphabet, and Meta, are set to release earnings reports. <br />- AMC Entertainment has been handed a setback by a Delaware court as it looks to raise capital. <br />- Clorox and Coca-Cola are both strong dividend stocks to consider. <br />- Fiserv's second-quarter earnings are expected to increase year over year. <br />- Three tech titans, Microsoft, Alphabet, and Meta, are set to report earnings. <br />- Warner Bros. Discovery's premiere performance of Barbie Dreamhouse Challenge is off to a strong start. <br />- Factors will likely decide Newell's fate in the second quarter earnings report. <br />- Pentair's performance in the second quarter is expected to be affected by inflated costs and supply chain issues. - Robert Half's second-quarter earnings and revenues are expected to decline sequentially. <br />- VeriSign's second-quarter performance is expected to benefit from continued growth in domain name registrations. - The court ruling on AMC's preferred equity shares could take the company back to the drawing board. <br />- Cloros Mortgage Trust has been upgraded from underweight to neutral by JP Morgan. <br />- Galmed Pharmaceuticals has been upgraded from hold to buy by Maxim Group. <br />- Wells Fargo has upgraded Nutrien from equal weight to overweight. <br />- Raymond James has upgraded D.R. Horton from market perform to outperform. <br />- Stifel has upgraded Lam Research from hold to buy. <br />- BTIG has upgraded AppLovin Corp from neutral to buy. <br />- JP Morgan has upgraded Claros Mortgage Trust from underweight to neutral. <br />- Baird has upgraded Netflix from neutral to outperform. <br />- According to MoffettNathanson, Shopify has been upgraded from market perform to outperform. <br />- Goldman Sachs has upgraded Amylyx Pharmaceuticals from neutral to buy. <br />- RBC Capital has downgraded ZoomInfo Technologies from outperform to sector perform. <br />- JP Morgan has downgraded Arbor Realty from overweight to neutral. <br />- Credit Suisse has downgraded CommScope Holding from outperform to neutral.</div><div class=\"t-redactor__text\">***************************************************************<br /><strong>MARKET NEWS SUMMARY ('multiple_tickers', 2108) </strong><br /><strong>for the period 2023-07-17 to 2023-07-24 </strong>***************************************************************<br />- BankUnited, Inc. (BKU) is expected to beat earnings estimates in its upcoming report. <br />- First Busey (BUSE) is expected to report earnings growth in its upcoming report. <br />- Atlantic Union (AUB) is not expected to beat earnings estimates in its upcoming report. <br />- Lockheed (LMT) reported better-than-expected Q2 earnings and increased its sales outlook for 2023. <br />- Cathie Wood of Ark Invest has added three stocks to her portfolio: Twilio (TWLO), SoFi (SOFI), and Meta Platforms (META). <br />- ONON, ING, and ITRI are among the best momentum stocks to buy on July 18. <br />- Schlumberger's (SLB) earnings in Q2 may be impacted by declining income before taxes in its Digital and Integration division. <br />- Schrödinger and Recursion Pharmaceuticals are two AI biotech stocks that could benefit from the AI revolution. <br />- Applied Digital (APLD) is expected to show top-line growth in its Q4 earnings report. <br />- BridgeBio (BBIO) shares surged after positive data from a late-stage study for its heart drug. <br />- Bank of America Corp (BAC) reported better-than-expected Q2 results, with net income growth of 19%. <br />- The Singing Machine Company (MICS) shares shot up 40% after launching a new product line at Walmart. <br />- Camtek Ltd. (CAMT) received an upgrade from Neutral to Buy by B of A Securities. <br />- Retail sales in June grew less than expected, with a 0.2% increase compared to a forecasted 0.5% rise. <br />- The Nasdaq-100 index has become too concentrated, with the top 7 stocks accounting for 56% of the index. <br />- Manufacturing activity expanded for the second straight month in July, but the outlook for the next 6 months deteriorated. <br />- Goldman Sachs has reduced its odds of a US recession within the next 12 months to 20%. <br />- The White House has imposed restrictions on the sale of chips and related US tech to China, leading to industry warnings. <br />- Moody's is expected to beat earnings estimates in Q2. <br />- Home-builder sentiment rose for the seventh straight month in July. <br />- Vistra is recommended as a good investment due to growth prospects and strong returns. <br />- Ligand is offering cash to acquire all assets of Novan Inc. <br />- Thermo Fisher's Q2 results are expected to show growth. <br />- Jacobs has won an NNL contract for nuclear research. <br />- Earnings reports for Morgan Stanley, Capital City Bank, Chubb, and 3M are expected.</div>------\n",
      "Attempt 1 failed. Retrying in 5 seconds...\n",
      "Attempt 2 failed. Retrying in 5 seconds...\n"
     ]
    },
    {
     "ename": "APITimeoutError",
     "evalue": "Request timed out.",
     "output_type": "error",
     "traceback": [
      "\u001b[0;31m---------------------------------------------------------------------------\u001b[0m",
      "\u001b[0;31mReadTimeout\u001b[0m                               Traceback (most recent call last)",
      "File \u001b[0;32m~/.local/share/virtualenvs/long-term-news-llm-rag-hx-iPapI/lib/python3.12/site-packages/httpx/_transports/default.py:72\u001b[0m, in \u001b[0;36mmap_httpcore_exceptions\u001b[0;34m()\u001b[0m\n\u001b[1;32m     71\u001b[0m \u001b[38;5;28;01mtry\u001b[39;00m:\n\u001b[0;32m---> 72\u001b[0m     \u001b[38;5;28;01myield\u001b[39;00m\n\u001b[1;32m     73\u001b[0m \u001b[38;5;28;01mexcept\u001b[39;00m \u001b[38;5;167;01mException\u001b[39;00m \u001b[38;5;28;01mas\u001b[39;00m exc:\n",
      "File \u001b[0;32m~/.local/share/virtualenvs/long-term-news-llm-rag-hx-iPapI/lib/python3.12/site-packages/httpx/_transports/default.py:236\u001b[0m, in \u001b[0;36mHTTPTransport.handle_request\u001b[0;34m(self, request)\u001b[0m\n\u001b[1;32m    235\u001b[0m \u001b[38;5;28;01mwith\u001b[39;00m map_httpcore_exceptions():\n\u001b[0;32m--> 236\u001b[0m     resp \u001b[38;5;241m=\u001b[39m \u001b[38;5;28;43mself\u001b[39;49m\u001b[38;5;241;43m.\u001b[39;49m\u001b[43m_pool\u001b[49m\u001b[38;5;241;43m.\u001b[39;49m\u001b[43mhandle_request\u001b[49m\u001b[43m(\u001b[49m\u001b[43mreq\u001b[49m\u001b[43m)\u001b[49m\n\u001b[1;32m    238\u001b[0m \u001b[38;5;28;01massert\u001b[39;00m \u001b[38;5;28misinstance\u001b[39m(resp\u001b[38;5;241m.\u001b[39mstream, typing\u001b[38;5;241m.\u001b[39mIterable)\n",
      "File \u001b[0;32m~/.local/share/virtualenvs/long-term-news-llm-rag-hx-iPapI/lib/python3.12/site-packages/httpcore/_sync/connection_pool.py:216\u001b[0m, in \u001b[0;36mConnectionPool.handle_request\u001b[0;34m(self, request)\u001b[0m\n\u001b[1;32m    215\u001b[0m     \u001b[38;5;28mself\u001b[39m\u001b[38;5;241m.\u001b[39m_close_connections(closing)\n\u001b[0;32m--> 216\u001b[0m     \u001b[38;5;28;01mraise\u001b[39;00m exc \u001b[38;5;28;01mfrom\u001b[39;00m \u001b[38;5;28;01mNone\u001b[39;00m\n\u001b[1;32m    218\u001b[0m \u001b[38;5;66;03m# Return the response. Note that in this case we still have to manage\u001b[39;00m\n\u001b[1;32m    219\u001b[0m \u001b[38;5;66;03m# the point at which the response is closed.\u001b[39;00m\n",
      "File \u001b[0;32m~/.local/share/virtualenvs/long-term-news-llm-rag-hx-iPapI/lib/python3.12/site-packages/httpcore/_sync/connection_pool.py:196\u001b[0m, in \u001b[0;36mConnectionPool.handle_request\u001b[0;34m(self, request)\u001b[0m\n\u001b[1;32m    194\u001b[0m \u001b[38;5;28;01mtry\u001b[39;00m:\n\u001b[1;32m    195\u001b[0m     \u001b[38;5;66;03m# Send the request on the assigned connection.\u001b[39;00m\n\u001b[0;32m--> 196\u001b[0m     response \u001b[38;5;241m=\u001b[39m \u001b[43mconnection\u001b[49m\u001b[38;5;241;43m.\u001b[39;49m\u001b[43mhandle_request\u001b[49m\u001b[43m(\u001b[49m\n\u001b[1;32m    197\u001b[0m \u001b[43m        \u001b[49m\u001b[43mpool_request\u001b[49m\u001b[38;5;241;43m.\u001b[39;49m\u001b[43mrequest\u001b[49m\n\u001b[1;32m    198\u001b[0m \u001b[43m    \u001b[49m\u001b[43m)\u001b[49m\n\u001b[1;32m    199\u001b[0m \u001b[38;5;28;01mexcept\u001b[39;00m ConnectionNotAvailable:\n\u001b[1;32m    200\u001b[0m     \u001b[38;5;66;03m# In some cases a connection may initially be available to\u001b[39;00m\n\u001b[1;32m    201\u001b[0m     \u001b[38;5;66;03m# handle a request, but then become unavailable.\u001b[39;00m\n\u001b[1;32m    202\u001b[0m     \u001b[38;5;66;03m#\u001b[39;00m\n\u001b[1;32m    203\u001b[0m     \u001b[38;5;66;03m# In this case we clear the connection and try again.\u001b[39;00m\n",
      "File \u001b[0;32m~/.local/share/virtualenvs/long-term-news-llm-rag-hx-iPapI/lib/python3.12/site-packages/httpcore/_sync/connection.py:101\u001b[0m, in \u001b[0;36mHTTPConnection.handle_request\u001b[0;34m(self, request)\u001b[0m\n\u001b[1;32m     99\u001b[0m     \u001b[38;5;28;01mraise\u001b[39;00m exc\n\u001b[0;32m--> 101\u001b[0m \u001b[38;5;28;01mreturn\u001b[39;00m \u001b[38;5;28;43mself\u001b[39;49m\u001b[38;5;241;43m.\u001b[39;49m\u001b[43m_connection\u001b[49m\u001b[38;5;241;43m.\u001b[39;49m\u001b[43mhandle_request\u001b[49m\u001b[43m(\u001b[49m\u001b[43mrequest\u001b[49m\u001b[43m)\u001b[49m\n",
      "File \u001b[0;32m~/.local/share/virtualenvs/long-term-news-llm-rag-hx-iPapI/lib/python3.12/site-packages/httpcore/_sync/http11.py:143\u001b[0m, in \u001b[0;36mHTTP11Connection.handle_request\u001b[0;34m(self, request)\u001b[0m\n\u001b[1;32m    142\u001b[0m         \u001b[38;5;28mself\u001b[39m\u001b[38;5;241m.\u001b[39m_response_closed()\n\u001b[0;32m--> 143\u001b[0m \u001b[38;5;28;01mraise\u001b[39;00m exc\n",
      "File \u001b[0;32m~/.local/share/virtualenvs/long-term-news-llm-rag-hx-iPapI/lib/python3.12/site-packages/httpcore/_sync/http11.py:113\u001b[0m, in \u001b[0;36mHTTP11Connection.handle_request\u001b[0;34m(self, request)\u001b[0m\n\u001b[1;32m    104\u001b[0m \u001b[38;5;28;01mwith\u001b[39;00m Trace(\n\u001b[1;32m    105\u001b[0m     \u001b[38;5;124m\"\u001b[39m\u001b[38;5;124mreceive_response_headers\u001b[39m\u001b[38;5;124m\"\u001b[39m, logger, request, kwargs\n\u001b[1;32m    106\u001b[0m ) \u001b[38;5;28;01mas\u001b[39;00m trace:\n\u001b[1;32m    107\u001b[0m     (\n\u001b[1;32m    108\u001b[0m         http_version,\n\u001b[1;32m    109\u001b[0m         status,\n\u001b[1;32m    110\u001b[0m         reason_phrase,\n\u001b[1;32m    111\u001b[0m         headers,\n\u001b[1;32m    112\u001b[0m         trailing_data,\n\u001b[0;32m--> 113\u001b[0m     ) \u001b[38;5;241m=\u001b[39m \u001b[38;5;28;43mself\u001b[39;49m\u001b[38;5;241;43m.\u001b[39;49m\u001b[43m_receive_response_headers\u001b[49m\u001b[43m(\u001b[49m\u001b[38;5;241;43m*\u001b[39;49m\u001b[38;5;241;43m*\u001b[39;49m\u001b[43mkwargs\u001b[49m\u001b[43m)\u001b[49m\n\u001b[1;32m    114\u001b[0m     trace\u001b[38;5;241m.\u001b[39mreturn_value \u001b[38;5;241m=\u001b[39m (\n\u001b[1;32m    115\u001b[0m         http_version,\n\u001b[1;32m    116\u001b[0m         status,\n\u001b[1;32m    117\u001b[0m         reason_phrase,\n\u001b[1;32m    118\u001b[0m         headers,\n\u001b[1;32m    119\u001b[0m     )\n",
      "File \u001b[0;32m~/.local/share/virtualenvs/long-term-news-llm-rag-hx-iPapI/lib/python3.12/site-packages/httpcore/_sync/http11.py:186\u001b[0m, in \u001b[0;36mHTTP11Connection._receive_response_headers\u001b[0;34m(self, request)\u001b[0m\n\u001b[1;32m    185\u001b[0m \u001b[38;5;28;01mwhile\u001b[39;00m \u001b[38;5;28;01mTrue\u001b[39;00m:\n\u001b[0;32m--> 186\u001b[0m     event \u001b[38;5;241m=\u001b[39m \u001b[38;5;28;43mself\u001b[39;49m\u001b[38;5;241;43m.\u001b[39;49m\u001b[43m_receive_event\u001b[49m\u001b[43m(\u001b[49m\u001b[43mtimeout\u001b[49m\u001b[38;5;241;43m=\u001b[39;49m\u001b[43mtimeout\u001b[49m\u001b[43m)\u001b[49m\n\u001b[1;32m    187\u001b[0m     \u001b[38;5;28;01mif\u001b[39;00m \u001b[38;5;28misinstance\u001b[39m(event, h11\u001b[38;5;241m.\u001b[39mResponse):\n",
      "File \u001b[0;32m~/.local/share/virtualenvs/long-term-news-llm-rag-hx-iPapI/lib/python3.12/site-packages/httpcore/_sync/http11.py:224\u001b[0m, in \u001b[0;36mHTTP11Connection._receive_event\u001b[0;34m(self, timeout)\u001b[0m\n\u001b[1;32m    223\u001b[0m \u001b[38;5;28;01mif\u001b[39;00m event \u001b[38;5;129;01mis\u001b[39;00m h11\u001b[38;5;241m.\u001b[39mNEED_DATA:\n\u001b[0;32m--> 224\u001b[0m     data \u001b[38;5;241m=\u001b[39m \u001b[38;5;28;43mself\u001b[39;49m\u001b[38;5;241;43m.\u001b[39;49m\u001b[43m_network_stream\u001b[49m\u001b[38;5;241;43m.\u001b[39;49m\u001b[43mread\u001b[49m\u001b[43m(\u001b[49m\n\u001b[1;32m    225\u001b[0m \u001b[43m        \u001b[49m\u001b[38;5;28;43mself\u001b[39;49m\u001b[38;5;241;43m.\u001b[39;49m\u001b[43mREAD_NUM_BYTES\u001b[49m\u001b[43m,\u001b[49m\u001b[43m \u001b[49m\u001b[43mtimeout\u001b[49m\u001b[38;5;241;43m=\u001b[39;49m\u001b[43mtimeout\u001b[49m\n\u001b[1;32m    226\u001b[0m \u001b[43m    \u001b[49m\u001b[43m)\u001b[49m\n\u001b[1;32m    228\u001b[0m     \u001b[38;5;66;03m# If we feed this case through h11 we'll raise an exception like:\u001b[39;00m\n\u001b[1;32m    229\u001b[0m     \u001b[38;5;66;03m#\u001b[39;00m\n\u001b[1;32m    230\u001b[0m     \u001b[38;5;66;03m#     httpcore.RemoteProtocolError: can't handle event type\u001b[39;00m\n\u001b[0;32m   (...)\u001b[0m\n\u001b[1;32m    234\u001b[0m     \u001b[38;5;66;03m# perspective. Instead we handle this case distinctly and treat\u001b[39;00m\n\u001b[1;32m    235\u001b[0m     \u001b[38;5;66;03m# it as a ConnectError.\u001b[39;00m\n",
      "File \u001b[0;32m~/.local/share/virtualenvs/long-term-news-llm-rag-hx-iPapI/lib/python3.12/site-packages/httpcore/_backends/sync.py:124\u001b[0m, in \u001b[0;36mSyncStream.read\u001b[0;34m(self, max_bytes, timeout)\u001b[0m\n\u001b[1;32m    123\u001b[0m exc_map: ExceptionMapping \u001b[38;5;241m=\u001b[39m {socket\u001b[38;5;241m.\u001b[39mtimeout: ReadTimeout, \u001b[38;5;167;01mOSError\u001b[39;00m: ReadError}\n\u001b[0;32m--> 124\u001b[0m \u001b[38;5;28;01mwith\u001b[39;00m map_exceptions(exc_map):\n\u001b[1;32m    125\u001b[0m     \u001b[38;5;28mself\u001b[39m\u001b[38;5;241m.\u001b[39m_sock\u001b[38;5;241m.\u001b[39msettimeout(timeout)\n",
      "File \u001b[0;32m/opt/homebrew/Cellar/python@3.12/3.12.7/Frameworks/Python.framework/Versions/3.12/lib/python3.12/contextlib.py:158\u001b[0m, in \u001b[0;36m_GeneratorContextManager.__exit__\u001b[0;34m(self, typ, value, traceback)\u001b[0m\n\u001b[1;32m    157\u001b[0m \u001b[38;5;28;01mtry\u001b[39;00m:\n\u001b[0;32m--> 158\u001b[0m     \u001b[38;5;28;43mself\u001b[39;49m\u001b[38;5;241;43m.\u001b[39;49m\u001b[43mgen\u001b[49m\u001b[38;5;241;43m.\u001b[39;49m\u001b[43mthrow\u001b[49m\u001b[43m(\u001b[49m\u001b[43mvalue\u001b[49m\u001b[43m)\u001b[49m\n\u001b[1;32m    159\u001b[0m \u001b[38;5;28;01mexcept\u001b[39;00m \u001b[38;5;167;01mStopIteration\u001b[39;00m \u001b[38;5;28;01mas\u001b[39;00m exc:\n\u001b[1;32m    160\u001b[0m     \u001b[38;5;66;03m# Suppress StopIteration *unless* it's the same exception that\u001b[39;00m\n\u001b[1;32m    161\u001b[0m     \u001b[38;5;66;03m# was passed to throw().  This prevents a StopIteration\u001b[39;00m\n\u001b[1;32m    162\u001b[0m     \u001b[38;5;66;03m# raised inside the \"with\" statement from being suppressed.\u001b[39;00m\n",
      "File \u001b[0;32m~/.local/share/virtualenvs/long-term-news-llm-rag-hx-iPapI/lib/python3.12/site-packages/httpcore/_exceptions.py:14\u001b[0m, in \u001b[0;36mmap_exceptions\u001b[0;34m(map)\u001b[0m\n\u001b[1;32m     13\u001b[0m     \u001b[38;5;28;01mif\u001b[39;00m \u001b[38;5;28misinstance\u001b[39m(exc, from_exc):\n\u001b[0;32m---> 14\u001b[0m         \u001b[38;5;28;01mraise\u001b[39;00m to_exc(exc) \u001b[38;5;28;01mfrom\u001b[39;00m \u001b[38;5;21;01mexc\u001b[39;00m\n\u001b[1;32m     15\u001b[0m \u001b[38;5;28;01mraise\u001b[39;00m\n",
      "\u001b[0;31mReadTimeout\u001b[0m: timed out",
      "\nThe above exception was the direct cause of the following exception:\n",
      "\u001b[0;31mReadTimeout\u001b[0m                               Traceback (most recent call last)",
      "File \u001b[0;32m~/.local/share/virtualenvs/long-term-news-llm-rag-hx-iPapI/lib/python3.12/site-packages/openai/_base_client.py:990\u001b[0m, in \u001b[0;36mSyncAPIClient._request\u001b[0;34m(self, cast_to, options, retries_taken, stream, stream_cls)\u001b[0m\n\u001b[1;32m    989\u001b[0m \u001b[38;5;28;01mtry\u001b[39;00m:\n\u001b[0;32m--> 990\u001b[0m     response \u001b[38;5;241m=\u001b[39m \u001b[38;5;28;43mself\u001b[39;49m\u001b[38;5;241;43m.\u001b[39;49m\u001b[43m_client\u001b[49m\u001b[38;5;241;43m.\u001b[39;49m\u001b[43msend\u001b[49m\u001b[43m(\u001b[49m\n\u001b[1;32m    991\u001b[0m \u001b[43m        \u001b[49m\u001b[43mrequest\u001b[49m\u001b[43m,\u001b[49m\n\u001b[1;32m    992\u001b[0m \u001b[43m        \u001b[49m\u001b[43mstream\u001b[49m\u001b[38;5;241;43m=\u001b[39;49m\u001b[43mstream\u001b[49m\u001b[43m \u001b[49m\u001b[38;5;129;43;01mor\u001b[39;49;00m\u001b[43m \u001b[49m\u001b[38;5;28;43mself\u001b[39;49m\u001b[38;5;241;43m.\u001b[39;49m\u001b[43m_should_stream_response_body\u001b[49m\u001b[43m(\u001b[49m\u001b[43mrequest\u001b[49m\u001b[38;5;241;43m=\u001b[39;49m\u001b[43mrequest\u001b[49m\u001b[43m)\u001b[49m\u001b[43m,\u001b[49m\n\u001b[1;32m    993\u001b[0m \u001b[43m        \u001b[49m\u001b[38;5;241;43m*\u001b[39;49m\u001b[38;5;241;43m*\u001b[39;49m\u001b[43mkwargs\u001b[49m\u001b[43m,\u001b[49m\n\u001b[1;32m    994\u001b[0m \u001b[43m    \u001b[49m\u001b[43m)\u001b[49m\n\u001b[1;32m    995\u001b[0m \u001b[38;5;28;01mexcept\u001b[39;00m httpx\u001b[38;5;241m.\u001b[39mTimeoutException \u001b[38;5;28;01mas\u001b[39;00m err:\n",
      "File \u001b[0;32m~/.local/share/virtualenvs/long-term-news-llm-rag-hx-iPapI/lib/python3.12/site-packages/httpx/_client.py:926\u001b[0m, in \u001b[0;36mClient.send\u001b[0;34m(self, request, stream, auth, follow_redirects)\u001b[0m\n\u001b[1;32m    924\u001b[0m auth \u001b[38;5;241m=\u001b[39m \u001b[38;5;28mself\u001b[39m\u001b[38;5;241m.\u001b[39m_build_request_auth(request, auth)\n\u001b[0;32m--> 926\u001b[0m response \u001b[38;5;241m=\u001b[39m \u001b[38;5;28;43mself\u001b[39;49m\u001b[38;5;241;43m.\u001b[39;49m\u001b[43m_send_handling_auth\u001b[49m\u001b[43m(\u001b[49m\n\u001b[1;32m    927\u001b[0m \u001b[43m    \u001b[49m\u001b[43mrequest\u001b[49m\u001b[43m,\u001b[49m\n\u001b[1;32m    928\u001b[0m \u001b[43m    \u001b[49m\u001b[43mauth\u001b[49m\u001b[38;5;241;43m=\u001b[39;49m\u001b[43mauth\u001b[49m\u001b[43m,\u001b[49m\n\u001b[1;32m    929\u001b[0m \u001b[43m    \u001b[49m\u001b[43mfollow_redirects\u001b[49m\u001b[38;5;241;43m=\u001b[39;49m\u001b[43mfollow_redirects\u001b[49m\u001b[43m,\u001b[49m\n\u001b[1;32m    930\u001b[0m \u001b[43m    \u001b[49m\u001b[43mhistory\u001b[49m\u001b[38;5;241;43m=\u001b[39;49m\u001b[43m[\u001b[49m\u001b[43m]\u001b[49m\u001b[43m,\u001b[49m\n\u001b[1;32m    931\u001b[0m \u001b[43m\u001b[49m\u001b[43m)\u001b[49m\n\u001b[1;32m    932\u001b[0m \u001b[38;5;28;01mtry\u001b[39;00m:\n",
      "File \u001b[0;32m~/.local/share/virtualenvs/long-term-news-llm-rag-hx-iPapI/lib/python3.12/site-packages/httpx/_client.py:954\u001b[0m, in \u001b[0;36mClient._send_handling_auth\u001b[0;34m(self, request, auth, follow_redirects, history)\u001b[0m\n\u001b[1;32m    953\u001b[0m \u001b[38;5;28;01mwhile\u001b[39;00m \u001b[38;5;28;01mTrue\u001b[39;00m:\n\u001b[0;32m--> 954\u001b[0m     response \u001b[38;5;241m=\u001b[39m \u001b[38;5;28;43mself\u001b[39;49m\u001b[38;5;241;43m.\u001b[39;49m\u001b[43m_send_handling_redirects\u001b[49m\u001b[43m(\u001b[49m\n\u001b[1;32m    955\u001b[0m \u001b[43m        \u001b[49m\u001b[43mrequest\u001b[49m\u001b[43m,\u001b[49m\n\u001b[1;32m    956\u001b[0m \u001b[43m        \u001b[49m\u001b[43mfollow_redirects\u001b[49m\u001b[38;5;241;43m=\u001b[39;49m\u001b[43mfollow_redirects\u001b[49m\u001b[43m,\u001b[49m\n\u001b[1;32m    957\u001b[0m \u001b[43m        \u001b[49m\u001b[43mhistory\u001b[49m\u001b[38;5;241;43m=\u001b[39;49m\u001b[43mhistory\u001b[49m\u001b[43m,\u001b[49m\n\u001b[1;32m    958\u001b[0m \u001b[43m    \u001b[49m\u001b[43m)\u001b[49m\n\u001b[1;32m    959\u001b[0m     \u001b[38;5;28;01mtry\u001b[39;00m:\n",
      "File \u001b[0;32m~/.local/share/virtualenvs/long-term-news-llm-rag-hx-iPapI/lib/python3.12/site-packages/httpx/_client.py:991\u001b[0m, in \u001b[0;36mClient._send_handling_redirects\u001b[0;34m(self, request, follow_redirects, history)\u001b[0m\n\u001b[1;32m    989\u001b[0m     hook(request)\n\u001b[0;32m--> 991\u001b[0m response \u001b[38;5;241m=\u001b[39m \u001b[38;5;28;43mself\u001b[39;49m\u001b[38;5;241;43m.\u001b[39;49m\u001b[43m_send_single_request\u001b[49m\u001b[43m(\u001b[49m\u001b[43mrequest\u001b[49m\u001b[43m)\u001b[49m\n\u001b[1;32m    992\u001b[0m \u001b[38;5;28;01mtry\u001b[39;00m:\n",
      "File \u001b[0;32m~/.local/share/virtualenvs/long-term-news-llm-rag-hx-iPapI/lib/python3.12/site-packages/httpx/_client.py:1027\u001b[0m, in \u001b[0;36mClient._send_single_request\u001b[0;34m(self, request)\u001b[0m\n\u001b[1;32m   1026\u001b[0m \u001b[38;5;28;01mwith\u001b[39;00m request_context(request\u001b[38;5;241m=\u001b[39mrequest):\n\u001b[0;32m-> 1027\u001b[0m     response \u001b[38;5;241m=\u001b[39m \u001b[43mtransport\u001b[49m\u001b[38;5;241;43m.\u001b[39;49m\u001b[43mhandle_request\u001b[49m\u001b[43m(\u001b[49m\u001b[43mrequest\u001b[49m\u001b[43m)\u001b[49m\n\u001b[1;32m   1029\u001b[0m \u001b[38;5;28;01massert\u001b[39;00m \u001b[38;5;28misinstance\u001b[39m(response\u001b[38;5;241m.\u001b[39mstream, SyncByteStream)\n",
      "File \u001b[0;32m~/.local/share/virtualenvs/long-term-news-llm-rag-hx-iPapI/lib/python3.12/site-packages/httpx/_transports/default.py:235\u001b[0m, in \u001b[0;36mHTTPTransport.handle_request\u001b[0;34m(self, request)\u001b[0m\n\u001b[1;32m    223\u001b[0m req \u001b[38;5;241m=\u001b[39m httpcore\u001b[38;5;241m.\u001b[39mRequest(\n\u001b[1;32m    224\u001b[0m     method\u001b[38;5;241m=\u001b[39mrequest\u001b[38;5;241m.\u001b[39mmethod,\n\u001b[1;32m    225\u001b[0m     url\u001b[38;5;241m=\u001b[39mhttpcore\u001b[38;5;241m.\u001b[39mURL(\n\u001b[0;32m   (...)\u001b[0m\n\u001b[1;32m    233\u001b[0m     extensions\u001b[38;5;241m=\u001b[39mrequest\u001b[38;5;241m.\u001b[39mextensions,\n\u001b[1;32m    234\u001b[0m )\n\u001b[0;32m--> 235\u001b[0m \u001b[38;5;28;01mwith\u001b[39;00m map_httpcore_exceptions():\n\u001b[1;32m    236\u001b[0m     resp \u001b[38;5;241m=\u001b[39m \u001b[38;5;28mself\u001b[39m\u001b[38;5;241m.\u001b[39m_pool\u001b[38;5;241m.\u001b[39mhandle_request(req)\n",
      "File \u001b[0;32m/opt/homebrew/Cellar/python@3.12/3.12.7/Frameworks/Python.framework/Versions/3.12/lib/python3.12/contextlib.py:158\u001b[0m, in \u001b[0;36m_GeneratorContextManager.__exit__\u001b[0;34m(self, typ, value, traceback)\u001b[0m\n\u001b[1;32m    157\u001b[0m \u001b[38;5;28;01mtry\u001b[39;00m:\n\u001b[0;32m--> 158\u001b[0m     \u001b[38;5;28;43mself\u001b[39;49m\u001b[38;5;241;43m.\u001b[39;49m\u001b[43mgen\u001b[49m\u001b[38;5;241;43m.\u001b[39;49m\u001b[43mthrow\u001b[49m\u001b[43m(\u001b[49m\u001b[43mvalue\u001b[49m\u001b[43m)\u001b[49m\n\u001b[1;32m    159\u001b[0m \u001b[38;5;28;01mexcept\u001b[39;00m \u001b[38;5;167;01mStopIteration\u001b[39;00m \u001b[38;5;28;01mas\u001b[39;00m exc:\n\u001b[1;32m    160\u001b[0m     \u001b[38;5;66;03m# Suppress StopIteration *unless* it's the same exception that\u001b[39;00m\n\u001b[1;32m    161\u001b[0m     \u001b[38;5;66;03m# was passed to throw().  This prevents a StopIteration\u001b[39;00m\n\u001b[1;32m    162\u001b[0m     \u001b[38;5;66;03m# raised inside the \"with\" statement from being suppressed.\u001b[39;00m\n",
      "File \u001b[0;32m~/.local/share/virtualenvs/long-term-news-llm-rag-hx-iPapI/lib/python3.12/site-packages/httpx/_transports/default.py:89\u001b[0m, in \u001b[0;36mmap_httpcore_exceptions\u001b[0;34m()\u001b[0m\n\u001b[1;32m     88\u001b[0m message \u001b[38;5;241m=\u001b[39m \u001b[38;5;28mstr\u001b[39m(exc)\n\u001b[0;32m---> 89\u001b[0m \u001b[38;5;28;01mraise\u001b[39;00m mapped_exc(message) \u001b[38;5;28;01mfrom\u001b[39;00m \u001b[38;5;21;01mexc\u001b[39;00m\n",
      "\u001b[0;31mReadTimeout\u001b[0m: timed out",
      "\nThe above exception was the direct cause of the following exception:\n",
      "\u001b[0;31mAPITimeoutError\u001b[0m                           Traceback (most recent call last)",
      "Cell \u001b[0;32mIn[15], line 5\u001b[0m\n\u001b[1;32m      1\u001b[0m \u001b[38;5;66;03m# Let's try it locally\u001b[39;00m\n\u001b[1;32m      2\u001b[0m \u001b[38;5;66;03m# scraped_data = llm(prompt = prompt, model=\"llama3:70b\")\u001b[39;00m\n\u001b[1;32m      3\u001b[0m \n\u001b[1;32m      4\u001b[0m \u001b[38;5;66;03m# Result: \u001b[39;00m\n\u001b[0;32m----> 5\u001b[0m ind_news \u001b[38;5;241m=\u001b[39m \u001b[43mextract_ind_news_json\u001b[49m\u001b[43m(\u001b[49m\u001b[43mmodel\u001b[49m\u001b[38;5;241;43m=\u001b[39;49m\u001b[38;5;124;43m\"\u001b[39;49m\u001b[38;5;124;43mllama3.1:latest\u001b[39;49m\u001b[38;5;124;43m\"\u001b[39;49m\u001b[43m,\u001b[49m\u001b[43m \u001b[49m\n\u001b[1;32m      6\u001b[0m \u001b[43m                                 \u001b[49m\u001b[43mind_prompt_template\u001b[49m\u001b[38;5;241;43m=\u001b[39;49m\u001b[43mind_prompt_template\u001b[49m\u001b[43m,\u001b[49m\u001b[43m \u001b[49m\n\u001b[1;32m      7\u001b[0m \u001b[43m                                 \u001b[49m\u001b[43mind_html\u001b[49m\u001b[43m \u001b[49m\u001b[38;5;241;43m=\u001b[39;49m\u001b[43m \u001b[49m\u001b[43mfeed\u001b[49m\u001b[43m[\u001b[49m\u001b[38;5;124;43m'\u001b[39;49m\u001b[38;5;124;43mentries\u001b[39;49m\u001b[38;5;124;43m'\u001b[39;49m\u001b[43m]\u001b[49m\u001b[43m[\u001b[49m\u001b[38;5;241;43m0\u001b[39;49m\u001b[43m]\u001b[49m\u001b[43m[\u001b[49m\u001b[38;5;124;43m'\u001b[39;49m\u001b[38;5;124;43mturbo_content\u001b[39;49m\u001b[38;5;124;43m'\u001b[39;49m\u001b[43m]\u001b[49m\u001b[43m)\u001b[49m\n",
      "Cell \u001b[0;32mIn[13], line 8\u001b[0m, in \u001b[0;36mextract_ind_news_json\u001b[0;34m(model, ind_prompt_template, ind_html)\u001b[0m\n\u001b[1;32m      5\u001b[0m \u001b[38;5;28mprint\u001b[39m(\u001b[38;5;124mf\u001b[39m\u001b[38;5;124m\"\u001b[39m\u001b[38;5;124m----model used \u001b[39m\u001b[38;5;132;01m{\u001b[39;00mmodel\u001b[38;5;132;01m}\u001b[39;00m\u001b[38;5;124m \u001b[39m\u001b[38;5;130;01m\\n\u001b[39;00m\u001b[38;5;124m ------\u001b[39m\u001b[38;5;130;01m\\n\u001b[39;00m\u001b[38;5;124m prompt \u001b[39m\u001b[38;5;130;01m\\n\u001b[39;00m\u001b[38;5;132;01m{\u001b[39;00mind_news_prompt\u001b[38;5;132;01m}\u001b[39;00m\u001b[38;5;124m------\u001b[39m\u001b[38;5;130;01m\\n\u001b[39;00m\u001b[38;5;124m ind_html  \u001b[39m\u001b[38;5;132;01m{\u001b[39;00mind_html\u001b[38;5;132;01m}\u001b[39;00m\u001b[38;5;124m------\u001b[39m\u001b[38;5;124m\"\u001b[39m)\n\u001b[1;32m      7\u001b[0m start \u001b[38;5;241m=\u001b[39m time\u001b[38;5;241m.\u001b[39mtime()\n\u001b[0;32m----> 8\u001b[0m ind_scraped_data \u001b[38;5;241m=\u001b[39m \u001b[43mllm\u001b[49m\u001b[43m(\u001b[49m\u001b[43mprompt\u001b[49m\u001b[43m \u001b[49m\u001b[38;5;241;43m=\u001b[39;49m\u001b[43m \u001b[49m\u001b[43mind_news_prompt\u001b[49m\u001b[43m,\u001b[49m\u001b[43m \u001b[49m\u001b[43mmodel\u001b[49m\u001b[38;5;241;43m=\u001b[39;49m\u001b[43mmodel\u001b[49m\u001b[43m)\u001b[49m\n\u001b[1;32m      9\u001b[0m \u001b[38;5;28mprint\u001b[39m(\u001b[38;5;124mf\u001b[39m\u001b[38;5;124m\"\u001b[39m\u001b[38;5;124mtime taken for llm is \u001b[39m\u001b[38;5;132;01m{\u001b[39;00mtime\u001b[38;5;241m.\u001b[39mtime()\u001b[38;5;250m \u001b[39m\u001b[38;5;241m-\u001b[39m\u001b[38;5;250m \u001b[39mstart\u001b[38;5;132;01m}\u001b[39;00m\u001b[38;5;124m\"\u001b[39m)\n\u001b[1;32m     11\u001b[0m ind_news_json \u001b[38;5;241m=\u001b[39m json\u001b[38;5;241m.\u001b[39mloads(ind_scraped_data\u001b[38;5;241m.\u001b[39mchoices[\u001b[38;5;241m0\u001b[39m]\u001b[38;5;241m.\u001b[39mmessage\u001b[38;5;241m.\u001b[39mcontent)\n",
      "Cell \u001b[0;32mIn[9], line 15\u001b[0m, in \u001b[0;36mllm\u001b[0;34m(prompt, model)\u001b[0m\n\u001b[1;32m     13\u001b[0m     time\u001b[38;5;241m.\u001b[39msleep(RETRY_DELAY)\n\u001b[1;32m     14\u001b[0m \u001b[38;5;28;01melse\u001b[39;00m:\n\u001b[0;32m---> 15\u001b[0m     \u001b[38;5;28;01mraise\u001b[39;00m e\n",
      "Cell \u001b[0;32mIn[9], line 4\u001b[0m, in \u001b[0;36mllm\u001b[0;34m(prompt, model)\u001b[0m\n\u001b[1;32m      2\u001b[0m \u001b[38;5;28;01mfor\u001b[39;00m attempt \u001b[38;5;129;01min\u001b[39;00m \u001b[38;5;28mrange\u001b[39m(MAX_RETRIES):\n\u001b[1;32m      3\u001b[0m     \u001b[38;5;28;01mtry\u001b[39;00m:\n\u001b[0;32m----> 4\u001b[0m         response \u001b[38;5;241m=\u001b[39m \u001b[43mclient\u001b[49m\u001b[38;5;241;43m.\u001b[39;49m\u001b[43mchat\u001b[49m\u001b[38;5;241;43m.\u001b[39;49m\u001b[43mcompletions\u001b[49m\u001b[38;5;241;43m.\u001b[39;49m\u001b[43mcreate\u001b[49m\u001b[43m(\u001b[49m\n\u001b[1;32m      5\u001b[0m \u001b[43m            \u001b[49m\u001b[43mmodel\u001b[49m\u001b[38;5;241;43m=\u001b[39;49m\u001b[43mmodel\u001b[49m\u001b[43m,\u001b[49m\n\u001b[1;32m      6\u001b[0m \u001b[43m            \u001b[49m\u001b[43mtemperature\u001b[49m\u001b[38;5;241;43m=\u001b[39;49m\u001b[38;5;241;43m0.0\u001b[39;49m\u001b[43m,\u001b[49m\n\u001b[1;32m      7\u001b[0m \u001b[43m            \u001b[49m\u001b[43mmessages\u001b[49m\u001b[38;5;241;43m=\u001b[39;49m\u001b[43m[\u001b[49m\u001b[43m{\u001b[49m\u001b[38;5;124;43m\"\u001b[39;49m\u001b[38;5;124;43mrole\u001b[39;49m\u001b[38;5;124;43m\"\u001b[39;49m\u001b[43m:\u001b[49m\u001b[43m \u001b[49m\u001b[38;5;124;43m\"\u001b[39;49m\u001b[38;5;124;43muser\u001b[39;49m\u001b[38;5;124;43m\"\u001b[39;49m\u001b[43m,\u001b[49m\u001b[43m \u001b[49m\u001b[38;5;124;43m\"\u001b[39;49m\u001b[38;5;124;43mcontent\u001b[39;49m\u001b[38;5;124;43m\"\u001b[39;49m\u001b[43m:\u001b[49m\u001b[43m \u001b[49m\u001b[43mprompt\u001b[49m\u001b[43m}\u001b[49m\u001b[43m]\u001b[49m\n\u001b[1;32m      8\u001b[0m \u001b[43m        \u001b[49m\u001b[43m)\u001b[49m\n\u001b[1;32m      9\u001b[0m         \u001b[38;5;28;01mreturn\u001b[39;00m response\n\u001b[1;32m     10\u001b[0m     \u001b[38;5;28;01mexcept\u001b[39;00m \u001b[38;5;167;01mException\u001b[39;00m \u001b[38;5;28;01mas\u001b[39;00m e:\n",
      "File \u001b[0;32m~/.local/share/virtualenvs/long-term-news-llm-rag-hx-iPapI/lib/python3.12/site-packages/openai/_utils/_utils.py:274\u001b[0m, in \u001b[0;36mrequired_args.<locals>.inner.<locals>.wrapper\u001b[0;34m(*args, **kwargs)\u001b[0m\n\u001b[1;32m    272\u001b[0m             msg \u001b[38;5;241m=\u001b[39m \u001b[38;5;124mf\u001b[39m\u001b[38;5;124m\"\u001b[39m\u001b[38;5;124mMissing required argument: \u001b[39m\u001b[38;5;132;01m{\u001b[39;00mquote(missing[\u001b[38;5;241m0\u001b[39m])\u001b[38;5;132;01m}\u001b[39;00m\u001b[38;5;124m\"\u001b[39m\n\u001b[1;32m    273\u001b[0m     \u001b[38;5;28;01mraise\u001b[39;00m \u001b[38;5;167;01mTypeError\u001b[39;00m(msg)\n\u001b[0;32m--> 274\u001b[0m \u001b[38;5;28;01mreturn\u001b[39;00m \u001b[43mfunc\u001b[49m\u001b[43m(\u001b[49m\u001b[38;5;241;43m*\u001b[39;49m\u001b[43margs\u001b[49m\u001b[43m,\u001b[49m\u001b[43m \u001b[49m\u001b[38;5;241;43m*\u001b[39;49m\u001b[38;5;241;43m*\u001b[39;49m\u001b[43mkwargs\u001b[49m\u001b[43m)\u001b[49m\n",
      "File \u001b[0;32m~/.local/share/virtualenvs/long-term-news-llm-rag-hx-iPapI/lib/python3.12/site-packages/openai/resources/chat/completions.py:815\u001b[0m, in \u001b[0;36mCompletions.create\u001b[0;34m(self, messages, model, audio, frequency_penalty, function_call, functions, logit_bias, logprobs, max_completion_tokens, max_tokens, metadata, modalities, n, parallel_tool_calls, presence_penalty, response_format, seed, service_tier, stop, store, stream, stream_options, temperature, tool_choice, tools, top_logprobs, top_p, user, extra_headers, extra_query, extra_body, timeout)\u001b[0m\n\u001b[1;32m    775\u001b[0m \u001b[38;5;129m@required_args\u001b[39m([\u001b[38;5;124m\"\u001b[39m\u001b[38;5;124mmessages\u001b[39m\u001b[38;5;124m\"\u001b[39m, \u001b[38;5;124m\"\u001b[39m\u001b[38;5;124mmodel\u001b[39m\u001b[38;5;124m\"\u001b[39m], [\u001b[38;5;124m\"\u001b[39m\u001b[38;5;124mmessages\u001b[39m\u001b[38;5;124m\"\u001b[39m, \u001b[38;5;124m\"\u001b[39m\u001b[38;5;124mmodel\u001b[39m\u001b[38;5;124m\"\u001b[39m, \u001b[38;5;124m\"\u001b[39m\u001b[38;5;124mstream\u001b[39m\u001b[38;5;124m\"\u001b[39m])\n\u001b[1;32m    776\u001b[0m \u001b[38;5;28;01mdef\u001b[39;00m \u001b[38;5;21mcreate\u001b[39m(\n\u001b[1;32m    777\u001b[0m     \u001b[38;5;28mself\u001b[39m,\n\u001b[0;32m   (...)\u001b[0m\n\u001b[1;32m    812\u001b[0m     timeout: \u001b[38;5;28mfloat\u001b[39m \u001b[38;5;241m|\u001b[39m httpx\u001b[38;5;241m.\u001b[39mTimeout \u001b[38;5;241m|\u001b[39m \u001b[38;5;28;01mNone\u001b[39;00m \u001b[38;5;241m|\u001b[39m NotGiven \u001b[38;5;241m=\u001b[39m NOT_GIVEN,\n\u001b[1;32m    813\u001b[0m ) \u001b[38;5;241m-\u001b[39m\u001b[38;5;241m>\u001b[39m ChatCompletion \u001b[38;5;241m|\u001b[39m Stream[ChatCompletionChunk]:\n\u001b[1;32m    814\u001b[0m     validate_response_format(response_format)\n\u001b[0;32m--> 815\u001b[0m     \u001b[38;5;28;01mreturn\u001b[39;00m \u001b[38;5;28;43mself\u001b[39;49m\u001b[38;5;241;43m.\u001b[39;49m\u001b[43m_post\u001b[49m\u001b[43m(\u001b[49m\n\u001b[1;32m    816\u001b[0m \u001b[43m        \u001b[49m\u001b[38;5;124;43m\"\u001b[39;49m\u001b[38;5;124;43m/chat/completions\u001b[39;49m\u001b[38;5;124;43m\"\u001b[39;49m\u001b[43m,\u001b[49m\n\u001b[1;32m    817\u001b[0m \u001b[43m        \u001b[49m\u001b[43mbody\u001b[49m\u001b[38;5;241;43m=\u001b[39;49m\u001b[43mmaybe_transform\u001b[49m\u001b[43m(\u001b[49m\n\u001b[1;32m    818\u001b[0m \u001b[43m            \u001b[49m\u001b[43m{\u001b[49m\n\u001b[1;32m    819\u001b[0m \u001b[43m                \u001b[49m\u001b[38;5;124;43m\"\u001b[39;49m\u001b[38;5;124;43mmessages\u001b[39;49m\u001b[38;5;124;43m\"\u001b[39;49m\u001b[43m:\u001b[49m\u001b[43m \u001b[49m\u001b[43mmessages\u001b[49m\u001b[43m,\u001b[49m\n\u001b[1;32m    820\u001b[0m \u001b[43m                \u001b[49m\u001b[38;5;124;43m\"\u001b[39;49m\u001b[38;5;124;43mmodel\u001b[39;49m\u001b[38;5;124;43m\"\u001b[39;49m\u001b[43m:\u001b[49m\u001b[43m \u001b[49m\u001b[43mmodel\u001b[49m\u001b[43m,\u001b[49m\n\u001b[1;32m    821\u001b[0m \u001b[43m                \u001b[49m\u001b[38;5;124;43m\"\u001b[39;49m\u001b[38;5;124;43maudio\u001b[39;49m\u001b[38;5;124;43m\"\u001b[39;49m\u001b[43m:\u001b[49m\u001b[43m \u001b[49m\u001b[43maudio\u001b[49m\u001b[43m,\u001b[49m\n\u001b[1;32m    822\u001b[0m \u001b[43m                \u001b[49m\u001b[38;5;124;43m\"\u001b[39;49m\u001b[38;5;124;43mfrequency_penalty\u001b[39;49m\u001b[38;5;124;43m\"\u001b[39;49m\u001b[43m:\u001b[49m\u001b[43m \u001b[49m\u001b[43mfrequency_penalty\u001b[49m\u001b[43m,\u001b[49m\n\u001b[1;32m    823\u001b[0m \u001b[43m                \u001b[49m\u001b[38;5;124;43m\"\u001b[39;49m\u001b[38;5;124;43mfunction_call\u001b[39;49m\u001b[38;5;124;43m\"\u001b[39;49m\u001b[43m:\u001b[49m\u001b[43m \u001b[49m\u001b[43mfunction_call\u001b[49m\u001b[43m,\u001b[49m\n\u001b[1;32m    824\u001b[0m \u001b[43m                \u001b[49m\u001b[38;5;124;43m\"\u001b[39;49m\u001b[38;5;124;43mfunctions\u001b[39;49m\u001b[38;5;124;43m\"\u001b[39;49m\u001b[43m:\u001b[49m\u001b[43m \u001b[49m\u001b[43mfunctions\u001b[49m\u001b[43m,\u001b[49m\n\u001b[1;32m    825\u001b[0m \u001b[43m                \u001b[49m\u001b[38;5;124;43m\"\u001b[39;49m\u001b[38;5;124;43mlogit_bias\u001b[39;49m\u001b[38;5;124;43m\"\u001b[39;49m\u001b[43m:\u001b[49m\u001b[43m \u001b[49m\u001b[43mlogit_bias\u001b[49m\u001b[43m,\u001b[49m\n\u001b[1;32m    826\u001b[0m \u001b[43m                \u001b[49m\u001b[38;5;124;43m\"\u001b[39;49m\u001b[38;5;124;43mlogprobs\u001b[39;49m\u001b[38;5;124;43m\"\u001b[39;49m\u001b[43m:\u001b[49m\u001b[43m \u001b[49m\u001b[43mlogprobs\u001b[49m\u001b[43m,\u001b[49m\n\u001b[1;32m    827\u001b[0m \u001b[43m                \u001b[49m\u001b[38;5;124;43m\"\u001b[39;49m\u001b[38;5;124;43mmax_completion_tokens\u001b[39;49m\u001b[38;5;124;43m\"\u001b[39;49m\u001b[43m:\u001b[49m\u001b[43m \u001b[49m\u001b[43mmax_completion_tokens\u001b[49m\u001b[43m,\u001b[49m\n\u001b[1;32m    828\u001b[0m \u001b[43m                \u001b[49m\u001b[38;5;124;43m\"\u001b[39;49m\u001b[38;5;124;43mmax_tokens\u001b[39;49m\u001b[38;5;124;43m\"\u001b[39;49m\u001b[43m:\u001b[49m\u001b[43m \u001b[49m\u001b[43mmax_tokens\u001b[49m\u001b[43m,\u001b[49m\n\u001b[1;32m    829\u001b[0m \u001b[43m                \u001b[49m\u001b[38;5;124;43m\"\u001b[39;49m\u001b[38;5;124;43mmetadata\u001b[39;49m\u001b[38;5;124;43m\"\u001b[39;49m\u001b[43m:\u001b[49m\u001b[43m \u001b[49m\u001b[43mmetadata\u001b[49m\u001b[43m,\u001b[49m\n\u001b[1;32m    830\u001b[0m \u001b[43m                \u001b[49m\u001b[38;5;124;43m\"\u001b[39;49m\u001b[38;5;124;43mmodalities\u001b[39;49m\u001b[38;5;124;43m\"\u001b[39;49m\u001b[43m:\u001b[49m\u001b[43m \u001b[49m\u001b[43mmodalities\u001b[49m\u001b[43m,\u001b[49m\n\u001b[1;32m    831\u001b[0m \u001b[43m                \u001b[49m\u001b[38;5;124;43m\"\u001b[39;49m\u001b[38;5;124;43mn\u001b[39;49m\u001b[38;5;124;43m\"\u001b[39;49m\u001b[43m:\u001b[49m\u001b[43m \u001b[49m\u001b[43mn\u001b[49m\u001b[43m,\u001b[49m\n\u001b[1;32m    832\u001b[0m \u001b[43m                \u001b[49m\u001b[38;5;124;43m\"\u001b[39;49m\u001b[38;5;124;43mparallel_tool_calls\u001b[39;49m\u001b[38;5;124;43m\"\u001b[39;49m\u001b[43m:\u001b[49m\u001b[43m \u001b[49m\u001b[43mparallel_tool_calls\u001b[49m\u001b[43m,\u001b[49m\n\u001b[1;32m    833\u001b[0m \u001b[43m                \u001b[49m\u001b[38;5;124;43m\"\u001b[39;49m\u001b[38;5;124;43mpresence_penalty\u001b[39;49m\u001b[38;5;124;43m\"\u001b[39;49m\u001b[43m:\u001b[49m\u001b[43m \u001b[49m\u001b[43mpresence_penalty\u001b[49m\u001b[43m,\u001b[49m\n\u001b[1;32m    834\u001b[0m \u001b[43m                \u001b[49m\u001b[38;5;124;43m\"\u001b[39;49m\u001b[38;5;124;43mresponse_format\u001b[39;49m\u001b[38;5;124;43m\"\u001b[39;49m\u001b[43m:\u001b[49m\u001b[43m \u001b[49m\u001b[43mresponse_format\u001b[49m\u001b[43m,\u001b[49m\n\u001b[1;32m    835\u001b[0m \u001b[43m                \u001b[49m\u001b[38;5;124;43m\"\u001b[39;49m\u001b[38;5;124;43mseed\u001b[39;49m\u001b[38;5;124;43m\"\u001b[39;49m\u001b[43m:\u001b[49m\u001b[43m \u001b[49m\u001b[43mseed\u001b[49m\u001b[43m,\u001b[49m\n\u001b[1;32m    836\u001b[0m \u001b[43m                \u001b[49m\u001b[38;5;124;43m\"\u001b[39;49m\u001b[38;5;124;43mservice_tier\u001b[39;49m\u001b[38;5;124;43m\"\u001b[39;49m\u001b[43m:\u001b[49m\u001b[43m \u001b[49m\u001b[43mservice_tier\u001b[49m\u001b[43m,\u001b[49m\n\u001b[1;32m    837\u001b[0m \u001b[43m                \u001b[49m\u001b[38;5;124;43m\"\u001b[39;49m\u001b[38;5;124;43mstop\u001b[39;49m\u001b[38;5;124;43m\"\u001b[39;49m\u001b[43m:\u001b[49m\u001b[43m \u001b[49m\u001b[43mstop\u001b[49m\u001b[43m,\u001b[49m\n\u001b[1;32m    838\u001b[0m \u001b[43m                \u001b[49m\u001b[38;5;124;43m\"\u001b[39;49m\u001b[38;5;124;43mstore\u001b[39;49m\u001b[38;5;124;43m\"\u001b[39;49m\u001b[43m:\u001b[49m\u001b[43m \u001b[49m\u001b[43mstore\u001b[49m\u001b[43m,\u001b[49m\n\u001b[1;32m    839\u001b[0m \u001b[43m                \u001b[49m\u001b[38;5;124;43m\"\u001b[39;49m\u001b[38;5;124;43mstream\u001b[39;49m\u001b[38;5;124;43m\"\u001b[39;49m\u001b[43m:\u001b[49m\u001b[43m \u001b[49m\u001b[43mstream\u001b[49m\u001b[43m,\u001b[49m\n\u001b[1;32m    840\u001b[0m \u001b[43m                \u001b[49m\u001b[38;5;124;43m\"\u001b[39;49m\u001b[38;5;124;43mstream_options\u001b[39;49m\u001b[38;5;124;43m\"\u001b[39;49m\u001b[43m:\u001b[49m\u001b[43m \u001b[49m\u001b[43mstream_options\u001b[49m\u001b[43m,\u001b[49m\n\u001b[1;32m    841\u001b[0m \u001b[43m                \u001b[49m\u001b[38;5;124;43m\"\u001b[39;49m\u001b[38;5;124;43mtemperature\u001b[39;49m\u001b[38;5;124;43m\"\u001b[39;49m\u001b[43m:\u001b[49m\u001b[43m \u001b[49m\u001b[43mtemperature\u001b[49m\u001b[43m,\u001b[49m\n\u001b[1;32m    842\u001b[0m \u001b[43m                \u001b[49m\u001b[38;5;124;43m\"\u001b[39;49m\u001b[38;5;124;43mtool_choice\u001b[39;49m\u001b[38;5;124;43m\"\u001b[39;49m\u001b[43m:\u001b[49m\u001b[43m \u001b[49m\u001b[43mtool_choice\u001b[49m\u001b[43m,\u001b[49m\n\u001b[1;32m    843\u001b[0m \u001b[43m                \u001b[49m\u001b[38;5;124;43m\"\u001b[39;49m\u001b[38;5;124;43mtools\u001b[39;49m\u001b[38;5;124;43m\"\u001b[39;49m\u001b[43m:\u001b[49m\u001b[43m \u001b[49m\u001b[43mtools\u001b[49m\u001b[43m,\u001b[49m\n\u001b[1;32m    844\u001b[0m \u001b[43m                \u001b[49m\u001b[38;5;124;43m\"\u001b[39;49m\u001b[38;5;124;43mtop_logprobs\u001b[39;49m\u001b[38;5;124;43m\"\u001b[39;49m\u001b[43m:\u001b[49m\u001b[43m \u001b[49m\u001b[43mtop_logprobs\u001b[49m\u001b[43m,\u001b[49m\n\u001b[1;32m    845\u001b[0m \u001b[43m                \u001b[49m\u001b[38;5;124;43m\"\u001b[39;49m\u001b[38;5;124;43mtop_p\u001b[39;49m\u001b[38;5;124;43m\"\u001b[39;49m\u001b[43m:\u001b[49m\u001b[43m \u001b[49m\u001b[43mtop_p\u001b[49m\u001b[43m,\u001b[49m\n\u001b[1;32m    846\u001b[0m \u001b[43m                \u001b[49m\u001b[38;5;124;43m\"\u001b[39;49m\u001b[38;5;124;43muser\u001b[39;49m\u001b[38;5;124;43m\"\u001b[39;49m\u001b[43m:\u001b[49m\u001b[43m \u001b[49m\u001b[43muser\u001b[49m\u001b[43m,\u001b[49m\n\u001b[1;32m    847\u001b[0m \u001b[43m            \u001b[49m\u001b[43m}\u001b[49m\u001b[43m,\u001b[49m\n\u001b[1;32m    848\u001b[0m \u001b[43m            \u001b[49m\u001b[43mcompletion_create_params\u001b[49m\u001b[38;5;241;43m.\u001b[39;49m\u001b[43mCompletionCreateParams\u001b[49m\u001b[43m,\u001b[49m\n\u001b[1;32m    849\u001b[0m \u001b[43m        \u001b[49m\u001b[43m)\u001b[49m\u001b[43m,\u001b[49m\n\u001b[1;32m    850\u001b[0m \u001b[43m        \u001b[49m\u001b[43moptions\u001b[49m\u001b[38;5;241;43m=\u001b[39;49m\u001b[43mmake_request_options\u001b[49m\u001b[43m(\u001b[49m\n\u001b[1;32m    851\u001b[0m \u001b[43m            \u001b[49m\u001b[43mextra_headers\u001b[49m\u001b[38;5;241;43m=\u001b[39;49m\u001b[43mextra_headers\u001b[49m\u001b[43m,\u001b[49m\u001b[43m \u001b[49m\u001b[43mextra_query\u001b[49m\u001b[38;5;241;43m=\u001b[39;49m\u001b[43mextra_query\u001b[49m\u001b[43m,\u001b[49m\u001b[43m \u001b[49m\u001b[43mextra_body\u001b[49m\u001b[38;5;241;43m=\u001b[39;49m\u001b[43mextra_body\u001b[49m\u001b[43m,\u001b[49m\u001b[43m \u001b[49m\u001b[43mtimeout\u001b[49m\u001b[38;5;241;43m=\u001b[39;49m\u001b[43mtimeout\u001b[49m\n\u001b[1;32m    852\u001b[0m \u001b[43m        \u001b[49m\u001b[43m)\u001b[49m\u001b[43m,\u001b[49m\n\u001b[1;32m    853\u001b[0m \u001b[43m        \u001b[49m\u001b[43mcast_to\u001b[49m\u001b[38;5;241;43m=\u001b[39;49m\u001b[43mChatCompletion\u001b[49m\u001b[43m,\u001b[49m\n\u001b[1;32m    854\u001b[0m \u001b[43m        \u001b[49m\u001b[43mstream\u001b[49m\u001b[38;5;241;43m=\u001b[39;49m\u001b[43mstream\u001b[49m\u001b[43m \u001b[49m\u001b[38;5;129;43;01mor\u001b[39;49;00m\u001b[43m \u001b[49m\u001b[38;5;28;43;01mFalse\u001b[39;49;00m\u001b[43m,\u001b[49m\n\u001b[1;32m    855\u001b[0m \u001b[43m        \u001b[49m\u001b[43mstream_cls\u001b[49m\u001b[38;5;241;43m=\u001b[39;49m\u001b[43mStream\u001b[49m\u001b[43m[\u001b[49m\u001b[43mChatCompletionChunk\u001b[49m\u001b[43m]\u001b[49m\u001b[43m,\u001b[49m\n\u001b[1;32m    856\u001b[0m \u001b[43m    \u001b[49m\u001b[43m)\u001b[49m\n",
      "File \u001b[0;32m~/.local/share/virtualenvs/long-term-news-llm-rag-hx-iPapI/lib/python3.12/site-packages/openai/_base_client.py:1277\u001b[0m, in \u001b[0;36mSyncAPIClient.post\u001b[0;34m(self, path, cast_to, body, options, files, stream, stream_cls)\u001b[0m\n\u001b[1;32m   1263\u001b[0m \u001b[38;5;28;01mdef\u001b[39;00m \u001b[38;5;21mpost\u001b[39m(\n\u001b[1;32m   1264\u001b[0m     \u001b[38;5;28mself\u001b[39m,\n\u001b[1;32m   1265\u001b[0m     path: \u001b[38;5;28mstr\u001b[39m,\n\u001b[0;32m   (...)\u001b[0m\n\u001b[1;32m   1272\u001b[0m     stream_cls: \u001b[38;5;28mtype\u001b[39m[_StreamT] \u001b[38;5;241m|\u001b[39m \u001b[38;5;28;01mNone\u001b[39;00m \u001b[38;5;241m=\u001b[39m \u001b[38;5;28;01mNone\u001b[39;00m,\n\u001b[1;32m   1273\u001b[0m ) \u001b[38;5;241m-\u001b[39m\u001b[38;5;241m>\u001b[39m ResponseT \u001b[38;5;241m|\u001b[39m _StreamT:\n\u001b[1;32m   1274\u001b[0m     opts \u001b[38;5;241m=\u001b[39m FinalRequestOptions\u001b[38;5;241m.\u001b[39mconstruct(\n\u001b[1;32m   1275\u001b[0m         method\u001b[38;5;241m=\u001b[39m\u001b[38;5;124m\"\u001b[39m\u001b[38;5;124mpost\u001b[39m\u001b[38;5;124m\"\u001b[39m, url\u001b[38;5;241m=\u001b[39mpath, json_data\u001b[38;5;241m=\u001b[39mbody, files\u001b[38;5;241m=\u001b[39mto_httpx_files(files), \u001b[38;5;241m*\u001b[39m\u001b[38;5;241m*\u001b[39moptions\n\u001b[1;32m   1276\u001b[0m     )\n\u001b[0;32m-> 1277\u001b[0m     \u001b[38;5;28;01mreturn\u001b[39;00m cast(ResponseT, \u001b[38;5;28;43mself\u001b[39;49m\u001b[38;5;241;43m.\u001b[39;49m\u001b[43mrequest\u001b[49m\u001b[43m(\u001b[49m\u001b[43mcast_to\u001b[49m\u001b[43m,\u001b[49m\u001b[43m \u001b[49m\u001b[43mopts\u001b[49m\u001b[43m,\u001b[49m\u001b[43m \u001b[49m\u001b[43mstream\u001b[49m\u001b[38;5;241;43m=\u001b[39;49m\u001b[43mstream\u001b[49m\u001b[43m,\u001b[49m\u001b[43m \u001b[49m\u001b[43mstream_cls\u001b[49m\u001b[38;5;241;43m=\u001b[39;49m\u001b[43mstream_cls\u001b[49m\u001b[43m)\u001b[49m)\n",
      "File \u001b[0;32m~/.local/share/virtualenvs/long-term-news-llm-rag-hx-iPapI/lib/python3.12/site-packages/openai/_base_client.py:954\u001b[0m, in \u001b[0;36mSyncAPIClient.request\u001b[0;34m(self, cast_to, options, remaining_retries, stream, stream_cls)\u001b[0m\n\u001b[1;32m    951\u001b[0m \u001b[38;5;28;01melse\u001b[39;00m:\n\u001b[1;32m    952\u001b[0m     retries_taken \u001b[38;5;241m=\u001b[39m \u001b[38;5;241m0\u001b[39m\n\u001b[0;32m--> 954\u001b[0m \u001b[38;5;28;01mreturn\u001b[39;00m \u001b[38;5;28;43mself\u001b[39;49m\u001b[38;5;241;43m.\u001b[39;49m\u001b[43m_request\u001b[49m\u001b[43m(\u001b[49m\n\u001b[1;32m    955\u001b[0m \u001b[43m    \u001b[49m\u001b[43mcast_to\u001b[49m\u001b[38;5;241;43m=\u001b[39;49m\u001b[43mcast_to\u001b[49m\u001b[43m,\u001b[49m\n\u001b[1;32m    956\u001b[0m \u001b[43m    \u001b[49m\u001b[43moptions\u001b[49m\u001b[38;5;241;43m=\u001b[39;49m\u001b[43moptions\u001b[49m\u001b[43m,\u001b[49m\n\u001b[1;32m    957\u001b[0m \u001b[43m    \u001b[49m\u001b[43mstream\u001b[49m\u001b[38;5;241;43m=\u001b[39;49m\u001b[43mstream\u001b[49m\u001b[43m,\u001b[49m\n\u001b[1;32m    958\u001b[0m \u001b[43m    \u001b[49m\u001b[43mstream_cls\u001b[49m\u001b[38;5;241;43m=\u001b[39;49m\u001b[43mstream_cls\u001b[49m\u001b[43m,\u001b[49m\n\u001b[1;32m    959\u001b[0m \u001b[43m    \u001b[49m\u001b[43mretries_taken\u001b[49m\u001b[38;5;241;43m=\u001b[39;49m\u001b[43mretries_taken\u001b[49m\u001b[43m,\u001b[49m\n\u001b[1;32m    960\u001b[0m \u001b[43m\u001b[49m\u001b[43m)\u001b[49m\n",
      "File \u001b[0;32m~/.local/share/virtualenvs/long-term-news-llm-rag-hx-iPapI/lib/python3.12/site-packages/openai/_base_client.py:999\u001b[0m, in \u001b[0;36mSyncAPIClient._request\u001b[0;34m(self, cast_to, options, retries_taken, stream, stream_cls)\u001b[0m\n\u001b[1;32m    996\u001b[0m log\u001b[38;5;241m.\u001b[39mdebug(\u001b[38;5;124m\"\u001b[39m\u001b[38;5;124mEncountered httpx.TimeoutException\u001b[39m\u001b[38;5;124m\"\u001b[39m, exc_info\u001b[38;5;241m=\u001b[39m\u001b[38;5;28;01mTrue\u001b[39;00m)\n\u001b[1;32m    998\u001b[0m \u001b[38;5;28;01mif\u001b[39;00m remaining_retries \u001b[38;5;241m>\u001b[39m \u001b[38;5;241m0\u001b[39m:\n\u001b[0;32m--> 999\u001b[0m     \u001b[38;5;28;01mreturn\u001b[39;00m \u001b[38;5;28;43mself\u001b[39;49m\u001b[38;5;241;43m.\u001b[39;49m\u001b[43m_retry_request\u001b[49m\u001b[43m(\u001b[49m\n\u001b[1;32m   1000\u001b[0m \u001b[43m        \u001b[49m\u001b[43minput_options\u001b[49m\u001b[43m,\u001b[49m\n\u001b[1;32m   1001\u001b[0m \u001b[43m        \u001b[49m\u001b[43mcast_to\u001b[49m\u001b[43m,\u001b[49m\n\u001b[1;32m   1002\u001b[0m \u001b[43m        \u001b[49m\u001b[43mretries_taken\u001b[49m\u001b[38;5;241;43m=\u001b[39;49m\u001b[43mretries_taken\u001b[49m\u001b[43m,\u001b[49m\n\u001b[1;32m   1003\u001b[0m \u001b[43m        \u001b[49m\u001b[43mstream\u001b[49m\u001b[38;5;241;43m=\u001b[39;49m\u001b[43mstream\u001b[49m\u001b[43m,\u001b[49m\n\u001b[1;32m   1004\u001b[0m \u001b[43m        \u001b[49m\u001b[43mstream_cls\u001b[49m\u001b[38;5;241;43m=\u001b[39;49m\u001b[43mstream_cls\u001b[49m\u001b[43m,\u001b[49m\n\u001b[1;32m   1005\u001b[0m \u001b[43m        \u001b[49m\u001b[43mresponse_headers\u001b[49m\u001b[38;5;241;43m=\u001b[39;49m\u001b[38;5;28;43;01mNone\u001b[39;49;00m\u001b[43m,\u001b[49m\n\u001b[1;32m   1006\u001b[0m \u001b[43m    \u001b[49m\u001b[43m)\u001b[49m\n\u001b[1;32m   1008\u001b[0m log\u001b[38;5;241m.\u001b[39mdebug(\u001b[38;5;124m\"\u001b[39m\u001b[38;5;124mRaising timeout error\u001b[39m\u001b[38;5;124m\"\u001b[39m)\n\u001b[1;32m   1009\u001b[0m \u001b[38;5;28;01mraise\u001b[39;00m APITimeoutError(request\u001b[38;5;241m=\u001b[39mrequest) \u001b[38;5;28;01mfrom\u001b[39;00m \u001b[38;5;21;01merr\u001b[39;00m\n",
      "File \u001b[0;32m~/.local/share/virtualenvs/long-term-news-llm-rag-hx-iPapI/lib/python3.12/site-packages/openai/_base_client.py:1092\u001b[0m, in \u001b[0;36mSyncAPIClient._retry_request\u001b[0;34m(self, options, cast_to, retries_taken, response_headers, stream, stream_cls)\u001b[0m\n\u001b[1;32m   1088\u001b[0m \u001b[38;5;66;03m# In a synchronous context we are blocking the entire thread. Up to the library user to run the client in a\u001b[39;00m\n\u001b[1;32m   1089\u001b[0m \u001b[38;5;66;03m# different thread if necessary.\u001b[39;00m\n\u001b[1;32m   1090\u001b[0m time\u001b[38;5;241m.\u001b[39msleep(timeout)\n\u001b[0;32m-> 1092\u001b[0m \u001b[38;5;28;01mreturn\u001b[39;00m \u001b[38;5;28;43mself\u001b[39;49m\u001b[38;5;241;43m.\u001b[39;49m\u001b[43m_request\u001b[49m\u001b[43m(\u001b[49m\n\u001b[1;32m   1093\u001b[0m \u001b[43m    \u001b[49m\u001b[43moptions\u001b[49m\u001b[38;5;241;43m=\u001b[39;49m\u001b[43moptions\u001b[49m\u001b[43m,\u001b[49m\n\u001b[1;32m   1094\u001b[0m \u001b[43m    \u001b[49m\u001b[43mcast_to\u001b[49m\u001b[38;5;241;43m=\u001b[39;49m\u001b[43mcast_to\u001b[49m\u001b[43m,\u001b[49m\n\u001b[1;32m   1095\u001b[0m \u001b[43m    \u001b[49m\u001b[43mretries_taken\u001b[49m\u001b[38;5;241;43m=\u001b[39;49m\u001b[43mretries_taken\u001b[49m\u001b[43m \u001b[49m\u001b[38;5;241;43m+\u001b[39;49m\u001b[43m \u001b[49m\u001b[38;5;241;43m1\u001b[39;49m\u001b[43m,\u001b[49m\n\u001b[1;32m   1096\u001b[0m \u001b[43m    \u001b[49m\u001b[43mstream\u001b[49m\u001b[38;5;241;43m=\u001b[39;49m\u001b[43mstream\u001b[49m\u001b[43m,\u001b[49m\n\u001b[1;32m   1097\u001b[0m \u001b[43m    \u001b[49m\u001b[43mstream_cls\u001b[49m\u001b[38;5;241;43m=\u001b[39;49m\u001b[43mstream_cls\u001b[49m\u001b[43m,\u001b[49m\n\u001b[1;32m   1098\u001b[0m \u001b[43m\u001b[49m\u001b[43m)\u001b[49m\n",
      "File \u001b[0;32m~/.local/share/virtualenvs/long-term-news-llm-rag-hx-iPapI/lib/python3.12/site-packages/openai/_base_client.py:999\u001b[0m, in \u001b[0;36mSyncAPIClient._request\u001b[0;34m(self, cast_to, options, retries_taken, stream, stream_cls)\u001b[0m\n\u001b[1;32m    996\u001b[0m log\u001b[38;5;241m.\u001b[39mdebug(\u001b[38;5;124m\"\u001b[39m\u001b[38;5;124mEncountered httpx.TimeoutException\u001b[39m\u001b[38;5;124m\"\u001b[39m, exc_info\u001b[38;5;241m=\u001b[39m\u001b[38;5;28;01mTrue\u001b[39;00m)\n\u001b[1;32m    998\u001b[0m \u001b[38;5;28;01mif\u001b[39;00m remaining_retries \u001b[38;5;241m>\u001b[39m \u001b[38;5;241m0\u001b[39m:\n\u001b[0;32m--> 999\u001b[0m     \u001b[38;5;28;01mreturn\u001b[39;00m \u001b[38;5;28;43mself\u001b[39;49m\u001b[38;5;241;43m.\u001b[39;49m\u001b[43m_retry_request\u001b[49m\u001b[43m(\u001b[49m\n\u001b[1;32m   1000\u001b[0m \u001b[43m        \u001b[49m\u001b[43minput_options\u001b[49m\u001b[43m,\u001b[49m\n\u001b[1;32m   1001\u001b[0m \u001b[43m        \u001b[49m\u001b[43mcast_to\u001b[49m\u001b[43m,\u001b[49m\n\u001b[1;32m   1002\u001b[0m \u001b[43m        \u001b[49m\u001b[43mretries_taken\u001b[49m\u001b[38;5;241;43m=\u001b[39;49m\u001b[43mretries_taken\u001b[49m\u001b[43m,\u001b[49m\n\u001b[1;32m   1003\u001b[0m \u001b[43m        \u001b[49m\u001b[43mstream\u001b[49m\u001b[38;5;241;43m=\u001b[39;49m\u001b[43mstream\u001b[49m\u001b[43m,\u001b[49m\n\u001b[1;32m   1004\u001b[0m \u001b[43m        \u001b[49m\u001b[43mstream_cls\u001b[49m\u001b[38;5;241;43m=\u001b[39;49m\u001b[43mstream_cls\u001b[49m\u001b[43m,\u001b[49m\n\u001b[1;32m   1005\u001b[0m \u001b[43m        \u001b[49m\u001b[43mresponse_headers\u001b[49m\u001b[38;5;241;43m=\u001b[39;49m\u001b[38;5;28;43;01mNone\u001b[39;49;00m\u001b[43m,\u001b[49m\n\u001b[1;32m   1006\u001b[0m \u001b[43m    \u001b[49m\u001b[43m)\u001b[49m\n\u001b[1;32m   1008\u001b[0m log\u001b[38;5;241m.\u001b[39mdebug(\u001b[38;5;124m\"\u001b[39m\u001b[38;5;124mRaising timeout error\u001b[39m\u001b[38;5;124m\"\u001b[39m)\n\u001b[1;32m   1009\u001b[0m \u001b[38;5;28;01mraise\u001b[39;00m APITimeoutError(request\u001b[38;5;241m=\u001b[39mrequest) \u001b[38;5;28;01mfrom\u001b[39;00m \u001b[38;5;21;01merr\u001b[39;00m\n",
      "File \u001b[0;32m~/.local/share/virtualenvs/long-term-news-llm-rag-hx-iPapI/lib/python3.12/site-packages/openai/_base_client.py:1092\u001b[0m, in \u001b[0;36mSyncAPIClient._retry_request\u001b[0;34m(self, options, cast_to, retries_taken, response_headers, stream, stream_cls)\u001b[0m\n\u001b[1;32m   1088\u001b[0m \u001b[38;5;66;03m# In a synchronous context we are blocking the entire thread. Up to the library user to run the client in a\u001b[39;00m\n\u001b[1;32m   1089\u001b[0m \u001b[38;5;66;03m# different thread if necessary.\u001b[39;00m\n\u001b[1;32m   1090\u001b[0m time\u001b[38;5;241m.\u001b[39msleep(timeout)\n\u001b[0;32m-> 1092\u001b[0m \u001b[38;5;28;01mreturn\u001b[39;00m \u001b[38;5;28;43mself\u001b[39;49m\u001b[38;5;241;43m.\u001b[39;49m\u001b[43m_request\u001b[49m\u001b[43m(\u001b[49m\n\u001b[1;32m   1093\u001b[0m \u001b[43m    \u001b[49m\u001b[43moptions\u001b[49m\u001b[38;5;241;43m=\u001b[39;49m\u001b[43moptions\u001b[49m\u001b[43m,\u001b[49m\n\u001b[1;32m   1094\u001b[0m \u001b[43m    \u001b[49m\u001b[43mcast_to\u001b[49m\u001b[38;5;241;43m=\u001b[39;49m\u001b[43mcast_to\u001b[49m\u001b[43m,\u001b[49m\n\u001b[1;32m   1095\u001b[0m \u001b[43m    \u001b[49m\u001b[43mretries_taken\u001b[49m\u001b[38;5;241;43m=\u001b[39;49m\u001b[43mretries_taken\u001b[49m\u001b[43m \u001b[49m\u001b[38;5;241;43m+\u001b[39;49m\u001b[43m \u001b[49m\u001b[38;5;241;43m1\u001b[39;49m\u001b[43m,\u001b[49m\n\u001b[1;32m   1096\u001b[0m \u001b[43m    \u001b[49m\u001b[43mstream\u001b[49m\u001b[38;5;241;43m=\u001b[39;49m\u001b[43mstream\u001b[49m\u001b[43m,\u001b[49m\n\u001b[1;32m   1097\u001b[0m \u001b[43m    \u001b[49m\u001b[43mstream_cls\u001b[49m\u001b[38;5;241;43m=\u001b[39;49m\u001b[43mstream_cls\u001b[49m\u001b[43m,\u001b[49m\n\u001b[1;32m   1098\u001b[0m \u001b[43m\u001b[49m\u001b[43m)\u001b[49m\n",
      "File \u001b[0;32m~/.local/share/virtualenvs/long-term-news-llm-rag-hx-iPapI/lib/python3.12/site-packages/openai/_base_client.py:1009\u001b[0m, in \u001b[0;36mSyncAPIClient._request\u001b[0;34m(self, cast_to, options, retries_taken, stream, stream_cls)\u001b[0m\n\u001b[1;32m    999\u001b[0m         \u001b[38;5;28;01mreturn\u001b[39;00m \u001b[38;5;28mself\u001b[39m\u001b[38;5;241m.\u001b[39m_retry_request(\n\u001b[1;32m   1000\u001b[0m             input_options,\n\u001b[1;32m   1001\u001b[0m             cast_to,\n\u001b[0;32m   (...)\u001b[0m\n\u001b[1;32m   1005\u001b[0m             response_headers\u001b[38;5;241m=\u001b[39m\u001b[38;5;28;01mNone\u001b[39;00m,\n\u001b[1;32m   1006\u001b[0m         )\n\u001b[1;32m   1008\u001b[0m     log\u001b[38;5;241m.\u001b[39mdebug(\u001b[38;5;124m\"\u001b[39m\u001b[38;5;124mRaising timeout error\u001b[39m\u001b[38;5;124m\"\u001b[39m)\n\u001b[0;32m-> 1009\u001b[0m     \u001b[38;5;28;01mraise\u001b[39;00m APITimeoutError(request\u001b[38;5;241m=\u001b[39mrequest) \u001b[38;5;28;01mfrom\u001b[39;00m \u001b[38;5;21;01merr\u001b[39;00m\n\u001b[1;32m   1010\u001b[0m \u001b[38;5;28;01mexcept\u001b[39;00m \u001b[38;5;167;01mException\u001b[39;00m \u001b[38;5;28;01mas\u001b[39;00m err:\n\u001b[1;32m   1011\u001b[0m     log\u001b[38;5;241m.\u001b[39mdebug(\u001b[38;5;124m\"\u001b[39m\u001b[38;5;124mEncountered Exception\u001b[39m\u001b[38;5;124m\"\u001b[39m, exc_info\u001b[38;5;241m=\u001b[39m\u001b[38;5;28;01mTrue\u001b[39;00m)\n",
      "\u001b[0;31mAPITimeoutError\u001b[0m: Request timed out."
     ]
    }
   ],
   "source": [
    "# Let's try it locally\n",
    "# scraped_data = llm(prompt = prompt, model=\"llama3:70b\")\n",
    "\n",
    "# Result: \n",
    "ind_news = extract_ind_news_json(model=\"llama3.1:latest\", \n",
    "                                 ind_prompt_template=ind_prompt_template, \n",
    "                                 ind_html = feed['entries'][0]['turbo_content'])"
   ]
  },
  {
   "cell_type": "code",
   "execution_count": 54,
   "metadata": {},
   "outputs": [
    {
     "name": "stdout",
     "output_type": "stream",
     "text": [
      "Here is the JSON file contents with individual news summaries:\n",
      "\n",
      "```\n",
      "[\n",
      "    {\n",
      "        \"company\": \"Pentair\",\n",
      "        \"summary\": \"Performance in the second quarter is expected to be affected by inflated costs and supply chain issues.\"\n",
      "    },\n",
      "    {\n",
      "        \"company\": \"Robert Half\",\n",
      "        \"summary\": \"Second-quarter earnings and revenues are expected to decline sequentially.\"\n",
      "    },\n",
      "    {\n",
      "        \"company\": \"VeriSign\",\n",
      "        \"summary\": \"Second-quarter performance is expected to benefit from continued growth in domain name registrations.\"\n",
      "    },\n",
      "    {\n",
      "        \"company\": \"AMC\",\n",
      "        \"summary\": \"The court ruling on preferred equity shares could take the company back to the drawing board.\"\n",
      "    },\n",
      "    {\n",
      "        \"company\": \"Cloros Mortgage Trust\",\n",
      "        \"summary\": \"Upgraded from underweight to neutral by JP Morgan.\"\n",
      "    },\n",
      "    {\n",
      "        \"company\": \"Galmed Pharmaceuticals\",\n",
      "        \"summary\": \"Upgraded from hold to buy by Maxim Group.\"\n",
      "    },\n",
      "    {\n",
      "        \"company\": \"Wells Fargo\",\n",
      "        \"summary\": \"Upgraded Nutrien from equal weight to overweight.\"\n",
      "    },\n",
      "    {\n",
      "        \"company\": \"Raymond James\",\n",
      "        \"summary\": \"Upgraded D.R. Horton from market perform to outperform.\"\n",
      "    },\n",
      "    {\n",
      "        \"company\": \"Stifel\",\n",
      "        \"summary\": \"Upgraded Lam Research from hold to buy.\"\n",
      "    },\n",
      "    {\n",
      "        \"company\": \"BTIG\",\n",
      "        \"summary\": \"Upgraded AppLovin Corp from neutral to buy.\"\n",
      "    },\n",
      "    {\n",
      "        \"company\": \"JP Morgan\",\n",
      "        \"summary\": \"Upgraded Claros Mortgage Trust from underweight to neutral.\"\n",
      "    },\n",
      "    {\n",
      "        \"company\": \"Baird\",\n",
      "        \"summary\": \"Upgraded Netflix from neutral to outperform.\"\n",
      "    },\n",
      "    {\n",
      "        \"company\": \"MoffettNathanson\",\n",
      "        \"summary\": \"Upgraded Shopify from market perform to outperform.\"\n",
      "    },\n",
      "    {\n",
      "        \"company\": \"Goldman Sachs\",\n",
      "        \"summary\": \"Upgraded Amylyx Pharmaceuticals from neutral to buy.\"\n",
      "    },\n",
      "    {\n",
      "        \"company\": \"RBC Capital\",\n",
      "        \"summary\": \"Downgraded ZoomInfo Technologies from outperform to sector perform.\"\n",
      "    },\n",
      "    {\n",
      "        \"company\": \"JP Morgan\",\n",
      "        \"summary\": \"Downgraded Arbor Realty from overweight to neutral.\"\n",
      "    },\n",
      "    {\n",
      "        \"company\": \"Credit Suisse\",\n",
      "        \"summary\": \"Downgraded CommScope Holding from outperform to neutral.\"\n",
      "    },\n",
      "    {\n",
      "        \"company\": \"BankUnited, Inc.\",\n",
      "        \"summary\": \"Expected to beat earnings estimates in its upcoming report.\"\n",
      "    },\n",
      "    {\n",
      "        \"company\": \"First Busey\",\n",
      "        \"summary\": \"Expected to report earnings growth in its upcoming report.\"\n",
      "    },\n",
      "    {\n",
      "        \"company\": \"Atlantic Union\",\n",
      "        \"summary\": \"Not expected to beat earnings estimates in its upcoming report.\"\n",
      "    },\n",
      "    {\n",
      "        \"company\": \"Lockheed\",\n",
      "        \"summary\": \"Reported better-than-expected Q2 earnings and increased its sales outlook for 2023.\"\n",
      "    },\n",
      "    {\n",
      "        \"company\": \"Cathie Wood of Ark Invest\",\n",
      "        \"summary\": \"Added three stocks to her portfolio: Twilio, SoFi, and Meta Platforms.\"\n",
      "    },\n",
      "    {\n",
      "        \"company\": \"ONON, ING, and ITRI\",\n",
      "        \"summary\": \"Among the best momentum stocks to buy on July 18.\"\n",
      "    },\n",
      "    {\n",
      "        \"company\": \"Schlumberger\",\n",
      "        \"summary\": \"Earnings in Q2 may be impacted by declining income before taxes in its Digital and Integration division.\"\n",
      "    },\n",
      "    {\n",
      "        \"company\": \"Schrödinger and Recursion Pharmaceuticals\",\n",
      "        \"summary\": \"Two AI biotech stocks that could benefit from the AI revolution.\"\n",
      "    },\n",
      "    {\n",
      "        \"company\": \"Applied Digital\",\n",
      "        \"summary\": \"Expected to show top-line growth in its Q4 earnings report.\"\n",
      "    },\n",
      "    {\n",
      "        \"company\": \"BridgeBio\",\n",
      "        \"summary\": \"Shares surged after positive data from a late-stage study for its heart drug.\"\n",
      "    },\n",
      "    {\n",
      "        \"company\": \"Bank of America Corp\",\n",
      "        \"summary\": \"Reported better-than-expected Q2 results, with net income growth of 19%.\"\n",
      "    },\n",
      "    {\n",
      "        \"company\": \"The Singing Machine Company\",\n",
      "        \"summary\": \"Shares shot up 40% after launching a new product line at Walmart.\"\n",
      "    },\n",
      "    {\n",
      "        \"company\": \"Camtek Ltd.\",\n",
      "        \"summary\": \"Received an upgrade from Neutral to Buy by B of A Securities.\"\n",
      "    },\n",
      "    {\n",
      "        \"company\": \"Retail sales\",\n",
      "        \"summary\": \"Grew less than expected, with a 0.2% increase compared to a forecasted 0.5% rise in June.\"\n",
      "    },\n",
      "    {\n",
      "        \"company\": \"Nasdaq\",\n",
      "        \"summary\": \"The Nasdaq composite index fell 1.9% on Friday.\"\n",
      "    },\n",
      "    {\n",
      "        \"company\": \"Goldman Sachs\",\n",
      "        \"summary\": \"Upgraded Amylyx Pharmaceuticals from neutral to buy.\"\n",
      "    }\n",
      "]\n",
      "```\n",
      "\n",
      "Please note that the JSON file contents are based on the provided HTML file and may not be comprehensive or accurate if the HTML file is incomplete or contains errors.\n"
     ]
    }
   ],
   "source": [
    "print(ind_news)"
   ]
  },
  {
   "cell_type": "code",
   "execution_count": null,
   "metadata": {},
   "outputs": [],
   "source": [
    "# TODO: DEBUG and learn how to read and store content in some array like: \n",
    "# replace \"content\" : null TO\n",
    "# \"content\" : [{\n",
    "#   {\"type\":'individual',\n",
    "#    \"ticker\":'NVDA',\n",
    "#    \"text\":<summary_text>}, \n",
    "#   ...., <all 1 ticker summaries>\n",
    "#   {\"type\":'market_1day',\n",
    "#    \"model\" :\"gpt3.5 or gpt4\"  \n",
    "#    \"ticker\":'many',\n",
    "#    \"text\":<summary_text>}, \n",
    "#  {\"type\":'market_1week',\n",
    "#    \"model\" :\"gpt3.5 or gpt4\"  \n",
    "#    \"ticker\":'many',\n",
    "#    \"text\":<summary_text>} \n",
    "#  ]\n"
   ]
  }
 ],
 "metadata": {
  "kernelspec": {
   "display_name": "long-term-news-llm-rag-hx-iPapI",
   "language": "python",
   "name": "python3"
  },
  "language_info": {
   "codemirror_mode": {
    "name": "ipython",
    "version": 3
   },
   "file_extension": ".py",
   "mimetype": "text/x-python",
   "name": "python",
   "nbconvert_exporter": "python",
   "pygments_lexer": "ipython3",
   "version": "3.12.7"
  }
 },
 "nbformat": 4,
 "nbformat_minor": 2
}
