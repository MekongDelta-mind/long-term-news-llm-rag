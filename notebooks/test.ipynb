{
 "cells": [
  {
   "cell_type": "code",
   "execution_count": 1,
   "metadata": {},
   "outputs": [],
   "source": [
    "%load_ext autoreload\n",
    "%autoreload 2"
   ]
  },
  {
   "cell_type": "code",
   "execution_count": 2,
   "metadata": {},
   "outputs": [],
   "source": [
    "import feedparser\n"
   ]
  },
  {
   "cell_type": "code",
   "execution_count": null,
   "metadata": {},
   "outputs": [],
   "source": [
    "# TODO: DEBUG and learn how to read and store content in some array like: \n",
    "# replace \"content\" : null TO\n",
    "# \"content\" : [{\n",
    "#   {\"type\":'individual',\n",
    "#    \"ticker\":'NVDA',\n",
    "#    \"text\":<summary_text>}, \n",
    "#   ...., <all 1 ticker summaries>\n",
    "#   {\"type\":'market_1day',\n",
    "#    \"model\" :\"gpt3.5 or gpt4\"  \n",
    "#    \"ticker\":'many',\n",
    "#    \"text\":<summary_text>}, \n",
    "#  {\"type\":'market_1week',\n",
    "#    \"model\" :\"gpt3.5 or gpt4\"  \n",
    "#    \"ticker\":'many',\n",
    "#    \"text\":<summary_text>} \n",
    "#  ]\n"
   ]
  }
 ],
 "metadata": {
  "kernelspec": {
   "display_name": "Python 3 (ipykernel)",
   "language": "python",
   "name": "python3"
  },
  "language_info": {
   "codemirror_mode": {
    "name": "ipython",
    "version": 3
   },
   "file_extension": ".py",
   "mimetype": "text/x-python",
   "name": "python",
   "nbconvert_exporter": "python",
   "pygments_lexer": "ipython3",
   "version": "3.12.7"
  }
 },
 "nbformat": 4,
 "nbformat_minor": 2
}
