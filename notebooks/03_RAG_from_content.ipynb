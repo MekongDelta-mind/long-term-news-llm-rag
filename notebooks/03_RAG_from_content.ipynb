{
 "cells": [
  {
   "cell_type": "code",
   "execution_count": 1,
   "metadata": {},
   "outputs": [
    {
     "ename": "ModuleNotFoundError",
     "evalue": "No module named 'pandas'",
     "output_type": "error",
     "traceback": [
      "\u001b[0;31m---------------------------------------------------------------------------\u001b[0m",
      "\u001b[0;31mModuleNotFoundError\u001b[0m                       Traceback (most recent call last)",
      "Cell \u001b[0;32mIn[1], line 1\u001b[0m\n\u001b[0;32m----> 1\u001b[0m \u001b[38;5;28;01mimport\u001b[39;00m \u001b[38;5;21;01mpandas\u001b[39;00m \u001b[38;5;28;01mas\u001b[39;00m \u001b[38;5;21;01mpd\u001b[39;00m\n",
      "\u001b[0;31mModuleNotFoundError\u001b[0m: No module named 'pandas'"
     ]
    }
   ],
   "source": [
    "import pandas as pd"
   ]
  },
  {
   "cell_type": "code",
   "execution_count": 2,
   "metadata": {},
   "outputs": [
    {
     "ename": "NameError",
     "evalue": "name 'pd' is not defined",
     "output_type": "error",
     "traceback": [
      "\u001b[0;31m---------------------------------------------------------------------------\u001b[0m",
      "\u001b[0;31mNameError\u001b[0m                                 Traceback (most recent call last)",
      "Cell \u001b[0;32mIn[2], line 1\u001b[0m\n\u001b[0;32m----> 1\u001b[0m df \u001b[38;5;241m=\u001b[39m \u001b[43mpd\u001b[49m\u001b[38;5;241m.\u001b[39mread_parquet(\u001b[38;5;124m'\u001b[39m\u001b[38;5;124m../data/news_feed_flattened.parquet\u001b[39m\u001b[38;5;124m'\u001b[39m)\n",
      "\u001b[0;31mNameError\u001b[0m: name 'pd' is not defined"
     ]
    }
   ],
   "source": [
    "df = pd.read_parquet('../data/news_feed_flattened.parquet')"
   ]
  },
  {
   "cell_type": "code",
   "execution_count": 3,
   "metadata": {},
   "outputs": [
    {
     "ename": "NameError",
     "evalue": "name 'df' is not defined",
     "output_type": "error",
     "traceback": [
      "\u001b[0;31m---------------------------------------------------------------------------\u001b[0m",
      "\u001b[0;31mNameError\u001b[0m                                 Traceback (most recent call last)",
      "Cell \u001b[0;32mIn[3], line 2\u001b[0m\n\u001b[1;32m      1\u001b[0m \u001b[38;5;66;03m# first entry\u001b[39;00m\n\u001b[0;32m----> 2\u001b[0m \u001b[43mdf\u001b[49m\u001b[38;5;241m.\u001b[39mhead(\u001b[38;5;241m10\u001b[39m)\n",
      "\u001b[0;31mNameError\u001b[0m: name 'df' is not defined"
     ]
    }
   ],
   "source": [
    "# first entry\n",
    "df.head(10)"
   ]
  },
  {
   "cell_type": "code",
   "execution_count": 22,
   "metadata": {},
   "outputs": [
    {
     "data": {
      "text/html": [
       "<div>\n",
       "<style scoped>\n",
       "    .dataframe tbody tr th:only-of-type {\n",
       "        vertical-align: middle;\n",
       "    }\n",
       "\n",
       "    .dataframe tbody tr th {\n",
       "        vertical-align: top;\n",
       "    }\n",
       "\n",
       "    .dataframe thead th {\n",
       "        text-align: right;\n",
       "    }\n",
       "</style>\n",
       "<table border=\"1\" class=\"dataframe\">\n",
       "  <thead>\n",
       "    <tr style=\"text-align: right;\">\n",
       "      <th></th>\n",
       "      <th>type</th>\n",
       "      <th>start_date</th>\n",
       "      <th>end_date</th>\n",
       "      <th>ticker</th>\n",
       "      <th>count</th>\n",
       "      <th>growth</th>\n",
       "      <th>text</th>\n",
       "      <th>link</th>\n",
       "      <th>model</th>\n",
       "    </tr>\n",
       "  </thead>\n",
       "  <tbody>\n",
       "    <tr>\n",
       "      <th>625</th>\n",
       "      <td>individual</td>\n",
       "      <td>2024-10-15</td>\n",
       "      <td>2024-10-21</td>\n",
       "      <td>NVDA</td>\n",
       "      <td>41</td>\n",
       "      <td>4.14%</td>\n",
       "      <td>Nvidia has partnered with healthcare AI startu...</td>\n",
       "      <td>https://pythoninvest.com/tpost/84p967ubd1-week...</td>\n",
       "      <td>None</td>\n",
       "    </tr>\n",
       "    <tr>\n",
       "      <th>626</th>\n",
       "      <td>individual</td>\n",
       "      <td>2024-10-15</td>\n",
       "      <td>2024-10-21</td>\n",
       "      <td>AMZN</td>\n",
       "      <td>30</td>\n",
       "      <td>0.04%</td>\n",
       "      <td>Amazon's upcoming earnings report is generatin...</td>\n",
       "      <td>https://pythoninvest.com/tpost/84p967ubd1-week...</td>\n",
       "      <td>None</td>\n",
       "    </tr>\n",
       "    <tr>\n",
       "      <th>627</th>\n",
       "      <td>individual</td>\n",
       "      <td>2024-10-15</td>\n",
       "      <td>2024-10-21</td>\n",
       "      <td>MSFT</td>\n",
       "      <td>13</td>\n",
       "      <td>0.15%</td>\n",
       "      <td>Microsoft stock has underperformed the market ...</td>\n",
       "      <td>https://pythoninvest.com/tpost/84p967ubd1-week...</td>\n",
       "      <td>None</td>\n",
       "    </tr>\n",
       "    <tr>\n",
       "      <th>628</th>\n",
       "      <td>individual</td>\n",
       "      <td>2024-10-15</td>\n",
       "      <td>2024-10-21</td>\n",
       "      <td>AAPL</td>\n",
       "      <td>19</td>\n",
       "      <td>0.63%</td>\n",
       "      <td>In 2024, the Vanguard S&amp;amp;P 500 Growth ETF (...</td>\n",
       "      <td>https://pythoninvest.com/tpost/84p967ubd1-week...</td>\n",
       "      <td>None</td>\n",
       "    </tr>\n",
       "    <tr>\n",
       "      <th>629</th>\n",
       "      <td>individual</td>\n",
       "      <td>2024-10-15</td>\n",
       "      <td>2024-10-21</td>\n",
       "      <td>GOOG</td>\n",
       "      <td>14</td>\n",
       "      <td>0.45%</td>\n",
       "      <td>Alphabet (Google's parent company) stock (GOOG...</td>\n",
       "      <td>https://pythoninvest.com/tpost/84p967ubd1-week...</td>\n",
       "      <td>None</td>\n",
       "    </tr>\n",
       "    <tr>\n",
       "      <th>630</th>\n",
       "      <td>individual</td>\n",
       "      <td>2024-10-15</td>\n",
       "      <td>2024-10-21</td>\n",
       "      <td>TSLA</td>\n",
       "      <td>17</td>\n",
       "      <td>-0.84%</td>\n",
       "      <td>An article predicts that Tesla (TSLA) will und...</td>\n",
       "      <td>https://pythoninvest.com/tpost/84p967ubd1-week...</td>\n",
       "      <td>None</td>\n",
       "    </tr>\n",
       "    <tr>\n",
       "      <th>631</th>\n",
       "      <td>individual</td>\n",
       "      <td>2024-10-15</td>\n",
       "      <td>2024-10-21</td>\n",
       "      <td>SMCI</td>\n",
       "      <td>32</td>\n",
       "      <td>1.14%</td>\n",
       "      <td>Super Micro Computer (SMCI) has experienced a ...</td>\n",
       "      <td>https://pythoninvest.com/tpost/84p967ubd1-week...</td>\n",
       "      <td>None</td>\n",
       "    </tr>\n",
       "    <tr>\n",
       "      <th>632</th>\n",
       "      <td>market_1_day</td>\n",
       "      <td>2024-10-20</td>\n",
       "      <td>2024-10-21</td>\n",
       "      <td>multiple_tickers</td>\n",
       "      <td>63</td>\n",
       "      <td>None</td>\n",
       "      <td>The news covers a wide range of topics, includ...</td>\n",
       "      <td>https://pythoninvest.com/tpost/84p967ubd1-week...</td>\n",
       "      <td>GPT3.5</td>\n",
       "    </tr>\n",
       "    <tr>\n",
       "      <th>633</th>\n",
       "      <td>market_1_day</td>\n",
       "      <td>2024-10-20</td>\n",
       "      <td>2024-10-21</td>\n",
       "      <td>multiple_tickers</td>\n",
       "      <td>63</td>\n",
       "      <td>None</td>\n",
       "      <td>Tevogen Bio predicts strong revenue growth wit...</td>\n",
       "      <td>https://pythoninvest.com/tpost/84p967ubd1-week...</td>\n",
       "      <td>GPT4</td>\n",
       "    </tr>\n",
       "    <tr>\n",
       "      <th>634</th>\n",
       "      <td>market_1_week</td>\n",
       "      <td>2024-09-20</td>\n",
       "      <td>2024-10-21</td>\n",
       "      <td>multiple_tickers</td>\n",
       "      <td>2285</td>\n",
       "      <td>None</td>\n",
       "      <td>1. **Securities Class Action Lawsuit**: Invest...</td>\n",
       "      <td>https://pythoninvest.com/tpost/84p967ubd1-week...</td>\n",
       "      <td>GPT4</td>\n",
       "    </tr>\n",
       "  </tbody>\n",
       "</table>\n",
       "</div>"
      ],
      "text/plain": [
       "              type  start_date    end_date            ticker  count  growth  \\\n",
       "625     individual  2024-10-15  2024-10-21              NVDA     41   4.14%   \n",
       "626     individual  2024-10-15  2024-10-21              AMZN     30   0.04%   \n",
       "627     individual  2024-10-15  2024-10-21              MSFT     13   0.15%   \n",
       "628     individual  2024-10-15  2024-10-21              AAPL     19   0.63%   \n",
       "629     individual  2024-10-15  2024-10-21              GOOG     14   0.45%   \n",
       "630     individual  2024-10-15  2024-10-21              TSLA     17  -0.84%   \n",
       "631     individual  2024-10-15  2024-10-21              SMCI     32   1.14%   \n",
       "632   market_1_day  2024-10-20  2024-10-21  multiple_tickers     63    None   \n",
       "633   market_1_day  2024-10-20  2024-10-21  multiple_tickers     63    None   \n",
       "634  market_1_week  2024-09-20  2024-10-21  multiple_tickers   2285    None   \n",
       "\n",
       "                                                  text  \\\n",
       "625  Nvidia has partnered with healthcare AI startu...   \n",
       "626  Amazon's upcoming earnings report is generatin...   \n",
       "627  Microsoft stock has underperformed the market ...   \n",
       "628  In 2024, the Vanguard S&amp;P 500 Growth ETF (...   \n",
       "629  Alphabet (Google's parent company) stock (GOOG...   \n",
       "630  An article predicts that Tesla (TSLA) will und...   \n",
       "631  Super Micro Computer (SMCI) has experienced a ...   \n",
       "632  The news covers a wide range of topics, includ...   \n",
       "633  Tevogen Bio predicts strong revenue growth wit...   \n",
       "634  1. **Securities Class Action Lawsuit**: Invest...   \n",
       "\n",
       "                                                  link   model  \n",
       "625  https://pythoninvest.com/tpost/84p967ubd1-week...    None  \n",
       "626  https://pythoninvest.com/tpost/84p967ubd1-week...    None  \n",
       "627  https://pythoninvest.com/tpost/84p967ubd1-week...    None  \n",
       "628  https://pythoninvest.com/tpost/84p967ubd1-week...    None  \n",
       "629  https://pythoninvest.com/tpost/84p967ubd1-week...    None  \n",
       "630  https://pythoninvest.com/tpost/84p967ubd1-week...    None  \n",
       "631  https://pythoninvest.com/tpost/84p967ubd1-week...    None  \n",
       "632  https://pythoninvest.com/tpost/84p967ubd1-week...  GPT3.5  \n",
       "633  https://pythoninvest.com/tpost/84p967ubd1-week...    GPT4  \n",
       "634  https://pythoninvest.com/tpost/84p967ubd1-week...    GPT4  "
      ]
     },
     "execution_count": 22,
     "metadata": {},
     "output_type": "execute_result"
    }
   ],
   "source": [
    "# last entry\n",
    "df.tail(10)"
   ]
  },
  {
   "cell_type": "code",
   "execution_count": 23,
   "metadata": {},
   "outputs": [
    {
     "data": {
      "text/plain": [
       "49"
      ]
     },
     "execution_count": 23,
     "metadata": {},
     "output_type": "execute_result"
    }
   ],
   "source": [
    "# number of entries\n",
    "df.link.nunique()"
   ]
  }
 ],
 "metadata": {
  "kernelspec": {
   "display_name": "long-term-news-llm-rag",
   "language": "python",
   "name": "long-term-news-llm-rag"
  },
  "language_info": {
   "codemirror_mode": {
    "name": "ipython",
    "version": 3
   },
   "file_extension": ".py",
   "mimetype": "text/x-python",
   "name": "python",
   "nbconvert_exporter": "python",
   "pygments_lexer": "ipython3",
   "version": "3.12.3"
  }
 },
 "nbformat": 4,
 "nbformat_minor": 4
}
