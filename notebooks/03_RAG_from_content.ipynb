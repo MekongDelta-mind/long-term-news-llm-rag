{
 "cells": [
  {
   "cell_type": "code",
   "execution_count": 2,
   "metadata": {},
   "outputs": [
    {
     "data": {
      "text/plain": [
       "49"
      ]
     },
     "execution_count": 2,
     "metadata": {},
     "output_type": "execute_result"
    }
   ],
   "source": [
    "import pandas as pd\n",
    "df = pd.read_parquet('../data/news_feed_flattened.parquet')\n",
    "# first entry\n",
    "\n",
    "df.head(10)\n",
    "# last entry\n",
    "\n",
    "df.tail(10)\n",
    "# number of entries\n",
    "\n",
    "df.link.nunique()"
   ]
  },
  {
   "cell_type": "code",
   "execution_count": 3,
   "metadata": {},
   "outputs": [
    {
     "name": "stdout",
     "output_type": "stream",
     "text": [
      "DataFrame columns:\n",
      "['type', 'start_date', 'end_date', 'ticker', 'count', 'growth', 'text', 'link', 'model']\n",
      "\n",
      "Sample row:\n",
      "type                                                 individual\n",
      "start_date                                           2023-07-17\n",
      "end_date                                             2023-07-24\n",
      "ticker                                                     TSLA\n",
      "count                                                        42\n",
      "growth                                                    2.43%\n",
      "text          Billionaire investor Chamath Palihapitiya beli...\n",
      "link          https://pythoninvest.com/tpost/yk09rupzv1-week...\n",
      "model                                                      None\n",
      "Name: 0, dtype: object\n"
     ]
    }
   ],
   "source": [
    "# Display DataFrame columns and sample data\n",
    "print(\"DataFrame columns:\")\n",
    "print(df.columns.tolist())\n",
    "print(\"\\nSample row:\")\n",
    "print(df.iloc[0])\n"
   ]
  },
  {
   "cell_type": "code",
   "execution_count": 4,
   "metadata": {},
   "outputs": [
    {
     "data": {
      "text/plain": [
       "<minsearch.minsearch.Index at 0x73e051d2fa10>"
      ]
     },
     "execution_count": 4,
     "metadata": {},
     "output_type": "execute_result"
    }
   ],
   "source": [
    "from minsearch import Index\n",
    "\n",
    "# Convert DataFrame to list of dictionaries with string values\n",
    "docs = [{k: str(v) for k, v in record.items()} for record in df.to_dict('records')]\n",
    "\n",
    "# Create index with correct DataFrame fields\n",
    "index = Index(\n",
    "    text_fields=[\"type\", \"start_date\", \"end_date\", \"ticker\", \"count\", \"growth\", \"text\", \"model\"],\n",
    "    keyword_fields=[\"link\"]\n",
    ")\n",
    "\n",
    "# Fit the index\n",
    "index.fit(docs)"
   ]
  },
  {
   "cell_type": "code",
   "execution_count": 9,
   "metadata": {},
   "outputs": [],
   "source": [
    "def print_results(results, num_results=5):\n",
    "    \"\"\"Print formatted search results.\n",
    "    \n",
    "    Args:\n",
    "        results: List of search results from minsearch\n",
    "        num_results: Number of results to display (default: 5)\n",
    "    \"\"\"\n",
    "    for i, result in enumerate(results[:num_results], 1):\n",
    "        print(f\"Result {i}:\")\n",
    "        print(f\"Text: {result['text'][:200]}...\")\n",
    "        print(f\"Type: {result['type']}\")\n",
    "        print(f\"Ticker: {result['ticker']}\")\n",
    "        print(f\"Growth: {result['growth']}\")\n",
    "        print(f\"Count: {result['count']}\")\n",
    "        print(f\"Model: {result['model']}\")\n",
    "        print(f\"Period: {result['start_date']} to {result['end_date']}\")\n",
    "        print(f\"Link: {result['link']}\")\n",
    "        print(\"-\" * 80)\n"
   ]
  },
  {
   "cell_type": "code",
   "execution_count": 14,
   "metadata": {},
   "outputs": [],
   "source": [
    "def search_news(query, link=None, boost_dict=None):\n",
    "    \"\"\"Search news articles using minsearch.\n",
    "    \n",
    "    Args:\n",
    "        query: Search query string\n",
    "        link: Optional link to filter results\n",
    "        boost_dict: Optional dictionary of field boost values\n",
    "    \n",
    "    Returns:\n",
    "        List of search results\n",
    "    \"\"\"\n",
    "    if boost_dict is None:\n",
    "        boost_dict = {\n",
    "            \"text\": 3,\n",
    "            \"type\": 2,\n",
    "            \"ticker\": 2,\n",
    "            # \"growth\": 1.5,\n",
    "            # \"model\": 1.5,\n",
    "            # \"count\": 1,\n",
    "            \"start_date\": 2,\n",
    "            \"end_date\": 2\n",
    "        }\n",
    "    \n",
    "    filter_dict = {}\n",
    "    if link:\n",
    "        filter_dict[\"link\"] = link\n",
    "    \n",
    "    return index.search(query, filter_dict=filter_dict, boost_dict=boost_dict)"
   ]
  },
  {
   "cell_type": "code",
   "execution_count": 15,
   "metadata": {},
   "outputs": [
    {
     "name": "stdout",
     "output_type": "stream",
     "text": [
      "Search results for 'technology growth':\n",
      "\n",
      "Result 1:\n",
      "Text: Apple is gearing up for a potentially significant announcement, expected to involve artificial intelligence (AI) technology in its products. Analysts have revised the price target for Apple stock, ant...\n",
      "Type: individual\n",
      "Ticker: AAPL\n",
      "Growth: 1.66%\n",
      "Count: 10\n",
      "Model: None\n",
      "Period: 2024-05-21 to 2024-05-27\n",
      "Link: https://pythoninvest.com/tpost/hcufmog3c1-week-21-27-may-2024\n",
      "--------------------------------------------------------------------------------\n",
      "Result 2:\n",
      "Text: Tesla's stock has been in the spotlight, with anticipation building for the company's upcoming Robotaxi event on October 10th, which could showcase its progress in autonomous driving and AI technology...\n",
      "Type: individual\n",
      "Ticker: TSLA\n",
      "Growth: 0.45%\n",
      "Count: 13\n",
      "Model: None\n",
      "Period: 2024-09-24 to 2024-09-30\n",
      "Link: https://pythoninvest.com/tpost/fukvxbgbl1-week-24-30-september-2024\n",
      "--------------------------------------------------------------------------------\n",
      "Result 3:\n",
      "Text: The news highlights investing tips and strategies related to the Nasdaq-100 ETF and technology companies. It discusses the potential for creating annual dividend income through consistent investing an...\n",
      "Type: individual\n",
      "Ticker: QQQ\n",
      "Growth: 0.05%\n",
      "Count: 3\n",
      "Model: None\n",
      "Period: 2024-01-05 to 2024-01-15\n",
      "Link: https://pythoninvest.com/tpost/hk2eoc0281-week-9-15-january-2024\n",
      "--------------------------------------------------------------------------------\n"
     ]
    }
   ],
   "source": [
    "# Test the search functionality\n",
    "test_query = \"technology growth\"\n",
    "results = search_news(test_query)\n",
    "\n",
    "print(f\"Search results for '{test_query}':\\n\")\n",
    "print_results(results, num_results=3)"
   ]
  },
  {
   "cell_type": "code",
   "execution_count": 16,
   "metadata": {},
   "outputs": [
    {
     "name": "stdout",
     "output_type": "stream",
     "text": [
      "Search results for 'Can you share some insights about Tesla's share from 2024-11-01 to 2024-11-07 ?':\n",
      "\n",
      "Result 1:\n",
      "Text: Uber Technologies (NYSE: UBER) has received a mix of analyst ratings in the last quarter, with 4 analysts bullish, 8 somewhat bullish, and no indifferent, somewhat bearish, or bearish ratings. The ave...\n",
      "Type: individual\n",
      "Ticker: UBER\n",
      "Growth: 1.28%\n",
      "Count: 11\n",
      "Model: None\n",
      "Period: 2023-11-07 to 2023-11-13\n",
      "Link: https://pythoninvest.com/tpost/tk3bt13m41-week-7-13-november-2023\n",
      "--------------------------------------------------------------------------------\n",
      "Result 2:\n",
      "Text: Home Depot's stock faced adjustments as several analysts cut price targets and estimates following the company's Q3 FY23 results, which saw a 3% decline in sales but beat EPS expectations. Despite an ...\n",
      "Type: individual\n",
      "Ticker: HD\n",
      "Growth: 0.3%\n",
      "Count: 11\n",
      "Model: None\n",
      "Period: 2023-11-14 to 2023-11-20\n",
      "Link: https://pythoninvest.com/tpost/dj1ay4rjl1-week-14-20-november-2023\n",
      "--------------------------------------------------------------------------------\n",
      "Result 3:\n",
      "Text: Tesla has reported a year-over-year increase in production and delivery of its electric vehicles. Analysts anticipate the company's highly anticipated robotaxi event on October 10 to bring game-changi...\n",
      "Type: individual\n",
      "Ticker: TSLA\n",
      "Growth: -3.7%\n",
      "Count: 11\n",
      "Model: None\n",
      "Period: 2024-10-01 to 2024-10-07\n",
      "Link: https://pythoninvest.com/tpost/tta2omepc1-week-1-7-october-2024\n",
      "--------------------------------------------------------------------------------\n"
     ]
    }
   ],
   "source": [
    "test_query = \"Can you share some insights about Tesla's share from 2024-11-01 to 2024-11-07 ?\"\n",
    "results = search_news(test_query)\n",
    "\n",
    "print(f\"Search results for '{test_query}':\\n\")\n",
    "print_results(results, num_results=3)"
   ]
  },
  {
   "cell_type": "code",
   "execution_count": 17,
   "metadata": {},
   "outputs": [
    {
     "name": "stdout",
     "output_type": "stream",
     "text": [
      "Search results for 'Can you share some insights about TSLA share from 2024-11-01 to 2024-11-07 ?':\n",
      "\n",
      "Result 1:\n",
      "Text: Tesla has reported a year-over-year increase in production and delivery of its electric vehicles. Analysts anticipate the company's highly anticipated robotaxi event on October 10 to bring game-changi...\n",
      "Type: individual\n",
      "Ticker: TSLA\n",
      "Growth: -3.7%\n",
      "Count: 11\n",
      "Model: None\n",
      "Period: 2024-10-01 to 2024-10-07\n",
      "Link: https://pythoninvest.com/tpost/tta2omepc1-week-1-7-october-2024\n",
      "--------------------------------------------------------------------------------\n",
      "Result 2:\n",
      "Text: Tesla's stock rose by 4% on Monday due to positive news from abroad. This includes speculation about the potential impact of Tesla's new, more affordable Model 2 electric vehicle, and hopes around its...\n",
      "Type: individual\n",
      "Ticker: TSLA\n",
      "Growth: 4.22%\n",
      "Count: 16\n",
      "Model: None\n",
      "Period: 2023-11-07 to 2023-11-13\n",
      "Link: https://pythoninvest.com/tpost/tk3bt13m41-week-7-13-november-2023\n",
      "--------------------------------------------------------------------------------\n",
      "Result 3:\n",
      "Text: Tesla Inc. is facing various news highlights, including the company suing the Swedish Transport Agency over striking postal workers disrupting license plate deliveries, good news about improving used ...\n",
      "Type: individual\n",
      "Ticker: TSLA\n",
      "Growth: 0.27%\n",
      "Count: 18\n",
      "Model: None\n",
      "Period: 2023-11-21 to 2023-11-27\n",
      "Link: https://pythoninvest.com/tpost/lsmi9iovx1-week-21-27-november-2023\n",
      "--------------------------------------------------------------------------------\n"
     ]
    }
   ],
   "source": [
    "test_query = \"Can you share some insights about TSLA share from 2024-11-01 to 2024-11-07 ?\"\n",
    "results = search_news(test_query)\n",
    "\n",
    "print(f\"Search results for '{test_query}':\\n\")\n",
    "print_results(results, num_results=3)"
   ]
  },
  {
   "cell_type": "markdown",
   "metadata": {},
   "source": []
  },
  {
   "cell_type": "code",
   "execution_count": null,
   "metadata": {},
   "outputs": [],
   "source": []
  },
  {
   "cell_type": "code",
   "execution_count": null,
   "metadata": {},
   "outputs": [],
   "source": []
  },
  {
   "cell_type": "markdown",
   "metadata": {},
   "source": [
    "# Observations:"
   ]
  },
  {
   "cell_type": "markdown",
   "metadata": {},
   "source": [
    "* When we give the ticker name it is extracting better results\n",
    "* Still it needs some sense of contextual search and re ranking as the relevant results is in the 3rd\n"
   ]
  },
  {
   "cell_type": "code",
   "execution_count": null,
   "metadata": {},
   "outputs": [],
   "source": []
  }
 ],
 "metadata": {
  "kernelspec": {
   "display_name": "long-term-news-llm-rag",
   "language": "python",
   "name": "long-term-news-llm-rag"
  },
  "language_info": {
   "codemirror_mode": {
    "name": "ipython",
    "version": 3
   },
   "file_extension": ".py",
   "mimetype": "text/x-python",
   "name": "python",
   "nbconvert_exporter": "python",
   "pygments_lexer": "ipython3",
   "version": "3.12.3"
  }
 },
 "nbformat": 4,
 "nbformat_minor": 4
}
