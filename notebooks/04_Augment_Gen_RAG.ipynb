{
 "cells": [
  {
   "cell_type": "markdown",
   "id": "636ff80f-fab8-4b4a-a374-7a307ae2fc63",
   "metadata": {},
   "source": [
    "# Step 1: Prepare documents"
   ]
  },
  {
   "cell_type": "code",
   "execution_count": 1,
   "id": "836ece50-46e5-4be8-9fc1-54b8d355030c",
   "metadata": {},
   "outputs": [],
   "source": [
    "import pandas as pd"
   ]
  },
  {
   "cell_type": "code",
   "execution_count": 2,
   "id": "88303a15-5d3f-484e-8b79-394639c432dc",
   "metadata": {},
   "outputs": [],
   "source": [
    "df = pd.read_parquet('../data/news_feed_flattened.parquet')\n",
    "# first entry"
   ]
  },
  {
   "cell_type": "code",
   "execution_count": 3,
   "id": "5097894c-aca6-4a81-b557-b47612393f98",
   "metadata": {},
   "outputs": [
    {
     "data": {
      "text/html": [
       "<div>\n",
       "<style scoped>\n",
       "    .dataframe tbody tr th:only-of-type {\n",
       "        vertical-align: middle;\n",
       "    }\n",
       "\n",
       "    .dataframe tbody tr th {\n",
       "        vertical-align: top;\n",
       "    }\n",
       "\n",
       "    .dataframe thead th {\n",
       "        text-align: right;\n",
       "    }\n",
       "</style>\n",
       "<table border=\"1\" class=\"dataframe\">\n",
       "  <thead>\n",
       "    <tr style=\"text-align: right;\">\n",
       "      <th></th>\n",
       "      <th>type</th>\n",
       "      <th>start_date</th>\n",
       "      <th>end_date</th>\n",
       "      <th>ticker</th>\n",
       "      <th>count</th>\n",
       "      <th>growth</th>\n",
       "      <th>text</th>\n",
       "      <th>link</th>\n",
       "      <th>model</th>\n",
       "    </tr>\n",
       "  </thead>\n",
       "  <tbody>\n",
       "    <tr>\n",
       "      <th>0</th>\n",
       "      <td>individual</td>\n",
       "      <td>2023-07-17</td>\n",
       "      <td>2023-07-24</td>\n",
       "      <td>TSLA</td>\n",
       "      <td>42</td>\n",
       "      <td>2.43%</td>\n",
       "      <td>Billionaire investor Chamath Palihapitiya beli...</td>\n",
       "      <td>https://pythoninvest.com/tpost/yk09rupzv1-week...</td>\n",
       "      <td>None</td>\n",
       "    </tr>\n",
       "    <tr>\n",
       "      <th>1</th>\n",
       "      <td>individual</td>\n",
       "      <td>2023-07-17</td>\n",
       "      <td>2023-07-24</td>\n",
       "      <td>MSFT</td>\n",
       "      <td>11</td>\n",
       "      <td>0.06%</td>\n",
       "      <td>Indian company Birlasoft has partnered with Mi...</td>\n",
       "      <td>https://pythoninvest.com/tpost/yk09rupzv1-week...</td>\n",
       "      <td>None</td>\n",
       "    </tr>\n",
       "    <tr>\n",
       "      <th>2</th>\n",
       "      <td>individual</td>\n",
       "      <td>2023-07-17</td>\n",
       "      <td>2023-07-24</td>\n",
       "      <td>AAPL</td>\n",
       "      <td>11</td>\n",
       "      <td>0.51%</td>\n",
       "      <td>Warren Buffett's investment in Apple has resul...</td>\n",
       "      <td>https://pythoninvest.com/tpost/yk09rupzv1-week...</td>\n",
       "      <td>None</td>\n",
       "    </tr>\n",
       "    <tr>\n",
       "      <th>3</th>\n",
       "      <td>individual</td>\n",
       "      <td>2023-07-17</td>\n",
       "      <td>2023-07-24</td>\n",
       "      <td>AMZN</td>\n",
       "      <td>11</td>\n",
       "      <td>-0.94%</td>\n",
       "      <td>Amazon is planning to provide high-speed inter...</td>\n",
       "      <td>https://pythoninvest.com/tpost/yk09rupzv1-week...</td>\n",
       "      <td>None</td>\n",
       "    </tr>\n",
       "    <tr>\n",
       "      <th>4</th>\n",
       "      <td>individual</td>\n",
       "      <td>2023-07-17</td>\n",
       "      <td>2023-07-24</td>\n",
       "      <td>NFLX</td>\n",
       "      <td>19</td>\n",
       "      <td>-0.23%</td>\n",
       "      <td>Netflix's stock has been fluctuating after the...</td>\n",
       "      <td>https://pythoninvest.com/tpost/yk09rupzv1-week...</td>\n",
       "      <td>None</td>\n",
       "    </tr>\n",
       "    <tr>\n",
       "      <th>5</th>\n",
       "      <td>individual</td>\n",
       "      <td>2023-07-17</td>\n",
       "      <td>2023-07-24</td>\n",
       "      <td>VZ</td>\n",
       "      <td>13</td>\n",
       "      <td>1.39%</td>\n",
       "      <td>Verizon Business and the VA Palo Alto Health C...</td>\n",
       "      <td>https://pythoninvest.com/tpost/yk09rupzv1-week...</td>\n",
       "      <td>None</td>\n",
       "    </tr>\n",
       "    <tr>\n",
       "      <th>6</th>\n",
       "      <td>individual</td>\n",
       "      <td>2023-07-17</td>\n",
       "      <td>2023-07-24</td>\n",
       "      <td>CVNA</td>\n",
       "      <td>21</td>\n",
       "      <td>-2.46%</td>\n",
       "      <td>Carvana, an online used car dealer, announced ...</td>\n",
       "      <td>https://pythoninvest.com/tpost/yk09rupzv1-week...</td>\n",
       "      <td>None</td>\n",
       "    </tr>\n",
       "    <tr>\n",
       "      <th>7</th>\n",
       "      <td>individual</td>\n",
       "      <td>2023-07-17</td>\n",
       "      <td>2023-07-24</td>\n",
       "      <td>DJIA</td>\n",
       "      <td>8</td>\n",
       "      <td>-0.58%</td>\n",
       "      <td>The stock market rally is expected to continue...</td>\n",
       "      <td>https://pythoninvest.com/tpost/yk09rupzv1-week...</td>\n",
       "      <td>None</td>\n",
       "    </tr>\n",
       "    <tr>\n",
       "      <th>8</th>\n",
       "      <td>individual</td>\n",
       "      <td>2023-07-17</td>\n",
       "      <td>2023-07-24</td>\n",
       "      <td>SPY</td>\n",
       "      <td>7</td>\n",
       "      <td>0.44%</td>\n",
       "      <td>The news includes various headlines related to...</td>\n",
       "      <td>https://pythoninvest.com/tpost/yk09rupzv1-week...</td>\n",
       "      <td>None</td>\n",
       "    </tr>\n",
       "    <tr>\n",
       "      <th>9</th>\n",
       "      <td>market_1_day</td>\n",
       "      <td>2023-07-23</td>\n",
       "      <td>2023-07-24</td>\n",
       "      <td>multiple_tickers</td>\n",
       "      <td>261</td>\n",
       "      <td>nan</td>\n",
       "      <td>- JPMorgan's strong earnings report is expecte...</td>\n",
       "      <td>https://pythoninvest.com/tpost/yk09rupzv1-week...</td>\n",
       "      <td>market</td>\n",
       "    </tr>\n",
       "  </tbody>\n",
       "</table>\n",
       "</div>"
      ],
      "text/plain": [
       "           type  start_date    end_date            ticker  count  growth  \\\n",
       "0    individual  2023-07-17  2023-07-24              TSLA     42   2.43%   \n",
       "1    individual  2023-07-17  2023-07-24              MSFT     11   0.06%   \n",
       "2    individual  2023-07-17  2023-07-24              AAPL     11   0.51%   \n",
       "3    individual  2023-07-17  2023-07-24              AMZN     11  -0.94%   \n",
       "4    individual  2023-07-17  2023-07-24              NFLX     19  -0.23%   \n",
       "5    individual  2023-07-17  2023-07-24                VZ     13   1.39%   \n",
       "6    individual  2023-07-17  2023-07-24              CVNA     21  -2.46%   \n",
       "7    individual  2023-07-17  2023-07-24              DJIA      8  -0.58%   \n",
       "8    individual  2023-07-17  2023-07-24               SPY      7   0.44%   \n",
       "9  market_1_day  2023-07-23  2023-07-24  multiple_tickers    261     nan   \n",
       "\n",
       "                                                text  \\\n",
       "0  Billionaire investor Chamath Palihapitiya beli...   \n",
       "1  Indian company Birlasoft has partnered with Mi...   \n",
       "2  Warren Buffett's investment in Apple has resul...   \n",
       "3  Amazon is planning to provide high-speed inter...   \n",
       "4  Netflix's stock has been fluctuating after the...   \n",
       "5  Verizon Business and the VA Palo Alto Health C...   \n",
       "6  Carvana, an online used car dealer, announced ...   \n",
       "7  The stock market rally is expected to continue...   \n",
       "8  The news includes various headlines related to...   \n",
       "9  - JPMorgan's strong earnings report is expecte...   \n",
       "\n",
       "                                                link   model  \n",
       "0  https://pythoninvest.com/tpost/yk09rupzv1-week...    None  \n",
       "1  https://pythoninvest.com/tpost/yk09rupzv1-week...    None  \n",
       "2  https://pythoninvest.com/tpost/yk09rupzv1-week...    None  \n",
       "3  https://pythoninvest.com/tpost/yk09rupzv1-week...    None  \n",
       "4  https://pythoninvest.com/tpost/yk09rupzv1-week...    None  \n",
       "5  https://pythoninvest.com/tpost/yk09rupzv1-week...    None  \n",
       "6  https://pythoninvest.com/tpost/yk09rupzv1-week...    None  \n",
       "7  https://pythoninvest.com/tpost/yk09rupzv1-week...    None  \n",
       "8  https://pythoninvest.com/tpost/yk09rupzv1-week...    None  \n",
       "9  https://pythoninvest.com/tpost/yk09rupzv1-week...  market  "
      ]
     },
     "execution_count": 3,
     "metadata": {},
     "output_type": "execute_result"
    }
   ],
   "source": [
    "df.head(10)\n",
    "# last entry"
   ]
  },
  {
   "cell_type": "code",
   "execution_count": 4,
   "id": "94848185-e3b2-4801-a14d-7eaaf8f63590",
   "metadata": {},
   "outputs": [
    {
     "data": {
      "text/html": [
       "<div>\n",
       "<style scoped>\n",
       "    .dataframe tbody tr th:only-of-type {\n",
       "        vertical-align: middle;\n",
       "    }\n",
       "\n",
       "    .dataframe tbody tr th {\n",
       "        vertical-align: top;\n",
       "    }\n",
       "\n",
       "    .dataframe thead th {\n",
       "        text-align: right;\n",
       "    }\n",
       "</style>\n",
       "<table border=\"1\" class=\"dataframe\">\n",
       "  <thead>\n",
       "    <tr style=\"text-align: right;\">\n",
       "      <th></th>\n",
       "      <th>type</th>\n",
       "      <th>start_date</th>\n",
       "      <th>end_date</th>\n",
       "      <th>ticker</th>\n",
       "      <th>count</th>\n",
       "      <th>growth</th>\n",
       "      <th>text</th>\n",
       "      <th>link</th>\n",
       "      <th>model</th>\n",
       "    </tr>\n",
       "  </thead>\n",
       "  <tbody>\n",
       "    <tr>\n",
       "      <th>707</th>\n",
       "      <td>individual</td>\n",
       "      <td>2024-11-17</td>\n",
       "      <td>2024-12-23</td>\n",
       "      <td>AMZN</td>\n",
       "      <td>29</td>\n",
       "      <td>0.06%</td>\n",
       "      <td>Oprah's Favorite Things 2024 gift guide, featu...</td>\n",
       "      <td>https://pythoninvest.com/tpost/ve9dp9v641-week...</td>\n",
       "      <td>None</td>\n",
       "    </tr>\n",
       "    <tr>\n",
       "      <th>708</th>\n",
       "      <td>individual</td>\n",
       "      <td>2024-11-17</td>\n",
       "      <td>2024-12-23</td>\n",
       "      <td>GOOG</td>\n",
       "      <td>18</td>\n",
       "      <td>1.57%</td>\n",
       "      <td>Google has been making headlines in recent wee...</td>\n",
       "      <td>https://pythoninvest.com/tpost/ve9dp9v641-week...</td>\n",
       "      <td>None</td>\n",
       "    </tr>\n",
       "    <tr>\n",
       "      <th>709</th>\n",
       "      <td>individual</td>\n",
       "      <td>2024-11-17</td>\n",
       "      <td>2024-12-23</td>\n",
       "      <td>TSLA</td>\n",
       "      <td>19</td>\n",
       "      <td>2.27%</td>\n",
       "      <td>Tesla's stock has been the subject of recent n...</td>\n",
       "      <td>https://pythoninvest.com/tpost/ve9dp9v641-week...</td>\n",
       "      <td>None</td>\n",
       "    </tr>\n",
       "    <tr>\n",
       "      <th>710</th>\n",
       "      <td>individual</td>\n",
       "      <td>2024-11-17</td>\n",
       "      <td>2024-12-23</td>\n",
       "      <td>PLTR</td>\n",
       "      <td>17</td>\n",
       "      <td>0.17%</td>\n",
       "      <td>Palantir's stock has surged significantly in 2...</td>\n",
       "      <td>https://pythoninvest.com/tpost/ve9dp9v641-week...</td>\n",
       "      <td>None</td>\n",
       "    </tr>\n",
       "    <tr>\n",
       "      <th>711</th>\n",
       "      <td>individual</td>\n",
       "      <td>2024-11-17</td>\n",
       "      <td>2024-12-23</td>\n",
       "      <td>ASML</td>\n",
       "      <td>43</td>\n",
       "      <td>2.18%</td>\n",
       "      <td>A class action lawsuit has been filed against ...</td>\n",
       "      <td>https://pythoninvest.com/tpost/ve9dp9v641-week...</td>\n",
       "      <td>None</td>\n",
       "    </tr>\n",
       "    <tr>\n",
       "      <th>712</th>\n",
       "      <td>individual</td>\n",
       "      <td>2024-11-17</td>\n",
       "      <td>2024-12-23</td>\n",
       "      <td>CELH</td>\n",
       "      <td>18</td>\n",
       "      <td>-0.96%</td>\n",
       "      <td>Celsius Holdings Inc. (CELH) is facing a decli...</td>\n",
       "      <td>https://pythoninvest.com/tpost/ve9dp9v641-week...</td>\n",
       "      <td>None</td>\n",
       "    </tr>\n",
       "    <tr>\n",
       "      <th>713</th>\n",
       "      <td>individual</td>\n",
       "      <td>2024-11-17</td>\n",
       "      <td>2024-12-23</td>\n",
       "      <td>SMCI</td>\n",
       "      <td>16</td>\n",
       "      <td>2.56%</td>\n",
       "      <td>Super Micro Computer (SMCI) has been experienc...</td>\n",
       "      <td>https://pythoninvest.com/tpost/ve9dp9v641-week...</td>\n",
       "      <td>None</td>\n",
       "    </tr>\n",
       "    <tr>\n",
       "      <th>714</th>\n",
       "      <td>individual</td>\n",
       "      <td>2024-11-17</td>\n",
       "      <td>2024-12-23</td>\n",
       "      <td>CMG</td>\n",
       "      <td>29</td>\n",
       "      <td>-0.47%</td>\n",
       "      <td>Chipotle Mexican Grill, Inc. is facing a secur...</td>\n",
       "      <td>https://pythoninvest.com/tpost/ve9dp9v641-week...</td>\n",
       "      <td>None</td>\n",
       "    </tr>\n",
       "    <tr>\n",
       "      <th>715</th>\n",
       "      <td>market_1_day</td>\n",
       "      <td>2024-12-22</td>\n",
       "      <td>2024-12-23</td>\n",
       "      <td>multiple_tickers</td>\n",
       "      <td>64</td>\n",
       "      <td>nan</td>\n",
       "      <td>Recent market updates indicate a mix of positi...</td>\n",
       "      <td>https://pythoninvest.com/tpost/ve9dp9v641-week...</td>\n",
       "      <td>GPT4</td>\n",
       "    </tr>\n",
       "    <tr>\n",
       "      <th>716</th>\n",
       "      <td>market_1_week</td>\n",
       "      <td>2024-11-17</td>\n",
       "      <td>2024-12-23</td>\n",
       "      <td>multiple_tickers</td>\n",
       "      <td>2332</td>\n",
       "      <td>nan</td>\n",
       "      <td>1. **GLP-1 Analogues Growth**: The global mark...</td>\n",
       "      <td>https://pythoninvest.com/tpost/ve9dp9v641-week...</td>\n",
       "      <td>GPT4</td>\n",
       "    </tr>\n",
       "  </tbody>\n",
       "</table>\n",
       "</div>"
      ],
      "text/plain": [
       "              type  start_date    end_date            ticker  count  growth  \\\n",
       "707     individual  2024-11-17  2024-12-23              AMZN     29   0.06%   \n",
       "708     individual  2024-11-17  2024-12-23              GOOG     18   1.57%   \n",
       "709     individual  2024-11-17  2024-12-23              TSLA     19   2.27%   \n",
       "710     individual  2024-11-17  2024-12-23              PLTR     17   0.17%   \n",
       "711     individual  2024-11-17  2024-12-23              ASML     43   2.18%   \n",
       "712     individual  2024-11-17  2024-12-23              CELH     18  -0.96%   \n",
       "713     individual  2024-11-17  2024-12-23              SMCI     16   2.56%   \n",
       "714     individual  2024-11-17  2024-12-23               CMG     29  -0.47%   \n",
       "715   market_1_day  2024-12-22  2024-12-23  multiple_tickers     64     nan   \n",
       "716  market_1_week  2024-11-17  2024-12-23  multiple_tickers   2332     nan   \n",
       "\n",
       "                                                  text  \\\n",
       "707  Oprah's Favorite Things 2024 gift guide, featu...   \n",
       "708  Google has been making headlines in recent wee...   \n",
       "709  Tesla's stock has been the subject of recent n...   \n",
       "710  Palantir's stock has surged significantly in 2...   \n",
       "711  A class action lawsuit has been filed against ...   \n",
       "712  Celsius Holdings Inc. (CELH) is facing a decli...   \n",
       "713  Super Micro Computer (SMCI) has been experienc...   \n",
       "714  Chipotle Mexican Grill, Inc. is facing a secur...   \n",
       "715  Recent market updates indicate a mix of positi...   \n",
       "716  1. **GLP-1 Analogues Growth**: The global mark...   \n",
       "\n",
       "                                                  link model  \n",
       "707  https://pythoninvest.com/tpost/ve9dp9v641-week...  None  \n",
       "708  https://pythoninvest.com/tpost/ve9dp9v641-week...  None  \n",
       "709  https://pythoninvest.com/tpost/ve9dp9v641-week...  None  \n",
       "710  https://pythoninvest.com/tpost/ve9dp9v641-week...  None  \n",
       "711  https://pythoninvest.com/tpost/ve9dp9v641-week...  None  \n",
       "712  https://pythoninvest.com/tpost/ve9dp9v641-week...  None  \n",
       "713  https://pythoninvest.com/tpost/ve9dp9v641-week...  None  \n",
       "714  https://pythoninvest.com/tpost/ve9dp9v641-week...  None  \n",
       "715  https://pythoninvest.com/tpost/ve9dp9v641-week...  GPT4  \n",
       "716  https://pythoninvest.com/tpost/ve9dp9v641-week...  GPT4  "
      ]
     },
     "execution_count": 4,
     "metadata": {},
     "output_type": "execute_result"
    }
   ],
   "source": [
    "df.tail(10)\n",
    "# number of entries"
   ]
  },
  {
   "cell_type": "code",
   "execution_count": 5,
   "id": "ccc4224c-2f1b-4e73-8566-cb4fb3da835c",
   "metadata": {},
   "outputs": [
    {
     "data": {
      "text/plain": [
       "55"
      ]
     },
     "execution_count": 5,
     "metadata": {},
     "output_type": "execute_result"
    }
   ],
   "source": [
    "df.link.nunique()"
   ]
  },
  {
   "cell_type": "code",
   "execution_count": 6,
   "id": "a7c3967c-e105-4d2a-bd8a-1ae164ba9cef",
   "metadata": {},
   "outputs": [
    {
     "name": "stdout",
     "output_type": "stream",
     "text": [
      "DataFrame columns:\n",
      "['type', 'start_date', 'end_date', 'ticker', 'count', 'growth', 'text', 'link', 'model']\n",
      "\n",
      "Sample row:\n",
      "type                                                 individual\n",
      "start_date                                           2023-07-17\n",
      "end_date                                             2023-07-24\n",
      "ticker                                                     TSLA\n",
      "count                                                        42\n",
      "growth                                                    2.43%\n",
      "text          Billionaire investor Chamath Palihapitiya beli...\n",
      "link          https://pythoninvest.com/tpost/yk09rupzv1-week...\n",
      "model                                                      None\n",
      "Name: 0, dtype: object\n"
     ]
    }
   ],
   "source": [
    "# Display DataFrame columns and sample data\n",
    "print(\"DataFrame columns:\")\n",
    "print(df.columns.tolist())\n",
    "print(\"\\nSample row:\")\n",
    "print(df.iloc[0])\n"
   ]
  },
  {
   "cell_type": "markdown",
   "id": "d8eae632-8586-4cb3-b434-0d3a4f8f5f14",
   "metadata": {},
   "source": [
    "## Converting the dataframe into jsons objects"
   ]
  },
  {
   "cell_type": "code",
   "execution_count": 7,
   "id": "82a0fa6c-8324-4904-8c5f-525158e79835",
   "metadata": {},
   "outputs": [],
   "source": [
    "# Convert DataFrame to list of dictionaries with string values\n",
    "docs = [{k: str(v) for k, v in record.items()} for record in df.to_dict('records')]"
   ]
  },
  {
   "cell_type": "code",
   "execution_count": 8,
   "id": "8dd69008-16ab-4137-af45-63d569be097e",
   "metadata": {},
   "outputs": [
    {
     "data": {
      "text/plain": [
       "[{'type': 'individual',\n",
       "  'start_date': '2023-07-17',\n",
       "  'end_date': '2023-07-24',\n",
       "  'ticker': 'TSLA',\n",
       "  'count': '42',\n",
       "  'growth': '2.43%',\n",
       "  'text': 'Billionaire investor Chamath Palihapitiya believes that Tesla is experiencing its \"iPhone moment\" and is on the verge of a major breakthrough. Meanwhile, investor David Trainer argues that Tesla is overvalued by over 1,000% due to its \"disconnected\" fundamentals. Tesla\\'s second-quarter earnings report showed a rise in sales but also highlighted concerns about profitability and margins. Tesla\\'s stock price dropped around 9% in response to the report. Despite mixed opinions, some analysts remain bullish on Tesla\\'s future growth potential.',\n",
       "  'link': 'https://pythoninvest.com/tpost/yk09rupzv1-week-17-24-july-2023',\n",
       "  'model': 'None'},\n",
       " {'type': 'individual',\n",
       "  'start_date': '2023-07-17',\n",
       "  'end_date': '2023-07-24',\n",
       "  'ticker': 'MSFT',\n",
       "  'count': '11',\n",
       "  'growth': '0.06%',\n",
       "  'text': \"Indian company Birlasoft has partnered with Microsoft to establish a Generative AI Centre of Excellence. The aim is to accelerate value creation and foster innovation in the adoption of Generative AI, providing enterprise solutions across industries. The center will bring together Birlasoft's industry expertise and Microsoft Azure OpenAI Service to facilitate research, training, and collaboration. Morgan Stanley analyst Keith Weiss maintains an Overweight rating on Microsoft and believes the company has strong potential in the Generative AI space.\",\n",
       "  'link': 'https://pythoninvest.com/tpost/yk09rupzv1-week-17-24-july-2023',\n",
       "  'model': 'None'}]"
      ]
     },
     "execution_count": 8,
     "metadata": {},
     "output_type": "execute_result"
    }
   ],
   "source": [
    "docs[:2]"
   ]
  },
  {
   "cell_type": "markdown",
   "id": "1834fbc8-2e3f-44bd-a8fc-3f5b4fcf2963",
   "metadata": {},
   "source": [
    "# Step 2: Create Embeddings using Pretrained Models"
   ]
  },
  {
   "cell_type": "code",
   "execution_count": 9,
   "id": "bae2a120-b7d2-4969-b201-66497700f5e6",
   "metadata": {},
   "outputs": [],
   "source": [
    "# from .autonotebook import tqdm as notebook_tqdm"
   ]
  },
  {
   "cell_type": "code",
   "execution_count": 10,
   "id": "4496b3d1-b4aa-48a6-91d4-9e9427a66687",
   "metadata": {},
   "outputs": [
    {
     "name": "stderr",
     "output_type": "stream",
     "text": [
      "/home/pkn/.local/share/virtualenvs/long-term-news-llm-rag-TUz5eHS5/lib/python3.12/site-packages/tqdm/auto.py:21: TqdmWarning: IProgress not found. Please update jupyter and ipywidgets. See https://ipywidgets.readthedocs.io/en/stable/user_install.html\n",
      "  from .autonotebook import tqdm as notebook_tqdm\n"
     ]
    }
   ],
   "source": [
    "from sentence_transformers import SentenceTransformer, util\n",
    "\n",
    "model = SentenceTransformer(\"msmarco-distilbert-dot-v5\")"
   ]
  },
  {
   "cell_type": "code",
   "execution_count": 11,
   "id": "ceb7107a-8485-4c7e-b581-635b145fac17",
   "metadata": {},
   "outputs": [
    {
     "data": {
      "text/plain": [
       "768"
      ]
     },
     "execution_count": 11,
     "metadata": {},
     "output_type": "execute_result"
    }
   ],
   "source": [
    "len(model.encode(\"This is a simple sentence\"))"
   ]
  },
  {
   "cell_type": "code",
   "execution_count": 12,
   "id": "486de078-d920-4c9a-b929-76eda3b7559d",
   "metadata": {},
   "outputs": [
    {
     "data": {
      "text/plain": [
       "{'type': 'individual',\n",
       " 'start_date': '2023-07-17',\n",
       " 'end_date': '2023-07-24',\n",
       " 'ticker': 'MSFT',\n",
       " 'count': '11',\n",
       " 'growth': '0.06%',\n",
       " 'text': \"Indian company Birlasoft has partnered with Microsoft to establish a Generative AI Centre of Excellence. The aim is to accelerate value creation and foster innovation in the adoption of Generative AI, providing enterprise solutions across industries. The center will bring together Birlasoft's industry expertise and Microsoft Azure OpenAI Service to facilitate research, training, and collaboration. Morgan Stanley analyst Keith Weiss maintains an Overweight rating on Microsoft and believes the company has strong potential in the Generative AI space.\",\n",
       " 'link': 'https://pythoninvest.com/tpost/yk09rupzv1-week-17-24-july-2023',\n",
       " 'model': 'None'}"
      ]
     },
     "execution_count": 12,
     "metadata": {},
     "output_type": "execute_result"
    }
   ],
   "source": [
    "docs[1]"
   ]
  },
  {
   "cell_type": "code",
   "execution_count": 13,
   "id": "e492cd66-029d-443a-aa82-2d845a77cfa8",
   "metadata": {},
   "outputs": [],
   "source": [
    "#created the dense vector using the pre-trained model\n",
    "operations = []\n",
    "for doc in docs:\n",
    "    # Transforming the title into an embedding using the model\n",
    "    doc[\"text_vector\"] = model.encode(doc[\"text\"]).tolist()\n",
    "    operations.append(doc)"
   ]
  },
  {
   "cell_type": "code",
   "execution_count": 14,
   "id": "d749b3a1-e67e-416a-8691-72d58eda5309",
   "metadata": {
    "scrolled": true
   },
   "outputs": [],
   "source": [
    "# operations[1]"
   ]
  },
  {
   "cell_type": "markdown",
   "id": "149345a8-f564-4788-a100-ab8f2036752d",
   "metadata": {},
   "source": [
    "# Step 3: Setting up the Search Index"
   ]
  },
  {
   "cell_type": "code",
   "execution_count": 15,
   "id": "67c309a0-2b14-4eca-8fd5-2d9679bfd74b",
   "metadata": {},
   "outputs": [
    {
     "name": "stderr",
     "output_type": "stream",
     "text": [
      "huggingface/tokenizers: The current process just got forked, after parallelism has already been used. Disabling parallelism to avoid deadlocks...\n",
      "To disable this warning, you can either:\n",
      "\t- Avoid using `tokenizers` before the fork if possible\n",
      "\t- Explicitly set the environment variable TOKENIZERS_PARALLELISM=(true | false)\n"
     ]
    },
    {
     "name": "stdout",
     "output_type": "stream",
     "text": [
      "faiss-cpu                 1.9.0.post1\n"
     ]
    }
   ],
   "source": [
    "!pip list | grep faiss"
   ]
  },
  {
   "cell_type": "code",
   "execution_count": 16,
   "id": "cb630b7a-5973-4e2f-8662-303effcbd05e",
   "metadata": {},
   "outputs": [],
   "source": [
    "import numpy as np\n",
    "import faiss"
   ]
  },
  {
   "cell_type": "code",
   "execution_count": 17,
   "id": "d4650f17-74ef-44a0-851d-f918cede68c0",
   "metadata": {},
   "outputs": [],
   "source": [
    "# Convert embeddings from operations list to numpy array\n",
    "embeddings = np.array([doc[\"text_vector\"] for doc in operations], dtype=np.float32)\n",
    "dim = embeddings.shape[1]  # Should be 768 based on your model\n",
    "\n",
    "# Create and train FAISS index\n",
    "index = faiss.IndexFlatIP(dim)  # Using Inner Product for cosine similarity\n",
    "index.add(embeddings)"
   ]
  },
  {
   "cell_type": "code",
   "execution_count": 18,
   "id": "0ba75b85-535a-4c34-bf84-f7f15d25e74d",
   "metadata": {},
   "outputs": [
    {
     "data": {
      "text/plain": [
       "<faiss.swigfaiss_avx2.IndexFlatIP; proxy of <Swig Object of type 'faiss::IndexFlatIP *' at 0x74d595b4b1e0> >"
      ]
     },
     "execution_count": 18,
     "metadata": {},
     "output_type": "execute_result"
    }
   ],
   "source": [
    "index"
   ]
  },
  {
   "cell_type": "markdown",
   "id": "174437fd-44d9-4772-93ba-d856eb53c924",
   "metadata": {},
   "source": [
    "# Step 4: Create end user query"
   ]
  },
  {
   "cell_type": "code",
   "execution_count": 19,
   "id": "7461593b-d98e-444f-9aae-29c84a4d4135",
   "metadata": {
    "scrolled": true
   },
   "outputs": [],
   "source": [
    "# operations[0]"
   ]
  },
  {
   "cell_type": "code",
   "execution_count": 20,
   "id": "afb641c5-068c-47d8-a09e-45be7c62d694",
   "metadata": {},
   "outputs": [],
   "source": [
    "# Test search function\n",
    "def search_faiss(query_text, model, index, k=5):\n",
    "    query_vector = model.encode([query_text])[0]\n",
    "    distances, indices = index.search(query_vector.reshape(1, -1), k)\n",
    "    \n",
    "    results = []\n",
    "    for i, (dist, idx) in enumerate(zip(distances[0], indices[0])):\n",
    "        results.append({\n",
    "            'news_index': idx,\n",
    "            'text': operations[idx]['text'],\n",
    "            'type': operations[idx]['type'],\n",
    "            'start_date': operations[idx]['start_date'],\n",
    "            'end_date': operations[idx]['end_date'],\n",
    "            'ticker': operations[idx]['ticker'],\n",
    "            'growth': operations[idx]['growth'],\n",
    "            'link': operations[idx]['link'],\n",
    "            'score': float(dist)\n",
    "        })\n",
    "    return results"
   ]
  },
  {
   "cell_type": "code",
   "execution_count": 21,
   "id": "7f77ef5a-ed86-4360-baf1-5b130f39ae28",
   "metadata": {},
   "outputs": [],
   "source": [
    "def print_results(results):\n",
    "    for r in results:\n",
    "        # print(f\"News index: {r['news_index']}\\n\")\n",
    "        print(f\"News Article: {r['text'][:200]}\\n\")\n",
    "        print(f\"Start Date: {r['start_date']}\\n\")\n",
    "        print(f\"End Date: {r['end_date']}\\n\")\n",
    "        print(f\"Link: {r['link']}\\n\")\n",
    "        print(f\"Score: {r['score']:.4f}\\n\")\n",
    "        print(\"===\"*50)"
   ]
  },
  {
   "cell_type": "code",
   "execution_count": 22,
   "id": "c80da021-b2de-40d6-932c-aa6e74c74985",
   "metadata": {},
   "outputs": [
    {
     "name": "stdout",
     "output_type": "stream",
     "text": [
      "News Article: Some of the recent news related to Tesla (TSLA) includes ongoing discussions about the potential impact of tax credits on the purchase of Tesla vehicles, varying stock price predictions for 2024, a cr\n",
      "\n",
      "Start Date: 2023-12-01\n",
      "\n",
      "End Date: 2023-12-11\n",
      "\n",
      "Link: https://pythoninvest.com/tpost/291b6l0dz1-week-5-11-december-2023\n",
      "\n",
      "Score: 74.3461\n",
      "\n",
      "======================================================================================================================================================\n",
      "News Article: Tesla (TSLA) stock closed at $182.58, indicating a -0.23% change from the previous day's trading session. Elon Musk received approval for his $56 billion compensation package from Tesla shareholders, \n",
      "\n",
      "Start Date: 2024-06-18\n",
      "\n",
      "End Date: 2024-06-24\n",
      "\n",
      "Link: https://pythoninvest.com/tpost/rat9kpxy21-week-18-24-june-2024\n",
      "\n",
      "Score: 73.3958\n",
      "\n",
      "======================================================================================================================================================\n",
      "News Article: An article predicts that Tesla (TSLA) will underperform the S&P 500 over the next decade, citing various factors including diminishing differentiation, demand and margin pressures, and an overvalued s\n",
      "\n",
      "Start Date: 2024-10-15\n",
      "\n",
      "End Date: 2024-10-21\n",
      "\n",
      "Link: https://pythoninvest.com/tpost/84p967ubd1-week-15-21-october-2024\n",
      "\n",
      "Score: 73.3761\n",
      "\n",
      "======================================================================================================================================================\n",
      "News Article: Shares of Tesla (TSLA) have dropped 37% from their all-time high, despite a strong performance this year. Tesla also recently lowered the prices of its Model 3 and Model Y vehicles in the U.S. by 2.65\n",
      "\n",
      "Start Date: 2023-09-29\n",
      "\n",
      "End Date: 2023-10-09\n",
      "\n",
      "Link: https://pythoninvest.com/tpost/pr8d0y6ki1-week-3-9-october-2023\n",
      "\n",
      "Score: 72.8063\n",
      "\n",
      "======================================================================================================================================================\n",
      "News Article: Tesla's stock (TSLA) is facing a three-day losing streak and has reached its lowest closing level since August 28. Concerns over potential shortfalls in third-quarter deliveries, as well as softness i\n",
      "\n",
      "Start Date: 2023-09-15\n",
      "\n",
      "End Date: 2023-09-25\n",
      "\n",
      "Link: https://pythoninvest.com/tpost/bmsu4zz001-week-19-25-september-2023\n",
      "\n",
      "Score: 72.5123\n",
      "\n",
      "======================================================================================================================================================\n"
     ]
    }
   ],
   "source": [
    "# Test the implementation\n",
    "test_query = \"TSLA\"\n",
    "results = search_faiss(test_query, model, index)\n",
    "print_results(results)    "
   ]
  },
  {
   "cell_type": "code",
   "execution_count": 23,
   "id": "726b8d88-2189-405c-9df1-191de01a3c74",
   "metadata": {},
   "outputs": [
    {
     "name": "stdout",
     "output_type": "stream",
     "text": [
      "News Article: Tesla has made headlines with a strategic agreement with Tata Electronics to source semiconductor chips, and the company announced that its self-driving technology has collected over 1 billion miles o\n",
      "\n",
      "Start Date: 2024-04-09\n",
      "\n",
      "End Date: 2024-04-15\n",
      "\n",
      "Link: https://pythoninvest.com/tpost/all6xppcm1-week-9-15-april-2024\n",
      "\n",
      "Score: 78.4105\n",
      "\n",
      "======================================================================================================================================================\n",
      "News Article: Elon Musk has made a bold claim about AI while the stock market is buzzing with activity around Tesla. Goldman Sachs is bullish on Tesla's Full Self-Driving capabilities, but some analysts see challen\n",
      "\n",
      "Start Date: 2023-11-14\n",
      "\n",
      "End Date: 2023-11-20\n",
      "\n",
      "Link: https://pythoninvest.com/tpost/dj1ay4rjl1-week-14-20-november-2023\n",
      "\n",
      "Score: 78.0998\n",
      "\n",
      "======================================================================================================================================================\n",
      "News Article: Tesla stock has been the subject of various news articles and analyst opinions. The company is facing significant attention and volatility, with reports about the launch of the Tesla robotaxi in Augus\n",
      "\n",
      "Start Date: 2024-04-02\n",
      "\n",
      "End Date: 2024-04-08\n",
      "\n",
      "Link: https://pythoninvest.com/tpost/tye5vmu9u1-week-2-8-april-2024\n",
      "\n",
      "Score: 77.1571\n",
      "\n",
      "======================================================================================================================================================\n",
      "News Article: The news on Tesla stock offers mixed perspectives, with some sources providing encouraging information while others express concerns. Tesla's stock saw a surge due to the company's announcement about \n",
      "\n",
      "Start Date: 2024-09-03\n",
      "\n",
      "End Date: 2024-09-09\n",
      "\n",
      "Link: https://pythoninvest.com/tpost/outb6eyy71-week-3-9-september-2024\n",
      "\n",
      "Score: 76.8936\n",
      "\n",
      "======================================================================================================================================================\n",
      "News Article: Tesla's stock has been the subject of recent news and analyst predictions, with some suggesting a potential big move in 2025. Analysts have raised concerns about its high valuation and potential downs\n",
      "\n",
      "Start Date: 2024-11-17\n",
      "\n",
      "End Date: 2024-12-23\n",
      "\n",
      "Link: https://pythoninvest.com/tpost/ve9dp9v641-week-17-23-december-2024\n",
      "\n",
      "Score: 76.5721\n",
      "\n",
      "======================================================================================================================================================\n"
     ]
    }
   ],
   "source": [
    "# Test the implementation\n",
    "test_query = \"Can you give me some insights about Tesla\"\n",
    "results = search_faiss(test_query, model, index)\n",
    "print_results(results)"
   ]
  },
  {
   "cell_type": "markdown",
   "id": "e80db3c8-2942-473f-bc01-180b8d1e1cb8",
   "metadata": {},
   "source": [
    "# Augmentation"
   ]
  },
  {
   "cell_type": "code",
   "execution_count": 24,
   "id": "6c554393-abed-4f2b-a33e-ada60c7c08c4",
   "metadata": {},
   "outputs": [],
   "source": [
    "news_prompt_template = '''You are an expert at analyzing news articles related to \n",
    "Stock Market by analyzing the news articles.\n",
    "\n",
    "Task:\n",
    "For given QUERY, analyze the NEWS ARTICLES provided within triple quotes. After analyzing, answer the QUERY. \n",
    "For each insight you provide, include respective markdown link to the source article like this: [source](respective news link).\n",
    "\n",
    "QUERY: {user_query}\n",
    "NEWS ARTICLES:\n",
    "{retrieval_results}\n",
    "\n",
    "Constraints:\n",
    "If the news is not related to the query, then respond \"Not enough or related info\".\n",
    "'''"
   ]
  },
  {
   "cell_type": "code",
   "execution_count": 25,
   "id": "503d079f-6f4f-402e-97b3-f6efb53a4471",
   "metadata": {},
   "outputs": [],
   "source": [
    "def format_results(results):\n",
    "    formatted_text = \"\"\n",
    "    for r in results:\n",
    "        article_text = (\n",
    "            f\"News Article: {r['text'][:1000]}\\n\" # remove the limiting values of string.\n",
    "            f\"Start Date: {r['start_date']}\\n\"\n",
    "            f\"End Date: {r['end_date']}\\n\"\n",
    "            f\"Link: {r['link']}\\n\"\n",
    "            # f\"Score: {r['score']:.4f}\\n\" # Score to be removed as needed\n",
    "            f\"{'==='*50}\\n\\n\"\n",
    "        )\n",
    "        formatted_text += article_text\n",
    "    return formatted_text"
   ]
  },
  {
   "cell_type": "code",
   "execution_count": 26,
   "id": "70ad6880-368c-42a4-883a-b0547aca7659",
   "metadata": {},
   "outputs": [],
   "source": [
    "formated_results = format_results(results)"
   ]
  },
  {
   "cell_type": "code",
   "execution_count": 27,
   "id": "fbacd307-2efc-4f66-b517-31d95084cabf",
   "metadata": {},
   "outputs": [],
   "source": [
    "news_prompt = news_prompt_template.format(user_query=test_query,  retrieval_results=formated_results)"
   ]
  },
  {
   "cell_type": "code",
   "execution_count": 28,
   "id": "a3271483-e6d8-48e8-9e66-96a6db49ee2d",
   "metadata": {},
   "outputs": [
    {
     "name": "stdout",
     "output_type": "stream",
     "text": [
      "You are an expert at analyzing news articles related to \n",
      "Stock Market by analyzing the news articles.\n",
      "\n",
      "Task:\n",
      "For given QUERY, analyze the NEWS ARTICLES provided within triple quotes. After analyzing, answer the QUERY. \n",
      "For each insight you provide, include respective markdown link to the source article like this: [source](respective news link).\n",
      "\n",
      "QUERY: Can you give me some insights about Tesla\n",
      "NEWS ARTICLES:\n",
      "News Article: Tesla has made headlines with a strategic agreement with Tata Electronics to source semiconductor chips, and the company announced that its self-driving technology has collected over 1 billion miles of data. However, the company's Q1 US sales were mainly held back by lower sales of vehicles other than the Model Y. Wall Street downgraded Tesla's earnings expectations due to increasing competition, and the recent news about Tesla's robotaxi unveiling has sparked mixed reactions among analysts and investors, as there are concerns about the company's focus on autonomy. Despite the challenges, some remain positive about Tesla's future potential in the electric vehicle market.\n",
      "Start Date: 2024-04-09\n",
      "End Date: 2024-04-15\n",
      "Link: https://pythoninvest.com/tpost/all6xppcm1-week-9-15-april-2024\n",
      "======================================================================================================================================================\n",
      "\n",
      "News Article: Elon Musk has made a bold claim about AI while the stock market is buzzing with activity around Tesla. Goldman Sachs is bullish on Tesla's Full Self-Driving capabilities, but some analysts see challenges ahead for the company, including lower vehicle sales and pricing pressure. Tesla's ability to execute in AI and FSD businesses will be crucial, per an analyst at Goldman Sachs. Additionally, there are reports that Tesla might be considering advertising to boost sales. Despite various opinions, the Tesla stock has been experiencing volatility and garnering attention from investors and analysts.\n",
      "Start Date: 2023-11-14\n",
      "End Date: 2023-11-20\n",
      "Link: https://pythoninvest.com/tpost/dj1ay4rjl1-week-14-20-november-2023\n",
      "======================================================================================================================================================\n",
      "\n",
      "News Article: Tesla stock has been the subject of various news articles and analyst opinions. The company is facing significant attention and volatility, with reports about the launch of the Tesla robotaxi in August, increased investor searches, and debates about the company's focus on autonomy versus lower-cost electric vehicles. Additional discussions revolved around the company's recent quarter results and delivery numbers, price cuts on existing inventory, a low-priced model, and the impact of Elon Musk's announcements. Analysts are divided on the stock's future, with opinions ranging from significant downside to strong bullish perspectives. The stock has also experienced price declines and increased scrutiny, as well as continued analysis of Tesla's strengths and weaknesses. Finally, there have been discussions about the broader market sentiment around Tesla and the company's long-term growth prospects.\n",
      "Start Date: 2024-04-02\n",
      "End Date: 2024-04-08\n",
      "Link: https://pythoninvest.com/tpost/tye5vmu9u1-week-2-8-april-2024\n",
      "======================================================================================================================================================\n",
      "\n",
      "News Article: The news on Tesla stock offers mixed perspectives, with some sources providing encouraging information while others express concerns. Tesla's stock saw a surge due to the company's announcement about full self-driving software rollout and robotics ambitions. However, waning interest in electric vehicles, intense competition, and potential safety recalls in China have led to unfavorable trends and skepticism about the stock's growth potential. The articles highlight both positive and negative aspects of the company's outlook, leaving investors with a complex picture of Tesla's stock performance.\n",
      "Start Date: 2024-09-03\n",
      "End Date: 2024-09-09\n",
      "Link: https://pythoninvest.com/tpost/outb6eyy71-week-3-9-september-2024\n",
      "======================================================================================================================================================\n",
      "\n",
      "News Article: Tesla's stock has been the subject of recent news and analyst predictions, with some suggesting a potential big move in 2025. Analysts have raised concerns about its high valuation and potential downside, but others are optimistic about its self-driving technology and future plans such as budget-priced electric vehicles and robotaxis. However, Dogecoin suffered a significant drop due to the Federal Reserve's revised interest rate outlook, which triggered a wave of selling across the cryptocurrency market. Additionally, there are speculations and filings hinting at Tesla's potential launches and developments in China, with the company's marketing efforts and stock surge also making headlines.\n",
      "Start Date: 2024-11-17\n",
      "End Date: 2024-12-23\n",
      "Link: https://pythoninvest.com/tpost/ve9dp9v641-week-17-23-december-2024\n",
      "======================================================================================================================================================\n",
      "\n",
      "\n",
      "\n",
      "Constraints:\n",
      "If the news is not related to the query, then respond \"Not enough or related info\".\n",
      "\n"
     ]
    }
   ],
   "source": [
    "print(news_prompt)"
   ]
  },
  {
   "cell_type": "markdown",
   "id": "4431ab70-3cdb-48d2-b7dc-e9f0410ccefa",
   "metadata": {},
   "source": [
    "# Generation"
   ]
  },
  {
   "cell_type": "code",
   "execution_count": 29,
   "id": "8f4b8002-7f79-4668-85b8-1b73f884951e",
   "metadata": {},
   "outputs": [],
   "source": [
    "from openai import OpenAI"
   ]
  },
  {
   "cell_type": "code",
   "execution_count": 30,
   "id": "740abe4d-d47b-4b11-862f-6a53044a8817",
   "metadata": {},
   "outputs": [],
   "source": [
    "# OpenAI client setup with increased timeout\n",
    "# Read on Ollama - OpenAI compatibility: https://github.com/ollama/ollama/blob/main/docs/openai.md\n",
    "client = OpenAI(\n",
    "    base_url='http://localhost:11434/v1/',\n",
    "    api_key='ollama',\n",
    "    timeout = 5 * 60.0  # Increase timeout to 3*60 seconds\n",
    ")\n",
    "\n",
    "MAX_RETRIES = 3\n",
    "RETRY_DELAY = 5\n",
    "BATCH_SIZE = 1"
   ]
  },
  {
   "cell_type": "code",
   "execution_count": 31,
   "id": "a39b78db-d902-47bf-a1c3-f055b2fc3a90",
   "metadata": {},
   "outputs": [],
   "source": [
    "def llm(prompt, model):\n",
    "    for attempt in range(MAX_RETRIES):\n",
    "        try:\n",
    "            response = client.chat.completions.create(\n",
    "                model=model,\n",
    "                temperature=0.0,\n",
    "                messages=[{\"role\": \"user\", \"content\": prompt}]\n",
    "            )\n",
    "            return response\n",
    "        except Exception as e:\n",
    "            if attempt < MAX_RETRIES - 1:\n",
    "                print(f\"Attempt {attempt + 1} failed. Retrying in {RETRY_DELAY} seconds...\")\n",
    "                time.sleep(RETRY_DELAY)\n",
    "            else:\n",
    "                raise e"
   ]
  },
  {
   "cell_type": "code",
   "execution_count": 32,
   "id": "572ba536-cd46-4e05-b779-4d69cb859eb2",
   "metadata": {},
   "outputs": [
    {
     "name": "stdout",
     "output_type": "stream",
     "text": [
      "NAME                                ID              SIZE      MODIFIED     \n",
      "qwen2.5-coder:3b                    e7149271c296    1.9 GB    6 days ago      \n",
      "qwen2.5:7b                          845dbda0ea48    4.7 GB    6 days ago      \n",
      "llama3.2:latest                     a80c4f17acd5    2.0 GB    6 days ago      \n",
      "phi3.5:3.8b-mini-instruct-q3_K_M    0d7837063f04    2.0 GB    2 months ago    \n"
     ]
    },
    {
     "name": "stderr",
     "output_type": "stream",
     "text": [
      "huggingface/tokenizers: The current process just got forked, after parallelism has already been used. Disabling parallelism to avoid deadlocks...\n",
      "To disable this warning, you can either:\n",
      "\t- Avoid using `tokenizers` before the fork if possible\n",
      "\t- Explicitly set the environment variable TOKENIZERS_PARALLELISM=(true | false)\n"
     ]
    }
   ],
   "source": [
    "# LIST OF CURRENT LOCAL MODELS\n",
    "!ollama list"
   ]
  },
  {
   "cell_type": "code",
   "execution_count": 33,
   "id": "b3c9ca69-1707-4ace-a304-733c6c991969",
   "metadata": {},
   "outputs": [],
   "source": [
    "# model = 'llama3.2:latest'\n",
    "model = 'qwen2.5:7b'"
   ]
  },
  {
   "cell_type": "code",
   "execution_count": 34,
   "id": "9469182c-8310-4e7d-a822-35ffb31fdc3c",
   "metadata": {},
   "outputs": [],
   "source": [
    "import time"
   ]
  },
  {
   "cell_type": "code",
   "execution_count": 35,
   "id": "496109d4-6b1d-4b12-934a-5fcc4c115980",
   "metadata": {},
   "outputs": [
    {
     "name": "stdout",
     "output_type": "stream",
     "text": [
      "time taken for llm is 489.4349262714386\n"
     ]
    }
   ],
   "source": [
    "start = time.time()\n",
    "response_insights = llm(prompt = news_prompt, model=model) \n",
    "print(f\"time taken for llm is {time.time() - start}\")"
   ]
  },
  {
   "cell_type": "code",
   "execution_count": 36,
   "id": "f1e4c8b9-34cc-4e59-8c76-aa74f1384dab",
   "metadata": {},
   "outputs": [],
   "source": [
    "# print(response_insights.choices[0].message.content)"
   ]
  },
  {
   "cell_type": "code",
   "execution_count": 37,
   "id": "b53ceb96-33c1-4926-9065-82fc5b3e5714",
   "metadata": {},
   "outputs": [],
   "source": [
    "markdown_text = response_insights.choices[0].message.content"
   ]
  },
  {
   "cell_type": "code",
   "execution_count": 38,
   "id": "94a43112-5979-4253-bc4a-1fb73573936a",
   "metadata": {},
   "outputs": [],
   "source": [
    "from IPython.display import display, Markdown"
   ]
  },
  {
   "cell_type": "code",
   "execution_count": 256,
   "id": "f7f49d83-bea8-4b82-9ee9-b0291ecc1c36",
   "metadata": {},
   "outputs": [
    {
     "data": {
      "text/markdown": [
       "Based on the provided news articles, here are some insights about Tesla:\n",
       "\n",
       "1. **Strategic Agreement with Tata Electronics**: Tesla has made a strategic agreement with Tata Electronics to source semiconductor chips, which could be a positive development for the company. [https://pythoninvest.com/tpost/all6xppcm1-week-9-15-april-2024](https://pythoninvest.com/tpost/all6xppcm1-week-9-15-april-2024)\n",
       "\n",
       "2. **Self-Driving Technology**: Tesla's self-driving technology has collected over 1 billion miles of data, which is a significant milestone for the company. [https://pythoninvest.com/tpost/all6xppcm1-week-9-15-april-2024](https://pythoninvest.com/tpost/all6xppcm1-week-9-15-april-2024)\n",
       "\n",
       "3. **Challenges Ahead**: Despite the positive developments, Tesla faces challenges ahead, including increasing competition and pricing pressure. [https://pythoninvest.com/tpost/dj1ay4rjl1-week-14-20-november-2023](https://pythoninvest.com/tpost/dj1ay4rjl1-week-14-20-november-2023)\n",
       "\n",
       "4. **Volatility and Analyst Opinions**: Tesla's stock has been experiencing volatility, with analysts divided on the stock's future. Some see significant downside, while others are optimistic about its self-driving technology and future plans. [https://pythoninvest.com/tpost/tye5vmu9u1-week-2-8-april-2024](https://pythoninvest.com/tpost/tye5vmu9u1-week-2-8-april-2024)\n",
       "\n",
       "5. **Mixed Perspectives**: The news on Tesla stock offers mixed perspectives, with some sources providing encouraging information while others express concerns. [https://pythoninvest.com/tpost/outb6eyy71-week-3-9-september-2024](https://pythoninvest.com/tpost/outb6eyy71-week-3-9-september-2024)\n",
       "\n",
       "6. **Potential Big Move in 2025**: Some analysts suggest a potential big move in Tesla's stock price in 2025, driven by its self-driving technology and future plans. [https://pythoninvest.com/tpost/ve9dp9v641-week-17-23-december-2024](https://pythoninvest.com/tpost/ve9dp9v641-week-17-23-december-2024)\n",
       "\n",
       "Overall, Tesla's stock is experiencing volatility and mixed perspectives from analysts. While the company has made significant progress in its self-driving technology and future plans, it also faces challenges ahead, including increasing competition and pricing pressure."
      ],
      "text/plain": [
       "<IPython.core.display.Markdown object>"
      ]
     },
     "metadata": {},
     "output_type": "display_data"
    }
   ],
   "source": [
    "display(Markdown(markdown_text))"
   ]
  },
  {
   "cell_type": "markdown",
   "id": "8f2ff964-7f3a-4fe6-a618-570e445bb151",
   "metadata": {},
   "source": [
    "# Improvements"
   ]
  },
  {
   "cell_type": "markdown",
   "id": "c8cc2e4d-1eca-46cc-93c6-b7e974500caa",
   "metadata": {},
   "source": [
    "* using the Hybrid RAG for imrpoving the search resuts .\n",
    "* Using a re-ranker to rank the answers based on the query from user."
   ]
  },
  {
   "cell_type": "code",
   "execution_count": null,
   "id": "2da7ee79-5c14-4976-91ba-462b9f857a5a",
   "metadata": {},
   "outputs": [],
   "source": []
  }
 ],
 "metadata": {
  "kernelspec": {
   "display_name": "long-term-news-llm-rag",
   "language": "python",
   "name": "long-term-news-llm-rag"
  },
  "language_info": {
   "codemirror_mode": {
    "name": "ipython",
    "version": 3
   },
   "file_extension": ".py",
   "mimetype": "text/x-python",
   "name": "python",
   "nbconvert_exporter": "python",
   "pygments_lexer": "ipython3",
   "version": "3.12.3"
  }
 },
 "nbformat": 4,
 "nbformat_minor": 5
}
